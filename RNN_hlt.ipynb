{
  "cells": [
    {
      "cell_type": "markdown",
      "metadata": {
        "id": "view-in-github",
        "colab_type": "text"
      },
      "source": [
        "<a href=\"https://colab.research.google.com/github/lavo2/HLT-Project/blob/main/RNN_hlt.ipynb\" target=\"_parent\"><img src=\"https://colab.research.google.com/assets/colab-badge.svg\" alt=\"Open In Colab\"/></a>"
      ]
    },
    {
      "cell_type": "code",
      "execution_count": 1,
      "metadata": {
        "colab": {
          "base_uri": "https://localhost:8080/"
        },
        "id": "pEgrWRg_gmDA",
        "outputId": "1205e388-b42e-4ca0-b5ca-4fb0947ef876"
      },
      "outputs": [
        {
          "output_type": "stream",
          "name": "stdout",
          "text": [
            "Mounted at /content/drive\n"
          ]
        }
      ],
      "source": [
        "from google.colab import drive\n",
        "drive.mount('/content/drive')"
      ]
    },
    {
      "cell_type": "code",
      "execution_count": 2,
      "metadata": {
        "colab": {
          "base_uri": "https://localhost:8080/"
        },
        "id": "k42K6731hJVi",
        "outputId": "7a19deb7-e8a1-44f3-873d-f192f7db787f"
      },
      "outputs": [
        {
          "output_type": "stream",
          "name": "stdout",
          "text": [
            "/content/drive/MyDrive/datasets/distilbert_results\n"
          ]
        }
      ],
      "source": [
        "%cd /content/drive/MyDrive/datasets/distilbert_results"
      ]
    },
    {
      "cell_type": "code",
      "execution_count": 4,
      "metadata": {
        "colab": {
          "base_uri": "https://localhost:8080/"
        },
        "id": "hTxFwibUzW9N",
        "outputId": "e15ca04d-e163-4fe9-d5a8-0a4e5079683f"
      },
      "outputs": [
        {
          "output_type": "stream",
          "name": "stdout",
          "text": [
            "Collecting keras-tuner\n",
            "  Downloading keras_tuner-1.4.7-py3-none-any.whl (129 kB)\n",
            "\u001b[?25l     \u001b[90m━━━━━━━━━━━━━━━━━━━━━━━━━━━━━━━━━━━━━━━━\u001b[0m \u001b[32m0.0/129.1 kB\u001b[0m \u001b[31m?\u001b[0m eta \u001b[36m-:--:--\u001b[0m\r\u001b[2K     \u001b[90m━━━━━━━━━━━━━━━━━━━━━━━━━━━━━━━━━━━━━━━━\u001b[0m \u001b[32m129.1/129.1 kB\u001b[0m \u001b[31m4.1 MB/s\u001b[0m eta \u001b[36m0:00:00\u001b[0m\n",
            "\u001b[?25hRequirement already satisfied: keras in /usr/local/lib/python3.10/dist-packages (from keras-tuner) (2.15.0)\n",
            "Requirement already satisfied: packaging in /usr/local/lib/python3.10/dist-packages (from keras-tuner) (24.0)\n",
            "Requirement already satisfied: requests in /usr/local/lib/python3.10/dist-packages (from keras-tuner) (2.31.0)\n",
            "Collecting kt-legacy (from keras-tuner)\n",
            "  Downloading kt_legacy-1.0.5-py3-none-any.whl (9.6 kB)\n",
            "Requirement already satisfied: charset-normalizer<4,>=2 in /usr/local/lib/python3.10/dist-packages (from requests->keras-tuner) (3.3.2)\n",
            "Requirement already satisfied: idna<4,>=2.5 in /usr/local/lib/python3.10/dist-packages (from requests->keras-tuner) (3.7)\n",
            "Requirement already satisfied: urllib3<3,>=1.21.1 in /usr/local/lib/python3.10/dist-packages (from requests->keras-tuner) (2.0.7)\n",
            "Requirement already satisfied: certifi>=2017.4.17 in /usr/local/lib/python3.10/dist-packages (from requests->keras-tuner) (2024.2.2)\n",
            "Installing collected packages: kt-legacy, keras-tuner\n",
            "Successfully installed keras-tuner-1.4.7 kt-legacy-1.0.5\n"
          ]
        }
      ],
      "source": [
        "!pip install keras-tuner --upgrade"
      ]
    },
    {
      "cell_type": "code",
      "execution_count": 5,
      "metadata": {
        "id": "Ta3L9TekiG2r",
        "colab": {
          "base_uri": "https://localhost:8080/"
        },
        "outputId": "529176f0-2b6e-49b4-b637-55d797cb8567"
      },
      "outputs": [
        {
          "output_type": "stream",
          "name": "stderr",
          "text": [
            "<ipython-input-5-9c3033ebe53f>:4: DeprecationWarning: `import kerastuner` is deprecated, please use `import keras_tuner`.\n",
            "  import kerastuner as kt\n"
          ]
        }
      ],
      "source": [
        "import pandas as pd\n",
        "import numpy as np\n",
        "import tensorflow as tf\n",
        "import kerastuner as kt\n",
        "\n",
        "from matplotlib import pyplot as plt\n",
        "\n",
        "from sklearn.model_selection import train_test_split\n",
        "\n",
        "from tensorflow.keras.callbacks import EarlyStopping\n",
        "from tensorflow.keras.preprocessing.sequence import pad_sequences\n",
        "from tensorflow.keras.layers import Layer\n",
        "from tensorflow.keras.preprocessing.text import Tokenizer\n",
        "from tensorflow.keras.models import Sequential\n",
        "from tensorflow.keras.layers import LSTM, Dense, Embedding, Bidirectional, BatchNormalization, Dropout\n",
        "from tensorflow.keras.optimizers import Adam\n",
        "\n",
        "from sklearn.metrics import accuracy_score, precision_score, recall_score, f1_score, confusion_matrix"
      ]
    },
    {
      "cell_type": "markdown",
      "metadata": {
        "id": "xrF9i_5pnn3Z"
      },
      "source": [
        "## to load ingredients\n",
        "if you want to train the rnn using the ingredients rather than the recipes themselves."
      ]
    },
    {
      "cell_type": "code",
      "execution_count": null,
      "metadata": {
        "id": "GRVyLM82hlXp"
      },
      "outputs": [],
      "source": [
        "ingredients = pd.read_csv('/content/drive/MyDrive/datasets/distilbert_results/ner_ingredients.csv')\n",
        "labels = pd.read_csv('/content/drive/MyDrive/datasets/distilbert_results/ner_labels.csv')\n",
        "recipes = pd.read_csv('/content/drive/MyDrive/datasets/distilbert_results/ner_recipes.csv')"
      ]
    },
    {
      "cell_type": "code",
      "execution_count": null,
      "metadata": {
        "colab": {
          "base_uri": "https://localhost:8080/",
          "height": 204
        },
        "id": "Pz_pflmzh3q1",
        "outputId": "0abd4a2c-b43d-4299-ca5b-b69f753b8429"
      },
      "outputs": [
        {
          "data": {
            "application/vnd.google.colaboratory.intrinsic+json": {
              "summary": "{\n  \"name\": \"ingredients\",\n  \"rows\": 5672,\n  \"fields\": [\n    {\n      \"column\": \"ingredients\",\n      \"properties\": {\n        \"dtype\": \"string\",\n        \"num_unique_values\": 5672,\n        \"samples\": [\n          \"mercant chocolate\",\n          \"raspberry vinaigrette\",\n          \"chip\"\n        ],\n        \"semantic_type\": \"\",\n        \"description\": \"\"\n      }\n    }\n  ]\n}",
              "type": "dataframe",
              "variable_name": "ingredients"
            },
            "text/html": [
              "\n",
              "  <div id=\"df-e4c595a4-de3d-4ff8-b3b4-3fe559cb886e\" class=\"colab-df-container\">\n",
              "    <div>\n",
              "<style scoped>\n",
              "    .dataframe tbody tr th:only-of-type {\n",
              "        vertical-align: middle;\n",
              "    }\n",
              "\n",
              "    .dataframe tbody tr th {\n",
              "        vertical-align: top;\n",
              "    }\n",
              "\n",
              "    .dataframe thead th {\n",
              "        text-align: right;\n",
              "    }\n",
              "</style>\n",
              "<table border=\"1\" class=\"dataframe\">\n",
              "  <thead>\n",
              "    <tr style=\"text-align: right;\">\n",
              "      <th></th>\n",
              "      <th>ingredients</th>\n",
              "    </tr>\n",
              "  </thead>\n",
              "  <tbody>\n",
              "    <tr>\n",
              "      <th>0</th>\n",
              "      <td>mango juice</td>\n",
              "    </tr>\n",
              "    <tr>\n",
              "      <th>1</th>\n",
              "      <td>pinch salt</td>\n",
              "    </tr>\n",
              "    <tr>\n",
              "      <th>2</th>\n",
              "      <td>rout</td>\n",
              "    </tr>\n",
              "    <tr>\n",
              "      <th>3</th>\n",
              "      <td>rill grate</td>\n",
              "    </tr>\n",
              "    <tr>\n",
              "      <th>4</th>\n",
              "      <td>dill gherkin</td>\n",
              "    </tr>\n",
              "  </tbody>\n",
              "</table>\n",
              "</div>\n",
              "    <div class=\"colab-df-buttons\">\n",
              "\n",
              "  <div class=\"colab-df-container\">\n",
              "    <button class=\"colab-df-convert\" onclick=\"convertToInteractive('df-e4c595a4-de3d-4ff8-b3b4-3fe559cb886e')\"\n",
              "            title=\"Convert this dataframe to an interactive table.\"\n",
              "            style=\"display:none;\">\n",
              "\n",
              "  <svg xmlns=\"http://www.w3.org/2000/svg\" height=\"24px\" viewBox=\"0 -960 960 960\">\n",
              "    <path d=\"M120-120v-720h720v720H120Zm60-500h600v-160H180v160Zm220 220h160v-160H400v160Zm0 220h160v-160H400v160ZM180-400h160v-160H180v160Zm440 0h160v-160H620v160ZM180-180h160v-160H180v160Zm440 0h160v-160H620v160Z\"/>\n",
              "  </svg>\n",
              "    </button>\n",
              "\n",
              "  <style>\n",
              "    .colab-df-container {\n",
              "      display:flex;\n",
              "      gap: 12px;\n",
              "    }\n",
              "\n",
              "    .colab-df-convert {\n",
              "      background-color: #E8F0FE;\n",
              "      border: none;\n",
              "      border-radius: 50%;\n",
              "      cursor: pointer;\n",
              "      display: none;\n",
              "      fill: #1967D2;\n",
              "      height: 32px;\n",
              "      padding: 0 0 0 0;\n",
              "      width: 32px;\n",
              "    }\n",
              "\n",
              "    .colab-df-convert:hover {\n",
              "      background-color: #E2EBFA;\n",
              "      box-shadow: 0px 1px 2px rgba(60, 64, 67, 0.3), 0px 1px 3px 1px rgba(60, 64, 67, 0.15);\n",
              "      fill: #174EA6;\n",
              "    }\n",
              "\n",
              "    .colab-df-buttons div {\n",
              "      margin-bottom: 4px;\n",
              "    }\n",
              "\n",
              "    [theme=dark] .colab-df-convert {\n",
              "      background-color: #3B4455;\n",
              "      fill: #D2E3FC;\n",
              "    }\n",
              "\n",
              "    [theme=dark] .colab-df-convert:hover {\n",
              "      background-color: #434B5C;\n",
              "      box-shadow: 0px 1px 3px 1px rgba(0, 0, 0, 0.15);\n",
              "      filter: drop-shadow(0px 1px 2px rgba(0, 0, 0, 0.3));\n",
              "      fill: #FFFFFF;\n",
              "    }\n",
              "  </style>\n",
              "\n",
              "    <script>\n",
              "      const buttonEl =\n",
              "        document.querySelector('#df-e4c595a4-de3d-4ff8-b3b4-3fe559cb886e button.colab-df-convert');\n",
              "      buttonEl.style.display =\n",
              "        google.colab.kernel.accessAllowed ? 'block' : 'none';\n",
              "\n",
              "      async function convertToInteractive(key) {\n",
              "        const element = document.querySelector('#df-e4c595a4-de3d-4ff8-b3b4-3fe559cb886e');\n",
              "        const dataTable =\n",
              "          await google.colab.kernel.invokeFunction('convertToInteractive',\n",
              "                                                    [key], {});\n",
              "        if (!dataTable) return;\n",
              "\n",
              "        const docLinkHtml = 'Like what you see? Visit the ' +\n",
              "          '<a target=\"_blank\" href=https://colab.research.google.com/notebooks/data_table.ipynb>data table notebook</a>'\n",
              "          + ' to learn more about interactive tables.';\n",
              "        element.innerHTML = '';\n",
              "        dataTable['output_type'] = 'display_data';\n",
              "        await google.colab.output.renderOutput(dataTable, element);\n",
              "        const docLink = document.createElement('div');\n",
              "        docLink.innerHTML = docLinkHtml;\n",
              "        element.appendChild(docLink);\n",
              "      }\n",
              "    </script>\n",
              "  </div>\n",
              "\n",
              "\n",
              "<div id=\"df-6147359d-5563-46e1-916f-ea92ea6185bd\">\n",
              "  <button class=\"colab-df-quickchart\" onclick=\"quickchart('df-6147359d-5563-46e1-916f-ea92ea6185bd')\"\n",
              "            title=\"Suggest charts\"\n",
              "            style=\"display:none;\">\n",
              "\n",
              "<svg xmlns=\"http://www.w3.org/2000/svg\" height=\"24px\"viewBox=\"0 0 24 24\"\n",
              "     width=\"24px\">\n",
              "    <g>\n",
              "        <path d=\"M19 3H5c-1.1 0-2 .9-2 2v14c0 1.1.9 2 2 2h14c1.1 0 2-.9 2-2V5c0-1.1-.9-2-2-2zM9 17H7v-7h2v7zm4 0h-2V7h2v10zm4 0h-2v-4h2v4z\"/>\n",
              "    </g>\n",
              "</svg>\n",
              "  </button>\n",
              "\n",
              "<style>\n",
              "  .colab-df-quickchart {\n",
              "      --bg-color: #E8F0FE;\n",
              "      --fill-color: #1967D2;\n",
              "      --hover-bg-color: #E2EBFA;\n",
              "      --hover-fill-color: #174EA6;\n",
              "      --disabled-fill-color: #AAA;\n",
              "      --disabled-bg-color: #DDD;\n",
              "  }\n",
              "\n",
              "  [theme=dark] .colab-df-quickchart {\n",
              "      --bg-color: #3B4455;\n",
              "      --fill-color: #D2E3FC;\n",
              "      --hover-bg-color: #434B5C;\n",
              "      --hover-fill-color: #FFFFFF;\n",
              "      --disabled-bg-color: #3B4455;\n",
              "      --disabled-fill-color: #666;\n",
              "  }\n",
              "\n",
              "  .colab-df-quickchart {\n",
              "    background-color: var(--bg-color);\n",
              "    border: none;\n",
              "    border-radius: 50%;\n",
              "    cursor: pointer;\n",
              "    display: none;\n",
              "    fill: var(--fill-color);\n",
              "    height: 32px;\n",
              "    padding: 0;\n",
              "    width: 32px;\n",
              "  }\n",
              "\n",
              "  .colab-df-quickchart:hover {\n",
              "    background-color: var(--hover-bg-color);\n",
              "    box-shadow: 0 1px 2px rgba(60, 64, 67, 0.3), 0 1px 3px 1px rgba(60, 64, 67, 0.15);\n",
              "    fill: var(--button-hover-fill-color);\n",
              "  }\n",
              "\n",
              "  .colab-df-quickchart-complete:disabled,\n",
              "  .colab-df-quickchart-complete:disabled:hover {\n",
              "    background-color: var(--disabled-bg-color);\n",
              "    fill: var(--disabled-fill-color);\n",
              "    box-shadow: none;\n",
              "  }\n",
              "\n",
              "  .colab-df-spinner {\n",
              "    border: 2px solid var(--fill-color);\n",
              "    border-color: transparent;\n",
              "    border-bottom-color: var(--fill-color);\n",
              "    animation:\n",
              "      spin 1s steps(1) infinite;\n",
              "  }\n",
              "\n",
              "  @keyframes spin {\n",
              "    0% {\n",
              "      border-color: transparent;\n",
              "      border-bottom-color: var(--fill-color);\n",
              "      border-left-color: var(--fill-color);\n",
              "    }\n",
              "    20% {\n",
              "      border-color: transparent;\n",
              "      border-left-color: var(--fill-color);\n",
              "      border-top-color: var(--fill-color);\n",
              "    }\n",
              "    30% {\n",
              "      border-color: transparent;\n",
              "      border-left-color: var(--fill-color);\n",
              "      border-top-color: var(--fill-color);\n",
              "      border-right-color: var(--fill-color);\n",
              "    }\n",
              "    40% {\n",
              "      border-color: transparent;\n",
              "      border-right-color: var(--fill-color);\n",
              "      border-top-color: var(--fill-color);\n",
              "    }\n",
              "    60% {\n",
              "      border-color: transparent;\n",
              "      border-right-color: var(--fill-color);\n",
              "    }\n",
              "    80% {\n",
              "      border-color: transparent;\n",
              "      border-right-color: var(--fill-color);\n",
              "      border-bottom-color: var(--fill-color);\n",
              "    }\n",
              "    90% {\n",
              "      border-color: transparent;\n",
              "      border-bottom-color: var(--fill-color);\n",
              "    }\n",
              "  }\n",
              "</style>\n",
              "\n",
              "  <script>\n",
              "    async function quickchart(key) {\n",
              "      const quickchartButtonEl =\n",
              "        document.querySelector('#' + key + ' button');\n",
              "      quickchartButtonEl.disabled = true;  // To prevent multiple clicks.\n",
              "      quickchartButtonEl.classList.add('colab-df-spinner');\n",
              "      try {\n",
              "        const charts = await google.colab.kernel.invokeFunction(\n",
              "            'suggestCharts', [key], {});\n",
              "      } catch (error) {\n",
              "        console.error('Error during call to suggestCharts:', error);\n",
              "      }\n",
              "      quickchartButtonEl.classList.remove('colab-df-spinner');\n",
              "      quickchartButtonEl.classList.add('colab-df-quickchart-complete');\n",
              "    }\n",
              "    (() => {\n",
              "      let quickchartButtonEl =\n",
              "        document.querySelector('#df-6147359d-5563-46e1-916f-ea92ea6185bd button');\n",
              "      quickchartButtonEl.style.display =\n",
              "        google.colab.kernel.accessAllowed ? 'block' : 'none';\n",
              "    })();\n",
              "  </script>\n",
              "</div>\n",
              "    </div>\n",
              "  </div>\n"
            ],
            "text/plain": [
              "    ingredients\n",
              "0   mango juice\n",
              "1    pinch salt\n",
              "2          rout\n",
              "3    rill grate\n",
              "4  dill gherkin"
            ]
          },
          "execution_count": 12,
          "metadata": {},
          "output_type": "execute_result"
        }
      ],
      "source": [
        "ingredients.head()"
      ]
    },
    {
      "cell_type": "code",
      "execution_count": null,
      "metadata": {
        "colab": {
          "base_uri": "https://localhost:8080/",
          "height": 204
        },
        "id": "MP3KaAEYiArU",
        "outputId": "00446341-567c-47fa-a432-039d22d3f03a"
      },
      "outputs": [
        {
          "data": {
            "application/vnd.google.colaboratory.intrinsic+json": {
              "summary": "{\n  \"name\": \"labels\",\n  \"rows\": 9770,\n  \"fields\": [\n    {\n      \"column\": \"Vegetarian\",\n      \"properties\": {\n        \"dtype\": \"number\",\n        \"std\": 0,\n        \"min\": 0,\n        \"max\": 1,\n        \"num_unique_values\": 2,\n        \"samples\": [\n          1,\n          0\n        ],\n        \"semantic_type\": \"\",\n        \"description\": \"\"\n      }\n    },\n    {\n      \"column\": \"Vegetarian&Desserts\",\n      \"properties\": {\n        \"dtype\": \"number\",\n        \"std\": 0,\n        \"min\": 0,\n        \"max\": 1,\n        \"num_unique_values\": 2,\n        \"samples\": [\n          0,\n          1\n        ],\n        \"semantic_type\": \"\",\n        \"description\": \"\"\n      }\n    }\n  ]\n}",
              "type": "dataframe",
              "variable_name": "labels"
            },
            "text/html": [
              "\n",
              "  <div id=\"df-7fb9e3ec-1321-46f8-b723-bf5de5056b90\" class=\"colab-df-container\">\n",
              "    <div>\n",
              "<style scoped>\n",
              "    .dataframe tbody tr th:only-of-type {\n",
              "        vertical-align: middle;\n",
              "    }\n",
              "\n",
              "    .dataframe tbody tr th {\n",
              "        vertical-align: top;\n",
              "    }\n",
              "\n",
              "    .dataframe thead th {\n",
              "        text-align: right;\n",
              "    }\n",
              "</style>\n",
              "<table border=\"1\" class=\"dataframe\">\n",
              "  <thead>\n",
              "    <tr style=\"text-align: right;\">\n",
              "      <th></th>\n",
              "      <th>Vegetarian</th>\n",
              "      <th>Vegetarian&amp;Desserts</th>\n",
              "    </tr>\n",
              "  </thead>\n",
              "  <tbody>\n",
              "    <tr>\n",
              "      <th>0</th>\n",
              "      <td>0</td>\n",
              "      <td>1</td>\n",
              "    </tr>\n",
              "    <tr>\n",
              "      <th>1</th>\n",
              "      <td>0</td>\n",
              "      <td>0</td>\n",
              "    </tr>\n",
              "    <tr>\n",
              "      <th>2</th>\n",
              "      <td>0</td>\n",
              "      <td>0</td>\n",
              "    </tr>\n",
              "    <tr>\n",
              "      <th>3</th>\n",
              "      <td>1</td>\n",
              "      <td>1</td>\n",
              "    </tr>\n",
              "    <tr>\n",
              "      <th>4</th>\n",
              "      <td>0</td>\n",
              "      <td>1</td>\n",
              "    </tr>\n",
              "  </tbody>\n",
              "</table>\n",
              "</div>\n",
              "    <div class=\"colab-df-buttons\">\n",
              "\n",
              "  <div class=\"colab-df-container\">\n",
              "    <button class=\"colab-df-convert\" onclick=\"convertToInteractive('df-7fb9e3ec-1321-46f8-b723-bf5de5056b90')\"\n",
              "            title=\"Convert this dataframe to an interactive table.\"\n",
              "            style=\"display:none;\">\n",
              "\n",
              "  <svg xmlns=\"http://www.w3.org/2000/svg\" height=\"24px\" viewBox=\"0 -960 960 960\">\n",
              "    <path d=\"M120-120v-720h720v720H120Zm60-500h600v-160H180v160Zm220 220h160v-160H400v160Zm0 220h160v-160H400v160ZM180-400h160v-160H180v160Zm440 0h160v-160H620v160ZM180-180h160v-160H180v160Zm440 0h160v-160H620v160Z\"/>\n",
              "  </svg>\n",
              "    </button>\n",
              "\n",
              "  <style>\n",
              "    .colab-df-container {\n",
              "      display:flex;\n",
              "      gap: 12px;\n",
              "    }\n",
              "\n",
              "    .colab-df-convert {\n",
              "      background-color: #E8F0FE;\n",
              "      border: none;\n",
              "      border-radius: 50%;\n",
              "      cursor: pointer;\n",
              "      display: none;\n",
              "      fill: #1967D2;\n",
              "      height: 32px;\n",
              "      padding: 0 0 0 0;\n",
              "      width: 32px;\n",
              "    }\n",
              "\n",
              "    .colab-df-convert:hover {\n",
              "      background-color: #E2EBFA;\n",
              "      box-shadow: 0px 1px 2px rgba(60, 64, 67, 0.3), 0px 1px 3px 1px rgba(60, 64, 67, 0.15);\n",
              "      fill: #174EA6;\n",
              "    }\n",
              "\n",
              "    .colab-df-buttons div {\n",
              "      margin-bottom: 4px;\n",
              "    }\n",
              "\n",
              "    [theme=dark] .colab-df-convert {\n",
              "      background-color: #3B4455;\n",
              "      fill: #D2E3FC;\n",
              "    }\n",
              "\n",
              "    [theme=dark] .colab-df-convert:hover {\n",
              "      background-color: #434B5C;\n",
              "      box-shadow: 0px 1px 3px 1px rgba(0, 0, 0, 0.15);\n",
              "      filter: drop-shadow(0px 1px 2px rgba(0, 0, 0, 0.3));\n",
              "      fill: #FFFFFF;\n",
              "    }\n",
              "  </style>\n",
              "\n",
              "    <script>\n",
              "      const buttonEl =\n",
              "        document.querySelector('#df-7fb9e3ec-1321-46f8-b723-bf5de5056b90 button.colab-df-convert');\n",
              "      buttonEl.style.display =\n",
              "        google.colab.kernel.accessAllowed ? 'block' : 'none';\n",
              "\n",
              "      async function convertToInteractive(key) {\n",
              "        const element = document.querySelector('#df-7fb9e3ec-1321-46f8-b723-bf5de5056b90');\n",
              "        const dataTable =\n",
              "          await google.colab.kernel.invokeFunction('convertToInteractive',\n",
              "                                                    [key], {});\n",
              "        if (!dataTable) return;\n",
              "\n",
              "        const docLinkHtml = 'Like what you see? Visit the ' +\n",
              "          '<a target=\"_blank\" href=https://colab.research.google.com/notebooks/data_table.ipynb>data table notebook</a>'\n",
              "          + ' to learn more about interactive tables.';\n",
              "        element.innerHTML = '';\n",
              "        dataTable['output_type'] = 'display_data';\n",
              "        await google.colab.output.renderOutput(dataTable, element);\n",
              "        const docLink = document.createElement('div');\n",
              "        docLink.innerHTML = docLinkHtml;\n",
              "        element.appendChild(docLink);\n",
              "      }\n",
              "    </script>\n",
              "  </div>\n",
              "\n",
              "\n",
              "<div id=\"df-0e7af681-40a7-4280-8c15-f95ea329d102\">\n",
              "  <button class=\"colab-df-quickchart\" onclick=\"quickchart('df-0e7af681-40a7-4280-8c15-f95ea329d102')\"\n",
              "            title=\"Suggest charts\"\n",
              "            style=\"display:none;\">\n",
              "\n",
              "<svg xmlns=\"http://www.w3.org/2000/svg\" height=\"24px\"viewBox=\"0 0 24 24\"\n",
              "     width=\"24px\">\n",
              "    <g>\n",
              "        <path d=\"M19 3H5c-1.1 0-2 .9-2 2v14c0 1.1.9 2 2 2h14c1.1 0 2-.9 2-2V5c0-1.1-.9-2-2-2zM9 17H7v-7h2v7zm4 0h-2V7h2v10zm4 0h-2v-4h2v4z\"/>\n",
              "    </g>\n",
              "</svg>\n",
              "  </button>\n",
              "\n",
              "<style>\n",
              "  .colab-df-quickchart {\n",
              "      --bg-color: #E8F0FE;\n",
              "      --fill-color: #1967D2;\n",
              "      --hover-bg-color: #E2EBFA;\n",
              "      --hover-fill-color: #174EA6;\n",
              "      --disabled-fill-color: #AAA;\n",
              "      --disabled-bg-color: #DDD;\n",
              "  }\n",
              "\n",
              "  [theme=dark] .colab-df-quickchart {\n",
              "      --bg-color: #3B4455;\n",
              "      --fill-color: #D2E3FC;\n",
              "      --hover-bg-color: #434B5C;\n",
              "      --hover-fill-color: #FFFFFF;\n",
              "      --disabled-bg-color: #3B4455;\n",
              "      --disabled-fill-color: #666;\n",
              "  }\n",
              "\n",
              "  .colab-df-quickchart {\n",
              "    background-color: var(--bg-color);\n",
              "    border: none;\n",
              "    border-radius: 50%;\n",
              "    cursor: pointer;\n",
              "    display: none;\n",
              "    fill: var(--fill-color);\n",
              "    height: 32px;\n",
              "    padding: 0;\n",
              "    width: 32px;\n",
              "  }\n",
              "\n",
              "  .colab-df-quickchart:hover {\n",
              "    background-color: var(--hover-bg-color);\n",
              "    box-shadow: 0 1px 2px rgba(60, 64, 67, 0.3), 0 1px 3px 1px rgba(60, 64, 67, 0.15);\n",
              "    fill: var(--button-hover-fill-color);\n",
              "  }\n",
              "\n",
              "  .colab-df-quickchart-complete:disabled,\n",
              "  .colab-df-quickchart-complete:disabled:hover {\n",
              "    background-color: var(--disabled-bg-color);\n",
              "    fill: var(--disabled-fill-color);\n",
              "    box-shadow: none;\n",
              "  }\n",
              "\n",
              "  .colab-df-spinner {\n",
              "    border: 2px solid var(--fill-color);\n",
              "    border-color: transparent;\n",
              "    border-bottom-color: var(--fill-color);\n",
              "    animation:\n",
              "      spin 1s steps(1) infinite;\n",
              "  }\n",
              "\n",
              "  @keyframes spin {\n",
              "    0% {\n",
              "      border-color: transparent;\n",
              "      border-bottom-color: var(--fill-color);\n",
              "      border-left-color: var(--fill-color);\n",
              "    }\n",
              "    20% {\n",
              "      border-color: transparent;\n",
              "      border-left-color: var(--fill-color);\n",
              "      border-top-color: var(--fill-color);\n",
              "    }\n",
              "    30% {\n",
              "      border-color: transparent;\n",
              "      border-left-color: var(--fill-color);\n",
              "      border-top-color: var(--fill-color);\n",
              "      border-right-color: var(--fill-color);\n",
              "    }\n",
              "    40% {\n",
              "      border-color: transparent;\n",
              "      border-right-color: var(--fill-color);\n",
              "      border-top-color: var(--fill-color);\n",
              "    }\n",
              "    60% {\n",
              "      border-color: transparent;\n",
              "      border-right-color: var(--fill-color);\n",
              "    }\n",
              "    80% {\n",
              "      border-color: transparent;\n",
              "      border-right-color: var(--fill-color);\n",
              "      border-bottom-color: var(--fill-color);\n",
              "    }\n",
              "    90% {\n",
              "      border-color: transparent;\n",
              "      border-bottom-color: var(--fill-color);\n",
              "    }\n",
              "  }\n",
              "</style>\n",
              "\n",
              "  <script>\n",
              "    async function quickchart(key) {\n",
              "      const quickchartButtonEl =\n",
              "        document.querySelector('#' + key + ' button');\n",
              "      quickchartButtonEl.disabled = true;  // To prevent multiple clicks.\n",
              "      quickchartButtonEl.classList.add('colab-df-spinner');\n",
              "      try {\n",
              "        const charts = await google.colab.kernel.invokeFunction(\n",
              "            'suggestCharts', [key], {});\n",
              "      } catch (error) {\n",
              "        console.error('Error during call to suggestCharts:', error);\n",
              "      }\n",
              "      quickchartButtonEl.classList.remove('colab-df-spinner');\n",
              "      quickchartButtonEl.classList.add('colab-df-quickchart-complete');\n",
              "    }\n",
              "    (() => {\n",
              "      let quickchartButtonEl =\n",
              "        document.querySelector('#df-0e7af681-40a7-4280-8c15-f95ea329d102 button');\n",
              "      quickchartButtonEl.style.display =\n",
              "        google.colab.kernel.accessAllowed ? 'block' : 'none';\n",
              "    })();\n",
              "  </script>\n",
              "</div>\n",
              "    </div>\n",
              "  </div>\n"
            ],
            "text/plain": [
              "   Vegetarian  Vegetarian&Desserts\n",
              "0           0                    1\n",
              "1           0                    0\n",
              "2           0                    0\n",
              "3           1                    1\n",
              "4           0                    1"
            ]
          },
          "execution_count": 13,
          "metadata": {},
          "output_type": "execute_result"
        }
      ],
      "source": [
        "labels.head()"
      ]
    },
    {
      "cell_type": "code",
      "execution_count": null,
      "metadata": {
        "colab": {
          "base_uri": "https://localhost:8080/",
          "height": 301
        },
        "id": "3wOdja4FiQ0Z",
        "outputId": "11296e18-373f-422d-fa0c-f0d78c388ecb"
      },
      "outputs": [
        {
          "data": {
            "application/vnd.google.colaboratory.intrinsic+json": {
              "type": "dataframe",
              "variable_name": "recipes"
            },
            "text/html": [
              "\n",
              "  <div id=\"df-2bb58054-ebce-46c5-81d0-d936fbdf9f2e\" class=\"colab-df-container\">\n",
              "    <div>\n",
              "<style scoped>\n",
              "    .dataframe tbody tr th:only-of-type {\n",
              "        vertical-align: middle;\n",
              "    }\n",
              "\n",
              "    .dataframe tbody tr th {\n",
              "        vertical-align: top;\n",
              "    }\n",
              "\n",
              "    .dataframe thead th {\n",
              "        text-align: right;\n",
              "    }\n",
              "</style>\n",
              "<table border=\"1\" class=\"dataframe\">\n",
              "  <thead>\n",
              "    <tr style=\"text-align: right;\">\n",
              "      <th></th>\n",
              "      <th>0</th>\n",
              "      <th>1</th>\n",
              "      <th>2</th>\n",
              "      <th>3</th>\n",
              "      <th>4</th>\n",
              "      <th>5</th>\n",
              "      <th>6</th>\n",
              "      <th>7</th>\n",
              "      <th>8</th>\n",
              "      <th>9</th>\n",
              "      <th>...</th>\n",
              "      <th>33</th>\n",
              "      <th>34</th>\n",
              "      <th>35</th>\n",
              "      <th>36</th>\n",
              "      <th>37</th>\n",
              "      <th>38</th>\n",
              "      <th>39</th>\n",
              "      <th>40</th>\n",
              "      <th>41</th>\n",
              "      <th>42</th>\n",
              "    </tr>\n",
              "  </thead>\n",
              "  <tbody>\n",
              "    <tr>\n",
              "      <th>0</th>\n",
              "      <td>banana</td>\n",
              "      <td>sugar</td>\n",
              "      <td>cinnamon</td>\n",
              "      <td>vanilla ice cream</td>\n",
              "      <td>bourbon</td>\n",
              "      <td>butter</td>\n",
              "      <td>NaN</td>\n",
              "      <td>NaN</td>\n",
              "      <td>NaN</td>\n",
              "      <td>NaN</td>\n",
              "      <td>...</td>\n",
              "      <td>NaN</td>\n",
              "      <td>NaN</td>\n",
              "      <td>NaN</td>\n",
              "      <td>NaN</td>\n",
              "      <td>NaN</td>\n",
              "      <td>NaN</td>\n",
              "      <td>NaN</td>\n",
              "      <td>NaN</td>\n",
              "      <td>NaN</td>\n",
              "      <td>NaN</td>\n",
              "    </tr>\n",
              "    <tr>\n",
              "      <th>1</th>\n",
              "      <td>mash potato</td>\n",
              "      <td>milk</td>\n",
              "      <td>tomato</td>\n",
              "      <td>beef broth</td>\n",
              "      <td>rosemary leave</td>\n",
              "      <td>skirt steak</td>\n",
              "      <td>pepper</td>\n",
              "      <td>butter</td>\n",
              "      <td>NaN</td>\n",
              "      <td>NaN</td>\n",
              "      <td>...</td>\n",
              "      <td>NaN</td>\n",
              "      <td>NaN</td>\n",
              "      <td>NaN</td>\n",
              "      <td>NaN</td>\n",
              "      <td>NaN</td>\n",
              "      <td>NaN</td>\n",
              "      <td>NaN</td>\n",
              "      <td>NaN</td>\n",
              "      <td>NaN</td>\n",
              "      <td>NaN</td>\n",
              "    </tr>\n",
              "    <tr>\n",
              "      <th>2</th>\n",
              "      <td>clove</td>\n",
              "      <td>jalapeno</td>\n",
              "      <td>ginger</td>\n",
              "      <td>bourbon</td>\n",
              "      <td>apple cider</td>\n",
              "      <td>lemon</td>\n",
              "      <td>anise</td>\n",
              "      <td>NaN</td>\n",
              "      <td>NaN</td>\n",
              "      <td>NaN</td>\n",
              "      <td>...</td>\n",
              "      <td>NaN</td>\n",
              "      <td>NaN</td>\n",
              "      <td>NaN</td>\n",
              "      <td>NaN</td>\n",
              "      <td>NaN</td>\n",
              "      <td>NaN</td>\n",
              "      <td>NaN</td>\n",
              "      <td>NaN</td>\n",
              "      <td>NaN</td>\n",
              "      <td>NaN</td>\n",
              "    </tr>\n",
              "    <tr>\n",
              "      <th>3</th>\n",
              "      <td>soy sauce</td>\n",
              "      <td>sugar</td>\n",
              "      <td>sesame oil</td>\n",
              "      <td>asparagus</td>\n",
              "      <td>sesame seed</td>\n",
              "      <td>wine vinegar</td>\n",
              "      <td>kosher salt</td>\n",
              "      <td>NaN</td>\n",
              "      <td>NaN</td>\n",
              "      <td>NaN</td>\n",
              "      <td>...</td>\n",
              "      <td>NaN</td>\n",
              "      <td>NaN</td>\n",
              "      <td>NaN</td>\n",
              "      <td>NaN</td>\n",
              "      <td>NaN</td>\n",
              "      <td>NaN</td>\n",
              "      <td>NaN</td>\n",
              "      <td>NaN</td>\n",
              "      <td>NaN</td>\n",
              "      <td>NaN</td>\n",
              "    </tr>\n",
              "    <tr>\n",
              "      <th>4</th>\n",
              "      <td>egg</td>\n",
              "      <td>baking soda</td>\n",
              "      <td>sugar</td>\n",
              "      <td>flour</td>\n",
              "      <td>cream</td>\n",
              "      <td>confectioner</td>\n",
              "      <td>cream cheese</td>\n",
              "      <td>beer</td>\n",
              "      <td>stick butter</td>\n",
              "      <td>cupcake</td>\n",
              "      <td>...</td>\n",
              "      <td>NaN</td>\n",
              "      <td>NaN</td>\n",
              "      <td>NaN</td>\n",
              "      <td>NaN</td>\n",
              "      <td>NaN</td>\n",
              "      <td>NaN</td>\n",
              "      <td>NaN</td>\n",
              "      <td>NaN</td>\n",
              "      <td>NaN</td>\n",
              "      <td>NaN</td>\n",
              "    </tr>\n",
              "  </tbody>\n",
              "</table>\n",
              "<p>5 rows × 43 columns</p>\n",
              "</div>\n",
              "    <div class=\"colab-df-buttons\">\n",
              "\n",
              "  <div class=\"colab-df-container\">\n",
              "    <button class=\"colab-df-convert\" onclick=\"convertToInteractive('df-2bb58054-ebce-46c5-81d0-d936fbdf9f2e')\"\n",
              "            title=\"Convert this dataframe to an interactive table.\"\n",
              "            style=\"display:none;\">\n",
              "\n",
              "  <svg xmlns=\"http://www.w3.org/2000/svg\" height=\"24px\" viewBox=\"0 -960 960 960\">\n",
              "    <path d=\"M120-120v-720h720v720H120Zm60-500h600v-160H180v160Zm220 220h160v-160H400v160Zm0 220h160v-160H400v160ZM180-400h160v-160H180v160Zm440 0h160v-160H620v160ZM180-180h160v-160H180v160Zm440 0h160v-160H620v160Z\"/>\n",
              "  </svg>\n",
              "    </button>\n",
              "\n",
              "  <style>\n",
              "    .colab-df-container {\n",
              "      display:flex;\n",
              "      gap: 12px;\n",
              "    }\n",
              "\n",
              "    .colab-df-convert {\n",
              "      background-color: #E8F0FE;\n",
              "      border: none;\n",
              "      border-radius: 50%;\n",
              "      cursor: pointer;\n",
              "      display: none;\n",
              "      fill: #1967D2;\n",
              "      height: 32px;\n",
              "      padding: 0 0 0 0;\n",
              "      width: 32px;\n",
              "    }\n",
              "\n",
              "    .colab-df-convert:hover {\n",
              "      background-color: #E2EBFA;\n",
              "      box-shadow: 0px 1px 2px rgba(60, 64, 67, 0.3), 0px 1px 3px 1px rgba(60, 64, 67, 0.15);\n",
              "      fill: #174EA6;\n",
              "    }\n",
              "\n",
              "    .colab-df-buttons div {\n",
              "      margin-bottom: 4px;\n",
              "    }\n",
              "\n",
              "    [theme=dark] .colab-df-convert {\n",
              "      background-color: #3B4455;\n",
              "      fill: #D2E3FC;\n",
              "    }\n",
              "\n",
              "    [theme=dark] .colab-df-convert:hover {\n",
              "      background-color: #434B5C;\n",
              "      box-shadow: 0px 1px 3px 1px rgba(0, 0, 0, 0.15);\n",
              "      filter: drop-shadow(0px 1px 2px rgba(0, 0, 0, 0.3));\n",
              "      fill: #FFFFFF;\n",
              "    }\n",
              "  </style>\n",
              "\n",
              "    <script>\n",
              "      const buttonEl =\n",
              "        document.querySelector('#df-2bb58054-ebce-46c5-81d0-d936fbdf9f2e button.colab-df-convert');\n",
              "      buttonEl.style.display =\n",
              "        google.colab.kernel.accessAllowed ? 'block' : 'none';\n",
              "\n",
              "      async function convertToInteractive(key) {\n",
              "        const element = document.querySelector('#df-2bb58054-ebce-46c5-81d0-d936fbdf9f2e');\n",
              "        const dataTable =\n",
              "          await google.colab.kernel.invokeFunction('convertToInteractive',\n",
              "                                                    [key], {});\n",
              "        if (!dataTable) return;\n",
              "\n",
              "        const docLinkHtml = 'Like what you see? Visit the ' +\n",
              "          '<a target=\"_blank\" href=https://colab.research.google.com/notebooks/data_table.ipynb>data table notebook</a>'\n",
              "          + ' to learn more about interactive tables.';\n",
              "        element.innerHTML = '';\n",
              "        dataTable['output_type'] = 'display_data';\n",
              "        await google.colab.output.renderOutput(dataTable, element);\n",
              "        const docLink = document.createElement('div');\n",
              "        docLink.innerHTML = docLinkHtml;\n",
              "        element.appendChild(docLink);\n",
              "      }\n",
              "    </script>\n",
              "  </div>\n",
              "\n",
              "\n",
              "<div id=\"df-f8642c35-7ba9-440d-95f7-154d745ff5d8\">\n",
              "  <button class=\"colab-df-quickchart\" onclick=\"quickchart('df-f8642c35-7ba9-440d-95f7-154d745ff5d8')\"\n",
              "            title=\"Suggest charts\"\n",
              "            style=\"display:none;\">\n",
              "\n",
              "<svg xmlns=\"http://www.w3.org/2000/svg\" height=\"24px\"viewBox=\"0 0 24 24\"\n",
              "     width=\"24px\">\n",
              "    <g>\n",
              "        <path d=\"M19 3H5c-1.1 0-2 .9-2 2v14c0 1.1.9 2 2 2h14c1.1 0 2-.9 2-2V5c0-1.1-.9-2-2-2zM9 17H7v-7h2v7zm4 0h-2V7h2v10zm4 0h-2v-4h2v4z\"/>\n",
              "    </g>\n",
              "</svg>\n",
              "  </button>\n",
              "\n",
              "<style>\n",
              "  .colab-df-quickchart {\n",
              "      --bg-color: #E8F0FE;\n",
              "      --fill-color: #1967D2;\n",
              "      --hover-bg-color: #E2EBFA;\n",
              "      --hover-fill-color: #174EA6;\n",
              "      --disabled-fill-color: #AAA;\n",
              "      --disabled-bg-color: #DDD;\n",
              "  }\n",
              "\n",
              "  [theme=dark] .colab-df-quickchart {\n",
              "      --bg-color: #3B4455;\n",
              "      --fill-color: #D2E3FC;\n",
              "      --hover-bg-color: #434B5C;\n",
              "      --hover-fill-color: #FFFFFF;\n",
              "      --disabled-bg-color: #3B4455;\n",
              "      --disabled-fill-color: #666;\n",
              "  }\n",
              "\n",
              "  .colab-df-quickchart {\n",
              "    background-color: var(--bg-color);\n",
              "    border: none;\n",
              "    border-radius: 50%;\n",
              "    cursor: pointer;\n",
              "    display: none;\n",
              "    fill: var(--fill-color);\n",
              "    height: 32px;\n",
              "    padding: 0;\n",
              "    width: 32px;\n",
              "  }\n",
              "\n",
              "  .colab-df-quickchart:hover {\n",
              "    background-color: var(--hover-bg-color);\n",
              "    box-shadow: 0 1px 2px rgba(60, 64, 67, 0.3), 0 1px 3px 1px rgba(60, 64, 67, 0.15);\n",
              "    fill: var(--button-hover-fill-color);\n",
              "  }\n",
              "\n",
              "  .colab-df-quickchart-complete:disabled,\n",
              "  .colab-df-quickchart-complete:disabled:hover {\n",
              "    background-color: var(--disabled-bg-color);\n",
              "    fill: var(--disabled-fill-color);\n",
              "    box-shadow: none;\n",
              "  }\n",
              "\n",
              "  .colab-df-spinner {\n",
              "    border: 2px solid var(--fill-color);\n",
              "    border-color: transparent;\n",
              "    border-bottom-color: var(--fill-color);\n",
              "    animation:\n",
              "      spin 1s steps(1) infinite;\n",
              "  }\n",
              "\n",
              "  @keyframes spin {\n",
              "    0% {\n",
              "      border-color: transparent;\n",
              "      border-bottom-color: var(--fill-color);\n",
              "      border-left-color: var(--fill-color);\n",
              "    }\n",
              "    20% {\n",
              "      border-color: transparent;\n",
              "      border-left-color: var(--fill-color);\n",
              "      border-top-color: var(--fill-color);\n",
              "    }\n",
              "    30% {\n",
              "      border-color: transparent;\n",
              "      border-left-color: var(--fill-color);\n",
              "      border-top-color: var(--fill-color);\n",
              "      border-right-color: var(--fill-color);\n",
              "    }\n",
              "    40% {\n",
              "      border-color: transparent;\n",
              "      border-right-color: var(--fill-color);\n",
              "      border-top-color: var(--fill-color);\n",
              "    }\n",
              "    60% {\n",
              "      border-color: transparent;\n",
              "      border-right-color: var(--fill-color);\n",
              "    }\n",
              "    80% {\n",
              "      border-color: transparent;\n",
              "      border-right-color: var(--fill-color);\n",
              "      border-bottom-color: var(--fill-color);\n",
              "    }\n",
              "    90% {\n",
              "      border-color: transparent;\n",
              "      border-bottom-color: var(--fill-color);\n",
              "    }\n",
              "  }\n",
              "</style>\n",
              "\n",
              "  <script>\n",
              "    async function quickchart(key) {\n",
              "      const quickchartButtonEl =\n",
              "        document.querySelector('#' + key + ' button');\n",
              "      quickchartButtonEl.disabled = true;  // To prevent multiple clicks.\n",
              "      quickchartButtonEl.classList.add('colab-df-spinner');\n",
              "      try {\n",
              "        const charts = await google.colab.kernel.invokeFunction(\n",
              "            'suggestCharts', [key], {});\n",
              "      } catch (error) {\n",
              "        console.error('Error during call to suggestCharts:', error);\n",
              "      }\n",
              "      quickchartButtonEl.classList.remove('colab-df-spinner');\n",
              "      quickchartButtonEl.classList.add('colab-df-quickchart-complete');\n",
              "    }\n",
              "    (() => {\n",
              "      let quickchartButtonEl =\n",
              "        document.querySelector('#df-f8642c35-7ba9-440d-95f7-154d745ff5d8 button');\n",
              "      quickchartButtonEl.style.display =\n",
              "        google.colab.kernel.accessAllowed ? 'block' : 'none';\n",
              "    })();\n",
              "  </script>\n",
              "</div>\n",
              "    </div>\n",
              "  </div>\n"
            ],
            "text/plain": [
              "             0            1           2                  3               4  \\\n",
              "0       banana        sugar    cinnamon  vanilla ice cream         bourbon   \n",
              "1  mash potato         milk      tomato         beef broth  rosemary leave   \n",
              "2        clove     jalapeno      ginger            bourbon     apple cider   \n",
              "3    soy sauce        sugar  sesame oil          asparagus     sesame seed   \n",
              "4          egg  baking soda       sugar              flour           cream   \n",
              "\n",
              "              5             6       7             8        9  ...   33   34  \\\n",
              "0        butter           NaN     NaN           NaN      NaN  ...  NaN  NaN   \n",
              "1   skirt steak        pepper  butter           NaN      NaN  ...  NaN  NaN   \n",
              "2         lemon         anise     NaN           NaN      NaN  ...  NaN  NaN   \n",
              "3  wine vinegar   kosher salt     NaN           NaN      NaN  ...  NaN  NaN   \n",
              "4  confectioner  cream cheese    beer  stick butter  cupcake  ...  NaN  NaN   \n",
              "\n",
              "    35   36   37   38   39   40   41   42  \n",
              "0  NaN  NaN  NaN  NaN  NaN  NaN  NaN  NaN  \n",
              "1  NaN  NaN  NaN  NaN  NaN  NaN  NaN  NaN  \n",
              "2  NaN  NaN  NaN  NaN  NaN  NaN  NaN  NaN  \n",
              "3  NaN  NaN  NaN  NaN  NaN  NaN  NaN  NaN  \n",
              "4  NaN  NaN  NaN  NaN  NaN  NaN  NaN  NaN  \n",
              "\n",
              "[5 rows x 43 columns]"
            ]
          },
          "execution_count": 14,
          "metadata": {},
          "output_type": "execute_result"
        }
      ],
      "source": [
        "recipes.head()"
      ]
    },
    {
      "cell_type": "code",
      "execution_count": null,
      "metadata": {
        "id": "r1Q9Pc37pd8M"
      },
      "outputs": [],
      "source": [
        "recipes_lst = [ [item for item in row if not pd.isna(item)] for row in recipes.values ]"
      ]
    },
    {
      "cell_type": "code",
      "execution_count": null,
      "metadata": {
        "colab": {
          "base_uri": "https://localhost:8080/"
        },
        "id": "8q5exsjZoPeu",
        "outputId": "242bbb7c-73c0-4fc4-ad9a-d9f8b6ddc75c"
      },
      "outputs": [
        {
          "data": {
            "text/plain": [
              "['banana', 'sugar', 'cinnamon', 'vanilla ice cream', 'bourbon', 'butter']"
            ]
          },
          "execution_count": 26,
          "metadata": {},
          "output_type": "execute_result"
        }
      ],
      "source": [
        "recipes_lst[0]"
      ]
    },
    {
      "cell_type": "code",
      "execution_count": null,
      "metadata": {
        "id": "1Zt2Q6XgpkHw"
      },
      "outputs": [],
      "source": [
        "labels_lst = labels['Vegetarian&Desserts'].values"
      ]
    },
    {
      "cell_type": "code",
      "execution_count": null,
      "metadata": {
        "colab": {
          "base_uri": "https://localhost:8080/"
        },
        "id": "6fH9lWU3soAI",
        "outputId": "65399e7b-307e-4b9d-816a-61fb4954b48d"
      },
      "outputs": [
        {
          "data": {
            "text/plain": [
              "numpy.ndarray"
            ]
          },
          "execution_count": 12,
          "metadata": {},
          "output_type": "execute_result"
        }
      ],
      "source": [
        "type(labels_lst)"
      ]
    },
    {
      "cell_type": "markdown",
      "metadata": {
        "id": "OsOMdjTFnvj2"
      },
      "source": [
        "## to load recipes\n",
        "if you want to train the rnn using the recipes"
      ]
    },
    {
      "cell_type": "code",
      "execution_count": null,
      "metadata": {
        "id": "hZGhDAj5ZUgH"
      },
      "outputs": [],
      "source": [
        "data = pd.read_csv('/content/drive/MyDrive/datasets/recipes_df_10k_balanced.csv')"
      ]
    },
    {
      "cell_type": "code",
      "execution_count": null,
      "metadata": {
        "colab": {
          "base_uri": "https://localhost:8080/",
          "height": 306
        },
        "id": "bgBognvVZgRL",
        "outputId": "be3261ff-578b-4e77-a10f-b847d48f10bf"
      },
      "outputs": [
        {
          "output_type": "execute_result",
          "data": {
            "text/plain": [
              "                                      cooking_method  \\\n",
              "0  ['Melt the butter in a saute pan over medium-h...   \n",
              "1  ['Add broth, sun-dried tomatoes, and butter to...   \n",
              "2  ['Using a peeler, remove the zest from 1 lemon...   \n",
              "3  ['Bring a large pot of water to a rolling boil...   \n",
              "4  ['Preheat oven to 350 degrees F.', 'In a large...   \n",
              "\n",
              "                                         ingredients  \\\n",
              "0  ['1/4 cup unsalted butter', '2/3 cup brown sug...   \n",
              "1  ['1 2/3 cups canned beef broth', '3/4 cup read...   \n",
              "2  ['2 lemons', '4 cups apple cider', 'One 12-oun...   \n",
              "3  ['3 tablespoons sesame oil', '2 tablespoons wh...   \n",
              "4  ['3/4 cup unsweetened cocoa, plus more for dus...   \n",
              "\n",
              "                                         recipe_name  \\\n",
              "0                Bardstown Distillery Bananas Foster   \n",
              "1  Steak Pinwheels with Sun-Dried Tomato Stuffing...   \n",
              "2                        Spiced Bourbon-Ginger Cider   \n",
              "3                       Asparagus Spears with Sesame   \n",
              "4                           Chocolate Stout Cupcakes   \n",
              "\n",
              "                                                tags  Vegetarian&Desserts  \\\n",
              "0  Bananas Foster,Banana,Fruit,Bourbon,Dessert,Gl...                    1   \n",
              "1                                    Steak,Beef,Meat                    0   \n",
              "2             Bourbon,Fruit,Lemon,Low-Fat,Low Sodium                    0   \n",
              "3               Vegetarian,Asparagus,Vegetable,Vegan                    1   \n",
              "4  Easy Dessert Recipes,Dessert,Easy,Easy Baking,...                    1   \n",
              "\n",
              "   Others&D  Vegetarian  Others  Dairy Free  Gluten Free  Low Carb  Low Fat  \\\n",
              "0         0           0       1           0            1         0        0   \n",
              "1         1           0       1           0            0         0        0   \n",
              "2         1           0       1           0            0         0        1   \n",
              "3         0           1       0           0            0         0        0   \n",
              "4         0           0       1           0            0         0        0   \n",
              "\n",
              "   Low Sodium  \n",
              "0           1  \n",
              "1           0  \n",
              "2           1  \n",
              "3           0  \n",
              "4           1  "
            ],
            "text/html": [
              "\n",
              "  <div id=\"df-0b136254-d722-49a8-a4b8-7b84d8ec51f6\" class=\"colab-df-container\">\n",
              "    <div>\n",
              "<style scoped>\n",
              "    .dataframe tbody tr th:only-of-type {\n",
              "        vertical-align: middle;\n",
              "    }\n",
              "\n",
              "    .dataframe tbody tr th {\n",
              "        vertical-align: top;\n",
              "    }\n",
              "\n",
              "    .dataframe thead th {\n",
              "        text-align: right;\n",
              "    }\n",
              "</style>\n",
              "<table border=\"1\" class=\"dataframe\">\n",
              "  <thead>\n",
              "    <tr style=\"text-align: right;\">\n",
              "      <th></th>\n",
              "      <th>cooking_method</th>\n",
              "      <th>ingredients</th>\n",
              "      <th>recipe_name</th>\n",
              "      <th>tags</th>\n",
              "      <th>Vegetarian&amp;Desserts</th>\n",
              "      <th>Others&amp;D</th>\n",
              "      <th>Vegetarian</th>\n",
              "      <th>Others</th>\n",
              "      <th>Dairy Free</th>\n",
              "      <th>Gluten Free</th>\n",
              "      <th>Low Carb</th>\n",
              "      <th>Low Fat</th>\n",
              "      <th>Low Sodium</th>\n",
              "    </tr>\n",
              "  </thead>\n",
              "  <tbody>\n",
              "    <tr>\n",
              "      <th>0</th>\n",
              "      <td>['Melt the butter in a saute pan over medium-h...</td>\n",
              "      <td>['1/4 cup unsalted butter', '2/3 cup brown sug...</td>\n",
              "      <td>Bardstown Distillery Bananas Foster</td>\n",
              "      <td>Bananas Foster,Banana,Fruit,Bourbon,Dessert,Gl...</td>\n",
              "      <td>1</td>\n",
              "      <td>0</td>\n",
              "      <td>0</td>\n",
              "      <td>1</td>\n",
              "      <td>0</td>\n",
              "      <td>1</td>\n",
              "      <td>0</td>\n",
              "      <td>0</td>\n",
              "      <td>1</td>\n",
              "    </tr>\n",
              "    <tr>\n",
              "      <th>1</th>\n",
              "      <td>['Add broth, sun-dried tomatoes, and butter to...</td>\n",
              "      <td>['1 2/3 cups canned beef broth', '3/4 cup read...</td>\n",
              "      <td>Steak Pinwheels with Sun-Dried Tomato Stuffing...</td>\n",
              "      <td>Steak,Beef,Meat</td>\n",
              "      <td>0</td>\n",
              "      <td>1</td>\n",
              "      <td>0</td>\n",
              "      <td>1</td>\n",
              "      <td>0</td>\n",
              "      <td>0</td>\n",
              "      <td>0</td>\n",
              "      <td>0</td>\n",
              "      <td>0</td>\n",
              "    </tr>\n",
              "    <tr>\n",
              "      <th>2</th>\n",
              "      <td>['Using a peeler, remove the zest from 1 lemon...</td>\n",
              "      <td>['2 lemons', '4 cups apple cider', 'One 12-oun...</td>\n",
              "      <td>Spiced Bourbon-Ginger Cider</td>\n",
              "      <td>Bourbon,Fruit,Lemon,Low-Fat,Low Sodium</td>\n",
              "      <td>0</td>\n",
              "      <td>1</td>\n",
              "      <td>0</td>\n",
              "      <td>1</td>\n",
              "      <td>0</td>\n",
              "      <td>0</td>\n",
              "      <td>0</td>\n",
              "      <td>1</td>\n",
              "      <td>1</td>\n",
              "    </tr>\n",
              "    <tr>\n",
              "      <th>3</th>\n",
              "      <td>['Bring a large pot of water to a rolling boil...</td>\n",
              "      <td>['3 tablespoons sesame oil', '2 tablespoons wh...</td>\n",
              "      <td>Asparagus Spears with Sesame</td>\n",
              "      <td>Vegetarian,Asparagus,Vegetable,Vegan</td>\n",
              "      <td>1</td>\n",
              "      <td>0</td>\n",
              "      <td>1</td>\n",
              "      <td>0</td>\n",
              "      <td>0</td>\n",
              "      <td>0</td>\n",
              "      <td>0</td>\n",
              "      <td>0</td>\n",
              "      <td>0</td>\n",
              "    </tr>\n",
              "    <tr>\n",
              "      <th>4</th>\n",
              "      <td>['Preheat oven to 350 degrees F.', 'In a large...</td>\n",
              "      <td>['3/4 cup unsweetened cocoa, plus more for dus...</td>\n",
              "      <td>Chocolate Stout Cupcakes</td>\n",
              "      <td>Easy Dessert Recipes,Dessert,Easy,Easy Baking,...</td>\n",
              "      <td>1</td>\n",
              "      <td>0</td>\n",
              "      <td>0</td>\n",
              "      <td>1</td>\n",
              "      <td>0</td>\n",
              "      <td>0</td>\n",
              "      <td>0</td>\n",
              "      <td>0</td>\n",
              "      <td>1</td>\n",
              "    </tr>\n",
              "  </tbody>\n",
              "</table>\n",
              "</div>\n",
              "    <div class=\"colab-df-buttons\">\n",
              "\n",
              "  <div class=\"colab-df-container\">\n",
              "    <button class=\"colab-df-convert\" onclick=\"convertToInteractive('df-0b136254-d722-49a8-a4b8-7b84d8ec51f6')\"\n",
              "            title=\"Convert this dataframe to an interactive table.\"\n",
              "            style=\"display:none;\">\n",
              "\n",
              "  <svg xmlns=\"http://www.w3.org/2000/svg\" height=\"24px\" viewBox=\"0 -960 960 960\">\n",
              "    <path d=\"M120-120v-720h720v720H120Zm60-500h600v-160H180v160Zm220 220h160v-160H400v160Zm0 220h160v-160H400v160ZM180-400h160v-160H180v160Zm440 0h160v-160H620v160ZM180-180h160v-160H180v160Zm440 0h160v-160H620v160Z\"/>\n",
              "  </svg>\n",
              "    </button>\n",
              "\n",
              "  <style>\n",
              "    .colab-df-container {\n",
              "      display:flex;\n",
              "      gap: 12px;\n",
              "    }\n",
              "\n",
              "    .colab-df-convert {\n",
              "      background-color: #E8F0FE;\n",
              "      border: none;\n",
              "      border-radius: 50%;\n",
              "      cursor: pointer;\n",
              "      display: none;\n",
              "      fill: #1967D2;\n",
              "      height: 32px;\n",
              "      padding: 0 0 0 0;\n",
              "      width: 32px;\n",
              "    }\n",
              "\n",
              "    .colab-df-convert:hover {\n",
              "      background-color: #E2EBFA;\n",
              "      box-shadow: 0px 1px 2px rgba(60, 64, 67, 0.3), 0px 1px 3px 1px rgba(60, 64, 67, 0.15);\n",
              "      fill: #174EA6;\n",
              "    }\n",
              "\n",
              "    .colab-df-buttons div {\n",
              "      margin-bottom: 4px;\n",
              "    }\n",
              "\n",
              "    [theme=dark] .colab-df-convert {\n",
              "      background-color: #3B4455;\n",
              "      fill: #D2E3FC;\n",
              "    }\n",
              "\n",
              "    [theme=dark] .colab-df-convert:hover {\n",
              "      background-color: #434B5C;\n",
              "      box-shadow: 0px 1px 3px 1px rgba(0, 0, 0, 0.15);\n",
              "      filter: drop-shadow(0px 1px 2px rgba(0, 0, 0, 0.3));\n",
              "      fill: #FFFFFF;\n",
              "    }\n",
              "  </style>\n",
              "\n",
              "    <script>\n",
              "      const buttonEl =\n",
              "        document.querySelector('#df-0b136254-d722-49a8-a4b8-7b84d8ec51f6 button.colab-df-convert');\n",
              "      buttonEl.style.display =\n",
              "        google.colab.kernel.accessAllowed ? 'block' : 'none';\n",
              "\n",
              "      async function convertToInteractive(key) {\n",
              "        const element = document.querySelector('#df-0b136254-d722-49a8-a4b8-7b84d8ec51f6');\n",
              "        const dataTable =\n",
              "          await google.colab.kernel.invokeFunction('convertToInteractive',\n",
              "                                                    [key], {});\n",
              "        if (!dataTable) return;\n",
              "\n",
              "        const docLinkHtml = 'Like what you see? Visit the ' +\n",
              "          '<a target=\"_blank\" href=https://colab.research.google.com/notebooks/data_table.ipynb>data table notebook</a>'\n",
              "          + ' to learn more about interactive tables.';\n",
              "        element.innerHTML = '';\n",
              "        dataTable['output_type'] = 'display_data';\n",
              "        await google.colab.output.renderOutput(dataTable, element);\n",
              "        const docLink = document.createElement('div');\n",
              "        docLink.innerHTML = docLinkHtml;\n",
              "        element.appendChild(docLink);\n",
              "      }\n",
              "    </script>\n",
              "  </div>\n",
              "\n",
              "\n",
              "<div id=\"df-445b9f83-6ad6-4cab-b66e-ac283ccecd6e\">\n",
              "  <button class=\"colab-df-quickchart\" onclick=\"quickchart('df-445b9f83-6ad6-4cab-b66e-ac283ccecd6e')\"\n",
              "            title=\"Suggest charts\"\n",
              "            style=\"display:none;\">\n",
              "\n",
              "<svg xmlns=\"http://www.w3.org/2000/svg\" height=\"24px\"viewBox=\"0 0 24 24\"\n",
              "     width=\"24px\">\n",
              "    <g>\n",
              "        <path d=\"M19 3H5c-1.1 0-2 .9-2 2v14c0 1.1.9 2 2 2h14c1.1 0 2-.9 2-2V5c0-1.1-.9-2-2-2zM9 17H7v-7h2v7zm4 0h-2V7h2v10zm4 0h-2v-4h2v4z\"/>\n",
              "    </g>\n",
              "</svg>\n",
              "  </button>\n",
              "\n",
              "<style>\n",
              "  .colab-df-quickchart {\n",
              "      --bg-color: #E8F0FE;\n",
              "      --fill-color: #1967D2;\n",
              "      --hover-bg-color: #E2EBFA;\n",
              "      --hover-fill-color: #174EA6;\n",
              "      --disabled-fill-color: #AAA;\n",
              "      --disabled-bg-color: #DDD;\n",
              "  }\n",
              "\n",
              "  [theme=dark] .colab-df-quickchart {\n",
              "      --bg-color: #3B4455;\n",
              "      --fill-color: #D2E3FC;\n",
              "      --hover-bg-color: #434B5C;\n",
              "      --hover-fill-color: #FFFFFF;\n",
              "      --disabled-bg-color: #3B4455;\n",
              "      --disabled-fill-color: #666;\n",
              "  }\n",
              "\n",
              "  .colab-df-quickchart {\n",
              "    background-color: var(--bg-color);\n",
              "    border: none;\n",
              "    border-radius: 50%;\n",
              "    cursor: pointer;\n",
              "    display: none;\n",
              "    fill: var(--fill-color);\n",
              "    height: 32px;\n",
              "    padding: 0;\n",
              "    width: 32px;\n",
              "  }\n",
              "\n",
              "  .colab-df-quickchart:hover {\n",
              "    background-color: var(--hover-bg-color);\n",
              "    box-shadow: 0 1px 2px rgba(60, 64, 67, 0.3), 0 1px 3px 1px rgba(60, 64, 67, 0.15);\n",
              "    fill: var(--button-hover-fill-color);\n",
              "  }\n",
              "\n",
              "  .colab-df-quickchart-complete:disabled,\n",
              "  .colab-df-quickchart-complete:disabled:hover {\n",
              "    background-color: var(--disabled-bg-color);\n",
              "    fill: var(--disabled-fill-color);\n",
              "    box-shadow: none;\n",
              "  }\n",
              "\n",
              "  .colab-df-spinner {\n",
              "    border: 2px solid var(--fill-color);\n",
              "    border-color: transparent;\n",
              "    border-bottom-color: var(--fill-color);\n",
              "    animation:\n",
              "      spin 1s steps(1) infinite;\n",
              "  }\n",
              "\n",
              "  @keyframes spin {\n",
              "    0% {\n",
              "      border-color: transparent;\n",
              "      border-bottom-color: var(--fill-color);\n",
              "      border-left-color: var(--fill-color);\n",
              "    }\n",
              "    20% {\n",
              "      border-color: transparent;\n",
              "      border-left-color: var(--fill-color);\n",
              "      border-top-color: var(--fill-color);\n",
              "    }\n",
              "    30% {\n",
              "      border-color: transparent;\n",
              "      border-left-color: var(--fill-color);\n",
              "      border-top-color: var(--fill-color);\n",
              "      border-right-color: var(--fill-color);\n",
              "    }\n",
              "    40% {\n",
              "      border-color: transparent;\n",
              "      border-right-color: var(--fill-color);\n",
              "      border-top-color: var(--fill-color);\n",
              "    }\n",
              "    60% {\n",
              "      border-color: transparent;\n",
              "      border-right-color: var(--fill-color);\n",
              "    }\n",
              "    80% {\n",
              "      border-color: transparent;\n",
              "      border-right-color: var(--fill-color);\n",
              "      border-bottom-color: var(--fill-color);\n",
              "    }\n",
              "    90% {\n",
              "      border-color: transparent;\n",
              "      border-bottom-color: var(--fill-color);\n",
              "    }\n",
              "  }\n",
              "</style>\n",
              "\n",
              "  <script>\n",
              "    async function quickchart(key) {\n",
              "      const quickchartButtonEl =\n",
              "        document.querySelector('#' + key + ' button');\n",
              "      quickchartButtonEl.disabled = true;  // To prevent multiple clicks.\n",
              "      quickchartButtonEl.classList.add('colab-df-spinner');\n",
              "      try {\n",
              "        const charts = await google.colab.kernel.invokeFunction(\n",
              "            'suggestCharts', [key], {});\n",
              "      } catch (error) {\n",
              "        console.error('Error during call to suggestCharts:', error);\n",
              "      }\n",
              "      quickchartButtonEl.classList.remove('colab-df-spinner');\n",
              "      quickchartButtonEl.classList.add('colab-df-quickchart-complete');\n",
              "    }\n",
              "    (() => {\n",
              "      let quickchartButtonEl =\n",
              "        document.querySelector('#df-445b9f83-6ad6-4cab-b66e-ac283ccecd6e button');\n",
              "      quickchartButtonEl.style.display =\n",
              "        google.colab.kernel.accessAllowed ? 'block' : 'none';\n",
              "    })();\n",
              "  </script>\n",
              "</div>\n",
              "    </div>\n",
              "  </div>\n"
            ],
            "application/vnd.google.colaboratory.intrinsic+json": {
              "type": "dataframe",
              "variable_name": "data",
              "summary": "{\n  \"name\": \"data\",\n  \"rows\": 10000,\n  \"fields\": [\n    {\n      \"column\": \"cooking_method\",\n      \"properties\": {\n        \"dtype\": \"string\",\n        \"num_unique_values\": 9651,\n        \"samples\": [\n          \"['Directions', 'For ceviche, combine all ingredients and refrigerate for 2 hours. For marinade, combine all ingredients except lobster. Brush on lobster 30 minutes prior to grilling. For cilantro lime sauce, puree in blender all ingredients but olive oil and salt and pepper. When ingredients are combined slowly add olive oil. Season with salt and pepper, to taste. To assemble, stack 2 lobster tails, top with mound of ceviche and drizzle sauce around dish and plate. Garnish with fresh cilantro and chives.']\",\n          \"['Heat a grill to high. Toss the tomato halves with some canola oil and season with salt and pepper. Grill until the tomatoes are charred and softened, turning once or twice, about 5 minutes total.', 'Combine the grilled tomatoes, vinegar and chipotles in a food processor and pulse a few times to combine. Add the garlic, onions, cilantro, oregano and some salt and pepper and pulse until slightly smooth.', 'Put the yogurt in a medium bowl and swirl in some of the salsa, being careful not to stir it in completely.']\",\n          \"['Place the flour, 3/4 teaspoon of salt, and the butter in the bowl of a food processor fitted with the steel blade and pulse 12 to 14 times, until the butter is the size of peas. With the processor running, pour the vinegar and ice water through the feed tube and continue to process and pulse until the dough just comes together. Dump out on a floured board, form into a disk, wrap in plastic, and chill for 30 minutes.', 'Meanwhile, place the zucchini in a colander set over a plate. Toss it with 2 teaspoons of salt and set aside for 30 minutes. Spread the zucchini out on a clean dish towel, roll it up, and squeeze gently to remove some of the liquid. Put the zucchini slices into a bowl and toss with 1 tablespoon of olive oil. With a fork, mash together the goat cheese, thyme, lemon zest, 1/2 teaspoon salt, and 1/4 teaspoon pepper and set aside.', 'Preheat the oven to 400 degrees F. Roll the dough out on a floured board to an 11-inch circle and place on a sheet pan lined with parchment paper. Spread the dough with the goat cheese mixture, leaving a 1/2-inch border. Lay the zucchini slices in tightly overlapping circles, starting at the very edge of the pastry (the zucchini will shrink when it bakes). Continue overlapping circles of zucchini until the whole tart is covered. Drizzle with the remaining tablespoon of olive oil and sprinkle with pepper. Bake for 40 to 50 minutes, until the dough is golden brown. Cut in wedges and serve hot, warm, or at room temperature.']\"\n        ],\n        \"semantic_type\": \"\",\n        \"description\": \"\"\n      }\n    },\n    {\n      \"column\": \"ingredients\",\n      \"properties\": {\n        \"dtype\": \"string\",\n        \"num_unique_values\": 9540,\n        \"samples\": [\n          \"['2 teaspoons extra-virgin olive oil', '1 piece bacon, cut crosswise into 1/2 inch thick strips', '1 teaspoon aged sherry or red wine vinegar', 'Kosher salt plus and freshly ground black pepper', '1 tablespoon distilled vinegar', '1 to 2 large eggs', '1-1/2 cups mixed greens, washed and spun dried', '1 or 2 (1/2-inch) thick slices of a baguette or sourdough bread, lightly toasted']\",\n          \"['1 cup sugar', '3 cups cream', '1/4 cup light corn syrup', '4 ounces unsweetened chocolate, chopped', '1/4 cup butter', '1 tablespoon vanilla extract', '1 pint vanilla ice cream', 'Whipped cream', 'Chopped nuts']\",\n          \"['4 tablespoons (1/2 stick) salted butter', '1 clove garlic, finely grated', '2 English muffins, halved', '2 tablespoons finely grated Parmesan']\"\n        ],\n        \"semantic_type\": \"\",\n        \"description\": \"\"\n      }\n    },\n    {\n      \"column\": \"recipe_name\",\n      \"properties\": {\n        \"dtype\": \"string\",\n        \"num_unique_values\": 9296,\n        \"samples\": [\n          \"Shrimp Fried Rice\",\n          \"Chestnut Honey-Baked Pears Stuffed with Mascarpone\",\n          \"Traditional Pesto\"\n        ],\n        \"semantic_type\": \"\",\n        \"description\": \"\"\n      }\n    },\n    {\n      \"column\": \"tags\",\n      \"properties\": {\n        \"dtype\": \"string\",\n        \"num_unique_values\": 9296,\n        \"samples\": [\n          \"Enchilada,Venison Recipes,Gluten Free\",\n          \"Caribbean,Beans and Legumes,Rice Recipes,Side Dish,Sauteing Recipes,Gluten Free\",\n          \"Easy Chicken,Chicken,Easy,Poultry,Easy Main Dish,Main Dish,Vegetable,Zucchini Recipes,Chicken Breast,Cheese,Shallot Recipes,Summer,Sauteing Recipes,Recipes for Two,Gluten Free,Low Sodium\"\n        ],\n        \"semantic_type\": \"\",\n        \"description\": \"\"\n      }\n    },\n    {\n      \"column\": \"Vegetarian&Desserts\",\n      \"properties\": {\n        \"dtype\": \"number\",\n        \"std\": 0,\n        \"min\": 0,\n        \"max\": 1,\n        \"num_unique_values\": 2,\n        \"samples\": [\n          0,\n          1\n        ],\n        \"semantic_type\": \"\",\n        \"description\": \"\"\n      }\n    },\n    {\n      \"column\": \"Others&D\",\n      \"properties\": {\n        \"dtype\": \"number\",\n        \"std\": 0,\n        \"min\": 0,\n        \"max\": 1,\n        \"num_unique_values\": 2,\n        \"samples\": [\n          1,\n          0\n        ],\n        \"semantic_type\": \"\",\n        \"description\": \"\"\n      }\n    },\n    {\n      \"column\": \"Vegetarian\",\n      \"properties\": {\n        \"dtype\": \"number\",\n        \"std\": 0,\n        \"min\": 0,\n        \"max\": 1,\n        \"num_unique_values\": 2,\n        \"samples\": [\n          1,\n          0\n        ],\n        \"semantic_type\": \"\",\n        \"description\": \"\"\n      }\n    },\n    {\n      \"column\": \"Others\",\n      \"properties\": {\n        \"dtype\": \"number\",\n        \"std\": 0,\n        \"min\": 0,\n        \"max\": 1,\n        \"num_unique_values\": 2,\n        \"samples\": [\n          0,\n          1\n        ],\n        \"semantic_type\": \"\",\n        \"description\": \"\"\n      }\n    },\n    {\n      \"column\": \"Dairy Free\",\n      \"properties\": {\n        \"dtype\": \"number\",\n        \"std\": 0,\n        \"min\": 0,\n        \"max\": 1,\n        \"num_unique_values\": 2,\n        \"samples\": [\n          1,\n          0\n        ],\n        \"semantic_type\": \"\",\n        \"description\": \"\"\n      }\n    },\n    {\n      \"column\": \"Gluten Free\",\n      \"properties\": {\n        \"dtype\": \"number\",\n        \"std\": 0,\n        \"min\": 0,\n        \"max\": 1,\n        \"num_unique_values\": 2,\n        \"samples\": [\n          0,\n          1\n        ],\n        \"semantic_type\": \"\",\n        \"description\": \"\"\n      }\n    },\n    {\n      \"column\": \"Low Carb\",\n      \"properties\": {\n        \"dtype\": \"number\",\n        \"std\": 0,\n        \"min\": 0,\n        \"max\": 1,\n        \"num_unique_values\": 2,\n        \"samples\": [\n          1,\n          0\n        ],\n        \"semantic_type\": \"\",\n        \"description\": \"\"\n      }\n    },\n    {\n      \"column\": \"Low Fat\",\n      \"properties\": {\n        \"dtype\": \"number\",\n        \"std\": 0,\n        \"min\": 0,\n        \"max\": 1,\n        \"num_unique_values\": 2,\n        \"samples\": [\n          1,\n          0\n        ],\n        \"semantic_type\": \"\",\n        \"description\": \"\"\n      }\n    },\n    {\n      \"column\": \"Low Sodium\",\n      \"properties\": {\n        \"dtype\": \"number\",\n        \"std\": 0,\n        \"min\": 0,\n        \"max\": 1,\n        \"num_unique_values\": 2,\n        \"samples\": [\n          0,\n          1\n        ],\n        \"semantic_type\": \"\",\n        \"description\": \"\"\n      }\n    }\n  ]\n}"
            }
          },
          "metadata": {},
          "execution_count": 6
        }
      ],
      "source": [
        "data.head()"
      ]
    },
    {
      "cell_type": "code",
      "execution_count": null,
      "metadata": {
        "id": "Vw_-CAGfZmDw"
      },
      "outputs": [],
      "source": [
        "recipes = data['cooking_method']\n",
        "labels = data['Vegetarian&Desserts']"
      ]
    },
    {
      "cell_type": "code",
      "execution_count": null,
      "metadata": {
        "colab": {
          "base_uri": "https://localhost:8080/"
        },
        "id": "HDtXzLQVyeTO",
        "outputId": "9205c25c-cbe5-4f23-b729-fe618f6b4bd7"
      },
      "outputs": [
        {
          "output_type": "stream",
          "name": "stdout",
          "text": [
            "TensorFlow version: 2.15.0\n",
            "Num GPUs Available:  1\n",
            "GPU Name: /physical_device:GPU:0\n"
          ]
        }
      ],
      "source": [
        "# Check TensorFlow version and GPU availability\n",
        "print(\"TensorFlow version:\", tf.__version__)\n",
        "print(\"Num GPUs Available: \", len(tf.config.list_physical_devices('GPU')))\n",
        "\n",
        "# Get GPU details if available\n",
        "if tf.config.list_physical_devices('GPU'):\n",
        "    gpu_info = tf.config.list_physical_devices('GPU')[0]\n",
        "    print(\"GPU Name:\", gpu_info.name)"
      ]
    },
    {
      "cell_type": "markdown",
      "source": [
        "## pre training"
      ],
      "metadata": {
        "id": "ts0TIN7xooKo"
      }
    },
    {
      "cell_type": "code",
      "execution_count": null,
      "metadata": {
        "id": "y-EDn0bisJTV"
      },
      "outputs": [],
      "source": [
        "tokenizer = Tokenizer()\n",
        "tokenizer.fit_on_texts(recipes)  # Fit the tokenizer on the texts\n",
        "\n",
        "sequences = tokenizer.texts_to_sequences(recipes)"
      ]
    },
    {
      "cell_type": "code",
      "execution_count": null,
      "metadata": {
        "id": "KPvd7azQte1V"
      },
      "outputs": [],
      "source": [
        "vocab_size = len(tokenizer.word_index) + 1"
      ]
    },
    {
      "cell_type": "code",
      "execution_count": null,
      "metadata": {
        "id": "3sGtib71rMF6"
      },
      "outputs": [],
      "source": [
        "max_length = max(len(x) for x in sequences)\n",
        "recipes_sequences = pad_sequences(sequences, maxlen=max_length, padding='post', dtype='float32', value=0.0)  # Post-padding with zeros"
      ]
    },
    {
      "cell_type": "code",
      "execution_count": null,
      "metadata": {
        "colab": {
          "base_uri": "https://localhost:8080/"
        },
        "id": "BUEW73fFsjCL",
        "outputId": "c297c00d-14b6-44aa-ee29-633a3ab72bae"
      },
      "outputs": [
        {
          "output_type": "execute_result",
          "data": {
            "text/plain": [
              "(10000, 2123)"
            ]
          },
          "metadata": {},
          "execution_count": 15
        }
      ],
      "source": [
        "recipes_sequences.shape"
      ]
    },
    {
      "cell_type": "code",
      "execution_count": null,
      "metadata": {
        "id": "M2HN9okNpy3w"
      },
      "outputs": [],
      "source": [
        "X_train, X_test, y_train, y_test = train_test_split(recipes_sequences, labels, test_size=0.3, random_state=42, stratify=labels)"
      ]
    },
    {
      "cell_type": "markdown",
      "metadata": {
        "id": "PL_tL0aIn_y5"
      },
      "source": [
        "## training the rnn"
      ]
    },
    {
      "cell_type": "code",
      "execution_count": null,
      "metadata": {
        "colab": {
          "base_uri": "https://localhost:8080/"
        },
        "id": "3hhd_y3nn_YR",
        "outputId": "5dfcfad5-8b7d-40ee-8450-f78749d7d5dd"
      },
      "outputs": [
        {
          "name": "stdout",
          "output_type": "stream",
          "text": [
            "Model: \"sequential_1\"\n",
            "_________________________________________________________________\n",
            " Layer (type)                Output Shape              Param #   \n",
            "=================================================================\n",
            " embedding_1 (Embedding)     (None, 2123, 768)         9149184   \n",
            "                                                                 \n",
            " bidirectional_1 (Bidirecti  (None, 512)               2099200   \n",
            " onal)                                                           \n",
            "                                                                 \n",
            " dense_1 (Dense)             (None, 1)                 513       \n",
            "                                                                 \n",
            "=================================================================\n",
            "Total params: 11248897 (42.91 MB)\n",
            "Trainable params: 11248897 (42.91 MB)\n",
            "Non-trainable params: 0 (0.00 Byte)\n",
            "_________________________________________________________________\n",
            "Epoch 1/10\n",
            "88/88 [==============================] - 64s 675ms/step - loss: 0.5934 - accuracy: 0.6852 - val_loss: 0.5388 - val_accuracy: 0.7314\n",
            "Epoch 2/10\n",
            "88/88 [==============================] - 58s 655ms/step - loss: 0.4453 - accuracy: 0.8036 - val_loss: 0.5772 - val_accuracy: 0.7000\n",
            "Epoch 3/10\n",
            "88/88 [==============================] - 58s 664ms/step - loss: 0.3960 - accuracy: 0.8305 - val_loss: 0.4946 - val_accuracy: 0.7893\n",
            "Epoch 4/10\n",
            "88/88 [==============================] - 58s 661ms/step - loss: 0.3360 - accuracy: 0.8634 - val_loss: 0.5088 - val_accuracy: 0.7521\n",
            "Epoch 5/10\n",
            "88/88 [==============================] - 58s 663ms/step - loss: 0.4675 - accuracy: 0.7836 - val_loss: 0.5521 - val_accuracy: 0.7629\n",
            "Epoch 6/10\n",
            "88/88 [==============================] - 59s 669ms/step - loss: 0.3001 - accuracy: 0.8830 - val_loss: 0.5057 - val_accuracy: 0.7807\n",
            "Epoch 7/10\n",
            "88/88 [==============================] - 59s 675ms/step - loss: 0.2310 - accuracy: 0.9145 - val_loss: 0.5586 - val_accuracy: 0.7750\n",
            "Epoch 8/10\n",
            "88/88 [==============================] - 59s 672ms/step - loss: 0.1769 - accuracy: 0.9371 - val_loss: 0.6472 - val_accuracy: 0.7607\n",
            "Epoch 9/10\n",
            "88/88 [==============================] - 59s 673ms/step - loss: 0.1504 - accuracy: 0.9498 - val_loss: 0.6493 - val_accuracy: 0.7664\n",
            "Epoch 10/10\n",
            "88/88 [==============================] - 60s 677ms/step - loss: 0.1490 - accuracy: 0.9516 - val_loss: 0.6784 - val_accuracy: 0.7714\n"
          ]
        },
        {
          "data": {
            "text/plain": [
              "<keras.src.callbacks.History at 0x7dc2c00e35b0>"
            ]
          },
          "execution_count": 30,
          "metadata": {},
          "output_type": "execute_result"
        }
      ],
      "source": [
        "# Define model\n",
        "model = Sequential([\n",
        "    Embedding(input_dim=vocab_size, output_dim=768, input_length=2123),\n",
        "    Bidirectional(LSTM(256)),\n",
        "    Dense(1, activation='sigmoid')\n",
        "])\n",
        "\n",
        "# Compile model\n",
        "model.compile(optimizer='adam',\n",
        "              loss='binary_crossentropy',\n",
        "              metrics=['accuracy'])\n",
        "\n",
        "# Summary of the model\n",
        "model.summary()\n",
        "\n",
        "# Assuming X_train and y_train are your data prepared as sequences and labels respectively\n",
        "# Train the model\n",
        "model.fit(X_train, y_train, batch_size=64, epochs=10, validation_split=0.2)"
      ]
    },
    {
      "cell_type": "code",
      "execution_count": null,
      "metadata": {
        "colab": {
          "base_uri": "https://localhost:8080/"
        },
        "id": "iY00vdHs9ydY",
        "outputId": "9cd85bec-cfe7-4605-bae4-fd20fdb69cee"
      },
      "outputs": [
        {
          "name": "stdout",
          "output_type": "stream",
          "text": [
            "Model: \"sequential_14\"\n",
            "_________________________________________________________________\n",
            " Layer (type)                Output Shape              Param #   \n",
            "=================================================================\n",
            " embedding_14 (Embedding)    (None, 43, 100)           598300    \n",
            "                                                                 \n",
            " bidirectional_14 (Bidirect  (None, 2)                 816       \n",
            " ional)                                                          \n",
            "                                                                 \n",
            " dense_14 (Dense)            (None, 1)                 3         \n",
            "                                                                 \n",
            "=================================================================\n",
            "Total params: 599119 (2.29 MB)\n",
            "Trainable params: 599119 (2.29 MB)\n",
            "Non-trainable params: 0 (0.00 Byte)\n",
            "_________________________________________________________________\n",
            "Epoch 1/10\n",
            "171/171 [==============================] - 16s 52ms/step - loss: 0.6581 - accuracy: 0.6341 - val_loss: 0.5584 - val_accuracy: 0.7449\n",
            "Epoch 2/10\n",
            "171/171 [==============================] - 4s 23ms/step - loss: 0.5418 - accuracy: 0.7244 - val_loss: 0.5205 - val_accuracy: 0.7463\n",
            "Epoch 3/10\n",
            "171/171 [==============================] - 2s 13ms/step - loss: 0.4908 - accuracy: 0.7417 - val_loss: 0.5023 - val_accuracy: 0.7478\n",
            "Epoch 4/10\n",
            "171/171 [==============================] - 2s 11ms/step - loss: 0.4368 - accuracy: 0.7591 - val_loss: 0.4865 - val_accuracy: 0.7719\n",
            "Epoch 5/10\n",
            "171/171 [==============================] - 2s 10ms/step - loss: 0.3925 - accuracy: 0.8419 - val_loss: 0.4804 - val_accuracy: 0.7917\n",
            "Epoch 6/10\n",
            "171/171 [==============================] - 2s 9ms/step - loss: 0.3526 - accuracy: 0.8806 - val_loss: 0.4785 - val_accuracy: 0.7851\n",
            "Epoch 7/10\n",
            "171/171 [==============================] - 2s 12ms/step - loss: 0.3215 - accuracy: 0.8995 - val_loss: 0.4810 - val_accuracy: 0.7734\n",
            "Epoch 8/10\n",
            "171/171 [==============================] - 2s 13ms/step - loss: 0.2955 - accuracy: 0.9150 - val_loss: 0.4898 - val_accuracy: 0.7727\n",
            "Epoch 9/10\n",
            "171/171 [==============================] - 2s 10ms/step - loss: 0.2752 - accuracy: 0.9212 - val_loss: 0.4865 - val_accuracy: 0.7712\n",
            "Epoch 10/10\n",
            "171/171 [==============================] - 2s 11ms/step - loss: 0.2591 - accuracy: 0.9273 - val_loss: 0.4994 - val_accuracy: 0.7697\n"
          ]
        },
        {
          "data": {
            "text/plain": [
              "<keras.src.callbacks.History at 0x7c6560a87070>"
            ]
          },
          "execution_count": 53,
          "metadata": {},
          "output_type": "execute_result"
        }
      ],
      "source": [
        "# Define model\n",
        "model = Sequential([\n",
        "    Embedding(input_dim=vocab_size, output_dim=100, input_length=43),\n",
        "    Bidirectional(LSTM(1)),\n",
        "    Dense(1, activation='sigmoid')\n",
        "])\n",
        "\n",
        "# Compile model\n",
        "model.compile(optimizer='adam',\n",
        "              loss='binary_crossentropy',\n",
        "              metrics=['accuracy'])\n",
        "\n",
        "# Summary of the model\n",
        "model.summary()\n",
        "\n",
        "# Assuming X_train and y_train are your data prepared as sequences and labels respectively\n",
        "# Train the model\n",
        "model.fit(X_train, y_train, batch_size=32, epochs=10, validation_split=0.2)"
      ]
    },
    {
      "cell_type": "code",
      "execution_count": null,
      "metadata": {
        "colab": {
          "base_uri": "https://localhost:8080/"
        },
        "id": "sqAKVy9XqE_n",
        "outputId": "69db1ccd-277d-4aca-e23e-989e22cab367"
      },
      "outputs": [
        {
          "name": "stdout",
          "output_type": "stream",
          "text": [
            "92/92 [==============================] - 18s 164ms/step\n",
            "Accuracy: 0.7529853292391675\n",
            "Precision: 0.7307692307692307\n",
            "Recall: 0.8087837837837838\n",
            "F1 Score: 0.7677998717126363\n",
            "Confusion Matrix:\n",
            " [[1010  441]\n",
            " [ 283 1197]]\n"
          ]
        }
      ],
      "source": [
        "# Assuming X_test is prepared and ready\n",
        "predictions = model.predict(X_test)\n",
        "# Convert probabilities to binary predictions\n",
        "binary_predictions = (predictions > 0.5).astype(int)\n",
        "\n",
        "# Calculate metrics\n",
        "accuracy = accuracy_score(y_test, binary_predictions)\n",
        "precision = precision_score(y_test, binary_predictions)\n",
        "recall = recall_score(y_test, binary_predictions)\n",
        "f1 = f1_score(y_test, binary_predictions)\n",
        "\n",
        "# Print the results\n",
        "print(\"Accuracy:\", accuracy)\n",
        "print(\"Precision:\", precision)\n",
        "print(\"Recall:\", recall)\n",
        "print(\"F1 Score:\", f1)\n",
        "\n",
        "# Confusion Matrix\n",
        "conf_matrix = confusion_matrix(y_test, binary_predictions)\n",
        "print(\"Confusion Matrix:\\n\", conf_matrix)\n"
      ]
    },
    {
      "cell_type": "markdown",
      "metadata": {
        "id": "JFlgIMn1oOBD"
      },
      "source": [
        "## hyperparameter tuning"
      ]
    },
    {
      "cell_type": "code",
      "execution_count": null,
      "metadata": {
        "colab": {
          "base_uri": "https://localhost:8080/"
        },
        "id": "jHKYMnFFyyyJ",
        "outputId": "d3154df4-adfa-49d6-d448-222337fd0532"
      },
      "outputs": [
        {
          "name": "stdout",
          "output_type": "stream",
          "text": [
            "Trial 10 Complete [00h 01m 24s]\n",
            "val_accuracy: 0.7997075915336609\n",
            "\n",
            "Best val_accuracy So Far: 0.8011695742607117\n",
            "Total elapsed time: 00h 15m 28s\n"
          ]
        }
      ],
      "source": [
        "def build_model(hp):\n",
        "    model = Sequential()\n",
        "    model.add(Embedding(input_dim=vocab_size, output_dim=hp.Int('embedding_dim', min_value=32, max_value=512, step=32), input_length=43))\n",
        "    model.add(Bidirectional(LSTM(units=hp.Int('units', min_value=32, max_value=512, step=32), dropout=hp.Float('dropout', 0, 0.5, step=0.1))))\n",
        "    model.add(Dense(1, activation='sigmoid'))\n",
        "    model.compile(optimizer=Adam(hp.Float('learning_rate', 1e-4, 1e-2, sampling='LOG')),\n",
        "                  loss='binary_crossentropy',\n",
        "                  metrics=['accuracy'])\n",
        "    return model\n",
        "\n",
        "tuner = kt.RandomSearch(\n",
        "    build_model,\n",
        "    objective='val_accuracy',\n",
        "    max_trials=10,\n",
        "    executions_per_trial=3,\n",
        "    directory='results',\n",
        "    project_name='RNN_hlt')\n",
        "\n",
        "tuner.search(X_train, y_train, epochs=5, validation_split=0.2)"
      ]
    },
    {
      "cell_type": "code",
      "execution_count": null,
      "metadata": {
        "id": "VXrmYFTtxbJ_"
      },
      "outputs": [],
      "source": [
        "best_model = tuner.get_best_models(num_models=1)[0]"
      ]
    },
    {
      "cell_type": "code",
      "execution_count": null,
      "metadata": {
        "colab": {
          "base_uri": "https://localhost:8080/"
        },
        "id": "4SVodVQa3VPG",
        "outputId": "77573d61-c741-4108-c433-50793fefee12"
      },
      "outputs": [
        {
          "name": "stdout",
          "output_type": "stream",
          "text": [
            "Trial ID: 06\n",
            "Score: 0.8011695742607117\n",
            "Hyperparameters: {'embedding_dim': 224, 'units': 192, 'dropout': 0.30000000000000004, 'learning_rate': 0.003814120220610665}\n"
          ]
        }
      ],
      "source": [
        "trials = tuner.oracle.get_best_trials()\n",
        "for trial in trials:\n",
        "    print('Trial ID:', trial.trial_id)\n",
        "    print('Score:', trial.score)\n",
        "    print('Hyperparameters:', trial.hyperparameters.values)\n"
      ]
    },
    {
      "cell_type": "code",
      "execution_count": null,
      "metadata": {
        "colab": {
          "base_uri": "https://localhost:8080/"
        },
        "id": "iHQ3s12o3Y4g",
        "outputId": "e62908e0-b8b2-4388-bcbb-b32bf92211bc"
      },
      "outputs": [
        {
          "name": "stdout",
          "output_type": "stream",
          "text": [
            "92/92 [==============================] - 2s 6ms/step\n",
            "Accuracy: 0.7809621289662231\n",
            "Precision: 0.7648546144121365\n",
            "Recall: 0.8175675675675675\n",
            "F1 Score: 0.7903331156107121\n",
            "Confusion Matrix:\n",
            " [[1079  372]\n",
            " [ 270 1210]]\n"
          ]
        }
      ],
      "source": [
        "# Assuming X_test is prepared and ready\n",
        "predictions = best_model.predict(X_test)\n",
        "# Convert probabilities to binary predictions\n",
        "binary_predictions = (predictions > 0.5).astype(int)\n",
        "\n",
        "# Calculate metrics\n",
        "accuracy = accuracy_score(y_test, binary_predictions)\n",
        "precision = precision_score(y_test, binary_predictions)\n",
        "recall = recall_score(y_test, binary_predictions)\n",
        "f1 = f1_score(y_test, binary_predictions)\n",
        "\n",
        "# Print the results\n",
        "print(\"Accuracy:\", accuracy)\n",
        "print(\"Precision:\", precision)\n",
        "print(\"Recall:\", recall)\n",
        "print(\"F1 Score:\", f1)\n",
        "\n",
        "# Confusion Matrix\n",
        "conf_matrix = confusion_matrix(y_test, binary_predictions)\n",
        "print(\"Confusion Matrix:\\n\", conf_matrix)\n"
      ]
    },
    {
      "cell_type": "markdown",
      "metadata": {
        "id": "G7YYoBxQoFcn"
      },
      "source": [
        "## adding an attention layer"
      ]
    },
    {
      "cell_type": "code",
      "execution_count": 50,
      "metadata": {
        "id": "7zdvpOiw5DCs"
      },
      "outputs": [],
      "source": [
        "class AttentionLayer(Layer):\n",
        "    def __init__(self, **kwargs):\n",
        "        super(AttentionLayer, self).__init__(**kwargs)\n",
        "\n",
        "    def build(self, input_shape):\n",
        "        self.W = self.add_weight(name=\"att_weight\", shape=(input_shape[-1], 1),\n",
        "                                 initializer=\"orthogonal\")\n",
        "        self.b = self.add_weight(name=\"att_bias\", shape=(input_shape[1], 1),\n",
        "                                 initializer=\"zeros\")\n",
        "        super(AttentionLayer, self).build(input_shape)\n",
        "\n",
        "    def call(self, inputs):\n",
        "        # Applying a simple attention mechanism\n",
        "        e = tf.nn.tanh(tf.tensordot(inputs, self.W, axes=1) + self.b)\n",
        "        a = tf.nn.softmax(e, axis=1)\n",
        "        output = inputs * a\n",
        "        return tf.reduce_sum(output, axis=1)\n",
        "\n",
        "    def get_config(self):\n",
        "        return super(AttentionLayer, self).get_config()\n"
      ]
    },
    {
      "cell_type": "code",
      "execution_count": null,
      "metadata": {
        "colab": {
          "base_uri": "https://localhost:8080/"
        },
        "id": "JHgwhrue5ZZn",
        "outputId": "421e2756-b725-4cd4-941f-430cb63a6523"
      },
      "outputs": [
        {
          "name": "stdout",
          "output_type": "stream",
          "text": [
            "Model: \"sequential_5\"\n",
            "_________________________________________________________________\n",
            " Layer (type)                Output Shape              Param #   \n",
            "=================================================================\n",
            " embedding_5 (Embedding)     (None, 2123, 512)         6099456   \n",
            "                                                                 \n",
            " bidirectional_5 (Bidirecti  (None, 2123, 64)          139520    \n",
            " onal)                                                           \n",
            "                                                                 \n",
            " batch_normalization_2 (Bat  (None, 2123, 64)          256       \n",
            " chNormalization)                                                \n",
            "                                                                 \n",
            " attention_layer_3 (Attenti  (None, 64)                2187      \n",
            " onLayer)                                                        \n",
            "                                                                 \n",
            " dense_5 (Dense)             (None, 1)                 65        \n",
            "                                                                 \n",
            "=================================================================\n",
            "Total params: 6241484 (23.81 MB)\n",
            "Trainable params: 6241356 (23.81 MB)\n",
            "Non-trainable params: 128 (512.00 Byte)\n",
            "_________________________________________________________________\n"
          ]
        }
      ],
      "source": [
        "# Model parameters\n",
        "embedding_dim = 512 # Dimension of embedding space\n",
        "lstm_units = 32     # Number of units in LSTM layer\n",
        "\n",
        "# Define the model\n",
        "model = Sequential([\n",
        "    Embedding(input_dim=vocab_size, output_dim=embedding_dim, input_length=2123),\n",
        "    Bidirectional(LSTM(lstm_units, dropout=0.3, return_sequences=True)),  # Ensure return_sequences is True for attention\n",
        "    BatchNormalization(),\n",
        "    AttentionLayer(),\n",
        "    Dense(1, activation='sigmoid')\n",
        "])\n",
        "\n",
        "# Compile the model\n",
        "model.compile(optimizer='adam', loss='binary_crossentropy', metrics=['accuracy'])\n",
        "\n",
        "# Model summary\n",
        "model.summary()\n"
      ]
    },
    {
      "cell_type": "code",
      "execution_count": null,
      "metadata": {
        "colab": {
          "base_uri": "https://localhost:8080/"
        },
        "id": "_XTZRNZG5ax7",
        "outputId": "1c3b2e80-9139-4937-ac9a-4321515c1183"
      },
      "outputs": [
        {
          "name": "stdout",
          "output_type": "stream",
          "text": [
            "Epoch 1/10\n",
            "90/90 [==============================] - 18s 169ms/step - loss: 0.1352 - accuracy: 0.9466 - val_loss: 0.2393 - val_accuracy: 0.8954\n",
            "Epoch 2/10\n",
            "90/90 [==============================] - 14s 158ms/step - loss: 0.0879 - accuracy: 0.9669 - val_loss: 0.2788 - val_accuracy: 0.8633\n",
            "Epoch 3/10\n",
            "90/90 [==============================] - 16s 179ms/step - loss: 0.0625 - accuracy: 0.9770 - val_loss: 0.2899 - val_accuracy: 0.8884\n",
            "Epoch 4/10\n",
            "90/90 [==============================] - 14s 152ms/step - loss: 0.0475 - accuracy: 0.9854 - val_loss: 0.2185 - val_accuracy: 0.9163\n",
            "Epoch 5/10\n",
            "90/90 [==============================] - 14s 153ms/step - loss: 0.0367 - accuracy: 0.9885 - val_loss: 0.2366 - val_accuracy: 0.9107\n",
            "Epoch 6/10\n",
            "90/90 [==============================] - 14s 153ms/step - loss: 0.0253 - accuracy: 0.9923 - val_loss: 0.2710 - val_accuracy: 0.9066\n",
            "Epoch 7/10\n",
            "90/90 [==============================] - 14s 153ms/step - loss: 0.0287 - accuracy: 0.9906 - val_loss: 0.4398 - val_accuracy: 0.8870\n",
            "Epoch 8/10\n",
            "90/90 [==============================] - 13s 149ms/step - loss: 0.0290 - accuracy: 0.9916 - val_loss: 0.4028 - val_accuracy: 0.9010\n",
            "Epoch 9/10\n",
            "90/90 [==============================] - ETA: 0s - loss: 0.0152 - accuracy: 0.9958Restoring model weights from the end of the best epoch: 4.\n",
            "90/90 [==============================] - 14s 155ms/step - loss: 0.0152 - accuracy: 0.9958 - val_loss: 0.4500 - val_accuracy: 0.8954\n",
            "Epoch 9: early stopping\n"
          ]
        }
      ],
      "source": [
        "X_train, X_val, y_train, y_val = train_test_split(X_train, y_train, test_size=0.2, random_state=42)\n",
        "\n",
        "early_stopping = EarlyStopping(\n",
        "    monitor='val_loss',    # Metric to monitor\n",
        "    min_delta=0.001,       # Minimum change to qualify as an improvement\n",
        "    patience=5,            # Number of epochs to wait for improvement\n",
        "    verbose=1,             # Output messages\n",
        "    mode='min',            # Stops training when the quantity monitored stops decreasing\n",
        "    restore_best_weights=True  # Restores model weights from the epoch with the best value of the monitored quantity\n",
        ")\n",
        "\n",
        "# Train the model with the EarlyStopping callback\n",
        "history = model.fit(\n",
        "    X_train, y_train,\n",
        "    validation_data=(X_val, y_val),\n",
        "    epochs=10,\n",
        "    callbacks=[early_stopping]\n",
        ")\n"
      ]
    },
    {
      "cell_type": "code",
      "execution_count": null,
      "metadata": {
        "colab": {
          "background_save": true
        },
        "id": "f5Kzi73YhfSI",
        "outputId": "caa42c96-0f6f-4b94-9167-533a7aad66ba"
      },
      "outputs": [
        {
          "data": {
            "image/png": "[encoded data removed]",
            "text/plain": [
              "<Figure size 640x480 with 1 Axes>"
            ]
          },
          "metadata": {},
          "output_type": "display_data"
        },
        {
          "data": {
            "image/png": "[encoded data removed]",
            "text/plain": [
              "<Figure size 640x480 with 1 Axes>"
            ]
          },
          "metadata": {},
          "output_type": "display_data"
        }
      ],
      "source": [
        "plt.plot(history.history['loss'], label='Training Loss')\n",
        "plt.plot(history.history['val_loss'], label='Validation Loss')\n",
        "plt.title('Model Loss')\n",
        "plt.ylabel('Loss')\n",
        "plt.xlabel('Epoch')\n",
        "plt.legend(loc='upper left')\n",
        "plt.show()\n",
        "plt.plot(history.history['accuracy'], label='Training Accuracy')\n",
        "plt.plot(history.history['val_accuracy'], label='Validation Accuracy')\n",
        "plt.title('Model Accuracy')\n",
        "plt.ylabel('Accuracy')\n",
        "plt.xlabel('Epoch')\n",
        "plt.legend(loc='upper left')\n",
        "plt.show()"
      ]
    },
    {
      "cell_type": "code",
      "execution_count": null,
      "metadata": {
        "colab": {
          "base_uri": "https://localhost:8080/"
        },
        "id": "Es99wxqy5wBX",
        "outputId": "2d7da8d1-2c55-4a8f-d8df-31727b9ad971"
      },
      "outputs": [
        {
          "name": "stdout",
          "output_type": "stream",
          "text": [
            "94/94 [==============================] - 10s 78ms/step\n",
            "Accuracy: 0.8123333333333334\n",
            "Precision: 0.8040233614536015\n",
            "Recall: 0.826\n",
            "F1 Score: 0.8148635317329825\n",
            "Confusion Matrix:\n",
            " [[1198  302]\n",
            " [ 261 1239]]\n"
          ]
        }
      ],
      "source": [
        "predictions = model.predict(X_test)\n",
        "binary_predictions = (predictions > 0.5).astype(int)\n",
        "\n",
        "# Calculate metrics\n",
        "accuracy = accuracy_score(y_test, binary_predictions)\n",
        "precision = precision_score(y_test, binary_predictions)\n",
        "recall = recall_score(y_test, binary_predictions)\n",
        "f1 = f1_score(y_test, binary_predictions)\n",
        "\n",
        "# Print the results\n",
        "print(\"Accuracy:\", accuracy)\n",
        "print(\"Precision:\", precision)\n",
        "print(\"Recall:\", recall)\n",
        "print(\"F1 Score:\", f1)\n",
        "\n",
        "# Confusion Matrix\n",
        "conf_matrix = confusion_matrix(y_test, binary_predictions)\n",
        "print(\"Confusion Matrix:\\n\", conf_matrix)\n"
      ]
    },
    {
      "cell_type": "code",
      "execution_count": null,
      "metadata": {
        "id": "BWDGf_CrhXqf"
      },
      "outputs": [],
      "source": [
        "def build_model(hp):\n",
        "    model = Sequential([\n",
        "        Embedding(input_dim=vocab_size, output_dim=512, input_length=2123),\n",
        "        Bidirectional(LSTM(units=hp.Int('units', min_value=32, max_value=512, step=32),\n",
        "                           dropout=hp.Float('dropout', min_value=0.1, max_value=0.5, step=0.1),\n",
        "                           return_sequences=True)),\n",
        "        BatchNormalization(),\n",
        "        AttentionLayer(),\n",
        "        Dense(1, activation='sigmoid')\n",
        "    ])\n",
        "\n",
        "    optimizer = Adam(\n",
        "        learning_rate=hp.Float('learning_rate', min_value=1e-4, max_value=1e-2, sampling='LOG'),\n",
        "        beta_1=hp.Float('beta_1', min_value=0.85, max_value=0.95, step=0.01),\n",
        "        beta_2=hp.Float('beta_2', min_value=0.990, max_value=0.999, step=0.001),\n",
        "        epsilon=hp.Float('epsilon', min_value=1e-8, max_value=1e-6, sampling='LOG')\n",
        "    )\n",
        "    model.compile(optimizer=optimizer,\n",
        "                  loss='binary_crossentropy',\n",
        "                  metrics=['accuracy'])\n",
        "    return model\n",
        "\n",
        "tuner = kt.Hyperband(\n",
        "    build_model,\n",
        "    objective='val_accuracy',\n",
        "    max_epochs=50,\n",
        "    directory='my_dir',\n",
        "    project_name='intro_to_kt_optimizer_tuning'\n",
        ")\n",
        "\n",
        "stop_early = tf.keras.callbacks.EarlyStopping(monitor='val_loss', patience=5)\n",
        "tuner.search(X_train, y_train, epochs=50, validation_split=0.2, callbacks=[stop_early])\n",
        "best_hps = tuner.get_best_hyperparameters(num_trials=1)[0]\n",
        "\n",
        "print(f\"\"\"\n",
        "Optimal number of units: {best_hps.get('units')}\n",
        "Optimal dropout rate: {best_hps.get('dropout')}\n",
        "Optimal learning rate: {best_hps.get('learning_rate')}\n",
        "Optimal beta_1: {best_hps.get('beta_1')}\n",
        "Optimal beta_2: {best_hps.get('beta_2')}\n",
        "Optimal epsilon: {best_hps.get('epsilon')}\n",
        "\"\"\")\n"
      ]
    },
    {
      "cell_type": "code",
      "source": [
        "model = tuner.hypermodel.build(best_hps)\n",
        "model.fit(X_train, y_train, epochs=50, validation_split=0.2)\n",
        "\n",
        "predictions = model.predict(X_test)\n",
        "binary_predictions = (predictions > 0.5).astype(int)\n",
        "\n",
        "# Calculate metrics\n",
        "accuracy = accuracy_score(y_test, binary_predictions)\n",
        "precision = precision_score(y_test, binary_predictions)\n",
        "recall = recall_score(y_test, binary_predictions)\n",
        "f1 = f1_score(y_test, binary_predictions)\n",
        "\n",
        "# Print the results\n",
        "print(\"Accuracy:\", accuracy)\n",
        "print(\"Precision:\", precision)\n",
        "print(\"Recall:\", recall)\n",
        "print(\"F1 Score:\", f1)\n",
        "\n",
        "# Confusion Matrix\n",
        "conf_matrix = confusion_matrix(y_test, binary_predictions)\n",
        "print(\"Confusion Matrix:\\n\", conf_matrix)"
      ],
      "metadata": {
        "id": "9BM4xwAnoauy"
      },
      "execution_count": null,
      "outputs": []
    },
    {
      "cell_type": "markdown",
      "source": [
        "## Multi-class classification"
      ],
      "metadata": {
        "id": "fmW05pW3snmq"
      }
    },
    {
      "cell_type": "code",
      "source": [
        "df = pd.read_csv('/content/drive/MyDrive/datasets/recipes_80k_cleaned.csv')"
      ],
      "metadata": {
        "id": "BoH7mEKIsryr"
      },
      "execution_count": 7,
      "outputs": []
    },
    {
      "cell_type": "code",
      "source": [
        "df.keys()"
      ],
      "metadata": {
        "colab": {
          "base_uri": "https://localhost:8080/"
        },
        "id": "qnX0CNGxszqL",
        "outputId": "a0b6b92f-8839-44be-d316-110e91c07a2e"
      },
      "execution_count": 9,
      "outputs": [
        {
          "output_type": "execute_result",
          "data": {
            "text/plain": [
              "Index(['Unnamed: 0', 'cooking_method', 'ingredients', 'recipe_name', 'tags',\n",
              "       'Vegetarian&Desserts', 'Vegetarian', 'Dairy Free', 'Gluten Free',\n",
              "       'Low Carb', 'Low Fat', 'Low Sodium'],\n",
              "      dtype='object')"
            ]
          },
          "metadata": {},
          "execution_count": 9
        }
      ]
    },
    {
      "cell_type": "code",
      "source": [
        "df = df.drop(columns=['Unnamed: 0'])"
      ],
      "metadata": {
        "id": "qDyd-bKgs578"
      },
      "execution_count": 12,
      "outputs": []
    },
    {
      "cell_type": "code",
      "source": [
        "df.keys()"
      ],
      "metadata": {
        "colab": {
          "base_uri": "https://localhost:8080/"
        },
        "id": "y0Ak3emmta7N",
        "outputId": "84c9da03-cded-41a3-c366-049b85390543"
      },
      "execution_count": 13,
      "outputs": [
        {
          "output_type": "execute_result",
          "data": {
            "text/plain": [
              "Index(['cooking_method', 'ingredients', 'recipe_name', 'tags',\n",
              "       'Vegetarian&Desserts', 'Vegetarian', 'Dairy Free', 'Gluten Free',\n",
              "       'Low Carb', 'Low Fat', 'Low Sodium'],\n",
              "      dtype='object')"
            ]
          },
          "metadata": {},
          "execution_count": 13
        }
      ]
    },
    {
      "cell_type": "code",
      "source": [
        "df = df.drop(columns=['Vegetarian'])"
      ],
      "metadata": {
        "id": "UP-TXKMltncL"
      },
      "execution_count": 14,
      "outputs": []
    },
    {
      "cell_type": "code",
      "source": [
        "df.rename(columns={'Vegetarian&Desserts': 'Veg'}, inplace=True)"
      ],
      "metadata": {
        "id": "XEiS-agJt2Ks"
      },
      "execution_count": 15,
      "outputs": []
    },
    {
      "cell_type": "code",
      "source": [
        "df.keys()"
      ],
      "metadata": {
        "colab": {
          "base_uri": "https://localhost:8080/"
        },
        "id": "pzJ-imq6uMJC",
        "outputId": "cbac2902-2d71-47ea-c1af-2039fa5dc9fa"
      },
      "execution_count": 16,
      "outputs": [
        {
          "output_type": "execute_result",
          "data": {
            "text/plain": [
              "Index(['cooking_method', 'ingredients', 'recipe_name', 'tags', 'Veg',\n",
              "       'Dairy Free', 'Gluten Free', 'Low Carb', 'Low Fat', 'Low Sodium'],\n",
              "      dtype='object')"
            ]
          },
          "metadata": {},
          "execution_count": 16
        }
      ]
    },
    {
      "cell_type": "code",
      "source": [
        "X_train = df[['cooking_method']]\n",
        "y_train = df[['Veg', 'Dairy Free', 'Gluten Free', 'Low Carb', 'Low Fat', 'Low Sodium']]"
      ],
      "metadata": {
        "id": "pqrqYyqOuQJW"
      },
      "execution_count": 53,
      "outputs": []
    },
    {
      "cell_type": "code",
      "source": [
        "X_train_list = X_train['cooking_method'].astype(str).tolist()"
      ],
      "metadata": {
        "id": "bz-wPZxZwAOt"
      },
      "execution_count": 54,
      "outputs": []
    },
    {
      "cell_type": "code",
      "execution_count": 55,
      "metadata": {
        "id": "tinyR3F5vBHh"
      },
      "outputs": [],
      "source": [
        "tokenizer = Tokenizer()\n",
        "tokenizer.fit_on_texts(X_train_list)  # Fit the tokenizer on the texts\n",
        "\n",
        "sequences = tokenizer.texts_to_sequences(X_train_list)"
      ]
    },
    {
      "cell_type": "code",
      "source": [
        "len(sequences)"
      ],
      "metadata": {
        "colab": {
          "base_uri": "https://localhost:8080/"
        },
        "id": "q012u9NsvMIB",
        "outputId": "f3677d20-f888-4e88-8bb0-072825cb2dee"
      },
      "execution_count": 56,
      "outputs": [
        {
          "output_type": "execute_result",
          "data": {
            "text/plain": [
              "80726"
            ]
          },
          "metadata": {},
          "execution_count": 56
        }
      ]
    },
    {
      "cell_type": "code",
      "execution_count": 57,
      "metadata": {
        "id": "9suR9AIEvBHj"
      },
      "outputs": [],
      "source": [
        "vocab_size = len(tokenizer.word_index) + 1"
      ]
    },
    {
      "cell_type": "code",
      "execution_count": 58,
      "metadata": {
        "id": "szQ1xcgivBHj"
      },
      "outputs": [],
      "source": [
        "max_length = max(len(x) for x in sequences)\n",
        "recipes_sequences = pad_sequences(sequences, maxlen=max_length, padding='post', dtype='float32', value=0.0)  # Post-padding with zeros"
      ]
    },
    {
      "cell_type": "code",
      "execution_count": 59,
      "metadata": {
        "colab": {
          "base_uri": "https://localhost:8080/"
        },
        "outputId": "302a22f1-7fd1-47a0-c21f-47a9bca91685",
        "id": "nRER-mvOvBHk"
      },
      "outputs": [
        {
          "output_type": "execute_result",
          "data": {
            "text/plain": [
              "(80726, 2159)"
            ]
          },
          "metadata": {},
          "execution_count": 59
        }
      ],
      "source": [
        "recipes_sequences.shape"
      ]
    },
    {
      "cell_type": "code",
      "source": [
        "X_sequences = pd.DataFrame(recipes_sequences, index=df.index)"
      ],
      "metadata": {
        "id": "2ojVNi7PxCI5"
      },
      "execution_count": 60,
      "outputs": []
    },
    {
      "cell_type": "code",
      "source": [
        "X_sequences.shape"
      ],
      "metadata": {
        "colab": {
          "base_uri": "https://localhost:8080/"
        },
        "id": "tMIkHEJKxFz7",
        "outputId": "68f879d3-0f21-434b-ee43-1b18f97cfae9"
      },
      "execution_count": 61,
      "outputs": [
        {
          "output_type": "execute_result",
          "data": {
            "text/plain": [
              "(80726, 2159)"
            ]
          },
          "metadata": {},
          "execution_count": 61
        }
      ]
    },
    {
      "cell_type": "code",
      "source": [
        "y_train.shape"
      ],
      "metadata": {
        "colab": {
          "base_uri": "https://localhost:8080/"
        },
        "id": "jEuaVoa7wlX0",
        "outputId": "a6dfc89f-b27d-4bed-93fa-1d20b6f03099"
      },
      "execution_count": 62,
      "outputs": [
        {
          "output_type": "execute_result",
          "data": {
            "text/plain": [
              "(80726, 6)"
            ]
          },
          "metadata": {},
          "execution_count": 62
        }
      ]
    },
    {
      "cell_type": "code",
      "execution_count": 63,
      "metadata": {
        "id": "K47_mVfovBHk"
      },
      "outputs": [],
      "source": [
        "X_train, X_test, y_train, y_test = train_test_split(X_sequences, y_train, test_size=0.3, random_state=42)"
      ]
    },
    {
      "cell_type": "code",
      "source": [
        "embedding_dim = 512  # Dimension of embedding space\n",
        "lstm_units = 32      # Number of units in LSTM layer\n",
        "num_labels = 6      # Example number of labels for multilabel classification\n",
        "\n",
        "model = Sequential([\n",
        "    Embedding(input_dim=vocab_size, output_dim=embedding_dim, input_length=2159),\n",
        "    Bidirectional(LSTM(lstm_units, dropout=0.3, return_sequences=True)),  # Ensure return_sequences is True for attention\n",
        "    BatchNormalization(),\n",
        "    AttentionLayer(),\n",
        "    Dense(num_labels, activation='sigmoid')  # num_labels is the number of output classes\n",
        "])\n",
        "\n",
        "# Compile the model\n",
        "model.compile(optimizer=Adam(), loss='binary_crossentropy', metrics=['accuracy'])\n",
        "\n",
        "# Model summary\n",
        "model.summary()\n"
      ],
      "metadata": {
        "colab": {
          "base_uri": "https://localhost:8080/"
        },
        "id": "HiKHqqMYxMCo",
        "outputId": "6143e412-057d-4443-d71d-cef0a2c2c3b3"
      },
      "execution_count": 64,
      "outputs": [
        {
          "output_type": "stream",
          "name": "stdout",
          "text": [
            "Model: \"sequential_1\"\n",
            "_________________________________________________________________\n",
            " Layer (type)                Output Shape              Param #   \n",
            "=================================================================\n",
            " embedding_1 (Embedding)     (None, 2159, 512)         12442112  \n",
            "                                                                 \n",
            " bidirectional_1 (Bidirecti  (None, 2159, 64)          139520    \n",
            " onal)                                                           \n",
            "                                                                 \n",
            " batch_normalization_1 (Bat  (None, 2159, 64)          256       \n",
            " chNormalization)                                                \n",
            "                                                                 \n",
            " attention_layer_1 (Attenti  (None, 64)                2223      \n",
            " onLayer)                                                        \n",
            "                                                                 \n",
            " dense_1 (Dense)             (None, 6)                 390       \n",
            "                                                                 \n",
            "=================================================================\n",
            "Total params: 12584501 (48.01 MB)\n",
            "Trainable params: 12584373 (48.01 MB)\n",
            "Non-trainable params: 128 (512.00 Byte)\n",
            "_________________________________________________________________\n"
          ]
        }
      ]
    },
    {
      "cell_type": "code",
      "source": [
        "X_train, X_val, y_train, y_val = train_test_split(X_train, y_train, test_size=0.2, random_state=42)\n",
        "\n",
        "early_stopping = EarlyStopping(\n",
        "    monitor='val_loss',    # Metric to monitor\n",
        "    min_delta=0.001,       # Minimum change to qualify as an improvement\n",
        "    patience=5,            # Number of epochs to wait for improvement\n",
        "    verbose=1,             # Output messages\n",
        "    mode='min',            # Stops training when the quantity monitored stops decreasing\n",
        "    restore_best_weights=True  # Restores model weights from the epoch with the best value of the monitored quantity\n",
        ")\n",
        "\n",
        "# Train the model with the EarlyStopping callback\n",
        "history = model.fit(\n",
        "    X_train, y_train,\n",
        "    validation_data=(X_val, y_val),\n",
        "    epochs=10,\n",
        "    callbacks=[early_stopping]\n",
        ")"
      ],
      "metadata": {
        "colab": {
          "base_uri": "https://localhost:8080/"
        },
        "id": "WAyAgrK0yAOF",
        "outputId": "584c28f9-c1bf-417c-9d01-9424b3344286"
      },
      "execution_count": 65,
      "outputs": [
        {
          "output_type": "stream",
          "name": "stdout",
          "text": [
            "Epoch 1/10\n",
            "1413/1413 [==============================] - 256s 174ms/step - loss: 0.2945 - accuracy: 0.5212 - val_loss: 0.2191 - val_accuracy: 0.5910\n",
            "Epoch 2/10\n",
            "1413/1413 [==============================] - 221s 156ms/step - loss: 0.1977 - accuracy: 0.5955 - val_loss: 0.2167 - val_accuracy: 0.6066\n",
            "Epoch 3/10\n",
            "1413/1413 [==============================] - 216s 153ms/step - loss: 0.1682 - accuracy: 0.5888 - val_loss: 0.2130 - val_accuracy: 0.5979\n",
            "Epoch 4/10\n",
            "1413/1413 [==============================] - 216s 152ms/step - loss: 0.1422 - accuracy: 0.5909 - val_loss: 0.2455 - val_accuracy: 0.5588\n",
            "Epoch 5/10\n",
            "1413/1413 [==============================] - 217s 153ms/step - loss: 0.1196 - accuracy: 0.5883 - val_loss: 0.2413 - val_accuracy: 0.5881\n",
            "Epoch 6/10\n",
            "1413/1413 [==============================] - 216s 152ms/step - loss: 0.1006 - accuracy: 0.5902 - val_loss: 0.2615 - val_accuracy: 0.5963\n",
            "Epoch 7/10\n",
            "1413/1413 [==============================] - 216s 153ms/step - loss: 0.0846 - accuracy: 0.5909 - val_loss: 0.2833 - val_accuracy: 0.5462\n",
            "Epoch 8/10\n",
            "1413/1413 [==============================] - ETA: 0s - loss: 0.0719 - accuracy: 0.5908Restoring model weights from the end of the best epoch: 3.\n",
            "1413/1413 [==============================] - 217s 154ms/step - loss: 0.0719 - accuracy: 0.5908 - val_loss: 0.3040 - val_accuracy: 0.5579\n",
            "Epoch 8: early stopping\n"
          ]
        }
      ]
    },
    {
      "cell_type": "code",
      "execution_count": 66,
      "metadata": {
        "colab": {
          "base_uri": "https://localhost:8080/",
          "height": 927
        },
        "outputId": "2dd6129e-8da6-420b-c152-8d686aaa7d40",
        "id": "AFOLxp2p6awa"
      },
      "outputs": [
        {
          "output_type": "display_data",
          "data": {
            "text/plain": [
              "<Figure size 640x480 with 1 Axes>"
            ],
            "image/png": "[encoded data removed]"
          },
          "metadata": {}
        },
        {
          "output_type": "display_data",
          "data": {
            "text/plain": [
              "<Figure size 640x480 with 1 Axes>"
            ],
            "image/png": "[encoded data removed]"
          },
          "metadata": {}
        }
      ],
      "source": [
        "plt.plot(history.history['loss'], label='Training Loss')\n",
        "plt.plot(history.history['val_loss'], label='Validation Loss')\n",
        "plt.title('Model Loss')\n",
        "plt.ylabel('Loss')\n",
        "plt.xlabel('Epoch')\n",
        "plt.legend(loc='upper left')\n",
        "plt.show()\n",
        "plt.plot(history.history['accuracy'], label='Training Accuracy')\n",
        "plt.plot(history.history['val_accuracy'], label='Validation Accuracy')\n",
        "plt.title('Model Accuracy')\n",
        "plt.ylabel('Accuracy')\n",
        "plt.xlabel('Epoch')\n",
        "plt.legend(loc='upper left')\n",
        "plt.show()"
      ]
    },
    {
      "cell_type": "code",
      "execution_count": 68,
      "metadata": {
        "colab": {
          "base_uri": "https://localhost:8080/"
        },
        "outputId": "15f71a3c-e0f5-47bd-c3ea-5c2ec6d42836",
        "id": "ysyk7CiX6awb"
      },
      "outputs": [
        {
          "output_type": "stream",
          "name": "stdout",
          "text": [
            "757/757 [==============================] - 44s 57ms/step\n",
            "Accuracy: 0.6304814600710216\n",
            "Precision (macro): 0.7042646440591932\n",
            "Recall (macro): 0.5164746962078451\n",
            "F1 Score (macro): 0.5613521263051129\n",
            "Confusion Matrix for label Veg:\n",
            "[[13829  2241]\n",
            " [ 1206  6942]]\n",
            "\n",
            "Confusion Matrix for label Dairy Free:\n",
            "[[24060    25]\n",
            " [  114    19]]\n",
            "\n",
            "Confusion Matrix for label Gluten Free:\n",
            "[[12008  1598]\n",
            " [  610 10002]]\n",
            "\n",
            "Confusion Matrix for label Low Carb:\n",
            "[[22914   134]\n",
            " [  891   279]]\n",
            "\n",
            "Confusion Matrix for label Low Fat:\n",
            "[[21340   197]\n",
            " [ 1841   840]]\n",
            "\n",
            "Confusion Matrix for label Low Sodium:\n",
            "[[18470  1236]\n",
            " [ 1761  2751]]\n",
            "\n",
            "Average Confusion Matrix:\n",
            " [[18770.16666667   905.16666667]\n",
            " [ 1070.5         3472.16666667]]\n"
          ]
        }
      ],
      "source": [
        "# Predictions\n",
        "predictions = model.predict(X_test)\n",
        "binary_predictions = (predictions > 0.5).astype(int)\n",
        "\n",
        "# Calculate metrics for multi-label classification\n",
        "accuracy = accuracy_score(y_test, binary_predictions)\n",
        "precision = precision_score(y_test, binary_predictions, average='macro')\n",
        "recall = recall_score(y_test, binary_predictions, average='macro')\n",
        "f1 = f1_score(y_test, binary_predictions, average='macro')\n",
        "\n",
        "# Print the results\n",
        "print(\"Accuracy:\", accuracy)\n",
        "print(\"Precision (macro):\", precision)\n",
        "print(\"Recall (macro):\", recall)\n",
        "print(\"F1 Score (macro):\", f1)\n",
        "\n",
        "# Confusion Matrix for each label\n",
        "conf_matrices = []\n",
        "for i in range(y_test.shape[1]):\n",
        "    conf_matrix = confusion_matrix(y_test.iloc[:, i], binary_predictions[:, i])\n",
        "    conf_matrices.append(conf_matrix)\n",
        "    print(f\"Confusion Matrix for label {y_test.columns[i]}:\\n{conf_matrix}\\n\")\n",
        "\n",
        "# Optionally, calculate average confusion matrix\n",
        "avg_conf_matrix = np.mean(conf_matrices, axis=0)\n",
        "print(\"Average Confusion Matrix:\\n\", avg_conf_matrix)"
      ]
    },
    {
      "cell_type": "code",
      "source": [
        "# Predictions\n",
        "predictions = model.predict(X_test)\n",
        "binary_predictions = (predictions > 0.5).astype(int)\n",
        "\n",
        "# Calculate metrics for multi-label classification\n",
        "accuracy = accuracy_score(y_test, binary_predictions)\n",
        "precision = precision_score(y_test, binary_predictions, average='micro')\n",
        "recall = recall_score(y_test, binary_predictions, average='micro')\n",
        "f1 = f1_score(y_test, binary_predictions, average='micro')\n",
        "\n",
        "# Print the results\n",
        "print(\"Accuracy:\", accuracy)\n",
        "print(\"Precision (micro):\", precision)\n",
        "print(\"Recall (micro):\", recall)\n",
        "print(\"F1 Score (micro):\", f1)\n",
        "\n",
        "# Confusion Matrix for each label\n",
        "conf_matrices = []\n",
        "for i in range(y_test.shape[1]):\n",
        "    conf_matrix = confusion_matrix(y_test.iloc[:, i], binary_predictions[:, i])\n",
        "    conf_matrices.append(conf_matrix)\n",
        "    print(f\"Confusion Matrix for label {y_test.columns[i]}:\\n{conf_matrix}\\n\")\n",
        "\n",
        "# Optionally, calculate average confusion matrix\n",
        "avg_conf_matrix = np.mean(conf_matrices, axis=0)\n",
        "print(\"Average Confusion Matrix:\\n\", avg_conf_matrix)"
      ],
      "metadata": {
        "colab": {
          "base_uri": "https://localhost:8080/"
        },
        "id": "T31i-gTPyIb7",
        "outputId": "2e622049-f757-4eeb-f2dd-734e31d5f042"
      },
      "execution_count": 69,
      "outputs": [
        {
          "output_type": "stream",
          "name": "stdout",
          "text": [
            "757/757 [==============================] - 46s 60ms/step\n",
            "Accuracy: 0.6304814600710216\n",
            "Precision (micro): 0.793215047212915\n",
            "Recall (micro): 0.7643454652186674\n",
            "F1 Score (micro): 0.7785127055306427\n",
            "Confusion Matrix for label Veg:\n",
            "[[13829  2241]\n",
            " [ 1206  6942]]\n",
            "\n",
            "Confusion Matrix for label Dairy Free:\n",
            "[[24060    25]\n",
            " [  114    19]]\n",
            "\n",
            "Confusion Matrix for label Gluten Free:\n",
            "[[12008  1598]\n",
            " [  610 10002]]\n",
            "\n",
            "Confusion Matrix for label Low Carb:\n",
            "[[22914   134]\n",
            " [  891   279]]\n",
            "\n",
            "Confusion Matrix for label Low Fat:\n",
            "[[21340   197]\n",
            " [ 1841   840]]\n",
            "\n",
            "Confusion Matrix for label Low Sodium:\n",
            "[[18470  1236]\n",
            " [ 1761  2751]]\n",
            "\n",
            "Average Confusion Matrix:\n",
            " [[18770.16666667   905.16666667]\n",
            " [ 1070.5         3472.16666667]]\n"
          ]
        }
      ]
    },
    {
      "cell_type": "code",
      "source": [],
      "metadata": {
        "id": "p6Ap1PEl96Rm"
      },
      "execution_count": null,
      "outputs": []
    }
  ],
  "metadata": {
    "accelerator": "GPU",
    "colab": {
      "gpuType": "T4",
      "provenance": [],
      "authorship_tag": "ABX9TyNU2pdM0qba6Huk6lU7uzO2",
      "include_colab_link": true
    },
    "kernelspec": {
      "display_name": "Python 3",
      "name": "python3"
    },
    "language_info": {
      "name": "python"
    }
  },
  "nbformat": 4,
  "nbformat_minor": 0
}