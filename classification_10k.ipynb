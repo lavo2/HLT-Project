{
 "cells": [
  {
   "cell_type": "markdown",
   "metadata": {},
   "source": [
    "# Import"
   ]
  },
  {
   "cell_type": "code",
   "execution_count": 1,
   "metadata": {},
   "outputs": [
    {
     "name": "stderr",
     "output_type": "stream",
     "text": [
      "/Users/nicolapitzalis/anaconda3/envs/hlt/lib/python3.9/site-packages/tqdm/auto.py:21: TqdmWarning: IProgress not found. Please update jupyter and ipywidgets. See https://ipywidgets.readthedocs.io/en/stable/user_install.html\n",
      "  from .autonotebook import tqdm as notebook_tqdm\n"
     ]
    }
   ],
   "source": [
    "from tqdm.auto import tqdm\n",
    "import seaborn as sns\n",
    "\n",
    "import numpy as np\n",
    "import pandas as pd\n",
    "import matplotlib.pyplot as plt\n",
    "\n",
    "from sklearn.tree import export_text\n",
    "from sklearn.ensemble import RandomForestClassifier \n",
    "from sklearn.model_selection import train_test_split, GridSearchCV\n",
    "from sklearn.metrics import accuracy_score, confusion_matrix, classification_report\n",
    "from sklearn.neural_network import BernoulliRBM, MLPClassifier\n",
    "from sklearn.pipeline import Pipeline\n",
    "from sklearn.linear_model import LogisticRegression\n",
    "from sklearn.svm import SVC"
   ]
  },
  {
   "cell_type": "markdown",
   "metadata": {},
   "source": [
    "# Load"
   ]
  },
  {
   "cell_type": "code",
   "execution_count": 32,
   "metadata": {},
   "outputs": [],
   "source": [
    "PATH_DATA = '/Users/nicolapitzalis/Documents/uni-ai/HLT/HLT-Project/dataset/ingredients_list_10k.csv'\n",
    "PATH_LABELS = '/Users/nicolapitzalis/Documents/uni-ai/HLT/HLT-Project/dataset/labels_10k.csv'\n",
    "PATH_VOCABULARY = '/Users/nicolapitzalis/Documents/uni-ai/HLT/HLT-Project/dataset/ingredients_v_10k.csv'\n",
    "PATH_RECIPES = '/Users/nicolapitzalis/Documents/uni-ai/HLT/HLT-Project/dataset/recipes_df_10k.csv'\n",
    "\n",
    "data = pd.read_csv(PATH_DATA, low_memory=False)\n",
    "vocabulary = pd.read_csv(PATH_VOCABULARY)\n",
    "labels = pd.read_csv(PATH_LABELS)"
   ]
  },
  {
   "cell_type": "code",
   "execution_count": 9,
   "metadata": {},
   "outputs": [],
   "source": [
    "# recipes = pd.read_csv(PATH_RECIPES)\n",
    "# labels = recipes['Vegetarian&Desserts']\n",
    "# labels.to_csv(PATH_LABELS, index=False)"
   ]
  },
  {
   "cell_type": "markdown",
   "metadata": {},
   "source": [
    "# Preprocessing"
   ]
  },
  {
   "cell_type": "code",
   "execution_count": 33,
   "metadata": {},
   "outputs": [],
   "source": [
    "vocabulary = vocabulary.fillna('Missing')\n",
    "ohe_vocabulary = pd.get_dummies(vocabulary, prefix='category').astype(int)  # Replace '0' with the actual column name if it exists"
   ]
  },
  {
   "cell_type": "code",
   "execution_count": 34,
   "metadata": {},
   "outputs": [],
   "source": [
    "# Initialize an empty list to hold the one-hot encoded recipes\n",
    "ohe_matrix = []\n",
    "\n",
    "# Loop over each recipe in the data\n",
    "for index, recipe in data.iterrows():\n",
    "    # Initialize a one-hot encoded array for the recipe\n",
    "    ohe_recipe = np.zeros(len(ohe_vocabulary.columns))\n",
    "    \n",
    "    # Loop over each ingredient in the recipe\n",
    "    for ingredient in recipe:\n",
    "        if pd.isnull(ingredient):\n",
    "            continue\n",
    "        \n",
    "        # Check if the ingredient is in the one-hot vocabulary\n",
    "        if f'category_{ingredient}' in ohe_vocabulary.columns:\n",
    "            # Find the index for the ingredient\n",
    "            ingredient_index = ohe_vocabulary.columns.get_loc(f'category_{ingredient}')\n",
    "            \n",
    "            # Set the corresponding position in ohe_recipe to 1\n",
    "            ohe_recipe[ingredient_index] = 1\n",
    "\n",
    "    # Append the one-hot encoded recipe to the matrix\n",
    "    ohe_matrix.append(ohe_recipe)\n",
    "\n",
    "# Convert the list of arrays into a 2D NumPy array\n",
    "ohe_matrix = np.array(ohe_matrix)"
   ]
  },
  {
   "cell_type": "code",
   "execution_count": 35,
   "metadata": {},
   "outputs": [],
   "source": [
    "labels = labels['Vegetarian&Desserts'].to_numpy()"
   ]
  },
  {
   "cell_type": "markdown",
   "metadata": {},
   "source": [
    "# Classification"
   ]
  },
  {
   "cell_type": "code",
   "execution_count": 36,
   "metadata": {},
   "outputs": [],
   "source": [
    "X_train, X_test, y_train, y_test = train_test_split(ohe_matrix, labels, test_size=0.3, random_state=42, stratify=labels)"
   ]
  },
  {
   "cell_type": "code",
   "execution_count": 37,
   "metadata": {},
   "outputs": [
    {
     "name": "stdout",
     "output_type": "stream",
     "text": [
      "{0: 6670, 1: 3330}\n"
     ]
    }
   ],
   "source": [
    "unique, counts = np.unique(labels, return_counts=True)\n",
    "print(dict(zip(unique, counts)))"
   ]
  },
  {
   "cell_type": "code",
   "execution_count": 38,
   "metadata": {},
   "outputs": [
    {
     "name": "stdout",
     "output_type": "stream",
     "text": [
      "{0: 4669, 1: 2331}\n"
     ]
    }
   ],
   "source": [
    "unique, counts = np.unique(y_train, return_counts=True)\n",
    "print(dict(zip(unique, counts)))"
   ]
  },
  {
   "cell_type": "code",
   "execution_count": 39,
   "metadata": {},
   "outputs": [
    {
     "name": "stdout",
     "output_type": "stream",
     "text": [
      "{0: 2001, 1: 999}\n"
     ]
    }
   ],
   "source": [
    "unique, counts = np.unique(y_test, return_counts=True)\n",
    "print(dict(zip(unique, counts)))"
   ]
  },
  {
   "cell_type": "markdown",
   "metadata": {},
   "source": [
    "## Random Forest"
   ]
  },
  {
   "cell_type": "code",
   "execution_count": null,
   "metadata": {},
   "outputs": [],
   "source": [
    "param_grid = {\n",
    "    'n_estimators': [100, 200, 300],\n",
    "    'max_depth': [None, 10, 20, 30],\n",
    "    'min_samples_split': [2, 5, 10],\n",
    "    'min_samples_leaf': [1, 2, 4]  \n",
    "}\n",
    "\n",
    "rf = RandomForestClassifier(random_state=42)\n",
    "grid_search = GridSearchCV(estimator=rf, param_grid=param_grid, cv=5, verbose=2, n_jobs=-1)\n",
    "grid_search.fit(X_train, y_train)\n",
    "\n",
    "best_rf = grid_search.best_estimator_\n",
    "y_pred = best_rf.predict(X_test)\n",
    "print(\"Accuracy:\", accuracy_score(y_test, y_pred))\n",
    "\n",
    "print(\"Best parameters:\", grid_search.best_params_)\n",
    "print(\"Best cross-validation score: {:.2f}\".format(grid_search.best_score_))"
   ]
  },
  {
   "cell_type": "code",
   "execution_count": 31,
   "metadata": {},
   "outputs": [
    {
     "name": "stdout",
     "output_type": "stream",
     "text": [
      "Accuracy: 0.7806666666666666\n",
      "Classification Report:\n",
      "              precision    recall  f1-score   support\n",
      "\n",
      "           0       0.79      0.92      0.85      2001\n",
      "           1       0.75      0.51      0.61       999\n",
      "\n",
      "    accuracy                           0.78      3000\n",
      "   macro avg       0.77      0.71      0.73      3000\n",
      "weighted avg       0.78      0.78      0.77      3000\n",
      "\n",
      "Accuracy Score: 0.7806666666666666\n"
     ]
    }
   ],
   "source": [
    "random_forest = RandomForestClassifier(criterion='gini', n_estimators=100, random_state=42, max_depth=512, min_samples_split=2, min_samples_leaf=1, n_jobs=-1)\n",
    "random_forest.fit(X_train, y_train)\n",
    "y_pred = random_forest.predict(X_test)\n",
    "print(\"Accuracy:\", accuracy_score(y_test, y_pred))\n",
    "\n",
    "print(\"Classification Report:\")\n",
    "print(classification_report(y_test, y_pred))\n",
    "print(\"Accuracy Score:\", accuracy_score(y_test, y_pred))"
   ]
  },
  {
   "cell_type": "code",
   "execution_count": 22,
   "metadata": {},
   "outputs": [
    {
     "data": {
      "image/png": "[encoded data removed]",
      "text/plain": [
       "<Figure size 800x600 with 2 Axes>"
      ]
     },
     "metadata": {},
     "output_type": "display_data"
    }
   ],
   "source": [
    "plt.figure(figsize=(8, 6))\n",
    "sns.heatmap(cm, annot=True, fmt=\"d\", cmap='Blues', xticklabels=np.unique(labels), yticklabels=np.unique(labels))\n",
    "plt.xlabel('Predicted')\n",
    "plt.ylabel('True')\n",
    "plt.title('Confusion Matrix')\n",
    "plt.show()"
   ]
  },
  {
   "cell_type": "code",
   "execution_count": null,
   "metadata": {},
   "outputs": [],
   "source": [
    "for i, tree in enumerate(random_forest.estimators_):\n",
    "    tree_rules = export_text(tree, feature_names=list(ohe_vocabulary.columns))\n",
    "    \n",
    "    print(f\"Rules for tree {i}:\\n\")\n",
    "    print(tree_rules)\n",
    "    print(\"\\n\")"
   ]
  },
  {
   "cell_type": "markdown",
   "metadata": {},
   "source": [
    "## RBM + classifier"
   ]
  },
  {
   "cell_type": "code",
   "execution_count": null,
   "metadata": {},
   "outputs": [],
   "source": [
    "rbm = BernoulliRBM(random_state=42, verbose=True)\n",
    "logistic = LogisticRegression(max_iter=1000)\n",
    "classifier = Pipeline(steps=[('rbm', rbm), ('logistic', logistic)])\n",
    "\n",
    "param_grid = {\n",
    "    'rbm__learning_rate': [0.01, 0.1, 0.5],\n",
    "    'rbm__n_iter': [20, 40, 80],\n",
    "    'rbm__n_components': [50, 100, 200]  # number of hidden units\n",
    "}\n",
    "\n",
    "grid_search = GridSearchCV(classifier, param_grid, n_jobs=-1, cv=3)\n",
    "grid_search.fit(X_train, y_train)\n",
    "\n",
    "print(\"Best parameters:\", grid_search.best_params_)\n",
    "print(\"Best cross-validation score: {:.2f}\".format(grid_search.best_score_))\n",
    "\n",
    "y_pred = grid_search.predict(X_test)\n",
    "print(classification_report(y_test, y_pred))\n"
   ]
  },
  {
   "cell_type": "code",
   "execution_count": 23,
   "metadata": {},
   "outputs": [
    {
     "name": "stdout",
     "output_type": "stream",
     "text": [
      "[BernoulliRBM] Iteration 1, pseudo-likelihood = -139.67, time = 13.64s\n",
      "[BernoulliRBM] Iteration 2, pseudo-likelihood = -123.24, time = 16.38s\n",
      "[BernoulliRBM] Iteration 3, pseudo-likelihood = -120.18, time = 16.98s\n",
      "[BernoulliRBM] Iteration 4, pseudo-likelihood = -110.96, time = 16.44s\n",
      "[BernoulliRBM] Iteration 5, pseudo-likelihood = -108.53, time = 16.65s\n",
      "[BernoulliRBM] Iteration 6, pseudo-likelihood = -115.59, time = 16.78s\n",
      "[BernoulliRBM] Iteration 7, pseudo-likelihood = -115.24, time = 17.58s\n",
      "[BernoulliRBM] Iteration 8, pseudo-likelihood = -111.52, time = 17.38s\n",
      "[BernoulliRBM] Iteration 9, pseudo-likelihood = -116.46, time = 18.90s\n",
      "[BernoulliRBM] Iteration 10, pseudo-likelihood = -111.98, time = 18.65s\n",
      "[BernoulliRBM] Iteration 11, pseudo-likelihood = -110.23, time = 16.66s\n",
      "[BernoulliRBM] Iteration 12, pseudo-likelihood = -109.55, time = 16.82s\n",
      "[BernoulliRBM] Iteration 13, pseudo-likelihood = -106.03, time = 17.22s\n",
      "[BernoulliRBM] Iteration 14, pseudo-likelihood = -110.06, time = 16.44s\n",
      "[BernoulliRBM] Iteration 15, pseudo-likelihood = -101.93, time = 16.51s\n",
      "[BernoulliRBM] Iteration 16, pseudo-likelihood = -112.47, time = 16.26s\n",
      "[BernoulliRBM] Iteration 17, pseudo-likelihood = -109.47, time = 16.37s\n",
      "[BernoulliRBM] Iteration 18, pseudo-likelihood = -108.12, time = 16.51s\n",
      "[BernoulliRBM] Iteration 19, pseudo-likelihood = -118.52, time = 16.29s\n",
      "[BernoulliRBM] Iteration 20, pseudo-likelihood = -118.65, time = 16.37s\n",
      "[BernoulliRBM] Iteration 21, pseudo-likelihood = -114.31, time = 16.68s\n",
      "[BernoulliRBM] Iteration 22, pseudo-likelihood = -117.86, time = 16.39s\n",
      "[BernoulliRBM] Iteration 23, pseudo-likelihood = -114.84, time = 16.48s\n",
      "[BernoulliRBM] Iteration 24, pseudo-likelihood = -119.14, time = 16.33s\n",
      "[BernoulliRBM] Iteration 25, pseudo-likelihood = -112.46, time = 16.69s\n",
      "[BernoulliRBM] Iteration 26, pseudo-likelihood = -111.66, time = 17.24s\n",
      "[BernoulliRBM] Iteration 27, pseudo-likelihood = -113.37, time = 16.68s\n",
      "[BernoulliRBM] Iteration 28, pseudo-likelihood = -117.73, time = 17.08s\n",
      "[BernoulliRBM] Iteration 29, pseudo-likelihood = -114.74, time = 19.43s\n",
      "[BernoulliRBM] Iteration 30, pseudo-likelihood = -117.36, time = 21.75s\n",
      "[BernoulliRBM] Iteration 31, pseudo-likelihood = -110.18, time = 20.40s\n",
      "[BernoulliRBM] Iteration 32, pseudo-likelihood = -108.24, time = 18.92s\n",
      "[BernoulliRBM] Iteration 33, pseudo-likelihood = -115.40, time = 18.98s\n",
      "[BernoulliRBM] Iteration 34, pseudo-likelihood = -114.28, time = 17.97s\n",
      "[BernoulliRBM] Iteration 35, pseudo-likelihood = -114.52, time = 17.32s\n",
      "[BernoulliRBM] Iteration 36, pseudo-likelihood = -111.12, time = 18.30s\n",
      "[BernoulliRBM] Iteration 37, pseudo-likelihood = -111.09, time = 20.04s\n",
      "[BernoulliRBM] Iteration 38, pseudo-likelihood = -113.36, time = 16.90s\n",
      "[BernoulliRBM] Iteration 39, pseudo-likelihood = -118.78, time = 16.51s\n",
      "[BernoulliRBM] Iteration 40, pseudo-likelihood = -119.36, time = 19.32s\n",
      "Iteration 1, loss = 0.64866276\n",
      "Iteration 2, loss = 0.64032821\n",
      "Iteration 3, loss = 0.63879539\n",
      "Iteration 4, loss = 0.63781995\n",
      "Iteration 5, loss = 0.63744194\n",
      "Iteration 6, loss = 0.64132296\n",
      "Iteration 7, loss = 0.63795705\n",
      "Iteration 8, loss = 0.63785447\n",
      "Iteration 9, loss = 0.63687155\n",
      "Iteration 10, loss = 0.63768765\n",
      "Iteration 11, loss = 0.63907689\n",
      "Iteration 12, loss = 0.63789080\n",
      "Iteration 13, loss = 0.64323373\n",
      "Iteration 14, loss = 0.64243610\n",
      "Iteration 15, loss = 0.63697616\n",
      "Iteration 16, loss = 0.63740044\n",
      "Iteration 17, loss = 0.63729132\n",
      "Iteration 18, loss = 0.63647686\n",
      "Iteration 19, loss = 0.63721506\n",
      "Iteration 20, loss = 0.63747587\n",
      "Iteration 21, loss = 0.63682685\n",
      "Iteration 22, loss = 0.63707877\n",
      "Iteration 23, loss = 0.63713128\n",
      "Iteration 24, loss = 0.63697971\n",
      "Iteration 25, loss = 0.63928979\n",
      "Iteration 26, loss = 0.63751607\n",
      "Iteration 27, loss = 0.63655703\n",
      "Iteration 28, loss = 0.63833759\n",
      "Iteration 29, loss = 0.63751823\n",
      "Training loss did not improve more than tol=0.000100 for 10 consecutive epochs. Stopping.\n",
      "              precision    recall  f1-score   support\n",
      "\n",
      "           0       0.67      1.00      0.80      2001\n",
      "           1       0.00      0.00      0.00       999\n",
      "\n",
      "    accuracy                           0.67      3000\n",
      "   macro avg       0.33      0.50      0.40      3000\n",
      "weighted avg       0.44      0.67      0.53      3000\n",
      "\n"
     ]
    },
    {
     "name": "stderr",
     "output_type": "stream",
     "text": [
      "/Users/nicolapitzalis/anaconda3/envs/hlt/lib/python3.9/site-packages/sklearn/metrics/_classification.py:1509: UndefinedMetricWarning: Precision is ill-defined and being set to 0.0 in labels with no predicted samples. Use `zero_division` parameter to control this behavior.\n",
      "  _warn_prf(average, modifier, f\"{metric.capitalize()} is\", len(result))\n",
      "/Users/nicolapitzalis/anaconda3/envs/hlt/lib/python3.9/site-packages/sklearn/metrics/_classification.py:1509: UndefinedMetricWarning: Precision is ill-defined and being set to 0.0 in labels with no predicted samples. Use `zero_division` parameter to control this behavior.\n",
      "  _warn_prf(average, modifier, f\"{metric.capitalize()} is\", len(result))\n",
      "/Users/nicolapitzalis/anaconda3/envs/hlt/lib/python3.9/site-packages/sklearn/metrics/_classification.py:1509: UndefinedMetricWarning: Precision is ill-defined and being set to 0.0 in labels with no predicted samples. Use `zero_division` parameter to control this behavior.\n",
      "  _warn_prf(average, modifier, f\"{metric.capitalize()} is\", len(result))\n"
     ]
    }
   ],
   "source": [
    "rbm = BernoulliRBM(n_components=30, learning_rate=0.1, n_iter=40, random_state=42, verbose=True)\n",
    "mlp = MLPClassifier(hidden_layer_sizes=(100,), max_iter=300, alpha=0.0001,\n",
    "                    solver='adam', verbose=10, random_state=21, learning_rate_init=0.01)\n",
    "\n",
    "classifier = Pipeline(steps=[('rbm', rbm), ('mlp', mlp)])\n",
    "classifier.fit(X_train, y_train)\n",
    "\n",
    "y_pred = classifier.predict(X_test)\n",
    "print(classification_report(y_test, y_pred))\n"
   ]
  },
  {
   "cell_type": "markdown",
   "metadata": {},
   "source": [
    "## MLP"
   ]
  },
  {
   "cell_type": "code",
   "execution_count": 29,
   "metadata": {},
   "outputs": [
    {
     "name": "stdout",
     "output_type": "stream",
     "text": [
      "Iteration 1, loss = 0.48430473\n",
      "Iteration 2, loss = 0.14063719\n",
      "Iteration 3, loss = 0.03345985\n",
      "Iteration 4, loss = 0.01433499\n",
      "Iteration 5, loss = 0.00927571\n",
      "Iteration 6, loss = 0.00925149\n",
      "Iteration 7, loss = 0.00835786\n",
      "Iteration 8, loss = 0.00827397\n",
      "Iteration 9, loss = 0.00812076\n",
      "Iteration 10, loss = 0.00793096\n",
      "Iteration 11, loss = 0.00842178\n",
      "Iteration 12, loss = 0.00759969\n",
      "Iteration 13, loss = 0.00780899\n",
      "Iteration 14, loss = 0.00755681\n",
      "Iteration 15, loss = 0.00764158\n",
      "Iteration 16, loss = 0.00769967\n",
      "Iteration 17, loss = 0.00733142\n",
      "Iteration 18, loss = 0.00761851\n",
      "Iteration 19, loss = 0.00721492\n",
      "Iteration 20, loss = 0.00734141\n",
      "Iteration 21, loss = 0.00720889\n",
      "Iteration 22, loss = 0.00724683\n",
      "Iteration 23, loss = 0.00716859\n",
      "Iteration 24, loss = 0.00710091\n",
      "Iteration 25, loss = 0.00693553\n",
      "Iteration 26, loss = 0.00740660\n",
      "Iteration 27, loss = 0.00722255\n",
      "Iteration 28, loss = 0.00686683\n",
      "Iteration 29, loss = 0.00752283\n",
      "Iteration 30, loss = 0.00729117\n",
      "Iteration 31, loss = 0.00740041\n",
      "Iteration 32, loss = 0.00914316\n",
      "Iteration 33, loss = 0.06771523\n",
      "Iteration 34, loss = 0.07804190\n",
      "Iteration 35, loss = 0.03821499\n",
      "Iteration 36, loss = 0.01837867\n",
      "Training loss did not improve more than tol=0.000100 for 10 consecutive epochs. Stopping.\n",
      "Classification Report:\n",
      "              precision    recall  f1-score   support\n",
      "\n",
      "           0       0.81      0.84      0.83      2001\n",
      "           1       0.66      0.61      0.64       999\n",
      "\n",
      "    accuracy                           0.77      3000\n",
      "   macro avg       0.74      0.73      0.73      3000\n",
      "weighted avg       0.76      0.77      0.77      3000\n",
      "\n",
      "Accuracy Score: 0.7673333333333333\n"
     ]
    }
   ],
   "source": [
    "mlp = MLPClassifier(hidden_layer_sizes=(100, 50,), max_iter=300, alpha=0.0001,\n",
    "                    solver='adam', verbose=10, random_state=21, learning_rate_init=0.01)\n",
    "\n",
    "mlp.fit(X_train, y_train)\n",
    "y_pred = mlp.predict(X_test)\n",
    "\n",
    "print(\"Classification Report:\")\n",
    "print(classification_report(y_test, y_pred))\n",
    "print(\"Accuracy Score:\", accuracy_score(y_test, y_pred))\n"
   ]
  },
  {
   "cell_type": "code",
   "execution_count": 25,
   "metadata": {},
   "outputs": [
    {
     "name": "stdout",
     "output_type": "stream",
     "text": [
      "Confusion Matrix:\n",
      "[[1694  307]\n",
      " [ 400  599]]\n"
     ]
    },
    {
     "data": {
      "image/png": "[encoded data removed]",
      "text/plain": [
       "<Figure size 800x600 with 2 Axes>"
      ]
     },
     "metadata": {},
     "output_type": "display_data"
    }
   ],
   "source": [
    "cm = confusion_matrix(y_test, y_pred)\n",
    "print(\"Confusion Matrix:\")\n",
    "print(cm)\n",
    "\n",
    "plt.figure(figsize=(8, 6))\n",
    "sns.heatmap(cm, annot=True, fmt=\"d\", cmap='Blues', xticklabels=np.unique(labels), yticklabels=np.unique(labels))\n",
    "plt.xlabel('Predicted')\n",
    "plt.ylabel('True')\n",
    "plt.title('Confusion Matrix')\n",
    "plt.show()"
   ]
  },
  {
   "cell_type": "markdown",
   "metadata": {},
   "source": [
    "## SVM"
   ]
  },
  {
   "cell_type": "code",
   "execution_count": 169,
   "metadata": {},
   "outputs": [
    {
     "name": "stdout",
     "output_type": "stream",
     "text": [
      "Fitting 5 folds for each of 8 candidates, totalling 40 fits\n",
      "[CV 1/5; 2/8] START C=1, gamma=0.0001, kernel=rbf...............................\n",
      "[CV 3/5; 2/8] START C=1, gamma=0.0001, kernel=rbf...............................\n",
      "[CV 2/5; 1/8] START C=1, gamma=0.001, kernel=rbf................................\n",
      "[CV 4/5; 1/8] START C=1, gamma=0.001, kernel=rbf................................[CV 4/5; 2/8] START C=1, gamma=0.0001, kernel=rbf...............................\n",
      "\n",
      "[CV 1/5; 1/8] START C=1, gamma=0.001, kernel=rbf................................\n",
      "[CV 1/5; 3/8] START C=10, gamma=0.001, kernel=rbf...............................\n",
      "[CV 2/5; 2/8] START C=1, gamma=0.0001, kernel=rbf...............................\n",
      "[CV 5/5; 2/8] START C=1, gamma=0.0001, kernel=rbf...............................\n",
      "[CV 5/5; 1/8] START C=1, gamma=0.001, kernel=rbf................................\n",
      "[CV 3/5; 1/8] START C=1, gamma=0.001, kernel=rbf................................\n",
      "[CV 2/5; 3/8] START C=10, gamma=0.001, kernel=rbf...............................\n",
      "[CV 2/5; 3/8] END C=10, gamma=0.001, kernel=rbf;, score=0.700 total time=11.9min\n",
      "[CV 3/5; 3/8] START C=10, gamma=0.001, kernel=rbf...............................\n",
      "[CV 1/5; 3/8] END C=10, gamma=0.001, kernel=rbf;, score=0.700 total time=11.9min\n",
      "[CV 4/5; 3/8] START C=10, gamma=0.001, kernel=rbf...............................\n",
      "[CV 2/5; 2/8] END C=1, gamma=0.0001, kernel=rbf;, score=0.611 total time=12.3min\n",
      "[CV 1/5; 1/8] END .C=1, gamma=0.001, kernel=rbf;, score=0.613 total time=12.3min\n",
      "[CV 5/5; 2/8] END C=1, gamma=0.0001, kernel=rbf;, score=0.611 total time=12.3min\n",
      "[CV 3/5; 1/8] END .C=1, gamma=0.001, kernel=rbf;, score=0.611 total time=12.3min\n",
      "[CV 4/5; 2/8] END C=1, gamma=0.0001, kernel=rbf;, score=0.611 total time=12.3min\n",
      "[CV 5/5; 1/8] END .C=1, gamma=0.001, kernel=rbf;, score=0.611 total time=12.3min\n",
      "[CV 5/5; 3/8] START C=10, gamma=0.001, kernel=rbf...............................\n",
      "[CV 1/5; 4/8] START C=10, gamma=0.0001, kernel=rbf..............................\n",
      "[CV 2/5; 4/8] START C=10, gamma=0.0001, kernel=rbf..............................\n",
      "[CV 3/5; 4/8] START C=10, gamma=0.0001, kernel=rbf..............................\n",
      "[CV 3/5; 2/8] END C=1, gamma=0.0001, kernel=rbf;, score=0.611 total time=12.3min\n",
      "[CV 4/5; 4/8] START C=10, gamma=0.0001, kernel=rbf..............................\n",
      "[CV 5/5; 4/8] START C=10, gamma=0.0001, kernel=rbf..............................\n",
      "[CV 1/5; 2/8] END C=1, gamma=0.0001, kernel=rbf;, score=0.613 total time=12.3min\n",
      "[CV 4/5; 1/8] END .C=1, gamma=0.001, kernel=rbf;, score=0.611 total time=12.3min\n",
      "[CV 1/5; 5/8] START C=100, gamma=0.001, kernel=rbf..............................\n",
      "[CV 2/5; 5/8] START C=100, gamma=0.001, kernel=rbf..............................\n",
      "[CV 2/5; 1/8] END .C=1, gamma=0.001, kernel=rbf;, score=0.611 total time=12.3min\n",
      "[CV 3/5; 5/8] START C=100, gamma=0.001, kernel=rbf..............................\n",
      "[CV 4/5; 5/8] START C=100, gamma=0.001, kernel=rbf..............................\n",
      "[CV 4/5; 5/8] END C=100, gamma=0.001, kernel=rbf;, score=0.734 total time=10.9min\n",
      "[CV 5/5; 5/8] START C=100, gamma=0.001, kernel=rbf..............................\n",
      "[CV 2/5; 5/8] END C=100, gamma=0.001, kernel=rbf;, score=0.759 total time=10.9min\n",
      "[CV 1/5; 6/8] START C=100, gamma=0.0001, kernel=rbf.............................\n",
      "[CV 3/5; 5/8] END C=100, gamma=0.001, kernel=rbf;, score=0.755 total time=10.9min\n",
      "[CV 2/5; 6/8] START C=100, gamma=0.0001, kernel=rbf.............................\n",
      "[CV 3/5; 3/8] END C=10, gamma=0.001, kernel=rbf;, score=0.701 total time=11.4min\n",
      "[CV 3/5; 6/8] START C=100, gamma=0.0001, kernel=rbf.............................\n",
      "[CV 4/5; 3/8] END C=10, gamma=0.001, kernel=rbf;, score=0.672 total time=11.3min\n",
      "[CV 4/5; 6/8] START C=100, gamma=0.0001, kernel=rbf.............................\n",
      "[CV 5/5; 3/8] END C=10, gamma=0.001, kernel=rbf;, score=0.710 total time=11.4min\n",
      "[CV 5/5; 6/8] START C=100, gamma=0.0001, kernel=rbf.............................\n",
      "[CV 1/5; 5/8] END C=100, gamma=0.001, kernel=rbf;, score=0.744 total time=11.4min\n",
      "[CV 1/5; 7/8] START C=1000, gamma=0.001, kernel=rbf.............................\n",
      "[CV 5/5; 4/8] END C=10, gamma=0.0001, kernel=rbf;, score=0.611 total time=11.8min\n",
      "[CV 2/5; 7/8] START C=1000, gamma=0.001, kernel=rbf.............................\n",
      "[CV 3/5; 4/8] END C=10, gamma=0.0001, kernel=rbf;, score=0.611 total time=11.9min\n",
      "[CV 4/5; 4/8] END C=10, gamma=0.0001, kernel=rbf;, score=0.611 total time=11.9min\n",
      "[CV 3/5; 7/8] START C=1000, gamma=0.001, kernel=rbf.............................\n",
      "[CV 2/5; 4/8] END C=10, gamma=0.0001, kernel=rbf;, score=0.611 total time=11.9min\n",
      "[CV 4/5; 7/8] START C=1000, gamma=0.001, kernel=rbf.............................\n",
      "[CV 5/5; 7/8] START C=1000, gamma=0.001, kernel=rbf.............................\n",
      "[CV 1/5; 4/8] END C=10, gamma=0.0001, kernel=rbf;, score=0.613 total time=11.9min\n",
      "[CV 1/5; 8/8] START C=1000, gamma=0.0001, kernel=rbf............................\n",
      "[CV 5/5; 5/8] END C=100, gamma=0.001, kernel=rbf;, score=0.738 total time=10.7min\n",
      "[CV 2/5; 8/8] START C=1000, gamma=0.0001, kernel=rbf............................\n",
      "[CV 4/5; 6/8] END C=100, gamma=0.0001, kernel=rbf;, score=0.672 total time=11.0min\n",
      "[CV 3/5; 8/8] START C=1000, gamma=0.0001, kernel=rbf............................\n",
      "[CV 1/5; 6/8] END C=100, gamma=0.0001, kernel=rbf;, score=0.700 total time=11.1min\n",
      "[CV 2/5; 6/8] END C=100, gamma=0.0001, kernel=rbf;, score=0.694 total time=11.1min\n",
      "[CV 4/5; 8/8] START C=1000, gamma=0.0001, kernel=rbf............................\n",
      "[CV 5/5; 8/8] START C=1000, gamma=0.0001, kernel=rbf............................\n",
      "[CV 3/5; 6/8] END C=100, gamma=0.0001, kernel=rbf;, score=0.696 total time=11.1min\n",
      "[CV 1/5; 8/8] END C=1000, gamma=0.0001, kernel=rbf;, score=0.740 total time=10.4min\n",
      "[CV 5/5; 6/8] END C=100, gamma=0.0001, kernel=rbf;, score=0.703 total time=11.0min\n",
      "[CV 1/5; 7/8] END C=1000, gamma=0.001, kernel=rbf;, score=0.725 total time=11.2min\n",
      "[CV 3/5; 7/8] END C=1000, gamma=0.001, kernel=rbf;, score=0.711 total time=10.9min\n",
      "[CV 5/5; 7/8] END C=1000, gamma=0.001, kernel=rbf;, score=0.714 total time=10.9min\n",
      "[CV 2/5; 7/8] END C=1000, gamma=0.001, kernel=rbf;, score=0.734 total time=11.0min\n",
      "[CV 4/5; 7/8] END C=1000, gamma=0.001, kernel=rbf;, score=0.713 total time=10.9min\n",
      "[CV 2/5; 8/8] END C=1000, gamma=0.0001, kernel=rbf;, score=0.754 total time= 3.4min\n",
      "[CV 4/5; 8/8] END C=1000, gamma=0.0001, kernel=rbf;, score=0.728 total time= 3.0min\n",
      "[CV 3/5; 8/8] END C=1000, gamma=0.0001, kernel=rbf;, score=0.746 total time= 3.1min\n",
      "[CV 5/5; 8/8] END C=1000, gamma=0.0001, kernel=rbf;, score=0.739 total time= 3.0min\n",
      "Best parameters: {'C': 100, 'gamma': 0.001, 'kernel': 'rbf'}\n",
      "Best cross-validation score: 0.75\n",
      "              precision    recall  f1-score   support\n",
      "\n",
      "           0       0.77      0.49      0.60       388\n",
      "           1       0.74      0.91      0.81       612\n",
      "\n",
      "    accuracy                           0.74      1000\n",
      "   macro avg       0.75      0.70      0.70      1000\n",
      "weighted avg       0.75      0.74      0.73      1000\n",
      "\n"
     ]
    }
   ],
   "source": [
    "param_grid = [\n",
    "    {'C': [1, 10, 100, 1000], 'gamma': [0.001, 0.0001], 'kernel': ['rbf']},\n",
    "]\n",
    "\n",
    "svc = SVC()\n",
    "grid_search = GridSearchCV(svc, param_grid, cv=5, scoring='accuracy', verbose=10, n_jobs=-1)\n",
    "grid_search.fit(X_train, y_train)\n",
    "\n",
    "print(\"Best parameters:\", grid_search.best_params_)\n",
    "print(\"Best cross-validation score: {:.2f}\".format(grid_search.best_score_))\n",
    "\n",
    "y_pred = grid_search.predict(X_test)\n",
    "print(classification_report(y_test, y_pred))\n"
   ]
  },
  {
   "cell_type": "code",
   "execution_count": 26,
   "metadata": {},
   "outputs": [
    {
     "name": "stdout",
     "output_type": "stream",
     "text": [
      "              precision    recall  f1-score   support\n",
      "\n",
      "           0       0.78      0.92      0.85      2001\n",
      "           1       0.75      0.49      0.59       999\n",
      "\n",
      "    accuracy                           0.78      3000\n",
      "   macro avg       0.77      0.70      0.72      3000\n",
      "weighted avg       0.77      0.78      0.76      3000\n",
      "\n"
     ]
    }
   ],
   "source": [
    "svc = SVC(C=100, kernel='rbf', gamma=0.001)\n",
    "svc.fit(X_train, y_train)\n",
    "y_pred = svc.predict(X_test)\n",
    "\n",
    "print(classification_report(y_test, y_pred))"
   ]
  },
  {
   "cell_type": "code",
   "execution_count": 28,
   "metadata": {},
   "outputs": [
    {
     "name": "stdout",
     "output_type": "stream",
     "text": [
      "Confusion Matrix:\n",
      "[[1841  160]\n",
      " [ 512  487]]\n"
     ]
    },
    {
     "data": {
      "image/png": "[encoded data removed]",
      "text/plain": [
       "<Figure size 800x600 with 2 Axes>"
      ]
     },
     "metadata": {},
     "output_type": "display_data"
    }
   ],
   "source": [
    "cm = confusion_matrix(y_test, y_pred)\n",
    "print(\"Confusion Matrix:\")\n",
    "print(cm)\n",
    "\n",
    "plt.figure(figsize=(8, 6))\n",
    "sns.heatmap(cm, annot=True, fmt=\"d\", cmap='Blues', xticklabels=np.unique(labels), yticklabels=np.unique(labels))\n",
    "plt.xlabel('Predicted')\n",
    "plt.ylabel('True')\n",
    "plt.title('Confusion Matrix')\n",
    "plt.show()"
   ]
  },
  {
   "cell_type": "code",
   "execution_count": null,
   "metadata": {},
   "outputs": [],
   "source": []
  }
 ],
 "metadata": {
  "kernelspec": {
   "display_name": "hlt",
   "language": "python",
   "name": "python3"
  },
  "language_info": {
   "codemirror_mode": {
    "name": "ipython",
    "version": 3
   },
   "file_extension": ".py",
   "mimetype": "text/x-python",
   "name": "python",
   "nbconvert_exporter": "python",
   "pygments_lexer": "ipython3",
   "version": "3.9.19"
  }
 },
 "nbformat": 4,
 "nbformat_minor": 2
}
