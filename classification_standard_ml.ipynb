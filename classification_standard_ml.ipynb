{
 "cells": [
  {
   "cell_type": "markdown",
   "metadata": {},
   "source": [
    "# Classification by standard ML approach\n",
    "In the following, we will run some experiments using some of the standard ML approaches, such as Random Forest, MLP, SVMs. These naïve methods will exploit the list of ingredients, rather than the structure of the entire recipe itself. This reasoning comes up naturally when considering such standards ML practices, since they do not keep in consideration the semantic structure of the sentences and do not share any weight in the network"
   ]
  },
  {
   "cell_type": "markdown",
   "metadata": {},
   "source": [
    "### Imports"
   ]
  },
  {
   "cell_type": "code",
   "execution_count": 2,
   "metadata": {},
   "outputs": [
    {
     "name": "stderr",
     "output_type": "stream",
     "text": [
      "/Users/nicolapitzalis/anaconda3/envs/hlt/lib/python3.9/site-packages/tqdm/auto.py:21: TqdmWarning: IProgress not found. Please update jupyter and ipywidgets. See https://ipywidgets.readthedocs.io/en/stable/user_install.html\n",
      "  from .autonotebook import tqdm as notebook_tqdm\n"
     ]
    }
   ],
   "source": [
    "from tqdm.auto import tqdm\n",
    "import seaborn as sns\n",
    "\n",
    "import numpy as np\n",
    "import pandas as pd\n",
    "import matplotlib.pyplot as plt\n",
    "\n",
    "from sklearn.tree import export_text\n",
    "from sklearn.ensemble import RandomForestClassifier \n",
    "from sklearn.model_selection import train_test_split, GridSearchCV\n",
    "from sklearn.metrics import accuracy_score, confusion_matrix, classification_report\n",
    "from sklearn.neural_network import BernoulliRBM, MLPClassifier\n",
    "from sklearn.pipeline import Pipeline\n",
    "from sklearn.linear_model import LogisticRegression\n",
    "from sklearn.svm import SVC"
   ]
  },
  {
   "cell_type": "markdown",
   "metadata": {},
   "source": [
    "### Data loading"
   ]
  },
  {
   "cell_type": "code",
   "execution_count": 5,
   "metadata": {},
   "outputs": [],
   "source": [
    "PATH_DATA = '/Users/nicolapitzalis/Documents/uni-ai/HLT/HLT-Project/dataset/ingredients_list_10k_balanced.csv'\n",
    "PATH_LABELS = '/Users/nicolapitzalis/Documents/uni-ai/HLT/HLT-Project/dataset/labels_10k_balanced.csv'\n",
    "PATH_VOCABULARY = '/Users/nicolapitzalis/Documents/uni-ai/HLT/HLT-Project/dataset/ingredients_v_10k_balanced.csv'\n",
    "PATH_RECIPES = '/Users/nicolapitzalis/Documents/uni-ai/HLT/HLT-Project/dataset/recipes_df_10k_balanced.csv'\n",
    "\n",
    "data = pd.read_csv(PATH_DATA, low_memory=False)\n",
    "vocabulary = pd.read_csv(PATH_VOCABULARY)\n",
    "labels = pd.read_csv(PATH_LABELS)"
   ]
  },
  {
   "cell_type": "code",
   "execution_count": 4,
   "metadata": {},
   "outputs": [],
   "source": [
    "# recipes = pd.read_csv(PATH_RECIPES)\n",
    "# labels = recipes['Vegetarian&Desserts']\n",
    "# labels.to_csv(PATH_LABELS, index=False)"
   ]
  },
  {
   "cell_type": "markdown",
   "metadata": {},
   "source": [
    "### Preprocessing\n",
    "We need to create the one_hot_encoded version of the ingredients, both for the ingredient's vocabulary and for the matrix of recipes."
   ]
  },
  {
   "cell_type": "code",
   "execution_count": 6,
   "metadata": {},
   "outputs": [],
   "source": [
    "vocabulary = vocabulary.fillna('Missing')\n",
    "ohe_vocabulary = pd.get_dummies(vocabulary, prefix='category').astype(int)"
   ]
  },
  {
   "cell_type": "code",
   "execution_count": 7,
   "metadata": {},
   "outputs": [],
   "source": [
    "ohe_matrix = []\n",
    "\n",
    "# Loop over each recipe in the data\n",
    "for index, recipe in data.iterrows():\n",
    "    ohe_recipe = np.zeros(len(ohe_vocabulary.columns))\n",
    "    \n",
    "    for ingredient in recipe:\n",
    "        if pd.isnull(ingredient):\n",
    "            continue\n",
    "        \n",
    "        # Check if the ingredient is in the one-hot vocabulary\n",
    "        if f'category_{ingredient}' in ohe_vocabulary.columns:\n",
    "            # Find the index for the ingredient\n",
    "            ingredient_index = ohe_vocabulary.columns.get_loc(f'category_{ingredient}')\n",
    "            \n",
    "            # Set the corresponding position in ohe_recipe to 1\n",
    "            ohe_recipe[ingredient_index] = 1\n",
    "\n",
    "    ohe_matrix.append(ohe_recipe)\n",
    "\n",
    "ohe_matrix = np.array(ohe_matrix)"
   ]
  },
  {
   "cell_type": "code",
   "execution_count": 8,
   "metadata": {},
   "outputs": [],
   "source": [
    "labels = labels['Vegetarian&Desserts'].to_numpy()"
   ]
  },
  {
   "cell_type": "markdown",
   "metadata": {},
   "source": [
    "## Classification"
   ]
  },
  {
   "cell_type": "code",
   "execution_count": 9,
   "metadata": {},
   "outputs": [],
   "source": [
    "X_train, X_test, y_train, y_test = train_test_split(ohe_matrix, labels, test_size=0.3, random_state=42, stratify=labels)"
   ]
  },
  {
   "cell_type": "code",
   "execution_count": 10,
   "metadata": {},
   "outputs": [
    {
     "name": "stdout",
     "output_type": "stream",
     "text": [
      "{0: 5000, 1: 5000}\n"
     ]
    }
   ],
   "source": [
    "unique, counts = np.unique(labels, return_counts=True)\n",
    "print(dict(zip(unique, counts)))"
   ]
  },
  {
   "cell_type": "code",
   "execution_count": 11,
   "metadata": {},
   "outputs": [
    {
     "name": "stdout",
     "output_type": "stream",
     "text": [
      "{0: 3500, 1: 3500}\n"
     ]
    }
   ],
   "source": [
    "unique, counts = np.unique(y_train, return_counts=True)\n",
    "print(dict(zip(unique, counts)))"
   ]
  },
  {
   "cell_type": "code",
   "execution_count": 12,
   "metadata": {},
   "outputs": [
    {
     "name": "stdout",
     "output_type": "stream",
     "text": [
      "{0: 1500, 1: 1500}\n"
     ]
    }
   ],
   "source": [
    "unique, counts = np.unique(y_test, return_counts=True)\n",
    "print(dict(zip(unique, counts)))"
   ]
  },
  {
   "cell_type": "markdown",
   "metadata": {},
   "source": [
    "### Random Forest"
   ]
  },
  {
   "cell_type": "code",
   "execution_count": null,
   "metadata": {},
   "outputs": [],
   "source": [
    "param_grid = {\n",
    "    'n_estimators': [100, 200, 300],\n",
    "    'max_depth': [None, 10, 20, 30],\n",
    "    'min_samples_split': [2, 5, 10],\n",
    "    'min_samples_leaf': [1, 2, 4]  \n",
    "}\n",
    "\n",
    "rf = RandomForestClassifier(random_state=42)\n",
    "grid_search = GridSearchCV(estimator=rf, param_grid=param_grid, cv=5, verbose=2, n_jobs=-1)\n",
    "grid_search.fit(X_train, y_train)\n",
    "\n",
    "best_rf = grid_search.best_estimator_\n",
    "y_pred = best_rf.predict(X_test)\n",
    "print(\"Accuracy:\", accuracy_score(y_test, y_pred))\n",
    "\n",
    "print(\"Best parameters:\", grid_search.best_params_)\n",
    "print(\"Best cross-validation score: {:.2f}\".format(grid_search.best_score_))"
   ]
  },
  {
   "cell_type": "code",
   "execution_count": 18,
   "metadata": {},
   "outputs": [
    {
     "name": "stdout",
     "output_type": "stream",
     "text": [
      "Accuracy: 0.7406666666666667\n",
      "Classification Report:\n",
      "              precision    recall  f1-score   support\n",
      "\n",
      "           0       0.71      0.80      0.76      1500\n",
      "           1       0.78      0.68      0.72      1500\n",
      "\n",
      "    accuracy                           0.74      3000\n",
      "   macro avg       0.74      0.74      0.74      3000\n",
      "weighted avg       0.74      0.74      0.74      3000\n",
      "\n",
      "Accuracy Score: 0.7406666666666667\n"
     ]
    }
   ],
   "source": [
    "random_forest = RandomForestClassifier(criterion='gini', n_estimators=100, random_state=42, max_depth=None, min_samples_split=5, min_samples_leaf=1, n_jobs=-1)\n",
    "random_forest.fit(X_train, y_train)\n",
    "y_pred = random_forest.predict(X_test)\n",
    "print(\"Accuracy:\", accuracy_score(y_test, y_pred))\n",
    "\n",
    "print(\"Classification Report:\")\n",
    "print(classification_report(y_test, y_pred))\n",
    "print(\"Accuracy Score:\", accuracy_score(y_test, y_pred))"
   ]
  },
  {
   "cell_type": "code",
   "execution_count": 19,
   "metadata": {},
   "outputs": [
    {
     "data": {
      "image/png": "[encoded data removed]",
      "text/plain": [
       "<Figure size 800x600 with 2 Axes>"
      ]
     },
     "metadata": {},
     "output_type": "display_data"
    }
   ],
   "source": [
    "plt.figure(figsize=(8, 6))\n",
    "sns.heatmap(cm, annot=True, fmt=\"d\", cmap='Blues', xticklabels=np.unique(labels), yticklabels=np.unique(labels))\n",
    "plt.xlabel('Predicted')\n",
    "plt.ylabel('True')\n",
    "plt.title('Confusion Matrix')\n",
    "plt.show()"
   ]
  },
  {
   "cell_type": "code",
   "execution_count": null,
   "metadata": {},
   "outputs": [],
   "source": [
    "for i, tree in enumerate(random_forest.estimators_):\n",
    "    tree_rules = export_text(tree, feature_names=list(ohe_vocabulary.columns))\n",
    "    \n",
    "    print(f\"Rules for tree {i}:\\n\")\n",
    "    print(tree_rules)\n",
    "    print(\"\\n\")"
   ]
  },
  {
   "cell_type": "markdown",
   "metadata": {},
   "source": [
    "### MLP"
   ]
  },
  {
   "cell_type": "code",
   "execution_count": 15,
   "metadata": {},
   "outputs": [
    {
     "name": "stdout",
     "output_type": "stream",
     "text": [
      "Iteration 1, loss = 0.52897924\n",
      "Iteration 2, loss = 0.15965208\n",
      "Iteration 3, loss = 0.04160513\n",
      "Iteration 4, loss = 0.02024740\n",
      "Iteration 5, loss = 0.01513560\n",
      "Iteration 6, loss = 0.01320810\n",
      "Iteration 7, loss = 0.01178408\n",
      "Iteration 8, loss = 0.01140146\n",
      "Iteration 9, loss = 0.01097907\n",
      "Iteration 10, loss = 0.01098597\n",
      "Iteration 11, loss = 0.01062447\n",
      "Iteration 12, loss = 0.01133084\n",
      "Iteration 13, loss = 0.01021279\n",
      "Iteration 14, loss = 0.01107893\n",
      "Iteration 15, loss = 0.01019794\n",
      "Iteration 16, loss = 0.01021554\n",
      "Iteration 17, loss = 0.01031244\n",
      "Iteration 18, loss = 0.01080318\n",
      "Iteration 19, loss = 0.01066906\n",
      "Iteration 20, loss = 0.01000404\n",
      "Iteration 21, loss = 0.01049755\n",
      "Iteration 22, loss = 0.00984054\n",
      "Iteration 23, loss = 0.00988541\n",
      "Iteration 24, loss = 0.01064129\n",
      "Iteration 25, loss = 0.00994970\n",
      "Iteration 26, loss = 0.00965174\n",
      "Iteration 27, loss = 0.00939473\n",
      "Iteration 28, loss = 0.01149718\n",
      "Iteration 29, loss = 0.01112989\n",
      "Iteration 30, loss = 0.01049127\n",
      "Iteration 31, loss = 0.00979851\n",
      "Iteration 32, loss = 0.00966341\n",
      "Iteration 33, loss = 0.00954746\n",
      "Iteration 34, loss = 0.00957899\n",
      "Iteration 35, loss = 0.00984714\n",
      "Iteration 36, loss = 0.00990206\n",
      "Iteration 37, loss = 0.01007197\n",
      "Iteration 38, loss = 0.00915432\n",
      "Iteration 39, loss = 0.00951526\n",
      "Iteration 40, loss = 0.01005792\n",
      "Iteration 41, loss = 0.00981012\n",
      "Iteration 42, loss = 0.00956291\n",
      "Iteration 43, loss = 0.01073282\n",
      "Iteration 44, loss = 0.00949520\n",
      "Iteration 45, loss = 0.00991777\n",
      "Iteration 46, loss = 0.00966292\n",
      "Iteration 47, loss = 0.00949914\n",
      "Iteration 48, loss = 0.00945226\n",
      "Iteration 49, loss = 0.00980875\n",
      "Training loss did not improve more than tol=0.000100 for 10 consecutive epochs. Stopping.\n",
      "Classification Report:\n",
      "              precision    recall  f1-score   support\n",
      "\n",
      "           0       0.71      0.77      0.74      1500\n",
      "           1       0.75      0.69      0.71      1500\n",
      "\n",
      "    accuracy                           0.73      3000\n",
      "   macro avg       0.73      0.73      0.73      3000\n",
      "weighted avg       0.73      0.73      0.73      3000\n",
      "\n",
      "Accuracy Score: 0.726\n"
     ]
    }
   ],
   "source": [
    "mlp = MLPClassifier(hidden_layer_sizes=(100,), max_iter=300, alpha=0.0001,\n",
    "                    solver='adam', verbose=10, random_state=21, learning_rate_init=0.01)\n",
    "\n",
    "mlp.fit(X_train, y_train)\n",
    "y_pred = mlp.predict(X_test)\n",
    "\n",
    "print(\"Classification Report:\")\n",
    "print(classification_report(y_test, y_pred))\n",
    "print(\"Accuracy Score:\", accuracy_score(y_test, y_pred))\n"
   ]
  },
  {
   "cell_type": "code",
   "execution_count": 25,
   "metadata": {},
   "outputs": [
    {
     "name": "stdout",
     "output_type": "stream",
     "text": [
      "Confusion Matrix:\n",
      "[[1694  307]\n",
      " [ 400  599]]\n"
     ]
    },
    {
     "data": {
      "image/png": "[encoded data removed]",
      "text/plain": [
       "<Figure size 800x600 with 2 Axes>"
      ]
     },
     "metadata": {},
     "output_type": "display_data"
    }
   ],
   "source": [
    "cm = confusion_matrix(y_test, y_pred)\n",
    "print(\"Confusion Matrix:\")\n",
    "print(cm)\n",
    "\n",
    "plt.figure(figsize=(8, 6))\n",
    "sns.heatmap(cm, annot=True, fmt=\"d\", cmap='Blues', xticklabels=np.unique(labels), yticklabels=np.unique(labels))\n",
    "plt.xlabel('Predicted')\n",
    "plt.ylabel('True')\n",
    "plt.title('Confusion Matrix')\n",
    "plt.show()"
   ]
  },
  {
   "cell_type": "markdown",
   "metadata": {},
   "source": [
    "### SVM"
   ]
  },
  {
   "cell_type": "code",
   "execution_count": null,
   "metadata": {},
   "outputs": [],
   "source": [
    "param_grid = [\n",
    "    {'C': [1, 10, 100, 1000], 'gamma': [0.001, 0.0001], 'kernel': ['rbf']},\n",
    "]\n",
    "\n",
    "svc = SVC()\n",
    "grid_search = GridSearchCV(svc, param_grid, cv=5, scoring='accuracy', verbose=10, n_jobs=-1)\n",
    "grid_search.fit(X_train, y_train)\n",
    "\n",
    "print(\"Best parameters:\", grid_search.best_params_)\n",
    "print(\"Best cross-validation score: {:.2f}\".format(grid_search.best_score_))\n",
    "\n",
    "y_pred = grid_search.predict(X_test)\n",
    "print(classification_report(y_test, y_pred))\n"
   ]
  },
  {
   "cell_type": "code",
   "execution_count": 16,
   "metadata": {},
   "outputs": [
    {
     "name": "stdout",
     "output_type": "stream",
     "text": [
      "              precision    recall  f1-score   support\n",
      "\n",
      "           0       0.80      0.66      0.72      1500\n",
      "           1       0.71      0.83      0.77      1500\n",
      "\n",
      "    accuracy                           0.74      3000\n",
      "   macro avg       0.75      0.74      0.74      3000\n",
      "weighted avg       0.75      0.74      0.74      3000\n",
      "\n"
     ]
    }
   ],
   "source": [
    "svc = SVC(C=100, kernel='rbf', gamma=0.001)\n",
    "svc.fit(X_train, y_train)\n",
    "y_pred = svc.predict(X_test)\n",
    "\n",
    "print(classification_report(y_test, y_pred))"
   ]
  },
  {
   "cell_type": "code",
   "execution_count": 17,
   "metadata": {},
   "outputs": [
    {
     "name": "stdout",
     "output_type": "stream",
     "text": [
      "Confusion Matrix:\n",
      "[[ 987  513]\n",
      " [ 252 1248]]\n"
     ]
    },
    {
     "data": {
      "image/png": "[encoded data removed]",
      "text/plain": [
       "<Figure size 800x600 with 2 Axes>"
      ]
     },
     "metadata": {},
     "output_type": "display_data"
    }
   ],
   "source": [
    "cm = confusion_matrix(y_test, y_pred)\n",
    "print(\"Confusion Matrix:\")\n",
    "print(cm)\n",
    "\n",
    "plt.figure(figsize=(8, 6))\n",
    "sns.heatmap(cm, annot=True, fmt=\"d\", cmap='Blues', xticklabels=np.unique(labels), yticklabels=np.unique(labels))\n",
    "plt.xlabel('Predicted')\n",
    "plt.ylabel('True')\n",
    "plt.title('Confusion Matrix')\n",
    "plt.show()"
   ]
  },
  {
   "cell_type": "code",
   "execution_count": null,
   "metadata": {},
   "outputs": [],
   "source": []
  }
 ],
 "metadata": {
  "kernelspec": {
   "display_name": "hlt",
   "language": "python",
   "name": "python3"
  },
  "language_info": {
   "codemirror_mode": {
    "name": "ipython",
    "version": 3
   },
   "file_extension": ".py",
   "mimetype": "text/x-python",
   "name": "python",
   "nbconvert_exporter": "python",
   "pygments_lexer": "ipython3",
   "version": "3.9.19"
  }
 },
 "nbformat": 4,
 "nbformat_minor": 2
}
