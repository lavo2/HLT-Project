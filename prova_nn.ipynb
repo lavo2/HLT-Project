{
 "cells": [
  {
   "cell_type": "markdown",
   "metadata": {},
   "source": [
    "# Embeddings on recipes with BERT, Neural Network for classification"
   ]
  },
  {
   "cell_type": "code",
   "execution_count": 2,
   "metadata": {},
   "outputs": [],
   "source": [
    "import numpy as np\n",
    "import pandas as pd\n",
    "import matplotlib.pyplot as plt\n",
    "\n",
    "from sklearn.metrics import classification_report, confusion_matrix\n",
    "from sklearn.model_selection import train_test_split\n",
    "\n",
    "import torch\n",
    "from transformers import BertTokenizer, BertModel, TFBertModel\n",
    "import torch.nn as nn\n",
    "import torch.optim as optim\n",
    "import torch.nn.functional as F\n",
    "\n",
    "from tqdm import tqdm\n",
    "\n",
    "import tensorflow as tf\n",
    "\n",
    "from keras.layers import Input, Dense, Dropout, Flatten\n",
    "from keras.models import Model, Sequential\n",
    "from keras.optimizers import Adam"
   ]
  },
  {
   "cell_type": "code",
   "execution_count": 3,
   "metadata": {},
   "outputs": [],
   "source": [
    "# load the restricted dataframe: 5000 recipes, 33% are veg&dessert and 66% are non-veg\n",
    "df = pd.read_csv('./dataset/recipes_df_r.csv')"
   ]
  },
  {
   "cell_type": "code",
   "execution_count": 4,
   "metadata": {},
   "outputs": [
    {
     "data": {
      "text/plain": [
       "(10000, 13)"
      ]
     },
     "execution_count": 4,
     "metadata": {},
     "output_type": "execute_result"
    }
   ],
   "source": [
    "df.shape"
   ]
  },
  {
   "cell_type": "code",
   "execution_count": 5,
   "metadata": {},
   "outputs": [
    {
     "data": {
      "text/html": [
       "<div>\n",
       "<style scoped>\n",
       "    .dataframe tbody tr th:only-of-type {\n",
       "        vertical-align: middle;\n",
       "    }\n",
       "\n",
       "    .dataframe tbody tr th {\n",
       "        vertical-align: top;\n",
       "    }\n",
       "\n",
       "    .dataframe thead th {\n",
       "        text-align: right;\n",
       "    }\n",
       "</style>\n",
       "<table border=\"1\" class=\"dataframe\">\n",
       "  <thead>\n",
       "    <tr style=\"text-align: right;\">\n",
       "      <th></th>\n",
       "      <th>cooking_method</th>\n",
       "      <th>ingredients</th>\n",
       "      <th>recipe_name</th>\n",
       "      <th>tags</th>\n",
       "      <th>Vegetarian&amp;Desserts</th>\n",
       "      <th>Others&amp;D</th>\n",
       "      <th>Vegetarian</th>\n",
       "      <th>Others</th>\n",
       "      <th>Dairy Free</th>\n",
       "      <th>Gluten Free</th>\n",
       "      <th>Low Carb</th>\n",
       "      <th>Low Fat</th>\n",
       "      <th>Low Sodium</th>\n",
       "    </tr>\n",
       "  </thead>\n",
       "  <tbody>\n",
       "    <tr>\n",
       "      <th>0</th>\n",
       "      <td>['Remove the small side muscle from the scallo...</td>\n",
       "      <td>['1 to 1 1/4 pounds dry sea scallops, approxim...</td>\n",
       "      <td>Seared Scallops</td>\n",
       "      <td>Scallop Recipes,Shellfish Recipes,Main Dish,Lu...</td>\n",
       "      <td>0</td>\n",
       "      <td>1</td>\n",
       "      <td>0</td>\n",
       "      <td>1</td>\n",
       "      <td>0</td>\n",
       "      <td>1</td>\n",
       "      <td>0</td>\n",
       "      <td>0</td>\n",
       "      <td>0</td>\n",
       "    </tr>\n",
       "    <tr>\n",
       "      <th>1</th>\n",
       "      <td>['With a sharp knife, slit the sausage skins l...</td>\n",
       "      <td>['4 good-quality organic Italian sausages', 'O...</td>\n",
       "      <td>Sausage Carbonara: Linguine alla Carbonara di ...</td>\n",
       "      <td>Italian,Pasta Recipes,Cheese,Sausage Recipes,M...</td>\n",
       "      <td>0</td>\n",
       "      <td>1</td>\n",
       "      <td>0</td>\n",
       "      <td>1</td>\n",
       "      <td>0</td>\n",
       "      <td>0</td>\n",
       "      <td>0</td>\n",
       "      <td>0</td>\n",
       "      <td>0</td>\n",
       "    </tr>\n",
       "    <tr>\n",
       "      <th>2</th>\n",
       "      <td>['Preheat the oven to 450 degrees F.', 'Cut an...</td>\n",
       "      <td>['1 pound fresh chestnuts', '8 cups coarse fre...</td>\n",
       "      <td>Chestnut Stuffing</td>\n",
       "      <td>Thanksgiving Stuffing and Dressing,Holiday,Stu...</td>\n",
       "      <td>0</td>\n",
       "      <td>1</td>\n",
       "      <td>0</td>\n",
       "      <td>1</td>\n",
       "      <td>0</td>\n",
       "      <td>0</td>\n",
       "      <td>0</td>\n",
       "      <td>0</td>\n",
       "      <td>0</td>\n",
       "    </tr>\n",
       "    <tr>\n",
       "      <th>3</th>\n",
       "      <td>['Coat pan with 2 teaspoons peanut oil.', 'Com...</td>\n",
       "      <td>['2 (15-ounce) cans black beans, drained and r...</td>\n",
       "      <td>Southwestern Black Bean Cakes with Salsa, Fres...</td>\n",
       "      <td>American,Southwestern,Salsa,Meat,Bacon Recipes...</td>\n",
       "      <td>0</td>\n",
       "      <td>1</td>\n",
       "      <td>0</td>\n",
       "      <td>1</td>\n",
       "      <td>0</td>\n",
       "      <td>0</td>\n",
       "      <td>0</td>\n",
       "      <td>0</td>\n",
       "      <td>0</td>\n",
       "    </tr>\n",
       "    <tr>\n",
       "      <th>4</th>\n",
       "      <td>['For the buttermilk strawberry skillet cake: ...</td>\n",
       "      <td>['5 tablespoons salted butter, at room tempera...</td>\n",
       "      <td>Buttermilk Strawberry Skillet Cake with Strawb...</td>\n",
       "      <td>Baking,Dessert,Skillet Recipes,Cake,Nut Recipe...</td>\n",
       "      <td>1</td>\n",
       "      <td>0</td>\n",
       "      <td>0</td>\n",
       "      <td>1</td>\n",
       "      <td>0</td>\n",
       "      <td>0</td>\n",
       "      <td>0</td>\n",
       "      <td>0</td>\n",
       "      <td>1</td>\n",
       "    </tr>\n",
       "  </tbody>\n",
       "</table>\n",
       "</div>"
      ],
      "text/plain": [
       "                                      cooking_method  \\\n",
       "0  ['Remove the small side muscle from the scallo...   \n",
       "1  ['With a sharp knife, slit the sausage skins l...   \n",
       "2  ['Preheat the oven to 450 degrees F.', 'Cut an...   \n",
       "3  ['Coat pan with 2 teaspoons peanut oil.', 'Com...   \n",
       "4  ['For the buttermilk strawberry skillet cake: ...   \n",
       "\n",
       "                                         ingredients  \\\n",
       "0  ['1 to 1 1/4 pounds dry sea scallops, approxim...   \n",
       "1  ['4 good-quality organic Italian sausages', 'O...   \n",
       "2  ['1 pound fresh chestnuts', '8 cups coarse fre...   \n",
       "3  ['2 (15-ounce) cans black beans, drained and r...   \n",
       "4  ['5 tablespoons salted butter, at room tempera...   \n",
       "\n",
       "                                         recipe_name  \\\n",
       "0                                    Seared Scallops   \n",
       "1  Sausage Carbonara: Linguine alla Carbonara di ...   \n",
       "2                                  Chestnut Stuffing   \n",
       "3  Southwestern Black Bean Cakes with Salsa, Fres...   \n",
       "4  Buttermilk Strawberry Skillet Cake with Strawb...   \n",
       "\n",
       "                                                tags  Vegetarian&Desserts  \\\n",
       "0  Scallop Recipes,Shellfish Recipes,Main Dish,Lu...                    0   \n",
       "1  Italian,Pasta Recipes,Cheese,Sausage Recipes,M...                    0   \n",
       "2  Thanksgiving Stuffing and Dressing,Holiday,Stu...                    0   \n",
       "3  American,Southwestern,Salsa,Meat,Bacon Recipes...                    0   \n",
       "4  Baking,Dessert,Skillet Recipes,Cake,Nut Recipe...                    1   \n",
       "\n",
       "   Others&D  Vegetarian  Others  Dairy Free  Gluten Free  Low Carb  Low Fat  \\\n",
       "0         1           0       1           0            1         0        0   \n",
       "1         1           0       1           0            0         0        0   \n",
       "2         1           0       1           0            0         0        0   \n",
       "3         1           0       1           0            0         0        0   \n",
       "4         0           0       1           0            0         0        0   \n",
       "\n",
       "   Low Sodium  \n",
       "0           0  \n",
       "1           0  \n",
       "2           0  \n",
       "3           0  \n",
       "4           1  "
      ]
     },
     "execution_count": 5,
     "metadata": {},
     "output_type": "execute_result"
    }
   ],
   "source": [
    "df.head()"
   ]
  },
  {
   "cell_type": "code",
   "execution_count": 6,
   "metadata": {},
   "outputs": [
    {
     "data": {
      "text/html": [
       "<div>\n",
       "<style scoped>\n",
       "    .dataframe tbody tr th:only-of-type {\n",
       "        vertical-align: middle;\n",
       "    }\n",
       "\n",
       "    .dataframe tbody tr th {\n",
       "        vertical-align: top;\n",
       "    }\n",
       "\n",
       "    .dataframe thead th {\n",
       "        text-align: right;\n",
       "    }\n",
       "</style>\n",
       "<table border=\"1\" class=\"dataframe\">\n",
       "  <thead>\n",
       "    <tr style=\"text-align: right;\">\n",
       "      <th></th>\n",
       "      <th>cooking_method</th>\n",
       "      <th>ingredients</th>\n",
       "      <th>Vegetarian&amp;Desserts</th>\n",
       "      <th>Others&amp;D</th>\n",
       "    </tr>\n",
       "  </thead>\n",
       "  <tbody>\n",
       "    <tr>\n",
       "      <th>0</th>\n",
       "      <td>['Remove the small side muscle from the scallo...</td>\n",
       "      <td>['1 to 1 1/4 pounds dry sea scallops, approxim...</td>\n",
       "      <td>0</td>\n",
       "      <td>1</td>\n",
       "    </tr>\n",
       "    <tr>\n",
       "      <th>1</th>\n",
       "      <td>['With a sharp knife, slit the sausage skins l...</td>\n",
       "      <td>['4 good-quality organic Italian sausages', 'O...</td>\n",
       "      <td>0</td>\n",
       "      <td>1</td>\n",
       "    </tr>\n",
       "    <tr>\n",
       "      <th>2</th>\n",
       "      <td>['Preheat the oven to 450 degrees F.', 'Cut an...</td>\n",
       "      <td>['1 pound fresh chestnuts', '8 cups coarse fre...</td>\n",
       "      <td>0</td>\n",
       "      <td>1</td>\n",
       "    </tr>\n",
       "    <tr>\n",
       "      <th>3</th>\n",
       "      <td>['Coat pan with 2 teaspoons peanut oil.', 'Com...</td>\n",
       "      <td>['2 (15-ounce) cans black beans, drained and r...</td>\n",
       "      <td>0</td>\n",
       "      <td>1</td>\n",
       "    </tr>\n",
       "    <tr>\n",
       "      <th>4</th>\n",
       "      <td>['For the buttermilk strawberry skillet cake: ...</td>\n",
       "      <td>['5 tablespoons salted butter, at room tempera...</td>\n",
       "      <td>1</td>\n",
       "      <td>0</td>\n",
       "    </tr>\n",
       "  </tbody>\n",
       "</table>\n",
       "</div>"
      ],
      "text/plain": [
       "                                      cooking_method  \\\n",
       "0  ['Remove the small side muscle from the scallo...   \n",
       "1  ['With a sharp knife, slit the sausage skins l...   \n",
       "2  ['Preheat the oven to 450 degrees F.', 'Cut an...   \n",
       "3  ['Coat pan with 2 teaspoons peanut oil.', 'Com...   \n",
       "4  ['For the buttermilk strawberry skillet cake: ...   \n",
       "\n",
       "                                         ingredients  Vegetarian&Desserts  \\\n",
       "0  ['1 to 1 1/4 pounds dry sea scallops, approxim...                    0   \n",
       "1  ['4 good-quality organic Italian sausages', 'O...                    0   \n",
       "2  ['1 pound fresh chestnuts', '8 cups coarse fre...                    0   \n",
       "3  ['2 (15-ounce) cans black beans, drained and r...                    0   \n",
       "4  ['5 tablespoons salted butter, at room tempera...                    1   \n",
       "\n",
       "   Others&D  \n",
       "0         1  \n",
       "1         1  \n",
       "2         1  \n",
       "3         1  \n",
       "4         0  "
      ]
     },
     "execution_count": 6,
     "metadata": {},
     "output_type": "execute_result"
    }
   ],
   "source": [
    "# keep only necessary columns\n",
    "columns = ['cooking_method', 'ingredients', 'Vegetarian&Desserts', 'Others&D']\n",
    "df = df[columns]\n",
    "df.head()"
   ]
  },
  {
   "cell_type": "code",
   "execution_count": 7,
   "metadata": {},
   "outputs": [
    {
     "data": {
      "text/html": [
       "<div>\n",
       "<style scoped>\n",
       "    .dataframe tbody tr th:only-of-type {\n",
       "        vertical-align: middle;\n",
       "    }\n",
       "\n",
       "    .dataframe tbody tr th {\n",
       "        vertical-align: top;\n",
       "    }\n",
       "\n",
       "    .dataframe thead th {\n",
       "        text-align: right;\n",
       "    }\n",
       "</style>\n",
       "<table border=\"1\" class=\"dataframe\">\n",
       "  <thead>\n",
       "    <tr style=\"text-align: right;\">\n",
       "      <th></th>\n",
       "      <th>cooking_method</th>\n",
       "      <th>ingredients</th>\n",
       "      <th>Vegetarian&amp;Desserts</th>\n",
       "      <th>Others&amp;D</th>\n",
       "    </tr>\n",
       "  </thead>\n",
       "  <tbody>\n",
       "    <tr>\n",
       "      <th>1038</th>\n",
       "      <td>['Heat 1 tablespoon of the oil in large skille...</td>\n",
       "      <td>['2 tablespoons olive oil, divided', '8 bonele...</td>\n",
       "      <td>0</td>\n",
       "      <td>1</td>\n",
       "    </tr>\n",
       "    <tr>\n",
       "      <th>6808</th>\n",
       "      <td>['For the meatballs: Combine the ground beef, ...</td>\n",
       "      <td>['1 pound ground beef', '1 pound ground pork',...</td>\n",
       "      <td>0</td>\n",
       "      <td>1</td>\n",
       "    </tr>\n",
       "    <tr>\n",
       "      <th>5641</th>\n",
       "      <td>['Preheat the oven to 375 degrees F.', 'In a l...</td>\n",
       "      <td>['6 (6-ounce) boneless skinless chicken breast...</td>\n",
       "      <td>0</td>\n",
       "      <td>1</td>\n",
       "    </tr>\n",
       "    <tr>\n",
       "      <th>9556</th>\n",
       "      <td>['Wash and scrub potatoes well. Peel and cut t...</td>\n",
       "      <td>['6 large Yukon gold potatoes', '3 to 4 cloves...</td>\n",
       "      <td>0</td>\n",
       "      <td>1</td>\n",
       "    </tr>\n",
       "    <tr>\n",
       "      <th>5516</th>\n",
       "      <td>['Directions', 'Blend 2 cups spinach, 1 choppe...</td>\n",
       "      <td>[]</td>\n",
       "      <td>1</td>\n",
       "      <td>0</td>\n",
       "    </tr>\n",
       "  </tbody>\n",
       "</table>\n",
       "</div>"
      ],
      "text/plain": [
       "                                         cooking_method  \\\n",
       "1038  ['Heat 1 tablespoon of the oil in large skille...   \n",
       "6808  ['For the meatballs: Combine the ground beef, ...   \n",
       "5641  ['Preheat the oven to 375 degrees F.', 'In a l...   \n",
       "9556  ['Wash and scrub potatoes well. Peel and cut t...   \n",
       "5516  ['Directions', 'Blend 2 cups spinach, 1 choppe...   \n",
       "\n",
       "                                            ingredients  Vegetarian&Desserts  \\\n",
       "1038  ['2 tablespoons olive oil, divided', '8 bonele...                    0   \n",
       "6808  ['1 pound ground beef', '1 pound ground pork',...                    0   \n",
       "5641  ['6 (6-ounce) boneless skinless chicken breast...                    0   \n",
       "9556  ['6 large Yukon gold potatoes', '3 to 4 cloves...                    0   \n",
       "5516                                                 []                    1   \n",
       "\n",
       "      Others&D  \n",
       "1038         1  \n",
       "6808         1  \n",
       "5641         1  \n",
       "9556         1  \n",
       "5516         0  "
      ]
     },
     "execution_count": 7,
     "metadata": {},
     "output_type": "execute_result"
    }
   ],
   "source": [
    "# take 1000 samples keeping same distribution of feature 'Vegetarian&Desserts'\n",
    "df_v = df[df['Vegetarian&Desserts'] == 1].sample(n=333)\n",
    "df_nv = df[df['Others&D'] == 1].sample(n=667)\n",
    "df = pd.concat([df_v, df_nv])\n",
    "df = df.sample(frac=1)\n",
    "\n",
    "df.head()"
   ]
  },
  {
   "cell_type": "code",
   "execution_count": 8,
   "metadata": {},
   "outputs": [],
   "source": [
    "tokenizer = BertTokenizer.from_pretrained('bert-base-uncased')\n",
    "bert_model = BertModel.from_pretrained('bert-base-uncased')"
   ]
  },
  {
   "cell_type": "markdown",
   "metadata": {},
   "source": [
    "The next cell justifies why we chose `max_length` = 200 in the tokenizer"
   ]
  },
  {
   "cell_type": "code",
   "execution_count": 9,
   "metadata": {},
   "outputs": [
    {
     "data": {
      "image/png": "[encoded data removed]",
      "text/plain": [
       "<Figure size 640x480 with 1 Axes>"
      ]
     },
     "metadata": {},
     "output_type": "display_data"
    }
   ],
   "source": [
    "# histogram of the number of words in the recipes\n",
    "df['num_words'] = df['ingredients'].apply(lambda x: len(x.split()))\n",
    "df['num_words'].hist(bins=30)\n",
    "plt.xlabel('Number of Words')\n",
    "plt.ylabel('Frequency')\n",
    "plt.title('Histogram of Number of Words in Recipes')\n",
    "plt.show()"
   ]
  },
  {
   "cell_type": "code",
   "execution_count": 10,
   "metadata": {},
   "outputs": [
    {
     "name": "stdout",
     "output_type": "stream",
     "text": [
      "<class 'pandas.core.frame.DataFrame'>\n",
      "Index: 1000 entries, 1038 to 3440\n",
      "Data columns (total 5 columns):\n",
      " #   Column               Non-Null Count  Dtype \n",
      "---  ------               --------------  ----- \n",
      " 0   cooking_method       1000 non-null   object\n",
      " 1   ingredients          1000 non-null   object\n",
      " 2   Vegetarian&Desserts  1000 non-null   int64 \n",
      " 3   Others&D             1000 non-null   int64 \n",
      " 4   num_words            1000 non-null   int64 \n",
      "dtypes: int64(3), object(2)\n",
      "memory usage: 46.9+ KB\n"
     ]
    }
   ],
   "source": [
    "df.info()"
   ]
  },
  {
   "cell_type": "code",
   "execution_count": 11,
   "metadata": {},
   "outputs": [
    {
     "data": {
      "text/plain": [
       "list"
      ]
     },
     "execution_count": 11,
     "metadata": {},
     "output_type": "execute_result"
    }
   ],
   "source": [
    "# get the cooking_method as a list of strings\n",
    "cooking_methods = df['cooking_method'].values.tolist()\n",
    "type(cooking_methods)"
   ]
  },
  {
   "cell_type": "code",
   "execution_count": 12,
   "metadata": {},
   "outputs": [
    {
     "data": {
      "text/plain": [
       "\"['Heat 1 tablespoon of the oil in large skillet. Season steaks with salt, pepper and thyme and add to hot pan. Sear 2 minutes per side, until golden brown. Add bourbon and cook 1 minute. Add 1/2 cup of the beef broth and bring to a simmer. Cook 2 minutes, until cooked to medium. Remove steaks from pan and transfer 4 of them to a serving platter. Reserve 4 steaks for another meal.', 'Dissolve cornstarch in remaining beef broth and add to pan. Simmer 1 minute, until sauce thickens. Spoon sauce over steaks before serving.', 'In a medium saucepan, bring chicken broth to a boil. Add rice, almonds, cranberries and herb seasoning, reduce heat to low, cover and cook 5 minutes, until liquid is absorbed. Remove from heat, stir in parsley and season with salt and pepper.']\""
      ]
     },
     "execution_count": 12,
     "metadata": {},
     "output_type": "execute_result"
    }
   ],
   "source": [
    "cooking_methods[0]"
   ]
  },
  {
   "cell_type": "code",
   "execution_count": 13,
   "metadata": {},
   "outputs": [
    {
     "name": "stderr",
     "output_type": "stream",
     "text": [
      "  0%|          | 0/15 [00:00<?, ?it/s]"
     ]
    },
    {
     "ename": "",
     "evalue": "",
     "output_type": "error",
     "traceback": [
      "\u001b[1;31mThe Kernel crashed while executing code in the current cell or a previous cell. \n",
      "\u001b[1;31mPlease review the code in the cell(s) to identify a possible cause of the failure. \n",
      "\u001b[1;31mClick <a href='https://aka.ms/vscodeJupyterKernelCrash'>here</a> for more info. \n",
      "\u001b[1;31mView Jupyter <a href='command:jupyter.viewOutput'>log</a> for further details."
     ]
    }
   ],
   "source": [
    "# Load and preprocess your dataset\n",
    "X = cooking_methods\n",
    "y = df['Vegetarian&Desserts'].values\n",
    "\n",
    "X_train, X_val, y_train, y_val = train_test_split(X, y, test_size=0.2, random_state=42)\n",
    "\n",
    "# Tokenize the text data using BERT tokenizer\n",
    "max_length = 200  # Adjust as needed\n",
    "X_train_encodings = tokenizer(X_train, truncation=True, padding=True, max_length=max_length, return_tensors='pt')\n",
    "X_val_encodings = tokenizer(X_val, truncation=True, padding=True, max_length=max_length, return_tensors='pt')\n",
    "\n",
    "# Define the model architecture\n",
    "class CustomClassifier(nn.Module):\n",
    "    def __init__(self, bert_model, num_classes):\n",
    "        super(CustomClassifier, self).__init__()\n",
    "        self.bert = bert_model\n",
    "        self.fc1 = nn.Linear(self.bert.config.hidden_size, 16)\n",
    "        self.fc2 = nn.Linear(16, 5)\n",
    "        self.output = nn.Linear(5, num_classes)\n",
    "\n",
    "    def forward(self, input_ids, attention_mask, token_type_ids=None):\n",
    "        outputs = self.bert(input_ids=input_ids, attention_mask=attention_mask, token_type_ids=token_type_ids)\n",
    "        pooled_output = outputs.pooler_output\n",
    "        x = torch.relu(self.fc1(pooled_output))\n",
    "        x = torch.relu(self.fc2(x))\n",
    "        logits = self.output(x)\n",
    "        return logits\n",
    "\n",
    "# Initialize the model, optimizer, and loss function\n",
    "model = CustomClassifier(bert_model=bert_model, num_classes=2)\n",
    "optimizer = optim.AdamW(model.parameters(), lr=1e-5)\n",
    "criterion = nn.CrossEntropyLoss()\n",
    "\n",
    "# Training loop\n",
    "num_epochs = 15  # Adjust as needed\n",
    "model.train()\n",
    "for epoch in tqdm(range(num_epochs)):\n",
    "    optimizer.zero_grad()\n",
    "    outputs = model(**X_train_encodings)\n",
    "    loss = criterion(outputs.logits, y_train)\n",
    "    loss.backward()\n",
    "    optimizer.step()\n",
    "    print(f'Epoch {epoch + 1}/{num_epochs}, Loss: {loss.item()}')\n",
    "\n",
    "# Evaluation\n",
    "model.eval()\n",
    "with torch.no_grad():\n",
    "    outputs = model(**X_val_encodings)\n",
    "    predicted_labels = torch.argmax(outputs.logits, dim=1)\n",
    "    accuracy = (predicted_labels == y_val).float().mean().item()\n",
    "    print(f'Validation Accuracy: {accuracy}')"
   ]
  },
  {
   "cell_type": "code",
   "execution_count": null,
   "metadata": {},
   "outputs": [],
   "source": []
  },
  {
   "cell_type": "code",
   "execution_count": 12,
   "metadata": {},
   "outputs": [],
   "source": [
    "# Tokenize and encode the recipe texts\n",
    "max_length = 200  # Maximum sequence length for BERT\n",
    "encoded_inputs = tokenizer(cooking_methods, padding=True, truncation=True, max_length=max_length, return_tensors='pt')"
   ]
  },
  {
   "cell_type": "code",
   "execution_count": 13,
   "metadata": {},
   "outputs": [],
   "source": [
    "# Define a simple classifier on top of BERT\n",
    "class RecipeClassifier(nn.Module):\n",
    "    def __init__(self, bert_model, num_classes, hidden_size=128, dropout_prob=0.1):\n",
    "        super(RecipeClassifier, self).__init__()\n",
    "        self.bert = bert_model\n",
    "        self.dropout = nn.Dropout(dropout_prob)\n",
    "        self.fc1 = nn.Linear(self.bert.config.hidden_size, hidden_size)\n",
    "        self.fc2 = nn.Linear(hidden_size, 64)\n",
    "        self.fc3 = nn.Linear(64, num_classes)\n",
    "\n",
    "    def forward(self, input_ids, attention_mask):\n",
    "        outputs = self.bert(input_ids=input_ids, attention_mask=attention_mask)\n",
    "        pooled_output = outputs.pooler_output\n",
    "        x = self.dropout(pooled_output)\n",
    "        x = F.relu(self.fc1(x))\n",
    "        x = F.relu(self.fc2(x))\n",
    "        logits = self.fc3(x)\n",
    "        return logits"
   ]
  },
  {
   "cell_type": "code",
   "execution_count": 14,
   "metadata": {},
   "outputs": [],
   "source": [
    "# Instantiate the recipe classifier model\n",
    "num_classes = 2  # Vegetarian or non-vegetarian\n",
    "recipe_classifier = RecipeClassifier(bert_model, num_classes)\n",
    "\n",
    "# Perform classification\n",
    "with torch.no_grad():\n",
    "    logits = recipe_classifier(encoded_inputs['input_ids'], encoded_inputs['attention_mask'])\n",
    "    probabilities = F.softmax(logits, dim=1)\n",
    "    predicted_labels = torch.argmax(probabilities, dim=1)"
   ]
  },
  {
   "cell_type": "code",
   "execution_count": 15,
   "metadata": {},
   "outputs": [
    {
     "data": {
      "text/plain": [
       "torch.Tensor"
      ]
     },
     "execution_count": 15,
     "metadata": {},
     "output_type": "execute_result"
    }
   ],
   "source": [
    "# see data type of predicted_labels\n",
    "type(predicted_labels)"
   ]
  },
  {
   "cell_type": "code",
   "execution_count": 16,
   "metadata": {},
   "outputs": [
    {
     "data": {
      "text/plain": [
       "numpy.ndarray"
      ]
     },
     "execution_count": 16,
     "metadata": {},
     "output_type": "execute_result"
    }
   ],
   "source": [
    "# convert to numpy array\n",
    "predicted_labels = predicted_labels.numpy()\n",
    "\n",
    "# consider the column 'Vegetarian&Desserts' as the true labels\n",
    "true_labels = df['Vegetarian&Desserts'].values\n",
    "type(true_labels)"
   ]
  },
  {
   "cell_type": "code",
   "execution_count": 17,
   "metadata": {},
   "outputs": [
    {
     "name": "stdout",
     "output_type": "stream",
     "text": [
      "              precision    recall  f1-score   support\n",
      "\n",
      "           0       0.67      1.00      0.80       667\n",
      "           1       0.00      0.00      0.00       333\n",
      "\n",
      "    accuracy                           0.67      1000\n",
      "   macro avg       0.33      0.50      0.40      1000\n",
      "weighted avg       0.44      0.67      0.53      1000\n",
      "\n",
      "[[667   0]\n",
      " [333   0]]\n"
     ]
    },
    {
     "name": "stderr",
     "output_type": "stream",
     "text": [
      "/Users/irene/VSCodeProjects/HLT-Project/.venv/lib/python3.11/site-packages/sklearn/metrics/_classification.py:1509: UndefinedMetricWarning: Precision is ill-defined and being set to 0.0 in labels with no predicted samples. Use `zero_division` parameter to control this behavior.\n",
      "  _warn_prf(average, modifier, f\"{metric.capitalize()} is\", len(result))\n",
      "/Users/irene/VSCodeProjects/HLT-Project/.venv/lib/python3.11/site-packages/sklearn/metrics/_classification.py:1509: UndefinedMetricWarning: Precision is ill-defined and being set to 0.0 in labels with no predicted samples. Use `zero_division` parameter to control this behavior.\n",
      "  _warn_prf(average, modifier, f\"{metric.capitalize()} is\", len(result))\n",
      "/Users/irene/VSCodeProjects/HLT-Project/.venv/lib/python3.11/site-packages/sklearn/metrics/_classification.py:1509: UndefinedMetricWarning: Precision is ill-defined and being set to 0.0 in labels with no predicted samples. Use `zero_division` parameter to control this behavior.\n",
      "  _warn_prf(average, modifier, f\"{metric.capitalize()} is\", len(result))\n"
     ]
    }
   ],
   "source": [
    "# classification report\n",
    "print(classification_report(true_labels, predicted_labels))\n",
    "\n",
    "# confusion matrix\n",
    "cm = confusion_matrix(true_labels, predicted_labels)\n",
    "print(cm)"
   ]
  },
  {
   "cell_type": "markdown",
   "metadata": {},
   "source": [
    "---"
   ]
  },
  {
   "cell_type": "markdown",
   "metadata": {},
   "source": [
    "## Separate Embeddings and NN"
   ]
  },
  {
   "cell_type": "markdown",
   "metadata": {},
   "source": [
    "### Prepare the dataset"
   ]
  },
  {
   "cell_type": "code",
   "execution_count": 3,
   "metadata": {},
   "outputs": [],
   "source": [
    "df = pd.read_csv('./dataset/recipes_df_r.csv')\n",
    "columns = ['cooking_method', 'ingredients', 'Vegetarian&Desserts']\n",
    "df = df[columns]"
   ]
  },
  {
   "cell_type": "code",
   "execution_count": 4,
   "metadata": {},
   "outputs": [
    {
     "data": {
      "text/html": [
       "<div>\n",
       "<style scoped>\n",
       "    .dataframe tbody tr th:only-of-type {\n",
       "        vertical-align: middle;\n",
       "    }\n",
       "\n",
       "    .dataframe tbody tr th {\n",
       "        vertical-align: top;\n",
       "    }\n",
       "\n",
       "    .dataframe thead th {\n",
       "        text-align: right;\n",
       "    }\n",
       "</style>\n",
       "<table border=\"1\" class=\"dataframe\">\n",
       "  <thead>\n",
       "    <tr style=\"text-align: right;\">\n",
       "      <th></th>\n",
       "      <th>cooking_method</th>\n",
       "      <th>ingredients</th>\n",
       "      <th>Vegetarian&amp;Desserts</th>\n",
       "    </tr>\n",
       "  </thead>\n",
       "  <tbody>\n",
       "    <tr>\n",
       "      <th>7980</th>\n",
       "      <td>['For the raita: Place the cucumber and tomato...</td>\n",
       "      <td>['1 cucumber, peeled, seeded and grated', '1 l...</td>\n",
       "      <td>0</td>\n",
       "    </tr>\n",
       "    <tr>\n",
       "      <th>3699</th>\n",
       "      <td>['Set aside 16 of the smallest strawberries an...</td>\n",
       "      <td>['1 pound strawberries', '1 tablespoon lemon j...</td>\n",
       "      <td>1</td>\n",
       "    </tr>\n",
       "    <tr>\n",
       "      <th>85</th>\n",
       "      <td>['Chop leeks and in a bowl of cold water wash ...</td>\n",
       "      <td>['6 leeks, (about 1 1/2 pounds total, white an...</td>\n",
       "      <td>0</td>\n",
       "    </tr>\n",
       "    <tr>\n",
       "      <th>5048</th>\n",
       "      <td>['Preheat the oven to 350 degrees F. Line a st...</td>\n",
       "      <td>['1 1/2 cups unbleached flour', 'Coconut Custa...</td>\n",
       "      <td>1</td>\n",
       "    </tr>\n",
       "    <tr>\n",
       "      <th>6145</th>\n",
       "      <td>[\"In a stock pot over medium heat, add the oli...</td>\n",
       "      <td>['3 tablespoons olive oil', '1 cup chopped oni...</td>\n",
       "      <td>0</td>\n",
       "    </tr>\n",
       "  </tbody>\n",
       "</table>\n",
       "</div>"
      ],
      "text/plain": [
       "                                         cooking_method  \\\n",
       "7980  ['For the raita: Place the cucumber and tomato...   \n",
       "3699  ['Set aside 16 of the smallest strawberries an...   \n",
       "85    ['Chop leeks and in a bowl of cold water wash ...   \n",
       "5048  ['Preheat the oven to 350 degrees F. Line a st...   \n",
       "6145  [\"In a stock pot over medium heat, add the oli...   \n",
       "\n",
       "                                            ingredients  Vegetarian&Desserts  \n",
       "7980  ['1 cucumber, peeled, seeded and grated', '1 l...                    0  \n",
       "3699  ['1 pound strawberries', '1 tablespoon lemon j...                    1  \n",
       "85    ['6 leeks, (about 1 1/2 pounds total, white an...                    0  \n",
       "5048  ['1 1/2 cups unbleached flour', 'Coconut Custa...                    1  \n",
       "6145  ['3 tablespoons olive oil', '1 cup chopped oni...                    0  "
      ]
     },
     "execution_count": 4,
     "metadata": {},
     "output_type": "execute_result"
    }
   ],
   "source": [
    "# take 1000 samples keeping same distribution of feature 'Vegetarian&Desserts'\n",
    "df_v = df[df['Vegetarian&Desserts'] == 1].sample(n=333*2)\n",
    "df_nv = df[df['Vegetarian&Desserts'] == 0].sample(n=667*2)\n",
    "df = pd.concat([df_v, df_nv])\n",
    "df = df.sample(frac=1)\n",
    "\n",
    "df.head()"
   ]
  },
  {
   "cell_type": "code",
   "execution_count": 5,
   "metadata": {},
   "outputs": [
    {
     "data": {
      "text/plain": [
       "list"
      ]
     },
     "execution_count": 5,
     "metadata": {},
     "output_type": "execute_result"
    }
   ],
   "source": [
    "# get the cooking_method as a list of strings\n",
    "cooking_methods = df['cooking_method'].values.tolist()\n",
    "type(cooking_methods)"
   ]
  },
  {
   "cell_type": "code",
   "execution_count": 6,
   "metadata": {},
   "outputs": [
    {
     "name": "stderr",
     "output_type": "stream",
     "text": [
      "Some weights of the PyTorch model were not used when initializing the TF 2.0 model TFBertModel: ['cls.predictions.transform.LayerNorm.bias', 'cls.seq_relationship.bias', 'cls.predictions.transform.dense.weight', 'cls.predictions.transform.dense.bias', 'cls.predictions.bias', 'cls.seq_relationship.weight', 'cls.predictions.transform.LayerNorm.weight']\n",
      "- This IS expected if you are initializing TFBertModel from a PyTorch model trained on another task or with another architecture (e.g. initializing a TFBertForSequenceClassification model from a BertForPreTraining model).\n",
      "- This IS NOT expected if you are initializing TFBertModel from a PyTorch model that you expect to be exactly identical (e.g. initializing a TFBertForSequenceClassification model from a BertForSequenceClassification model).\n",
      "All the weights of TFBertModel were initialized from the PyTorch model.\n",
      "If your task is similar to the task the model of the checkpoint was trained on, you can already use TFBertModel for predictions without further training.\n"
     ]
    },
    {
     "data": {
      "text/plain": [
       "\"tokenizer = BertTokenizer.from_pretrained('bert-base-uncased')\\nbert_model = BertModel.from_pretrained('bert-base-uncased')\""
      ]
     },
     "execution_count": 6,
     "metadata": {},
     "output_type": "execute_result"
    }
   ],
   "source": [
    "# Load pre-trained BERT tokenizer and model\n",
    "tokenizer = BertTokenizer.from_pretrained('bert-base-uncased')\n",
    "bert_model = TFBertModel.from_pretrained('bert-base-uncased')\n",
    "\n",
    "'''tokenizer = BertTokenizer.from_pretrained('bert-base-uncased')\n",
    "bert_model = BertModel.from_pretrained('bert-base-uncased')'''"
   ]
  },
  {
   "cell_type": "code",
   "execution_count": 7,
   "metadata": {},
   "outputs": [],
   "source": [
    "X = cooking_methods\n",
    "y = df['Vegetarian&Desserts'].values\n",
    "\n",
    "# Assuming 'X' contains your input data (cooking methods) and 'y' contains the target labels\n",
    "X_train, X_val, y_train, y_val = train_test_split(X, y, test_size=0.2, random_state=42)\n",
    "\n",
    "# Tokenize input data using BERT tokenizer\n",
    "max_length = 200  \n",
    "X_train_encodings = tokenizer(X_train, truncation=True, padding=True, max_length=max_length, return_tensors='tf')\n",
    "X_val_encodings = tokenizer(X_val, truncation=True, padding=True, max_length=max_length, return_tensors='tf')\n",
    "\n",
    "# Obtain BERT embeddings\n",
    "train_outputs = bert_model(X_train_encodings)\n",
    "val_outputs = bert_model(X_val_encodings)"
   ]
  },
  {
   "cell_type": "code",
   "execution_count": 8,
   "metadata": {},
   "outputs": [],
   "source": [
    "# Extract BERT embeddings\n",
    "train_embeddings = train_outputs.last_hidden_state\n",
    "val_embeddings = val_outputs.last_hidden_state"
   ]
  },
  {
   "cell_type": "code",
   "execution_count": 9,
   "metadata": {},
   "outputs": [
    {
     "data": {
      "text/plain": [
       "(TensorShape([1600, 200, 768]), TensorShape([400, 200, 768]))"
      ]
     },
     "execution_count": 9,
     "metadata": {},
     "output_type": "execute_result"
    }
   ],
   "source": [
    "train_embeddings.shape, val_embeddings.shape"
   ]
  },
  {
   "cell_type": "code",
   "execution_count": 10,
   "metadata": {},
   "outputs": [
    {
     "data": {
      "text/plain": [
       "tensorflow.python.framework.ops.EagerTensor"
      ]
     },
     "execution_count": 10,
     "metadata": {},
     "output_type": "execute_result"
    }
   ],
   "source": [
    "type(train_embeddings)"
   ]
  },
  {
   "cell_type": "code",
   "execution_count": 11,
   "metadata": {},
   "outputs": [
    {
     "data": {
      "text/plain": [
       "(1600, 200, 768)"
      ]
     },
     "execution_count": 11,
     "metadata": {},
     "output_type": "execute_result"
    }
   ],
   "source": [
    "(train_embeddings.numpy()).shape"
   ]
  },
  {
   "cell_type": "code",
   "execution_count": 12,
   "metadata": {},
   "outputs": [
    {
     "data": {
      "text/plain": [
       "((1600,), (400,))"
      ]
     },
     "execution_count": 12,
     "metadata": {},
     "output_type": "execute_result"
    }
   ],
   "source": [
    "y_train.shape, y_val.shape"
   ]
  },
  {
   "cell_type": "code",
   "execution_count": 13,
   "metadata": {},
   "outputs": [
    {
     "data": {
      "text/plain": [
       "((1600, 1), (400, 1))"
      ]
     },
     "execution_count": 13,
     "metadata": {},
     "output_type": "execute_result"
    }
   ],
   "source": [
    "# reshape y_train and y_val\n",
    "y_train = y_train.reshape(-1, 1)\n",
    "y_val = y_val.reshape(-1, 1)\n",
    "\n",
    "y_train.shape, y_val.shape"
   ]
  },
  {
   "cell_type": "code",
   "execution_count": 18,
   "metadata": {},
   "outputs": [
    {
     "name": "stdout",
     "output_type": "stream",
     "text": [
      "Epoch 1/10\n",
      "\u001b[1m160/160\u001b[0m \u001b[32m━━━━━━━━━━━━━━━━━━━━\u001b[0m\u001b[37m\u001b[0m \u001b[1m5s\u001b[0m 29ms/step - accuracy: 0.7047 - loss: 0.6005\n",
      "Epoch 2/10\n",
      "\u001b[1m160/160\u001b[0m \u001b[32m━━━━━━━━━━━━━━━━━━━━\u001b[0m\u001b[37m\u001b[0m \u001b[1m5s\u001b[0m 29ms/step - accuracy: 0.8287 - loss: 0.3739\n",
      "Epoch 3/10\n",
      "\u001b[1m160/160\u001b[0m \u001b[32m━━━━━━━━━━━━━━━━━━━━\u001b[0m\u001b[37m\u001b[0m \u001b[1m5s\u001b[0m 28ms/step - accuracy: 0.9198 - loss: 0.2339\n",
      "Epoch 4/10\n",
      "\u001b[1m160/160\u001b[0m \u001b[32m━━━━━━━━━━━━━━━━━━━━\u001b[0m\u001b[37m\u001b[0m \u001b[1m5s\u001b[0m 28ms/step - accuracy: 0.9791 - loss: 0.1296\n",
      "Epoch 5/10\n",
      "\u001b[1m160/160\u001b[0m \u001b[32m━━━━━━━━━━━━━━━━━━━━\u001b[0m\u001b[37m\u001b[0m \u001b[1m5s\u001b[0m 28ms/step - accuracy: 0.9858 - loss: 0.0934\n",
      "Epoch 6/10\n",
      "\u001b[1m160/160\u001b[0m \u001b[32m━━━━━━━━━━━━━━━━━━━━\u001b[0m\u001b[37m\u001b[0m \u001b[1m5s\u001b[0m 28ms/step - accuracy: 0.9942 - loss: 0.0590\n",
      "Epoch 7/10\n",
      "\u001b[1m160/160\u001b[0m \u001b[32m━━━━━━━━━━━━━━━━━━━━\u001b[0m\u001b[37m\u001b[0m \u001b[1m5s\u001b[0m 29ms/step - accuracy: 0.9966 - loss: 0.0450\n",
      "Epoch 8/10\n",
      "\u001b[1m160/160\u001b[0m \u001b[32m━━━━━━━━━━━━━━━━━━━━\u001b[0m\u001b[37m\u001b[0m \u001b[1m5s\u001b[0m 28ms/step - accuracy: 0.9975 - loss: 0.0356\n",
      "Epoch 9/10\n",
      "\u001b[1m160/160\u001b[0m \u001b[32m━━━━━━━━━━━━━━━━━━━━\u001b[0m\u001b[37m\u001b[0m \u001b[1m5s\u001b[0m 29ms/step - accuracy: 1.0000 - loss: 0.0210\n",
      "Epoch 10/10\n",
      "\u001b[1m160/160\u001b[0m \u001b[32m━━━━━━━━━━━━━━━━━━━━\u001b[0m\u001b[37m\u001b[0m \u001b[1m5s\u001b[0m 30ms/step - accuracy: 0.9997 - loss: 0.0179\n"
     ]
    }
   ],
   "source": [
    "# Define feedforward neural network for classification using Keras\n",
    "input_layer = Input(shape=(max_length, 768))  # BERT embedding size is 768\n",
    "flatten_layer = Flatten()(input_layer)  # Flatten the BERT embeddings\n",
    "dense_layer1 = Dense(128, activation='relu')(flatten_layer)\n",
    "dropout_layer = Dropout(0.2)(dense_layer1)\n",
    "dense_layer2 = Dense(64, activation='relu')(dropout_layer)\n",
    "output_layer = Dense(1, activation='sigmoid')(dense_layer2)  # Assuming binary classification\n",
    "\n",
    "# Compile the model\n",
    "model = Model(inputs=input_layer, outputs=output_layer)\n",
    "model.compile(optimizer=Adam(learning_rate=1e-5), loss='binary_crossentropy', metrics=['accuracy'])\n",
    "\n",
    "# Train the model\n",
    "history = model.fit(train_embeddings.numpy(), y_train, epochs=10, batch_size=10, verbose=True)"
   ]
  },
  {
   "cell_type": "code",
   "execution_count": 19,
   "metadata": {},
   "outputs": [
    {
     "name": "stdout",
     "output_type": "stream",
     "text": [
      "\u001b[1m13/13\u001b[0m \u001b[32m━━━━━━━━━━━━━━━━━━━━\u001b[0m\u001b[37m\u001b[0m \u001b[1m0s\u001b[0m 5ms/step\n",
      "              precision    recall  f1-score   support\n",
      "\n",
      "           0       0.78      0.92      0.84       251\n",
      "           1       0.81      0.55      0.66       149\n",
      "\n",
      "    accuracy                           0.79       400\n",
      "   macro avg       0.79      0.74      0.75       400\n",
      "weighted avg       0.79      0.79      0.77       400\n",
      "\n",
      "[[232  19]\n",
      " [ 67  82]]\n"
     ]
    }
   ],
   "source": [
    "# predict the output and compare with y_val\n",
    "predicted_labels = model.predict(val_embeddings.numpy())\n",
    "predicted_labels = (predicted_labels > 0.5).astype(int)\n",
    "\n",
    "# classification report\n",
    "print(classification_report(y_val, predicted_labels))\n",
    "\n",
    "# confusion matrix\n",
    "cm = confusion_matrix(y_val, predicted_labels)\n",
    "print(cm)"
   ]
  },
  {
   "cell_type": "markdown",
   "metadata": {},
   "source": [
    "## Provare con 50% veg e 50% non veg"
   ]
  },
  {
   "cell_type": "code",
   "execution_count": 23,
   "metadata": {},
   "outputs": [
    {
     "data": {
      "text/html": [
       "<div>\n",
       "<style scoped>\n",
       "    .dataframe tbody tr th:only-of-type {\n",
       "        vertical-align: middle;\n",
       "    }\n",
       "\n",
       "    .dataframe tbody tr th {\n",
       "        vertical-align: top;\n",
       "    }\n",
       "\n",
       "    .dataframe thead th {\n",
       "        text-align: right;\n",
       "    }\n",
       "</style>\n",
       "<table border=\"1\" class=\"dataframe\">\n",
       "  <thead>\n",
       "    <tr style=\"text-align: right;\">\n",
       "      <th></th>\n",
       "      <th>cooking_method</th>\n",
       "      <th>ingredients</th>\n",
       "      <th>Vegetarian&amp;Desserts</th>\n",
       "    </tr>\n",
       "  </thead>\n",
       "  <tbody>\n",
       "    <tr>\n",
       "      <th>533</th>\n",
       "      <td>['For the bread pudding: Preheat the oven to 3...</td>\n",
       "      <td>['Butter or cooking spray, for ramekins', '3 c...</td>\n",
       "      <td>1</td>\n",
       "    </tr>\n",
       "    <tr>\n",
       "      <th>7300</th>\n",
       "      <td>['Preheat a grill pan to medium-high heat. Dri...</td>\n",
       "      <td>['1 pound flank steak', '1/4 cup olive oil, pl...</td>\n",
       "      <td>0</td>\n",
       "    </tr>\n",
       "    <tr>\n",
       "      <th>5380</th>\n",
       "      <td>['Preheat the oven to 325 degrees F. Lightly b...</td>\n",
       "      <td>['1/2 pound (2 sticks) unsalted butter, plus e...</td>\n",
       "      <td>1</td>\n",
       "    </tr>\n",
       "    <tr>\n",
       "      <th>4691</th>\n",
       "      <td>['Preheat oven to 350 degrees F.', 'For the ca...</td>\n",
       "      <td>['3 tablespoons butter', '1 tablespoon minced ...</td>\n",
       "      <td>0</td>\n",
       "    </tr>\n",
       "    <tr>\n",
       "      <th>4197</th>\n",
       "      <td>['For the rice: Place the rice, 3 cups water, ...</td>\n",
       "      <td>['1 1/2 cups long-grain white rice, rinsed', '...</td>\n",
       "      <td>1</td>\n",
       "    </tr>\n",
       "  </tbody>\n",
       "</table>\n",
       "</div>"
      ],
      "text/plain": [
       "                                         cooking_method  \\\n",
       "533   ['For the bread pudding: Preheat the oven to 3...   \n",
       "7300  ['Preheat a grill pan to medium-high heat. Dri...   \n",
       "5380  ['Preheat the oven to 325 degrees F. Lightly b...   \n",
       "4691  ['Preheat oven to 350 degrees F.', 'For the ca...   \n",
       "4197  ['For the rice: Place the rice, 3 cups water, ...   \n",
       "\n",
       "                                            ingredients  Vegetarian&Desserts  \n",
       "533   ['Butter or cooking spray, for ramekins', '3 c...                    1  \n",
       "7300  ['1 pound flank steak', '1/4 cup olive oil, pl...                    0  \n",
       "5380  ['1/2 pound (2 sticks) unsalted butter, plus e...                    1  \n",
       "4691  ['3 tablespoons butter', '1 tablespoon minced ...                    0  \n",
       "4197  ['1 1/2 cups long-grain white rice, rinsed', '...                    1  "
      ]
     },
     "execution_count": 23,
     "metadata": {},
     "output_type": "execute_result"
    }
   ],
   "source": [
    "df = pd.read_csv('./dataset/recipes_df_r.csv')\n",
    "columns = ['cooking_method', 'ingredients', 'Vegetarian&Desserts']\n",
    "df = df[columns]\n",
    "\n",
    "# take 1000 samples keeping same distribution of feature 'Vegetarian&Desserts'\n",
    "df_v = df[df['Vegetarian&Desserts'] == 1].sample(n=1500)\n",
    "df_nv = df[df['Vegetarian&Desserts'] == 0].sample(n=1500)\n",
    "df = pd.concat([df_v, df_nv])\n",
    "df = df.sample(frac=1)\n",
    "df.head()"
   ]
  },
  {
   "cell_type": "code",
   "execution_count": 24,
   "metadata": {},
   "outputs": [
    {
     "name": "stderr",
     "output_type": "stream",
     "text": [
      "Some weights of the PyTorch model were not used when initializing the TF 2.0 model TFBertModel: ['cls.predictions.transform.LayerNorm.bias', 'cls.seq_relationship.bias', 'cls.predictions.transform.dense.weight', 'cls.predictions.transform.dense.bias', 'cls.predictions.bias', 'cls.seq_relationship.weight', 'cls.predictions.transform.LayerNorm.weight']\n",
      "- This IS expected if you are initializing TFBertModel from a PyTorch model trained on another task or with another architecture (e.g. initializing a TFBertForSequenceClassification model from a BertForPreTraining model).\n",
      "- This IS NOT expected if you are initializing TFBertModel from a PyTorch model that you expect to be exactly identical (e.g. initializing a TFBertForSequenceClassification model from a BertForSequenceClassification model).\n",
      "All the weights of TFBertModel were initialized from the PyTorch model.\n",
      "If your task is similar to the task the model of the checkpoint was trained on, you can already use TFBertModel for predictions without further training.\n"
     ]
    }
   ],
   "source": [
    "# get the cooking_method as a list of strings\n",
    "cooking_methods = df['cooking_method'].values.tolist()\n",
    "type(cooking_methods)\n",
    "\n",
    "# Load pre-trained BERT tokenizer and model\n",
    "tokenizer = BertTokenizer.from_pretrained('bert-base-uncased')\n",
    "bert_model = TFBertModel.from_pretrained('bert-base-uncased')\n",
    "\n",
    "'''tokenizer = BertTokenizer.from_pretrained('bert-base-uncased')\n",
    "bert_model = BertModel.from_pretrained('bert-base-uncased')'''\n",
    "X = cooking_methods\n",
    "y = df['Vegetarian&Desserts'].values\n",
    "\n",
    "# Assuming 'X' contains your input data (cooking methods) and 'y' contains the target labels\n",
    "X_train, X_val, y_train, y_val = train_test_split(X, y, test_size=0.2, random_state=42, stratify=y)"
   ]
  },
  {
   "cell_type": "code",
   "execution_count": 25,
   "metadata": {},
   "outputs": [
    {
     "data": {
      "text/plain": [
       "(TensorShape([2400, 200, 768]), TensorShape([600, 200, 768]))"
      ]
     },
     "execution_count": 25,
     "metadata": {},
     "output_type": "execute_result"
    }
   ],
   "source": [
    "# Tokenize input data using BERT tokenizer\n",
    "max_length = 200  \n",
    "X_train_encodings = tokenizer(X_train, truncation=True, padding=True, max_length=max_length, return_tensors='tf')\n",
    "X_val_encodings = tokenizer(X_val, truncation=True, padding=True, max_length=max_length, return_tensors='tf')\n",
    "\n",
    "# Obtain BERT embeddings\n",
    "train_outputs = bert_model(X_train_encodings)\n",
    "val_outputs = bert_model(X_val_encodings)\n",
    "\n",
    "# Extract BERT embeddings\n",
    "train_embeddings = train_outputs.last_hidden_state\n",
    "val_embeddings = val_outputs.last_hidden_state\n",
    "train_embeddings.shape, val_embeddings.shape"
   ]
  },
  {
   "cell_type": "code",
   "execution_count": null,
   "metadata": {},
   "outputs": [],
   "source": []
  },
  {
   "cell_type": "code",
   "execution_count": 51,
   "metadata": {},
   "outputs": [
    {
     "name": "stdout",
     "output_type": "stream",
     "text": [
      "Epoch 1/30\n",
      "\u001b[1m75/75\u001b[0m \u001b[32m━━━━━━━━━━━━━━━━━━━━\u001b[0m\u001b[37m\u001b[0m \u001b[1m2s\u001b[0m 18ms/step - accuracy: 0.5146 - loss: 0.6968\n",
      "Epoch 2/30\n",
      "\u001b[1m75/75\u001b[0m \u001b[32m━━━━━━━━━━━━━━━━━━━━\u001b[0m\u001b[37m\u001b[0m \u001b[1m1s\u001b[0m 17ms/step - accuracy: 0.5791 - loss: 0.6759\n",
      "Epoch 3/30\n",
      "\u001b[1m75/75\u001b[0m \u001b[32m━━━━━━━━━━━━━━━━━━━━\u001b[0m\u001b[37m\u001b[0m \u001b[1m1s\u001b[0m 16ms/step - accuracy: 0.6571 - loss: 0.6279\n",
      "Epoch 4/30\n",
      "\u001b[1m75/75\u001b[0m \u001b[32m━━━━━━━━━━━━━━━━━━━━\u001b[0m\u001b[37m\u001b[0m \u001b[1m1s\u001b[0m 17ms/step - accuracy: 0.7152 - loss: 0.5592\n",
      "Epoch 5/30\n",
      "\u001b[1m75/75\u001b[0m \u001b[32m━━━━━━━━━━━━━━━━━━━━\u001b[0m\u001b[37m\u001b[0m \u001b[1m1s\u001b[0m 17ms/step - accuracy: 0.7675 - loss: 0.5025\n",
      "Epoch 6/30\n",
      "\u001b[1m75/75\u001b[0m \u001b[32m━━━━━━━━━━━━━━━━━━━━\u001b[0m\u001b[37m\u001b[0m \u001b[1m1s\u001b[0m 19ms/step - accuracy: 0.8053 - loss: 0.4781\n",
      "Epoch 7/30\n",
      "\u001b[1m75/75\u001b[0m \u001b[32m━━━━━━━━━━━━━━━━━━━━\u001b[0m\u001b[37m\u001b[0m \u001b[1m1s\u001b[0m 19ms/step - accuracy: 0.8154 - loss: 0.4486\n",
      "Epoch 8/30\n",
      "\u001b[1m75/75\u001b[0m \u001b[32m━━━━━━━━━━━━━━━━━━━━\u001b[0m\u001b[37m\u001b[0m \u001b[1m1s\u001b[0m 17ms/step - accuracy: 0.8359 - loss: 0.4120\n",
      "Epoch 9/30\n",
      "\u001b[1m75/75\u001b[0m \u001b[32m━━━━━━━━━━━━━━━━━━━━\u001b[0m\u001b[37m\u001b[0m \u001b[1m1s\u001b[0m 17ms/step - accuracy: 0.8404 - loss: 0.3937\n",
      "Epoch 10/30\n",
      "\u001b[1m75/75\u001b[0m \u001b[32m━━━━━━━━━━━━━━━━━━━━\u001b[0m\u001b[37m\u001b[0m \u001b[1m1s\u001b[0m 17ms/step - accuracy: 0.8795 - loss: 0.3477\n",
      "Epoch 11/30\n",
      "\u001b[1m75/75\u001b[0m \u001b[32m━━━━━━━━━━━━━━━━━━━━\u001b[0m\u001b[37m\u001b[0m \u001b[1m1s\u001b[0m 17ms/step - accuracy: 0.8834 - loss: 0.3212\n",
      "Epoch 12/30\n",
      "\u001b[1m75/75\u001b[0m \u001b[32m━━━━━━━━━━━━━━━━━━━━\u001b[0m\u001b[37m\u001b[0m \u001b[1m1s\u001b[0m 17ms/step - accuracy: 0.8824 - loss: 0.3208\n",
      "Epoch 13/30\n",
      "\u001b[1m75/75\u001b[0m \u001b[32m━━━━━━━━━━━━━━━━━━━━\u001b[0m\u001b[37m\u001b[0m \u001b[1m1s\u001b[0m 17ms/step - accuracy: 0.9217 - loss: 0.2795\n",
      "Epoch 14/30\n",
      "\u001b[1m75/75\u001b[0m \u001b[32m━━━━━━━━━━━━━━━━━━━━\u001b[0m\u001b[37m\u001b[0m \u001b[1m1s\u001b[0m 17ms/step - accuracy: 0.9058 - loss: 0.2786\n",
      "Epoch 15/30\n",
      "\u001b[1m75/75\u001b[0m \u001b[32m━━━━━━━━━━━━━━━━━━━━\u001b[0m\u001b[37m\u001b[0m \u001b[1m1s\u001b[0m 17ms/step - accuracy: 0.9249 - loss: 0.2587\n",
      "Epoch 16/30\n",
      "\u001b[1m75/75\u001b[0m \u001b[32m━━━━━━━━━━━━━━━━━━━━\u001b[0m\u001b[37m\u001b[0m \u001b[1m1s\u001b[0m 17ms/step - accuracy: 0.9311 - loss: 0.2340\n",
      "Epoch 17/30\n",
      "\u001b[1m75/75\u001b[0m \u001b[32m━━━━━━━━━━━━━━━━━━━━\u001b[0m\u001b[37m\u001b[0m \u001b[1m1s\u001b[0m 17ms/step - accuracy: 0.9420 - loss: 0.2123\n",
      "Epoch 18/30\n",
      "\u001b[1m75/75\u001b[0m \u001b[32m━━━━━━━━━━━━━━━━━━━━\u001b[0m\u001b[37m\u001b[0m \u001b[1m1s\u001b[0m 17ms/step - accuracy: 0.9298 - loss: 0.2117\n",
      "Epoch 19/30\n",
      "\u001b[1m75/75\u001b[0m \u001b[32m━━━━━━━━━━━━━━━━━━━━\u001b[0m\u001b[37m\u001b[0m \u001b[1m1s\u001b[0m 17ms/step - accuracy: 0.9446 - loss: 0.1835\n",
      "Epoch 20/30\n",
      "\u001b[1m75/75\u001b[0m \u001b[32m━━━━━━━━━━━━━━━━━━━━\u001b[0m\u001b[37m\u001b[0m \u001b[1m1s\u001b[0m 17ms/step - accuracy: 0.9524 - loss: 0.1759\n",
      "Epoch 21/30\n",
      "\u001b[1m75/75\u001b[0m \u001b[32m━━━━━━━━━━━━━━━━━━━━\u001b[0m\u001b[37m\u001b[0m \u001b[1m1s\u001b[0m 17ms/step - accuracy: 0.9639 - loss: 0.1669\n",
      "Epoch 22/30\n",
      "\u001b[1m75/75\u001b[0m \u001b[32m━━━━━━━━━━━━━━━━━━━━\u001b[0m\u001b[37m\u001b[0m \u001b[1m1s\u001b[0m 17ms/step - accuracy: 0.9618 - loss: 0.1572\n",
      "Epoch 23/30\n",
      "\u001b[1m75/75\u001b[0m \u001b[32m━━━━━━━━━━━━━━━━━━━━\u001b[0m\u001b[37m\u001b[0m \u001b[1m1s\u001b[0m 17ms/step - accuracy: 0.9670 - loss: 0.1391\n",
      "Epoch 24/30\n",
      "\u001b[1m75/75\u001b[0m \u001b[32m━━━━━━━━━━━━━━━━━━━━\u001b[0m\u001b[37m\u001b[0m \u001b[1m1s\u001b[0m 17ms/step - accuracy: 0.9629 - loss: 0.1471\n",
      "Epoch 25/30\n",
      "\u001b[1m75/75\u001b[0m \u001b[32m━━━━━━━━━━━━━━━━━━━━\u001b[0m\u001b[37m\u001b[0m \u001b[1m1s\u001b[0m 17ms/step - accuracy: 0.9683 - loss: 0.1290\n",
      "Epoch 26/30\n",
      "\u001b[1m75/75\u001b[0m \u001b[32m━━━━━━━━━━━━━━━━━━━━\u001b[0m\u001b[37m\u001b[0m \u001b[1m1s\u001b[0m 17ms/step - accuracy: 0.9647 - loss: 0.1244\n",
      "Epoch 27/30\n",
      "\u001b[1m75/75\u001b[0m \u001b[32m━━━━━━━━━━━━━━━━━━━━\u001b[0m\u001b[37m\u001b[0m \u001b[1m1s\u001b[0m 18ms/step - accuracy: 0.9750 - loss: 0.1083\n",
      "Epoch 28/30\n",
      "\u001b[1m75/75\u001b[0m \u001b[32m━━━━━━━━━━━━━━━━━━━━\u001b[0m\u001b[37m\u001b[0m \u001b[1m1s\u001b[0m 17ms/step - accuracy: 0.9771 - loss: 0.1053\n",
      "Epoch 29/30\n",
      "\u001b[1m75/75\u001b[0m \u001b[32m━━━━━━━━━━━━━━━━━━━━\u001b[0m\u001b[37m\u001b[0m \u001b[1m1s\u001b[0m 17ms/step - accuracy: 0.9731 - loss: 0.1102\n",
      "Epoch 30/30\n",
      "\u001b[1m75/75\u001b[0m \u001b[32m━━━━━━━━━━━━━━━━━━━━\u001b[0m\u001b[37m\u001b[0m \u001b[1m1s\u001b[0m 17ms/step - accuracy: 0.9703 - loss: 0.1028\n",
      "\u001b[1m19/19\u001b[0m \u001b[32m━━━━━━━━━━━━━━━━━━━━\u001b[0m\u001b[37m\u001b[0m \u001b[1m0s\u001b[0m 4ms/step\n",
      "              precision    recall  f1-score   support\n",
      "\n",
      "           0       0.76      0.78      0.77       300\n",
      "           1       0.77      0.75      0.76       300\n",
      "\n",
      "    accuracy                           0.77       600\n",
      "   macro avg       0.77      0.77      0.77       600\n",
      "weighted avg       0.77      0.77      0.77       600\n",
      "\n",
      "[[234  66]\n",
      " [ 74 226]]\n"
     ]
    }
   ],
   "source": [
    "# reshape y_train and y_val\n",
    "y_train = y_train.reshape(-1, 1)\n",
    "y_val = y_val.reshape(-1, 1)\n",
    "\n",
    "# Define feedforward neural network for classification using Keras\n",
    "input_layer = Input(shape=(max_length, 768))  # BERT embedding size is 768\n",
    "flatten_layer = Flatten()(input_layer)  # Flatten the BERT embeddings\n",
    "dense_layer1 = Dense(64, activation='relu')(flatten_layer)\n",
    "dropout_layer = Dropout(0.4)(dense_layer1)\n",
    "dense_layer2 = Dense(32, activation='relu')(dropout_layer)\n",
    "dropout_layer2 = Dropout(0.2)(dense_layer2)\n",
    "dense_layer3 = Dense(16, activation='relu')(dropout_layer2)\n",
    "dense_layer4 = Dense(8, activation='relu')(dense_layer3)\n",
    "output_layer = Dense(1, activation='sigmoid')(dense_layer4)  # Assuming binary classification\n",
    "\n",
    "# Compile the model\n",
    "model = Model(inputs=input_layer, outputs=output_layer)\n",
    "model.compile(optimizer=Adam(learning_rate=1e-5), loss='binary_crossentropy', metrics=['accuracy'])\n",
    "\n",
    "# Train the model\n",
    "history = model.fit(train_embeddings.numpy(), y_train, epochs=30, batch_size=32, verbose=True)\n",
    "# predict the output and compare with y_val\n",
    "predicted_labels = model.predict(val_embeddings.numpy())\n",
    "predicted_labels = (predicted_labels > 0.5).astype(int)\n",
    "\n",
    "# classification report\n",
    "print(classification_report(y_val, predicted_labels))\n",
    "\n",
    "# confusion matrix\n",
    "cm = confusion_matrix(y_val, predicted_labels)\n",
    "print(cm)"
   ]
  },
  {
   "cell_type": "code",
   "execution_count": null,
   "metadata": {},
   "outputs": [],
   "source": []
  }
 ],
 "metadata": {
  "kernelspec": {
   "display_name": ".venv",
   "language": "python",
   "name": "python3"
  },
  "language_info": {
   "codemirror_mode": {
    "name": "ipython",
    "version": 3
   },
   "file_extension": ".py",
   "mimetype": "text/x-python",
   "name": "python",
   "nbconvert_exporter": "python",
   "pygments_lexer": "ipython3",
   "version": "3.11.7"
  }
 },
 "nbformat": 4,
 "nbformat_minor": 2
}
