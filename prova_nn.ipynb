{
 "cells": [
  {
   "cell_type": "code",
   "execution_count": null,
   "metadata": {},
   "outputs": [],
   "source": [
    "import torch\n",
    "from transformers import BertTokenizer, BertModel\n",
    "import torch.nn as nn\n",
    "import torch.nn.functional as F\n",
    "\n",
    "# Define a simple classifier on top of BERT\n",
    "class RecipeClassifier(nn.Module):\n",
    "    def __init__(self, bert_model, num_classes):\n",
    "        super(RecipeClassifier, self).__init__()\n",
    "        self.bert = bert_model\n",
    "        self.fc = nn.Linear(self.bert.config.hidden_size, num_classes)\n",
    "\n",
    "    def forward(self, input_ids, attention_mask):\n",
    "        outputs = self.bert(input_ids=input_ids, attention_mask=attention_mask)\n",
    "        pooled_output = outputs.pooler_output\n",
    "        logits = self.fc(pooled_output)\n",
    "        return logits\n",
    "\n",
    "# Load pre-trained BERT tokenizer and model\n",
    "tokenizer = BertTokenizer.from_pretrained('bert-base-uncased')\n",
    "bert_model = BertModel.from_pretrained('bert-base-uncased')\n",
    "\n",
    "# Define your recipe texts\n",
    "recipes = [\n",
    "    \"1 tablespoons extra virgin olive oil. 1 cup chopped yellow onion. 3 cloves garlic (minced).\",\n",
    "    \"1 cup chopped carrots. 2 cups sliced mushrooms. 1/2 cup diced tomatoes.\",\n",
    "    \"1 cup cooked chickpeas. 1/2 cup chopped spinach. 1 tablespoon curry powder.\"\n",
    "]\n",
    "\n",
    "# Tokenize and encode the recipe texts\n",
    "max_length = 128  # Maximum sequence length for BERT\n",
    "encoded_inputs = tokenizer(recipes, padding=True, truncation=True, max_length=max_length, return_tensors='pt')\n",
    "\n",
    "# Instantiate the recipe classifier model\n",
    "num_classes = 2  # Vegetarian or non-vegetarian\n",
    "recipe_classifier = RecipeClassifier(bert_model, num_classes)\n",
    "\n",
    "# Perform classification\n",
    "with torch.no_grad():\n",
    "    logits = recipe_classifier(encoded_inputs['input_ids'], encoded_inputs['attention_mask'])\n",
    "    probabilities = F.softmax(logits, dim=1)\n",
    "    predicted_labels = torch.argmax(probabilities, dim=1)\n",
    "\n",
    "# Print the predicted labels for the recipes\n",
    "for i, recipe in enumerate(recipes):\n",
    "    print(f\"Recipe: {recipe}\")\n",
    "    print(f\"Predicted Label: {'Vegetarian' if predicted_labels[i].item() == 0 else 'Non-Vegetarian'}\")\n"
   ]
  },
  {
   "cell_type": "markdown",
   "metadata": {},
   "source": [
    "---"
   ]
  },
  {
   "cell_type": "markdown",
   "metadata": {},
   "source": [
    "# Embeddings on recipes with BERT, Neural Network for classification"
   ]
  },
  {
   "cell_type": "code",
   "execution_count": null,
   "metadata": {},
   "outputs": [],
   "source": []
  },
  {
   "cell_type": "code",
   "execution_count": null,
   "metadata": {},
   "outputs": [],
   "source": []
  },
  {
   "cell_type": "code",
   "execution_count": null,
   "metadata": {},
   "outputs": [],
   "source": []
  },
  {
   "cell_type": "code",
   "execution_count": null,
   "metadata": {},
   "outputs": [],
   "source": []
  }
 ],
 "metadata": {
  "language_info": {
   "name": "python"
  }
 },
 "nbformat": 4,
 "nbformat_minor": 2
}
