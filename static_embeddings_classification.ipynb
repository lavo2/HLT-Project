{
 "cells": [
  {
   "cell_type": "markdown",
   "metadata": {},
   "source": [
    "# Word2Vec Embeddings+Classification"
   ]
  },
  {
   "cell_type": "markdown",
   "metadata": {},
   "source": [
    "Here, we use Word2Vec to generate the embeddings of our recipes, starting by the embeddings of their respective ingredients. <br>\n",
    "Then, we perform the classification task both in the single-label and multilabel case, by using standard machine learning classifiers i.e. logistic regression, SVM, random forest and MLP. "
   ]
  },
  {
   "cell_type": "markdown",
   "metadata": {},
   "source": [
    "???? non capisco\n",
    "\n",
    "NOTE: THE LABELS CSV WAS ALREADY CLEANED FROM EMPTY RECIPES <br>\n",
    "REMINDER: labels_path='./dataset/labels_stanza_10k.csv'"
   ]
  },
  {
   "cell_type": "markdown",
   "metadata": {},
   "source": [
    "# Imports"
   ]
  },
  {
   "cell_type": "code",
   "execution_count": 7,
   "metadata": {},
   "outputs": [
    {
     "ename": "ImportError",
     "evalue": "cannot import name 'triu' from 'scipy.linalg' (/Users/irene/VSCodeProjects/HLT-Project/.venv/lib/python3.11/site-packages/scipy/linalg/__init__.py)",
     "output_type": "error",
     "traceback": [
      "\u001b[0;31m---------------------------------------------------------------------------\u001b[0m",
      "\u001b[0;31mImportError\u001b[0m                               Traceback (most recent call last)",
      "Cell \u001b[0;32mIn[7], line 18\u001b[0m\n\u001b[1;32m     15\u001b[0m \u001b[38;5;28;01mfrom\u001b[39;00m \u001b[38;5;21;01msklearn\u001b[39;00m\u001b[38;5;21;01m.\u001b[39;00m\u001b[38;5;21;01mpreprocessing\u001b[39;00m \u001b[38;5;28;01mimport\u001b[39;00m StandardScaler\n\u001b[1;32m     16\u001b[0m \u001b[38;5;28;01mfrom\u001b[39;00m \u001b[38;5;21;01msklearn\u001b[39;00m\u001b[38;5;21;01m.\u001b[39;00m\u001b[38;5;21;01mmodel_selection\u001b[39;00m \u001b[38;5;28;01mimport\u001b[39;00m ParameterGrid\n\u001b[0;32m---> 18\u001b[0m \u001b[38;5;28;01mfrom\u001b[39;00m \u001b[38;5;21;01mgensim\u001b[39;00m\u001b[38;5;21;01m.\u001b[39;00m\u001b[38;5;21;01mmodels\u001b[39;00m \u001b[38;5;28;01mimport\u001b[39;00m word2vec\n\u001b[1;32m     20\u001b[0m \u001b[38;5;28;01mfrom\u001b[39;00m \u001b[38;5;21;01mtqdm\u001b[39;00m \u001b[38;5;28;01mimport\u001b[39;00m tqdm\n\u001b[1;32m     22\u001b[0m \u001b[38;5;28;01mfrom\u001b[39;00m \u001b[38;5;21;01mkeras\u001b[39;00m\u001b[38;5;21;01m.\u001b[39;00m\u001b[38;5;21;01mcallbacks\u001b[39;00m \u001b[38;5;28;01mimport\u001b[39;00m EarlyStopping\n",
      "File \u001b[0;32m~/VSCodeProjects/HLT-Project/.venv/lib/python3.11/site-packages/gensim/__init__.py:11\u001b[0m\n\u001b[1;32m      7\u001b[0m __version__ \u001b[38;5;241m=\u001b[39m \u001b[38;5;124m'\u001b[39m\u001b[38;5;124m4.3.2\u001b[39m\u001b[38;5;124m'\u001b[39m\n\u001b[1;32m      9\u001b[0m \u001b[38;5;28;01mimport\u001b[39;00m \u001b[38;5;21;01mlogging\u001b[39;00m\n\u001b[0;32m---> 11\u001b[0m \u001b[38;5;28;01mfrom\u001b[39;00m \u001b[38;5;21;01mgensim\u001b[39;00m \u001b[38;5;28;01mimport\u001b[39;00m parsing, corpora, matutils, interfaces, models, similarities, utils  \u001b[38;5;66;03m# noqa:F401\u001b[39;00m\n\u001b[1;32m     14\u001b[0m logger \u001b[38;5;241m=\u001b[39m logging\u001b[38;5;241m.\u001b[39mgetLogger(\u001b[38;5;124m'\u001b[39m\u001b[38;5;124mgensim\u001b[39m\u001b[38;5;124m'\u001b[39m)\n\u001b[1;32m     15\u001b[0m \u001b[38;5;28;01mif\u001b[39;00m \u001b[38;5;129;01mnot\u001b[39;00m logger\u001b[38;5;241m.\u001b[39mhandlers:  \u001b[38;5;66;03m# To ensure reload() doesn't add another one\u001b[39;00m\n",
      "File \u001b[0;32m~/VSCodeProjects/HLT-Project/.venv/lib/python3.11/site-packages/gensim/corpora/__init__.py:6\u001b[0m\n\u001b[1;32m      1\u001b[0m \u001b[38;5;124;03m\"\"\"\u001b[39;00m\n\u001b[1;32m      2\u001b[0m \u001b[38;5;124;03mThis package contains implementations of various streaming corpus I/O format.\u001b[39;00m\n\u001b[1;32m      3\u001b[0m \u001b[38;5;124;03m\"\"\"\u001b[39;00m\n\u001b[1;32m      5\u001b[0m \u001b[38;5;66;03m# bring corpus classes directly into package namespace, to save some typing\u001b[39;00m\n\u001b[0;32m----> 6\u001b[0m \u001b[38;5;28;01mfrom\u001b[39;00m \u001b[38;5;21;01m.\u001b[39;00m\u001b[38;5;21;01mindexedcorpus\u001b[39;00m \u001b[38;5;28;01mimport\u001b[39;00m IndexedCorpus  \u001b[38;5;66;03m# noqa:F401 must appear before the other classes\u001b[39;00m\n\u001b[1;32m      8\u001b[0m \u001b[38;5;28;01mfrom\u001b[39;00m \u001b[38;5;21;01m.\u001b[39;00m\u001b[38;5;21;01mmmcorpus\u001b[39;00m \u001b[38;5;28;01mimport\u001b[39;00m MmCorpus  \u001b[38;5;66;03m# noqa:F401\u001b[39;00m\n\u001b[1;32m      9\u001b[0m \u001b[38;5;28;01mfrom\u001b[39;00m \u001b[38;5;21;01m.\u001b[39;00m\u001b[38;5;21;01mbleicorpus\u001b[39;00m \u001b[38;5;28;01mimport\u001b[39;00m BleiCorpus  \u001b[38;5;66;03m# noqa:F401\u001b[39;00m\n",
      "File \u001b[0;32m~/VSCodeProjects/HLT-Project/.venv/lib/python3.11/site-packages/gensim/corpora/indexedcorpus.py:14\u001b[0m\n\u001b[1;32m     10\u001b[0m \u001b[38;5;28;01mimport\u001b[39;00m \u001b[38;5;21;01mlogging\u001b[39;00m\n\u001b[1;32m     12\u001b[0m \u001b[38;5;28;01mimport\u001b[39;00m \u001b[38;5;21;01mnumpy\u001b[39;00m\n\u001b[0;32m---> 14\u001b[0m \u001b[38;5;28;01mfrom\u001b[39;00m \u001b[38;5;21;01mgensim\u001b[39;00m \u001b[38;5;28;01mimport\u001b[39;00m interfaces, utils\n\u001b[1;32m     16\u001b[0m logger \u001b[38;5;241m=\u001b[39m logging\u001b[38;5;241m.\u001b[39mgetLogger(\u001b[38;5;18m__name__\u001b[39m)\n\u001b[1;32m     19\u001b[0m \u001b[38;5;28;01mclass\u001b[39;00m \u001b[38;5;21;01mIndexedCorpus\u001b[39;00m(interfaces\u001b[38;5;241m.\u001b[39mCorpusABC):\n",
      "File \u001b[0;32m~/VSCodeProjects/HLT-Project/.venv/lib/python3.11/site-packages/gensim/interfaces.py:19\u001b[0m\n\u001b[1;32m      7\u001b[0m \u001b[38;5;124;03m\"\"\"Basic interfaces used across the whole Gensim package.\u001b[39;00m\n\u001b[1;32m      8\u001b[0m \n\u001b[1;32m      9\u001b[0m \u001b[38;5;124;03mThese interfaces are used for building corpora, model transformation and similarity queries.\u001b[39;00m\n\u001b[0;32m   (...)\u001b[0m\n\u001b[1;32m     14\u001b[0m \n\u001b[1;32m     15\u001b[0m \u001b[38;5;124;03m\"\"\"\u001b[39;00m\n\u001b[1;32m     17\u001b[0m \u001b[38;5;28;01mimport\u001b[39;00m \u001b[38;5;21;01mlogging\u001b[39;00m\n\u001b[0;32m---> 19\u001b[0m \u001b[38;5;28;01mfrom\u001b[39;00m \u001b[38;5;21;01mgensim\u001b[39;00m \u001b[38;5;28;01mimport\u001b[39;00m utils, matutils\n\u001b[1;32m     22\u001b[0m logger \u001b[38;5;241m=\u001b[39m logging\u001b[38;5;241m.\u001b[39mgetLogger(\u001b[38;5;18m__name__\u001b[39m)\n\u001b[1;32m     25\u001b[0m \u001b[38;5;28;01mclass\u001b[39;00m \u001b[38;5;21;01mCorpusABC\u001b[39;00m(utils\u001b[38;5;241m.\u001b[39mSaveLoad):\n",
      "File \u001b[0;32m~/VSCodeProjects/HLT-Project/.venv/lib/python3.11/site-packages/gensim/matutils.py:20\u001b[0m\n\u001b[1;32m     18\u001b[0m \u001b[38;5;28;01mimport\u001b[39;00m \u001b[38;5;21;01mscipy\u001b[39;00m\u001b[38;5;21;01m.\u001b[39;00m\u001b[38;5;21;01msparse\u001b[39;00m\n\u001b[1;32m     19\u001b[0m \u001b[38;5;28;01mfrom\u001b[39;00m \u001b[38;5;21;01mscipy\u001b[39;00m\u001b[38;5;21;01m.\u001b[39;00m\u001b[38;5;21;01mstats\u001b[39;00m \u001b[38;5;28;01mimport\u001b[39;00m entropy\n\u001b[0;32m---> 20\u001b[0m \u001b[38;5;28;01mfrom\u001b[39;00m \u001b[38;5;21;01mscipy\u001b[39;00m\u001b[38;5;21;01m.\u001b[39;00m\u001b[38;5;21;01mlinalg\u001b[39;00m \u001b[38;5;28;01mimport\u001b[39;00m get_blas_funcs, triu\n\u001b[1;32m     21\u001b[0m \u001b[38;5;28;01mfrom\u001b[39;00m \u001b[38;5;21;01mscipy\u001b[39;00m\u001b[38;5;21;01m.\u001b[39;00m\u001b[38;5;21;01mlinalg\u001b[39;00m\u001b[38;5;21;01m.\u001b[39;00m\u001b[38;5;21;01mlapack\u001b[39;00m \u001b[38;5;28;01mimport\u001b[39;00m get_lapack_funcs\n\u001b[1;32m     22\u001b[0m \u001b[38;5;28;01mfrom\u001b[39;00m \u001b[38;5;21;01mscipy\u001b[39;00m\u001b[38;5;21;01m.\u001b[39;00m\u001b[38;5;21;01mspecial\u001b[39;00m \u001b[38;5;28;01mimport\u001b[39;00m psi  \u001b[38;5;66;03m# gamma function utils\u001b[39;00m\n",
      "\u001b[0;31mImportError\u001b[0m: cannot import name 'triu' from 'scipy.linalg' (/Users/irene/VSCodeProjects/HLT-Project/.venv/lib/python3.11/site-packages/scipy/linalg/__init__.py)"
     ]
    }
   ],
   "source": [
    "import pandas as pd\n",
    "import numpy as np\n",
    "\n",
    "from sklearn.decomposition import PCA\n",
    "import matplotlib.pyplot as plt\n",
    "import seaborn as sns\n",
    "from sklearn.manifold import TSNE\n",
    "\n",
    "from sklearn.ensemble import RandomForestClassifier \n",
    "from sklearn.model_selection import train_test_split, GridSearchCV\n",
    "from sklearn.metrics import accuracy_score, confusion_matrix, classification_report\n",
    "from sklearn.linear_model import LogisticRegression\n",
    "from sklearn.svm import SVC\n",
    "from sklearn.multioutput import MultiOutputClassifier\n",
    "from sklearn.preprocessing import StandardScaler\n",
    "from sklearn.model_selection import ParameterGrid\n",
    "\n",
    "from gensim.models import word2vec\n",
    "\n",
    "from tqdm import tqdm\n",
    "\n",
    "from keras.callbacks import EarlyStopping\n",
    "from keras.regularizers import l2\n",
    "from keras.optimizers import Adam\n",
    "from keras.models import Sequential\n",
    "from keras.layers import Dense\n",
    "import keras"
   ]
  },
  {
   "cell_type": "code",
   "execution_count": 2,
   "metadata": {},
   "outputs": [],
   "source": [
    "path='./dataset/ingredients_list_stanza_10k.csv'\n",
    "df=pd.read_csv(path)"
   ]
  },
  {
   "cell_type": "code",
   "execution_count": 3,
   "metadata": {},
   "outputs": [
    {
     "data": {
      "text/html": [
       "<div>\n",
       "<style scoped>\n",
       "    .dataframe tbody tr th:only-of-type {\n",
       "        vertical-align: middle;\n",
       "    }\n",
       "\n",
       "    .dataframe tbody tr th {\n",
       "        vertical-align: top;\n",
       "    }\n",
       "\n",
       "    .dataframe thead th {\n",
       "        text-align: right;\n",
       "    }\n",
       "</style>\n",
       "<table border=\"1\" class=\"dataframe\">\n",
       "  <thead>\n",
       "    <tr style=\"text-align: right;\">\n",
       "      <th></th>\n",
       "      <th>0</th>\n",
       "      <th>1</th>\n",
       "      <th>2</th>\n",
       "      <th>3</th>\n",
       "      <th>4</th>\n",
       "      <th>5</th>\n",
       "      <th>6</th>\n",
       "      <th>7</th>\n",
       "      <th>8</th>\n",
       "      <th>9</th>\n",
       "      <th>...</th>\n",
       "      <th>33</th>\n",
       "      <th>34</th>\n",
       "      <th>35</th>\n",
       "      <th>36</th>\n",
       "      <th>37</th>\n",
       "      <th>38</th>\n",
       "      <th>39</th>\n",
       "      <th>40</th>\n",
       "      <th>41</th>\n",
       "      <th>42</th>\n",
       "    </tr>\n",
       "  </thead>\n",
       "  <tbody>\n",
       "    <tr>\n",
       "      <th>0</th>\n",
       "      <td>maple syrup</td>\n",
       "      <td>garlic</td>\n",
       "      <td>ginger</td>\n",
       "      <td>cayenne pepper</td>\n",
       "      <td>raisin</td>\n",
       "      <td>sage leave</td>\n",
       "      <td>vinegar</td>\n",
       "      <td>mustard</td>\n",
       "      <td>olive oil</td>\n",
       "      <td>clove</td>\n",
       "      <td>...</td>\n",
       "      <td>NaN</td>\n",
       "      <td>NaN</td>\n",
       "      <td>NaN</td>\n",
       "      <td>NaN</td>\n",
       "      <td>NaN</td>\n",
       "      <td>NaN</td>\n",
       "      <td>NaN</td>\n",
       "      <td>NaN</td>\n",
       "      <td>NaN</td>\n",
       "      <td>NaN</td>\n",
       "    </tr>\n",
       "    <tr>\n",
       "      <th>1</th>\n",
       "      <td>lime juice</td>\n",
       "      <td>grenadine syrup</td>\n",
       "      <td>cayenne pepper</td>\n",
       "      <td>juice</td>\n",
       "      <td>salt</td>\n",
       "      <td>NaN</td>\n",
       "      <td>NaN</td>\n",
       "      <td>NaN</td>\n",
       "      <td>NaN</td>\n",
       "      <td>NaN</td>\n",
       "      <td>...</td>\n",
       "      <td>NaN</td>\n",
       "      <td>NaN</td>\n",
       "      <td>NaN</td>\n",
       "      <td>NaN</td>\n",
       "      <td>NaN</td>\n",
       "      <td>NaN</td>\n",
       "      <td>NaN</td>\n",
       "      <td>NaN</td>\n",
       "      <td>NaN</td>\n",
       "      <td>NaN</td>\n",
       "    </tr>\n",
       "    <tr>\n",
       "      <th>2</th>\n",
       "      <td>garlic</td>\n",
       "      <td>cider vinegar</td>\n",
       "      <td>pepper flake</td>\n",
       "      <td>sugar</td>\n",
       "      <td>kosher salt</td>\n",
       "      <td>peppercorn</td>\n",
       "      <td>vinegar</td>\n",
       "      <td>NaN</td>\n",
       "      <td>NaN</td>\n",
       "      <td>NaN</td>\n",
       "      <td>...</td>\n",
       "      <td>NaN</td>\n",
       "      <td>NaN</td>\n",
       "      <td>NaN</td>\n",
       "      <td>NaN</td>\n",
       "      <td>NaN</td>\n",
       "      <td>NaN</td>\n",
       "      <td>NaN</td>\n",
       "      <td>NaN</td>\n",
       "      <td>NaN</td>\n",
       "      <td>NaN</td>\n",
       "    </tr>\n",
       "    <tr>\n",
       "      <th>3</th>\n",
       "      <td>lemon juice</td>\n",
       "      <td>tea</td>\n",
       "      <td>syrup</td>\n",
       "      <td>water</td>\n",
       "      <td>NaN</td>\n",
       "      <td>NaN</td>\n",
       "      <td>NaN</td>\n",
       "      <td>NaN</td>\n",
       "      <td>NaN</td>\n",
       "      <td>NaN</td>\n",
       "      <td>...</td>\n",
       "      <td>NaN</td>\n",
       "      <td>NaN</td>\n",
       "      <td>NaN</td>\n",
       "      <td>NaN</td>\n",
       "      <td>NaN</td>\n",
       "      <td>NaN</td>\n",
       "      <td>NaN</td>\n",
       "      <td>NaN</td>\n",
       "      <td>NaN</td>\n",
       "      <td>NaN</td>\n",
       "    </tr>\n",
       "    <tr>\n",
       "      <th>4</th>\n",
       "      <td>olive oil</td>\n",
       "      <td>cilantro leave</td>\n",
       "      <td>bell pepper</td>\n",
       "      <td>poblano pepper</td>\n",
       "      <td>plum tomato</td>\n",
       "      <td>lime</td>\n",
       "      <td>salt</td>\n",
       "      <td>NaN</td>\n",
       "      <td>NaN</td>\n",
       "      <td>NaN</td>\n",
       "      <td>...</td>\n",
       "      <td>NaN</td>\n",
       "      <td>NaN</td>\n",
       "      <td>NaN</td>\n",
       "      <td>NaN</td>\n",
       "      <td>NaN</td>\n",
       "      <td>NaN</td>\n",
       "      <td>NaN</td>\n",
       "      <td>NaN</td>\n",
       "      <td>NaN</td>\n",
       "      <td>NaN</td>\n",
       "    </tr>\n",
       "    <tr>\n",
       "      <th>...</th>\n",
       "      <td>...</td>\n",
       "      <td>...</td>\n",
       "      <td>...</td>\n",
       "      <td>...</td>\n",
       "      <td>...</td>\n",
       "      <td>...</td>\n",
       "      <td>...</td>\n",
       "      <td>...</td>\n",
       "      <td>...</td>\n",
       "      <td>...</td>\n",
       "      <td>...</td>\n",
       "      <td>...</td>\n",
       "      <td>...</td>\n",
       "      <td>...</td>\n",
       "      <td>...</td>\n",
       "      <td>...</td>\n",
       "      <td>...</td>\n",
       "      <td>...</td>\n",
       "      <td>...</td>\n",
       "      <td>...</td>\n",
       "      <td>...</td>\n",
       "    </tr>\n",
       "    <tr>\n",
       "      <th>9995</th>\n",
       "      <td>olive oil</td>\n",
       "      <td>zucchini squash</td>\n",
       "      <td>chile</td>\n",
       "      <td>corn</td>\n",
       "      <td>clove garlic</td>\n",
       "      <td>butter</td>\n",
       "      <td>salt</td>\n",
       "      <td>NaN</td>\n",
       "      <td>NaN</td>\n",
       "      <td>NaN</td>\n",
       "      <td>...</td>\n",
       "      <td>NaN</td>\n",
       "      <td>NaN</td>\n",
       "      <td>NaN</td>\n",
       "      <td>NaN</td>\n",
       "      <td>NaN</td>\n",
       "      <td>NaN</td>\n",
       "      <td>NaN</td>\n",
       "      <td>NaN</td>\n",
       "      <td>NaN</td>\n",
       "      <td>NaN</td>\n",
       "    </tr>\n",
       "    <tr>\n",
       "      <th>9996</th>\n",
       "      <td>baby basil</td>\n",
       "      <td>olive oil</td>\n",
       "      <td>confit</td>\n",
       "      <td>honey</td>\n",
       "      <td>oie gras</td>\n",
       "      <td>pear</td>\n",
       "      <td>worcestershire sauce</td>\n",
       "      <td>sugar</td>\n",
       "      <td>wine</td>\n",
       "      <td>cipollini onion</td>\n",
       "      <td>...</td>\n",
       "      <td>NaN</td>\n",
       "      <td>NaN</td>\n",
       "      <td>NaN</td>\n",
       "      <td>NaN</td>\n",
       "      <td>NaN</td>\n",
       "      <td>NaN</td>\n",
       "      <td>NaN</td>\n",
       "      <td>NaN</td>\n",
       "      <td>NaN</td>\n",
       "      <td>NaN</td>\n",
       "    </tr>\n",
       "    <tr>\n",
       "      <th>9997</th>\n",
       "      <td>jalapeno pepper</td>\n",
       "      <td>cornbread</td>\n",
       "      <td>pork tenderloin</td>\n",
       "      <td>bean</td>\n",
       "      <td>nish</td>\n",
       "      <td>garlic</td>\n",
       "      <td>chili powder</td>\n",
       "      <td>cilantro leave</td>\n",
       "      <td>tomato</td>\n",
       "      <td>bell pepper</td>\n",
       "      <td>...</td>\n",
       "      <td>NaN</td>\n",
       "      <td>NaN</td>\n",
       "      <td>NaN</td>\n",
       "      <td>NaN</td>\n",
       "      <td>NaN</td>\n",
       "      <td>NaN</td>\n",
       "      <td>NaN</td>\n",
       "      <td>NaN</td>\n",
       "      <td>NaN</td>\n",
       "      <td>NaN</td>\n",
       "    </tr>\n",
       "    <tr>\n",
       "      <th>9998</th>\n",
       "      <td>parmesan</td>\n",
       "      <td>olive oil</td>\n",
       "      <td>cheese</td>\n",
       "      <td>jack</td>\n",
       "      <td>lemon</td>\n",
       "      <td>artichoke</td>\n",
       "      <td>marjoram</td>\n",
       "      <td>russet</td>\n",
       "      <td>pepper</td>\n",
       "      <td>egg</td>\n",
       "      <td>...</td>\n",
       "      <td>NaN</td>\n",
       "      <td>NaN</td>\n",
       "      <td>NaN</td>\n",
       "      <td>NaN</td>\n",
       "      <td>NaN</td>\n",
       "      <td>NaN</td>\n",
       "      <td>NaN</td>\n",
       "      <td>NaN</td>\n",
       "      <td>NaN</td>\n",
       "      <td>NaN</td>\n",
       "    </tr>\n",
       "    <tr>\n",
       "      <th>9999</th>\n",
       "      <td>mustard seed</td>\n",
       "      <td>cherry</td>\n",
       "      <td>butter</td>\n",
       "      <td>wine</td>\n",
       "      <td>mustard</td>\n",
       "      <td>olive oil</td>\n",
       "      <td>bean</td>\n",
       "      <td>chive</td>\n",
       "      <td>cauliflower floret</td>\n",
       "      <td>kosher salt</td>\n",
       "      <td>...</td>\n",
       "      <td>NaN</td>\n",
       "      <td>NaN</td>\n",
       "      <td>NaN</td>\n",
       "      <td>NaN</td>\n",
       "      <td>NaN</td>\n",
       "      <td>NaN</td>\n",
       "      <td>NaN</td>\n",
       "      <td>NaN</td>\n",
       "      <td>NaN</td>\n",
       "      <td>NaN</td>\n",
       "    </tr>\n",
       "  </tbody>\n",
       "</table>\n",
       "<p>10000 rows × 43 columns</p>\n",
       "</div>"
      ],
      "text/plain": [
       "                    0                1                2               3  \\\n",
       "0         maple syrup           garlic           ginger  cayenne pepper   \n",
       "1          lime juice  grenadine syrup   cayenne pepper           juice   \n",
       "2              garlic    cider vinegar     pepper flake           sugar   \n",
       "3         lemon juice              tea            syrup           water   \n",
       "4           olive oil   cilantro leave      bell pepper  poblano pepper   \n",
       "...               ...              ...              ...             ...   \n",
       "9995        olive oil  zucchini squash            chile            corn   \n",
       "9996       baby basil        olive oil           confit           honey   \n",
       "9997  jalapeno pepper        cornbread  pork tenderloin            bean   \n",
       "9998         parmesan        olive oil           cheese            jack   \n",
       "9999     mustard seed           cherry           butter            wine   \n",
       "\n",
       "                 4           5                     6               7  \\\n",
       "0           raisin  sage leave               vinegar         mustard   \n",
       "1             salt         NaN                   NaN             NaN   \n",
       "2      kosher salt  peppercorn               vinegar             NaN   \n",
       "3              NaN         NaN                   NaN             NaN   \n",
       "4      plum tomato        lime                  salt             NaN   \n",
       "...            ...         ...                   ...             ...   \n",
       "9995  clove garlic      butter                  salt             NaN   \n",
       "9996      oie gras        pear  worcestershire sauce           sugar   \n",
       "9997          nish      garlic          chili powder  cilantro leave   \n",
       "9998         lemon   artichoke              marjoram          russet   \n",
       "9999       mustard   olive oil                  bean           chive   \n",
       "\n",
       "                       8                9  ...   33   34   35   36   37   38  \\\n",
       "0              olive oil            clove  ...  NaN  NaN  NaN  NaN  NaN  NaN   \n",
       "1                    NaN              NaN  ...  NaN  NaN  NaN  NaN  NaN  NaN   \n",
       "2                    NaN              NaN  ...  NaN  NaN  NaN  NaN  NaN  NaN   \n",
       "3                    NaN              NaN  ...  NaN  NaN  NaN  NaN  NaN  NaN   \n",
       "4                    NaN              NaN  ...  NaN  NaN  NaN  NaN  NaN  NaN   \n",
       "...                  ...              ...  ...  ...  ...  ...  ...  ...  ...   \n",
       "9995                 NaN              NaN  ...  NaN  NaN  NaN  NaN  NaN  NaN   \n",
       "9996                wine  cipollini onion  ...  NaN  NaN  NaN  NaN  NaN  NaN   \n",
       "9997              tomato      bell pepper  ...  NaN  NaN  NaN  NaN  NaN  NaN   \n",
       "9998              pepper              egg  ...  NaN  NaN  NaN  NaN  NaN  NaN   \n",
       "9999  cauliflower floret      kosher salt  ...  NaN  NaN  NaN  NaN  NaN  NaN   \n",
       "\n",
       "       39   40   41   42  \n",
       "0     NaN  NaN  NaN  NaN  \n",
       "1     NaN  NaN  NaN  NaN  \n",
       "2     NaN  NaN  NaN  NaN  \n",
       "3     NaN  NaN  NaN  NaN  \n",
       "4     NaN  NaN  NaN  NaN  \n",
       "...   ...  ...  ...  ...  \n",
       "9995  NaN  NaN  NaN  NaN  \n",
       "9996  NaN  NaN  NaN  NaN  \n",
       "9997  NaN  NaN  NaN  NaN  \n",
       "9998  NaN  NaN  NaN  NaN  \n",
       "9999  NaN  NaN  NaN  NaN  \n",
       "\n",
       "[10000 rows x 43 columns]"
      ]
     },
     "execution_count": 3,
     "metadata": {},
     "output_type": "execute_result"
    }
   ],
   "source": [
    "df[:2]"
   ]
  },
  {
   "cell_type": "markdown",
   "metadata": {},
   "source": [
    "spiegare perche si fa + reference notebook in cui si trovano questi indici"
   ]
  },
  {
   "cell_type": "code",
   "execution_count": 10,
   "metadata": {},
   "outputs": [],
   "source": [
    "empty=[ 211,  221,  300,  404, 1074, 1422, 1997, 2122, 2172, 2324, 2635, 2813,\n",
    "       2831, 3380, 3457, 3858, 4058, 4327, 4379, 4642, 4727, 4736, 4870, 4899,\n",
    "       4935, 5286, 5668, 5839, 6128, 6880, 7159, 7257, 7317, 7595, 7800, 7953,\n",
    "       8192, 8276, 8350, 8820, 9199, 9221, 9616, 9663, 9705]"
   ]
  },
  {
   "cell_type": "code",
   "execution_count": 19,
   "metadata": {},
   "outputs": [],
   "source": [
    "df.drop(empty, inplace=True)"
   ]
  },
  {
   "cell_type": "markdown",
   "metadata": {},
   "source": [
    "# Word2Vec embeddings"
   ]
  },
  {
   "cell_type": "markdown",
   "metadata": {},
   "source": [
    "We need to create the corpus as a list of sentences, where each sentence is the list of ingredients of each recipe."
   ]
  },
  {
   "cell_type": "code",
   "execution_count": 24,
   "metadata": {},
   "outputs": [],
   "source": [
    "corpus=[]\n",
    "for i in df.index:\n",
    "    list=[]\n",
    "    for j in df.columns:\n",
    "        val=df[j][i]\n",
    "        if not (type(val) == float and np.isnan(val)):\n",
    "            list.append(val)\n",
    "    corpus.append(list)"
   ]
  },
  {
   "cell_type": "code",
   "execution_count": 27,
   "metadata": {},
   "outputs": [
    {
     "data": {
      "text/plain": [
       "9955"
      ]
     },
     "execution_count": 27,
     "metadata": {},
     "output_type": "execute_result"
    }
   ],
   "source": [
    "len(corpus)"
   ]
  },
  {
   "cell_type": "code",
   "execution_count": 29,
   "metadata": {},
   "outputs": [],
   "source": [
    "embed_sz=100\n",
    "window_sz=df.shape[1]\n",
    "model = word2vec.Word2Vec(corpus, vector_size=embed_sz, window=window_sz, min_count=1, workers=4)"
   ]
  },
  {
   "cell_type": "markdown",
   "metadata": {},
   "source": [
    "Given a word W in the corpus, we can check the most similar words to W "
   ]
  },
  {
   "cell_type": "code",
   "execution_count": 30,
   "metadata": {},
   "outputs": [
    {
     "data": {
      "text/plain": [
       "[('flour', 0.9922890663146973),\n",
       " ('egg', 0.9901657700538635),\n",
       " ('nutmeg', 0.988453209400177),\n",
       " ('elbow macaroni', 0.967231035232544),\n",
       " ('butter', 0.9617917537689209),\n",
       " ('tartar', 0.9551194310188293),\n",
       " ('yeast', 0.9515825510025024),\n",
       " ('ground ginger', 0.9436478614807129),\n",
       " ('pumpkin', 0.9429942965507507),\n",
       " ('cooking spray', 0.9410366415977478),\n",
       " ('crepe', 0.9405088424682617),\n",
       " ('buttermilk', 0.9402158856391907),\n",
       " ('cake flour', 0.9391579031944275),\n",
       " ('egg yolk', 0.9391164183616638),\n",
       " ('buckwheat flour', 0.9376630783081055),\n",
       " ('gruyere', 0.9374328255653381),\n",
       " ('pancake', 0.9358493685722351),\n",
       " ('yolk', 0.9353528618812561),\n",
       " ('blossom honey', 0.9321531057357788),\n",
       " ('confectioner', 0.9314513802528381)]"
      ]
     },
     "execution_count": 30,
     "metadata": {},
     "output_type": "execute_result"
    }
   ],
   "source": [
    "#example of the 20 most similar words to a random word in the corpus\n",
    "sims = model.wv.most_similar('milk', topn=20) \n",
    "sims"
   ]
  },
  {
   "cell_type": "markdown",
   "metadata": {},
   "source": [
    "Let's do a 2D visualization of 100 ingredients via TSNE."
   ]
  },
  {
   "cell_type": "code",
   "execution_count": 31,
   "metadata": {},
   "outputs": [
    {
     "data": {
      "image/png": "[encoded data removed]",
      "text/plain": [
       "<Figure size 640x480 with 1 Axes>"
      ]
     },
     "metadata": {},
     "output_type": "display_data"
    }
   ],
   "source": [
    "labels = []\n",
    "count = 0\n",
    "max_count = 100\n",
    "X = np.zeros(shape=(max_count,embed_sz))\n",
    "\n",
    "for term in model.wv.index_to_key:\n",
    "    X[count] = model.wv[term]\n",
    "    labels.append(term)\n",
    "    count+= 1\n",
    "    if count >= max_count: break\n",
    "\n",
    "# It is recommended to use PCA first to reduce to ~50 dimensions\n",
    "pca = PCA(n_components=50)\n",
    "X_50 = pca.fit_transform(X)\n",
    "\n",
    "# Using TSNE to further reduce to 2 dimensions\n",
    "model_tsne = TSNE(n_components=2, random_state=0)\n",
    "Y = model_tsne.fit_transform(X_50)\n",
    "\n",
    "# Show the scatter plot\n",
    "plt.scatter(Y[:,0], Y[:,1], 20)\n",
    "\n",
    "# Add labels\n",
    "for label, x, y in zip(labels, Y[:, 0], Y[:, 1]):\n",
    "    plt.annotate(label, xy = (x,y), xytext = (0, 0), textcoords = 'offset points', size = 6)\n",
    "\n",
    "plt.show()"
   ]
  },
  {
   "cell_type": "markdown",
   "metadata": {},
   "source": [
    "Finally, we create the matrix where each row is the embedding of a recipe, each given by the midpoint in the space of its ingredients' embeddings."
   ]
  },
  {
   "cell_type": "code",
   "execution_count": 32,
   "metadata": {},
   "outputs": [],
   "source": [
    "recipe_embeddings=np.zeros((df.shape[0],embed_sz))\n",
    "\n",
    "for i,list in enumerate(corpus):\n",
    "    vec=np.zeros(embed_sz)\n",
    "    for word in list:\n",
    "        vec=vec+model.wv[word]\n",
    "    vec=vec/float(len(list))\n",
    "    recipe_embeddings[i,:]=vec   "
   ]
  },
  {
   "cell_type": "code",
   "execution_count": 36,
   "metadata": {},
   "outputs": [],
   "source": [
    "np.savetxt('./dataset/embeddings_stanza_10k.csv',recipe_embeddings,delimiter=',')"
   ]
  },
  {
   "cell_type": "markdown",
   "metadata": {},
   "source": [
    "# Data splitting and scaling"
   ]
  },
  {
   "cell_type": "code",
   "execution_count": 46,
   "metadata": {},
   "outputs": [],
   "source": [
    "X_path='./dataset/embeddings_stanza_10k.csv'\n",
    "X=pd.read_csv(X_path,header=None)"
   ]
  },
  {
   "cell_type": "code",
   "execution_count": 47,
   "metadata": {},
   "outputs": [
    {
     "data": {
      "text/html": [
       "<div>\n",
       "<style scoped>\n",
       "    .dataframe tbody tr th:only-of-type {\n",
       "        vertical-align: middle;\n",
       "    }\n",
       "\n",
       "    .dataframe tbody tr th {\n",
       "        vertical-align: top;\n",
       "    }\n",
       "\n",
       "    .dataframe thead th {\n",
       "        text-align: right;\n",
       "    }\n",
       "</style>\n",
       "<table border=\"1\" class=\"dataframe\">\n",
       "  <thead>\n",
       "    <tr style=\"text-align: right;\">\n",
       "      <th></th>\n",
       "      <th>0</th>\n",
       "      <th>1</th>\n",
       "      <th>2</th>\n",
       "      <th>3</th>\n",
       "      <th>4</th>\n",
       "      <th>5</th>\n",
       "      <th>6</th>\n",
       "      <th>7</th>\n",
       "      <th>8</th>\n",
       "      <th>9</th>\n",
       "      <th>...</th>\n",
       "      <th>90</th>\n",
       "      <th>91</th>\n",
       "      <th>92</th>\n",
       "      <th>93</th>\n",
       "      <th>94</th>\n",
       "      <th>95</th>\n",
       "      <th>96</th>\n",
       "      <th>97</th>\n",
       "      <th>98</th>\n",
       "      <th>99</th>\n",
       "    </tr>\n",
       "  </thead>\n",
       "  <tbody>\n",
       "    <tr>\n",
       "      <th>0</th>\n",
       "      <td>-0.165805</td>\n",
       "      <td>0.271445</td>\n",
       "      <td>-0.016576</td>\n",
       "      <td>-0.043731</td>\n",
       "      <td>0.107624</td>\n",
       "      <td>-1.054667</td>\n",
       "      <td>0.275543</td>\n",
       "      <td>1.230130</td>\n",
       "      <td>-0.515281</td>\n",
       "      <td>-0.313986</td>\n",
       "      <td>...</td>\n",
       "      <td>0.718538</td>\n",
       "      <td>0.527409</td>\n",
       "      <td>0.155526</td>\n",
       "      <td>0.285259</td>\n",
       "      <td>0.873711</td>\n",
       "      <td>0.426568</td>\n",
       "      <td>0.440875</td>\n",
       "      <td>-0.294836</td>\n",
       "      <td>0.206305</td>\n",
       "      <td>-0.098356</td>\n",
       "    </tr>\n",
       "    <tr>\n",
       "      <th>1</th>\n",
       "      <td>-0.069072</td>\n",
       "      <td>0.240473</td>\n",
       "      <td>-0.148410</td>\n",
       "      <td>-0.125541</td>\n",
       "      <td>0.117467</td>\n",
       "      <td>-0.927273</td>\n",
       "      <td>0.139672</td>\n",
       "      <td>1.295435</td>\n",
       "      <td>-0.455371</td>\n",
       "      <td>-0.184420</td>\n",
       "      <td>...</td>\n",
       "      <td>0.727303</td>\n",
       "      <td>0.365923</td>\n",
       "      <td>0.332608</td>\n",
       "      <td>0.144989</td>\n",
       "      <td>0.855101</td>\n",
       "      <td>0.168549</td>\n",
       "      <td>0.564705</td>\n",
       "      <td>-0.540648</td>\n",
       "      <td>0.327705</td>\n",
       "      <td>-0.019993</td>\n",
       "    </tr>\n",
       "    <tr>\n",
       "      <th>2</th>\n",
       "      <td>-0.314959</td>\n",
       "      <td>0.268411</td>\n",
       "      <td>-0.068274</td>\n",
       "      <td>-0.030529</td>\n",
       "      <td>0.152581</td>\n",
       "      <td>-1.187055</td>\n",
       "      <td>0.349530</td>\n",
       "      <td>1.497826</td>\n",
       "      <td>-0.539797</td>\n",
       "      <td>-0.294291</td>\n",
       "      <td>...</td>\n",
       "      <td>0.790993</td>\n",
       "      <td>0.488611</td>\n",
       "      <td>0.227603</td>\n",
       "      <td>0.259857</td>\n",
       "      <td>0.921852</td>\n",
       "      <td>0.367840</td>\n",
       "      <td>0.512201</td>\n",
       "      <td>-0.424338</td>\n",
       "      <td>0.237265</td>\n",
       "      <td>-0.021522</td>\n",
       "    </tr>\n",
       "    <tr>\n",
       "      <th>3</th>\n",
       "      <td>-0.141818</td>\n",
       "      <td>0.179356</td>\n",
       "      <td>-0.096211</td>\n",
       "      <td>-0.041968</td>\n",
       "      <td>-0.002948</td>\n",
       "      <td>-0.846039</td>\n",
       "      <td>0.190941</td>\n",
       "      <td>1.092289</td>\n",
       "      <td>-0.424565</td>\n",
       "      <td>-0.194537</td>\n",
       "      <td>...</td>\n",
       "      <td>0.619760</td>\n",
       "      <td>0.372330</td>\n",
       "      <td>0.246211</td>\n",
       "      <td>0.184368</td>\n",
       "      <td>0.605899</td>\n",
       "      <td>0.276458</td>\n",
       "      <td>0.475333</td>\n",
       "      <td>-0.278668</td>\n",
       "      <td>0.192310</td>\n",
       "      <td>-0.034175</td>\n",
       "    </tr>\n",
       "    <tr>\n",
       "      <th>4</th>\n",
       "      <td>-0.311654</td>\n",
       "      <td>0.318416</td>\n",
       "      <td>-0.082248</td>\n",
       "      <td>-0.046331</td>\n",
       "      <td>0.232441</td>\n",
       "      <td>-1.007788</td>\n",
       "      <td>0.300784</td>\n",
       "      <td>1.519991</td>\n",
       "      <td>-0.514502</td>\n",
       "      <td>-0.221147</td>\n",
       "      <td>...</td>\n",
       "      <td>0.715498</td>\n",
       "      <td>0.355136</td>\n",
       "      <td>0.298513</td>\n",
       "      <td>0.060673</td>\n",
       "      <td>1.005073</td>\n",
       "      <td>0.132799</td>\n",
       "      <td>0.487650</td>\n",
       "      <td>-0.720808</td>\n",
       "      <td>0.433562</td>\n",
       "      <td>0.018146</td>\n",
       "    </tr>\n",
       "    <tr>\n",
       "      <th>...</th>\n",
       "      <td>...</td>\n",
       "      <td>...</td>\n",
       "      <td>...</td>\n",
       "      <td>...</td>\n",
       "      <td>...</td>\n",
       "      <td>...</td>\n",
       "      <td>...</td>\n",
       "      <td>...</td>\n",
       "      <td>...</td>\n",
       "      <td>...</td>\n",
       "      <td>...</td>\n",
       "      <td>...</td>\n",
       "      <td>...</td>\n",
       "      <td>...</td>\n",
       "      <td>...</td>\n",
       "      <td>...</td>\n",
       "      <td>...</td>\n",
       "      <td>...</td>\n",
       "      <td>...</td>\n",
       "      <td>...</td>\n",
       "      <td>...</td>\n",
       "    </tr>\n",
       "    <tr>\n",
       "      <th>9950</th>\n",
       "      <td>-0.259383</td>\n",
       "      <td>0.333144</td>\n",
       "      <td>0.039721</td>\n",
       "      <td>-0.026771</td>\n",
       "      <td>0.216562</td>\n",
       "      <td>-1.040631</td>\n",
       "      <td>0.335411</td>\n",
       "      <td>1.305739</td>\n",
       "      <td>-0.545018</td>\n",
       "      <td>-0.336623</td>\n",
       "      <td>...</td>\n",
       "      <td>0.682492</td>\n",
       "      <td>0.503369</td>\n",
       "      <td>0.112788</td>\n",
       "      <td>0.225620</td>\n",
       "      <td>0.994832</td>\n",
       "      <td>0.359685</td>\n",
       "      <td>0.357934</td>\n",
       "      <td>-0.453013</td>\n",
       "      <td>0.298808</td>\n",
       "      <td>-0.088515</td>\n",
       "    </tr>\n",
       "    <tr>\n",
       "      <th>9951</th>\n",
       "      <td>-0.140777</td>\n",
       "      <td>0.201766</td>\n",
       "      <td>-0.015618</td>\n",
       "      <td>-0.030935</td>\n",
       "      <td>0.092093</td>\n",
       "      <td>-0.843578</td>\n",
       "      <td>0.219839</td>\n",
       "      <td>0.979854</td>\n",
       "      <td>-0.406590</td>\n",
       "      <td>-0.251822</td>\n",
       "      <td>...</td>\n",
       "      <td>0.574151</td>\n",
       "      <td>0.413723</td>\n",
       "      <td>0.122416</td>\n",
       "      <td>0.233582</td>\n",
       "      <td>0.688432</td>\n",
       "      <td>0.328874</td>\n",
       "      <td>0.344371</td>\n",
       "      <td>-0.236242</td>\n",
       "      <td>0.152058</td>\n",
       "      <td>-0.062653</td>\n",
       "    </tr>\n",
       "    <tr>\n",
       "      <th>9952</th>\n",
       "      <td>-0.240585</td>\n",
       "      <td>0.299141</td>\n",
       "      <td>-0.063217</td>\n",
       "      <td>-0.072370</td>\n",
       "      <td>0.262280</td>\n",
       "      <td>-0.956357</td>\n",
       "      <td>0.249254</td>\n",
       "      <td>1.400325</td>\n",
       "      <td>-0.464538</td>\n",
       "      <td>-0.219545</td>\n",
       "      <td>...</td>\n",
       "      <td>0.672251</td>\n",
       "      <td>0.351905</td>\n",
       "      <td>0.255121</td>\n",
       "      <td>0.084600</td>\n",
       "      <td>1.017030</td>\n",
       "      <td>0.129892</td>\n",
       "      <td>0.435700</td>\n",
       "      <td>-0.693794</td>\n",
       "      <td>0.397294</td>\n",
       "      <td>0.000424</td>\n",
       "    </tr>\n",
       "    <tr>\n",
       "      <th>9953</th>\n",
       "      <td>-0.361153</td>\n",
       "      <td>0.353267</td>\n",
       "      <td>0.179985</td>\n",
       "      <td>0.045222</td>\n",
       "      <td>0.249971</td>\n",
       "      <td>-1.051911</td>\n",
       "      <td>0.424282</td>\n",
       "      <td>1.120610</td>\n",
       "      <td>-0.549643</td>\n",
       "      <td>-0.419821</td>\n",
       "      <td>...</td>\n",
       "      <td>0.596870</td>\n",
       "      <td>0.612779</td>\n",
       "      <td>-0.082401</td>\n",
       "      <td>0.328936</td>\n",
       "      <td>0.981981</td>\n",
       "      <td>0.533601</td>\n",
       "      <td>0.144951</td>\n",
       "      <td>-0.245021</td>\n",
       "      <td>0.201264</td>\n",
       "      <td>-0.156344</td>\n",
       "    </tr>\n",
       "    <tr>\n",
       "      <th>9954</th>\n",
       "      <td>-0.248604</td>\n",
       "      <td>0.264987</td>\n",
       "      <td>0.052154</td>\n",
       "      <td>-0.010333</td>\n",
       "      <td>0.171792</td>\n",
       "      <td>-0.973647</td>\n",
       "      <td>0.307348</td>\n",
       "      <td>1.151768</td>\n",
       "      <td>-0.487849</td>\n",
       "      <td>-0.314970</td>\n",
       "      <td>...</td>\n",
       "      <td>0.623240</td>\n",
       "      <td>0.498150</td>\n",
       "      <td>0.068809</td>\n",
       "      <td>0.259419</td>\n",
       "      <td>0.855395</td>\n",
       "      <td>0.407200</td>\n",
       "      <td>0.303128</td>\n",
       "      <td>-0.297548</td>\n",
       "      <td>0.198765</td>\n",
       "      <td>-0.079947</td>\n",
       "    </tr>\n",
       "  </tbody>\n",
       "</table>\n",
       "<p>9955 rows × 100 columns</p>\n",
       "</div>"
      ],
      "text/plain": [
       "            0         1         2         3         4         5         6   \\\n",
       "0    -0.165805  0.271445 -0.016576 -0.043731  0.107624 -1.054667  0.275543   \n",
       "1    -0.069072  0.240473 -0.148410 -0.125541  0.117467 -0.927273  0.139672   \n",
       "2    -0.314959  0.268411 -0.068274 -0.030529  0.152581 -1.187055  0.349530   \n",
       "3    -0.141818  0.179356 -0.096211 -0.041968 -0.002948 -0.846039  0.190941   \n",
       "4    -0.311654  0.318416 -0.082248 -0.046331  0.232441 -1.007788  0.300784   \n",
       "...        ...       ...       ...       ...       ...       ...       ...   \n",
       "9950 -0.259383  0.333144  0.039721 -0.026771  0.216562 -1.040631  0.335411   \n",
       "9951 -0.140777  0.201766 -0.015618 -0.030935  0.092093 -0.843578  0.219839   \n",
       "9952 -0.240585  0.299141 -0.063217 -0.072370  0.262280 -0.956357  0.249254   \n",
       "9953 -0.361153  0.353267  0.179985  0.045222  0.249971 -1.051911  0.424282   \n",
       "9954 -0.248604  0.264987  0.052154 -0.010333  0.171792 -0.973647  0.307348   \n",
       "\n",
       "            7         8         9   ...        90        91        92  \\\n",
       "0     1.230130 -0.515281 -0.313986  ...  0.718538  0.527409  0.155526   \n",
       "1     1.295435 -0.455371 -0.184420  ...  0.727303  0.365923  0.332608   \n",
       "2     1.497826 -0.539797 -0.294291  ...  0.790993  0.488611  0.227603   \n",
       "3     1.092289 -0.424565 -0.194537  ...  0.619760  0.372330  0.246211   \n",
       "4     1.519991 -0.514502 -0.221147  ...  0.715498  0.355136  0.298513   \n",
       "...        ...       ...       ...  ...       ...       ...       ...   \n",
       "9950  1.305739 -0.545018 -0.336623  ...  0.682492  0.503369  0.112788   \n",
       "9951  0.979854 -0.406590 -0.251822  ...  0.574151  0.413723  0.122416   \n",
       "9952  1.400325 -0.464538 -0.219545  ...  0.672251  0.351905  0.255121   \n",
       "9953  1.120610 -0.549643 -0.419821  ...  0.596870  0.612779 -0.082401   \n",
       "9954  1.151768 -0.487849 -0.314970  ...  0.623240  0.498150  0.068809   \n",
       "\n",
       "            93        94        95        96        97        98        99  \n",
       "0     0.285259  0.873711  0.426568  0.440875 -0.294836  0.206305 -0.098356  \n",
       "1     0.144989  0.855101  0.168549  0.564705 -0.540648  0.327705 -0.019993  \n",
       "2     0.259857  0.921852  0.367840  0.512201 -0.424338  0.237265 -0.021522  \n",
       "3     0.184368  0.605899  0.276458  0.475333 -0.278668  0.192310 -0.034175  \n",
       "4     0.060673  1.005073  0.132799  0.487650 -0.720808  0.433562  0.018146  \n",
       "...        ...       ...       ...       ...       ...       ...       ...  \n",
       "9950  0.225620  0.994832  0.359685  0.357934 -0.453013  0.298808 -0.088515  \n",
       "9951  0.233582  0.688432  0.328874  0.344371 -0.236242  0.152058 -0.062653  \n",
       "9952  0.084600  1.017030  0.129892  0.435700 -0.693794  0.397294  0.000424  \n",
       "9953  0.328936  0.981981  0.533601  0.144951 -0.245021  0.201264 -0.156344  \n",
       "9954  0.259419  0.855395  0.407200  0.303128 -0.297548  0.198765 -0.079947  \n",
       "\n",
       "[9955 rows x 100 columns]"
      ]
     },
     "execution_count": 47,
     "metadata": {},
     "output_type": "execute_result"
    }
   ],
   "source": [
    "X"
   ]
  },
  {
   "cell_type": "code",
   "execution_count": 117,
   "metadata": {},
   "outputs": [],
   "source": [
    "labels_path='./dataset/labels_stanza_10k.csv'"
   ]
  },
  {
   "cell_type": "code",
   "execution_count": 139,
   "metadata": {},
   "outputs": [],
   "source": [
    "y=pd.read_csv(labels_path)"
   ]
  },
  {
   "cell_type": "code",
   "execution_count": 140,
   "metadata": {},
   "outputs": [],
   "source": [
    "y=y['Vegetarian']"
   ]
  },
  {
   "cell_type": "code",
   "execution_count": 141,
   "metadata": {},
   "outputs": [],
   "source": [
    "X_train, X_test, y_train, y_test = train_test_split(X, y, test_size=0.3, random_state=42, stratify=y)"
   ]
  },
  {
   "cell_type": "code",
   "execution_count": 142,
   "metadata": {},
   "outputs": [],
   "source": [
    "scaler = StandardScaler()\n",
    "X_train_scaled=scaler.fit_transform(X_train)\n",
    "X_test_scaled=scaler.transform(X_test)"
   ]
  },
  {
   "cell_type": "markdown",
   "metadata": {},
   "source": [
    "So far, we created our training and test set, with a split of 70%/30%, and stratified with respect to the label. We also used the standard scaler on the two sets."
   ]
  },
  {
   "cell_type": "markdown",
   "metadata": {},
   "source": [
    "# Classification on the Vegetarian label"
   ]
  },
  {
   "cell_type": "code",
   "execution_count": 129,
   "metadata": {},
   "outputs": [],
   "source": [
    "def plot_cm(y_test,y_pred):\n",
    "    cm = confusion_matrix(y_test, y_pred)\n",
    "    print(\"Confusion Matrix:\")\n",
    "    print(cm)\n",
    "\n",
    "    plt.figure(figsize=(8, 6))\n",
    "    sns.heatmap(cm, annot=True, fmt=\"d\", cmap='Blues')\n",
    "    plt.xlabel('Predicted')\n",
    "    plt.ylabel('True')\n",
    "    plt.title('Confusion Matrix')\n",
    "    plt.show()"
   ]
  },
  {
   "cell_type": "markdown",
   "metadata": {},
   "source": [
    "## Logistic Regression"
   ]
  },
  {
   "cell_type": "code",
   "execution_count": 143,
   "metadata": {},
   "outputs": [
    {
     "name": "stderr",
     "output_type": "stream",
     "text": [
      "c:\\Users\\Giamm\\AppData\\Local\\Programs\\Python\\Python311\\Lib\\site-packages\\sklearn\\linear_model\\_logistic.py:460: ConvergenceWarning: lbfgs failed to converge (status=1):\n",
      "STOP: TOTAL NO. of ITERATIONS REACHED LIMIT.\n",
      "\n",
      "Increase the number of iterations (max_iter) or scale the data as shown in:\n",
      "    https://scikit-learn.org/stable/modules/preprocessing.html\n",
      "Please also refer to the documentation for alternative solver options:\n",
      "    https://scikit-learn.org/stable/modules/linear_model.html#logistic-regression\n",
      "  n_iter_i = _check_optimize_result(\n"
     ]
    }
   ],
   "source": [
    "# fitting the model\n",
    "logreg = LogisticRegression()\n",
    "logreg.fit(X_train_scaled, y_train)\n",
    "LogisticRegression()\n",
    "# predictions\n",
    "y_pred = logreg.predict(X_test_scaled)\n",
    "y_pred_train = logreg.predict(X_train_scaled)"
   ]
  },
  {
   "cell_type": "code",
   "execution_count": 144,
   "metadata": {},
   "outputs": [
    {
     "name": "stdout",
     "output_type": "stream",
     "text": [
      "              precision    recall  f1-score   support\n",
      "\n",
      "           0       0.73      0.78      0.75      1490\n",
      "           1       0.76      0.72      0.74      1497\n",
      "\n",
      "    accuracy                           0.75      2987\n",
      "   macro avg       0.75      0.75      0.75      2987\n",
      "weighted avg       0.75      0.75      0.75      2987\n",
      "\n"
     ]
    }
   ],
   "source": [
    "print(classification_report(y_test, y_pred))"
   ]
  },
  {
   "cell_type": "code",
   "execution_count": 145,
   "metadata": {},
   "outputs": [
    {
     "name": "stdout",
     "output_type": "stream",
     "text": [
      "Confusion Matrix:\n",
      "[[1157  333]\n",
      " [ 424 1073]]\n"
     ]
    },
    {
     "data": {
      "image/png": "[encoded data removed]",
      "text/plain": [
       "<Figure size 800x600 with 2 Axes>"
      ]
     },
     "metadata": {},
     "output_type": "display_data"
    }
   ],
   "source": [
    "plot_cm(y_test,y_pred)"
   ]
  },
  {
   "cell_type": "markdown",
   "metadata": {},
   "source": [
    "## SVM"
   ]
  },
  {
   "cell_type": "code",
   "execution_count": 146,
   "metadata": {},
   "outputs": [
    {
     "name": "stdout",
     "output_type": "stream",
     "text": [
      "Fitting 5 folds for each of 9 candidates, totalling 45 fits\n",
      "Best parameters: {'C': 3000, 'gamma': 0.1, 'kernel': 'rbf'}\n",
      "Best cross-validation score: 0.81\n",
      "              precision    recall  f1-score   support\n",
      "\n",
      "           0       0.79      0.84      0.81      1490\n",
      "           1       0.83      0.77      0.80      1497\n",
      "\n",
      "    accuracy                           0.81      2987\n",
      "   macro avg       0.81      0.81      0.81      2987\n",
      "weighted avg       0.81      0.81      0.81      2987\n",
      "\n"
     ]
    }
   ],
   "source": [
    "param_grid = [\n",
    "    {'C': [1000,3000,5000], 'gamma': [0.1,0.01,0.001], 'kernel': ['rbf']},\n",
    "]\n",
    "\n",
    "svc = SVC()\n",
    "grid_search = GridSearchCV(svc, param_grid, cv=5, scoring='accuracy', verbose=10, n_jobs=-1)\n",
    "grid_search.fit(X_train, y_train)\n",
    "\n",
    "print(\"Best parameters:\", grid_search.best_params_)\n",
    "print(\"Best cross-validation score: {:.2f}\".format(grid_search.best_score_))\n",
    "\n",
    "y_pred = grid_search.predict(X_test)\n",
    "print(classification_report(y_test, y_pred))"
   ]
  },
  {
   "cell_type": "code",
   "execution_count": 147,
   "metadata": {},
   "outputs": [
    {
     "name": "stdout",
     "output_type": "stream",
     "text": [
      "Confusion Matrix:\n",
      "[[1252  238]\n",
      " [ 338 1159]]\n"
     ]
    },
    {
     "data": {
      "image/png": "[encoded data removed]",
      "text/plain": [
       "<Figure size 800x600 with 2 Axes>"
      ]
     },
     "metadata": {},
     "output_type": "display_data"
    }
   ],
   "source": [
    "plot_cm(y_test,y_pred)"
   ]
  },
  {
   "cell_type": "code",
   "execution_count": null,
   "metadata": {},
   "outputs": [],
   "source": [
    "SVM_best_config=grid_search.best_params_"
   ]
  },
  {
   "cell_type": "markdown",
   "metadata": {},
   "source": [
    "## Random Forest"
   ]
  },
  {
   "cell_type": "code",
   "execution_count": 148,
   "metadata": {},
   "outputs": [
    {
     "name": "stdout",
     "output_type": "stream",
     "text": [
      "Fitting 5 folds for each of 6 candidates, totalling 30 fits\n",
      "Best parameters: {'criterion': 'entropy', 'max_depth': None, 'min_samples_leaf': 1, 'min_samples_split': 2, 'n_estimators': 200}\n",
      "Best cross-validation score: 0.76\n",
      "              precision    recall  f1-score   support\n",
      "\n",
      "           0       0.75      0.81      0.78      1490\n",
      "           1       0.80      0.73      0.76      1497\n",
      "\n",
      "    accuracy                           0.77      2987\n",
      "   macro avg       0.77      0.77      0.77      2987\n",
      "weighted avg       0.77      0.77      0.77      2987\n",
      "\n"
     ]
    }
   ],
   "source": [
    "parameters = {'n_estimators': [50,100,200], 'max_depth':[None], 'min_samples_split':[2], 'min_samples_leaf': [1],'criterion' : ['gini','entropy'] }\n",
    "\n",
    "grid_search = GridSearchCV(estimator=RandomForestClassifier(), param_grid = parameters, cv=5, verbose=10, scoring='accuracy',n_jobs=-1)\n",
    "\n",
    "grid_search.fit(X_train, y_train)\n",
    "\n",
    "print(\"Best parameters:\", grid_search.best_params_)\n",
    "print(\"Best cross-validation score: {:.2f}\".format(grid_search.best_score_))\n",
    "\n",
    "y_pred = grid_search.predict(X_test)\n",
    "print(classification_report(y_test, y_pred))"
   ]
  },
  {
   "cell_type": "code",
   "execution_count": 105,
   "metadata": {},
   "outputs": [],
   "source": [
    "RF_best_config=grid_search.best_params_"
   ]
  },
  {
   "cell_type": "code",
   "execution_count": 149,
   "metadata": {},
   "outputs": [
    {
     "name": "stdout",
     "output_type": "stream",
     "text": [
      "Confusion Matrix:\n",
      "[[1213  277]\n",
      " [ 407 1090]]\n"
     ]
    },
    {
     "data": {
      "image/png": "[encoded data removed]",
      "text/plain": [
       "<Figure size 800x600 with 2 Axes>"
      ]
     },
     "metadata": {},
     "output_type": "display_data"
    }
   ],
   "source": [
    "plot_cm(y_test,y_pred)"
   ]
  },
  {
   "cell_type": "markdown",
   "metadata": {},
   "source": [
    "## MLP"
   ]
  },
  {
   "cell_type": "code",
   "execution_count": 114,
   "metadata": {},
   "outputs": [],
   "source": [
    "param_grid={\n",
    "    'optimizer': ['adam'],\n",
    "    'first_layer_size': [ 32, 64],\n",
    "    'second_layer_size': [16, 32],\n",
    "    'reg_strength': [0.0001, 0.001, 0.01,],\n",
    "    'lr':[0.001, 0.0001]\n",
    "}"
   ]
  },
  {
   "cell_type": "code",
   "execution_count": 115,
   "metadata": {},
   "outputs": [],
   "source": [
    "def kfold(X, y, k):\n",
    "    for i in range(k+1):\n",
    "        X_train, X_test, y_train, y_test = train_test_split(X, y, test_size=int(X.shape[0]/k), random_state=i)\n",
    "        yield X_train, X_test, y_train, y_test\n",
    "\n",
    "def grid_search_kfold(X,y, k, param_grid):\n",
    "    best_score =0\n",
    "    X_train, X_test, y_train, y_test = train_test_split(X, y, stratify=y, test_size=0.2, random_state=42)\n",
    "    for params in tqdm(ParameterGrid(param_grid)):\n",
    "        #train on the k-1 folds\n",
    "\n",
    "        model =Sequential([\n",
    "                          Dense(params['first_layer_size'], activation='relu',\n",
    "                                input_shape=(X.shape[1],), kernel_regularizer=l2(params['reg_strength'])),\n",
    "                          Dense(params['second_layer_size'], activation='relu', kernel_regularizer=l2(params['reg_strength'])),\n",
    "                          Dense(1, activation='sigmoid', kernel_regularizer=l2(params['reg_strength']))\n",
    "                          ]\n",
    "                        )\n",
    "        early_stopping= EarlyStopping(patience=5, restore_best_weights=True, monitor='val_loss')\n",
    "        if params['optimizer']=='adam':\n",
    "          opt= keras.optimizers.Adam(learning_rate=params['lr'])\n",
    "        else:\n",
    "          opt= keras.optimizers.SGD(learning_rate=params['lr'])\n",
    "          \n",
    "        model.compile(optimizer=opt, loss='binary_crossentropy', metrics=['accuracy'])\n",
    "        model.fit(X_train, y_train, validation_data=(X_test, y_test), epochs=20, callbacks=[early_stopping], verbose=False)\n",
    "        score = model.evaluate(X_test, y_test)\n",
    "        print(score)\n",
    "        if score[1] > best_score:\n",
    "            best_score = score[1]\n",
    "            best_params = params\n",
    "    return best_params, best_score"
   ]
  },
  {
   "cell_type": "code",
   "execution_count": 123,
   "metadata": {},
   "outputs": [
    {
     "name": "stderr",
     "output_type": "stream",
     "text": [
      "  0%|          | 0/24 [00:00<?, ?it/s]"
     ]
    },
    {
     "name": "stdout",
     "output_type": "stream",
     "text": [
      "44/44 [==============================] - 0s 1ms/step - loss: 0.5216 - accuracy: 0.7496\n"
     ]
    },
    {
     "name": "stderr",
     "output_type": "stream",
     "text": [
      "  4%|▍         | 1/24 [00:06<02:30,  6.56s/it]"
     ]
    },
    {
     "name": "stdout",
     "output_type": "stream",
     "text": [
      "[0.5215699076652527, 0.7496412992477417]\n",
      "44/44 [==============================] - 0s 1ms/step - loss: 0.5329 - accuracy: 0.7296\n"
     ]
    },
    {
     "name": "stderr",
     "output_type": "stream",
     "text": [
      "  8%|▊         | 2/24 [00:10<01:51,  5.06s/it]"
     ]
    },
    {
     "name": "stdout",
     "output_type": "stream",
     "text": [
      "[0.5328801870346069, 0.7295552492141724]\n",
      "44/44 [==============================] - 0s 1ms/step - loss: 0.5475 - accuracy: 0.7425\n"
     ]
    },
    {
     "name": "stderr",
     "output_type": "stream",
     "text": [
      " 12%|█▎        | 3/24 [00:16<01:58,  5.65s/it]"
     ]
    },
    {
     "name": "stdout",
     "output_type": "stream",
     "text": [
      "[0.5475038886070251, 0.7424677014350891]\n",
      "44/44 [==============================] - 0s 1ms/step - loss: 0.5511 - accuracy: 0.7382\n"
     ]
    },
    {
     "name": "stderr",
     "output_type": "stream",
     "text": [
      " 17%|█▋        | 4/24 [00:23<01:58,  5.92s/it]"
     ]
    },
    {
     "name": "stdout",
     "output_type": "stream",
     "text": [
      "[0.5511428713798523, 0.7381635308265686]\n",
      "44/44 [==============================] - 0s 1ms/step - loss: 0.5776 - accuracy: 0.7288\n"
     ]
    },
    {
     "name": "stderr",
     "output_type": "stream",
     "text": [
      " 21%|██        | 5/24 [00:29<01:53,  5.96s/it]"
     ]
    },
    {
     "name": "stdout",
     "output_type": "stream",
     "text": [
      "[0.5775538086891174, 0.7288378477096558]\n",
      "44/44 [==============================] - 0s 1ms/step - loss: 0.5893 - accuracy: 0.7138\n"
     ]
    },
    {
     "name": "stderr",
     "output_type": "stream",
     "text": [
      " 25%|██▌       | 6/24 [00:35<01:51,  6.18s/it]"
     ]
    },
    {
     "name": "stdout",
     "output_type": "stream",
     "text": [
      "[0.5892943143844604, 0.7137733101844788]\n",
      "44/44 [==============================] - 0s 1ms/step - loss: 0.5495 - accuracy: 0.7152\n"
     ]
    },
    {
     "name": "stderr",
     "output_type": "stream",
     "text": [
      " 29%|██▉       | 7/24 [00:42<01:45,  6.22s/it]"
     ]
    },
    {
     "name": "stdout",
     "output_type": "stream",
     "text": [
      "[0.549541711807251, 0.7152080535888672]\n",
      "44/44 [==============================] - 0s 1ms/step - loss: 0.5457 - accuracy: 0.7281\n"
     ]
    },
    {
     "name": "stderr",
     "output_type": "stream",
     "text": [
      " 33%|███▎      | 8/24 [00:48<01:39,  6.22s/it]"
     ]
    },
    {
     "name": "stdout",
     "output_type": "stream",
     "text": [
      "[0.5456740856170654, 0.7281205058097839]\n",
      "44/44 [==============================] - 0s 1ms/step - loss: 0.6094 - accuracy: 0.7116\n"
     ]
    },
    {
     "name": "stderr",
     "output_type": "stream",
     "text": [
      " 38%|███▊      | 9/24 [00:54<01:33,  6.26s/it]"
     ]
    },
    {
     "name": "stdout",
     "output_type": "stream",
     "text": [
      "[0.6093879342079163, 0.7116212248802185]\n",
      "44/44 [==============================] - 0s 1ms/step - loss: 0.6104 - accuracy: 0.7181\n"
     ]
    },
    {
     "name": "stderr",
     "output_type": "stream",
     "text": [
      " 42%|████▏     | 10/24 [01:01<01:28,  6.32s/it]"
     ]
    },
    {
     "name": "stdout",
     "output_type": "stream",
     "text": [
      "[0.6104236245155334, 0.7180774807929993]\n",
      "44/44 [==============================] - 0s 1ms/step - loss: 0.7604 - accuracy: 0.7116\n"
     ]
    },
    {
     "name": "stderr",
     "output_type": "stream",
     "text": [
      " 46%|████▌     | 11/24 [01:07<01:21,  6.26s/it]"
     ]
    },
    {
     "name": "stdout",
     "output_type": "stream",
     "text": [
      "[0.7604309916496277, 0.7116212248802185]\n",
      "44/44 [==============================] - 0s 1ms/step - loss: 0.7296 - accuracy: 0.7131\n"
     ]
    },
    {
     "name": "stderr",
     "output_type": "stream",
     "text": [
      " 50%|█████     | 12/24 [01:13<01:14,  6.24s/it]"
     ]
    },
    {
     "name": "stdout",
     "output_type": "stream",
     "text": [
      "[0.7295556664466858, 0.7130559682846069]\n",
      "44/44 [==============================] - 0s 1ms/step - loss: 0.5262 - accuracy: 0.7389\n"
     ]
    },
    {
     "name": "stderr",
     "output_type": "stream",
     "text": [
      " 54%|█████▍    | 13/24 [01:19<01:07,  6.12s/it]"
     ]
    },
    {
     "name": "stdout",
     "output_type": "stream",
     "text": [
      "[0.526227593421936, 0.7388809323310852]\n",
      "44/44 [==============================] - 0s 1ms/step - loss: 0.5299 - accuracy: 0.7425\n"
     ]
    },
    {
     "name": "stderr",
     "output_type": "stream",
     "text": [
      " 58%|█████▊    | 14/24 [01:24<00:57,  5.73s/it]"
     ]
    },
    {
     "name": "stdout",
     "output_type": "stream",
     "text": [
      "[0.5298793315887451, 0.7424677014350891]\n",
      "44/44 [==============================] - 0s 2ms/step - loss: 0.5713 - accuracy: 0.7202\n"
     ]
    },
    {
     "name": "stderr",
     "output_type": "stream",
     "text": [
      " 62%|██████▎   | 15/24 [01:30<00:53,  5.92s/it]"
     ]
    },
    {
     "name": "stdout",
     "output_type": "stream",
     "text": [
      "[0.571265697479248, 0.7202295660972595]\n",
      "44/44 [==============================] - 0s 1ms/step - loss: 0.5612 - accuracy: 0.7288\n"
     ]
    },
    {
     "name": "stderr",
     "output_type": "stream",
     "text": [
      " 67%|██████▋   | 16/24 [01:37<00:48,  6.08s/it]"
     ]
    },
    {
     "name": "stdout",
     "output_type": "stream",
     "text": [
      "[0.5612115859985352, 0.7288378477096558]\n",
      "44/44 [==============================] - 0s 1ms/step - loss: 0.5872 - accuracy: 0.7174\n"
     ]
    },
    {
     "name": "stderr",
     "output_type": "stream",
     "text": [
      " 71%|███████   | 17/24 [01:43<00:43,  6.25s/it]"
     ]
    },
    {
     "name": "stdout",
     "output_type": "stream",
     "text": [
      "[0.5871652364730835, 0.7173601388931274]\n",
      "44/44 [==============================] - 0s 1ms/step - loss: 0.5772 - accuracy: 0.7217\n"
     ]
    },
    {
     "name": "stderr",
     "output_type": "stream",
     "text": [
      " 75%|███████▌  | 18/24 [01:49<00:37,  6.18s/it]"
     ]
    },
    {
     "name": "stdout",
     "output_type": "stream",
     "text": [
      "[0.5772143602371216, 0.7216642498970032]\n",
      "44/44 [==============================] - 0s 1ms/step - loss: 0.5523 - accuracy: 0.7131\n"
     ]
    },
    {
     "name": "stderr",
     "output_type": "stream",
     "text": [
      " 79%|███████▉  | 19/24 [01:56<00:31,  6.25s/it]"
     ]
    },
    {
     "name": "stdout",
     "output_type": "stream",
     "text": [
      "[0.5522966384887695, 0.7130559682846069]\n",
      "44/44 [==============================] - 0s 1ms/step - loss: 0.5512 - accuracy: 0.7166\n"
     ]
    },
    {
     "name": "stderr",
     "output_type": "stream",
     "text": [
      " 83%|████████▎ | 20/24 [02:02<00:25,  6.31s/it]"
     ]
    },
    {
     "name": "stdout",
     "output_type": "stream",
     "text": [
      "[0.5512472987174988, 0.7166427373886108]\n",
      "44/44 [==============================] - 0s 1ms/step - loss: 0.6194 - accuracy: 0.7238\n"
     ]
    },
    {
     "name": "stderr",
     "output_type": "stream",
     "text": [
      " 88%|████████▊ | 21/24 [02:09<00:19,  6.37s/it]"
     ]
    },
    {
     "name": "stdout",
     "output_type": "stream",
     "text": [
      "[0.6194309592247009, 0.7238163352012634]\n",
      "44/44 [==============================] - 0s 1ms/step - loss: 0.6286 - accuracy: 0.7274\n"
     ]
    },
    {
     "name": "stderr",
     "output_type": "stream",
     "text": [
      " 92%|█████████▏| 22/24 [02:15<00:12,  6.41s/it]"
     ]
    },
    {
     "name": "stdout",
     "output_type": "stream",
     "text": [
      "[0.6285751461982727, 0.7274031639099121]\n",
      "44/44 [==============================] - 0s 1ms/step - loss: 0.8154 - accuracy: 0.7181\n"
     ]
    },
    {
     "name": "stderr",
     "output_type": "stream",
     "text": [
      " 96%|█████████▌| 23/24 [02:22<00:06,  6.51s/it]"
     ]
    },
    {
     "name": "stdout",
     "output_type": "stream",
     "text": [
      "[0.8154104948043823, 0.7180774807929993]\n",
      "44/44 [==============================] - 0s 1ms/step - loss: 0.7394 - accuracy: 0.7174\n"
     ]
    },
    {
     "name": "stderr",
     "output_type": "stream",
     "text": [
      "100%|██████████| 24/24 [02:29<00:00,  6.22s/it]"
     ]
    },
    {
     "name": "stdout",
     "output_type": "stream",
     "text": [
      "[0.7393593192100525, 0.7173601388931274]\n"
     ]
    },
    {
     "name": "stderr",
     "output_type": "stream",
     "text": [
      "\n"
     ]
    }
   ],
   "source": [
    "best_params, best_score = grid_search_kfold(X_train_scaled, y_train, 3, param_grid)"
   ]
  },
  {
   "cell_type": "code",
   "execution_count": 124,
   "metadata": {},
   "outputs": [
    {
     "data": {
      "text/plain": [
       "{'first_layer_size': 32,\n",
       " 'lr': 0.001,\n",
       " 'optimizer': 'adam',\n",
       " 'reg_strength': 0.0001,\n",
       " 'second_layer_size': 16}"
      ]
     },
     "execution_count": 124,
     "metadata": {},
     "output_type": "execute_result"
    }
   ],
   "source": [
    "best_params"
   ]
  },
  {
   "cell_type": "code",
   "execution_count": 125,
   "metadata": {},
   "outputs": [
    {
     "data": {
      "text/plain": [
       "<keras.src.callbacks.History at 0x12f6d9ddb90>"
      ]
     },
     "execution_count": 125,
     "metadata": {},
     "output_type": "execute_result"
    }
   ],
   "source": [
    "nn = Sequential([\n",
    "                            Dense(best_params['first_layer_size'], activation='sigmoid',\n",
    "                                    input_shape=(X_train_scaled.shape[1],), kernel_regularizer=l2(best_params['reg_strength'])),\n",
    "                            Dense(best_params['second_layer_size'], activation='sigmoid', kernel_regularizer=l2(best_params['reg_strength'])),\n",
    "                            Dense(1, activation='sigmoid', kernel_regularizer=l2(best_params['reg_strength']))\n",
    "                            ]\n",
    "                            )\n",
    "nn.compile(optimizer=Adam(learning_rate=best_params['lr']), loss='binary_crossentropy', metrics=['accuracy'])\n",
    "early_stopping= EarlyStopping(patience=5, restore_best_weights=True, monitor='val_loss')\n",
    "nn.fit(X_train_scaled, y_train, validation_data=(X_test_scaled, y_test), epochs=50, callbacks=[early_stopping], verbose=False)"
   ]
  },
  {
   "cell_type": "code",
   "execution_count": 126,
   "metadata": {},
   "outputs": [
    {
     "name": "stdout",
     "output_type": "stream",
     "text": [
      "94/94 [==============================] - 0s 1ms/step\n",
      "218/218 [==============================] - 0s 1ms/step\n",
      "accuracy: 0.7679946434549716 \n",
      "\n",
      "              precision    recall  f1-score   support\n",
      "\n",
      "           0       0.75      0.81      0.78      1490\n",
      "           1       0.79      0.73      0.76      1497\n",
      "\n",
      "    accuracy                           0.77      2987\n",
      "   macro avg       0.77      0.77      0.77      2987\n",
      "weighted avg       0.77      0.77      0.77      2987\n",
      "\n"
     ]
    }
   ],
   "source": [
    "y_pred = nn.predict(X_test_scaled)\n",
    "y_pred_train = nn.predict(X_train_scaled)\n",
    "y_pred = (y_pred > 0.5).astype(int)\n",
    "y_pred_train = y_pred_train > 0.5\n",
    "\n",
    "print('accuracy:', accuracy_score(y_test, y_pred),'\\n')\n",
    "print(classification_report(y_test, y_pred))"
   ]
  },
  {
   "cell_type": "code",
   "execution_count": 131,
   "metadata": {},
   "outputs": [
    {
     "name": "stdout",
     "output_type": "stream",
     "text": [
      "Confusion Matrix:\n",
      "[[1200  290]\n",
      " [ 403 1094]]\n"
     ]
    },
    {
     "data": {
      "image/png": "[encoded data removed]",
      "text/plain": [
       "<Figure size 800x600 with 2 Axes>"
      ]
     },
     "metadata": {},
     "output_type": "display_data"
    }
   ],
   "source": [
    "plot_cm(y_test,y_pred)"
   ]
  },
  {
   "cell_type": "markdown",
   "metadata": {},
   "source": [
    "# Multi-label Classification"
   ]
  },
  {
   "cell_type": "markdown",
   "metadata": {},
   "source": [
    "Unfortunately, methods such as Logistic Regression, SVM and Random Forest do not natively support multi-label classification. The MultiOutputClassifier from scikit-learn allows us to fit, given a classifier, as much classifiers as the number of labels. <br>\n",
    "This means the classifiers will all share the same hyperparameters, but not the weights or any other parameter and structure dependent on the dataset and the fit procedure."
   ]
  },
  {
   "cell_type": "markdown",
   "metadata": {},
   "source": [
    "Thus, for the above-mentioned models, we will consider the hyperparameters of the configurations which performed best in the previous classification section."
   ]
  },
  {
   "cell_type": "code",
   "execution_count": 132,
   "metadata": {},
   "outputs": [],
   "source": [
    "y=pd.read_csv(labels_path)"
   ]
  },
  {
   "cell_type": "code",
   "execution_count": 80,
   "metadata": {},
   "outputs": [
    {
     "data": {
      "text/plain": [
       "Vegetarian            4990\n",
       "Dairy Free              68\n",
       "Gluten Free           5389\n",
       "Low Carb               663\n",
       "Low Fat               1737\n",
       "Low Sodium            1567\n",
       "Dessert                485\n",
       "Meat                  3836\n",
       "Fish                  1529\n",
       "Dairy                 1450\n",
       "Vegetarian&Dessert    4990\n",
       "Meat&Fish             4965\n",
       "dtype: int64"
      ]
     },
     "execution_count": 80,
     "metadata": {},
     "output_type": "execute_result"
    }
   ],
   "source": [
    "y.sum(axis=0)"
   ]
  },
  {
   "cell_type": "markdown",
   "metadata": {},
   "source": [
    "We consider these six labels for multi-label classification."
   ]
  },
  {
   "cell_type": "code",
   "execution_count": 133,
   "metadata": {},
   "outputs": [],
   "source": [
    "y=y[['Dairy Free','Gluten Free','Low Carb','Low Fat','Low Sodium','Vegetarian']]"
   ]
  },
  {
   "cell_type": "code",
   "execution_count": 134,
   "metadata": {},
   "outputs": [],
   "source": [
    "X_train, X_test, y_train, y_test = train_test_split(X, y, test_size=0.3, random_state=42)"
   ]
  },
  {
   "cell_type": "code",
   "execution_count": 135,
   "metadata": {},
   "outputs": [],
   "source": [
    "scaler = StandardScaler()\n",
    "X_train_scaled=scaler.fit_transform(X_train)\n",
    "X_test_scaled=scaler.transform(X_test)"
   ]
  },
  {
   "cell_type": "markdown",
   "metadata": {},
   "source": [
    "## Logistic Regression"
   ]
  },
  {
   "cell_type": "code",
   "execution_count": 136,
   "metadata": {},
   "outputs": [
    {
     "name": "stdout",
     "output_type": "stream",
     "text": [
      "accuracy: 0.4506193505189153 \n",
      "\n",
      "              precision    recall  f1-score   support\n",
      "\n",
      "           0       0.00      0.00      0.00        17\n",
      "           1       0.74      0.82      0.78      1592\n",
      "           2       0.00      0.00      0.00       178\n",
      "           3       0.78      0.45      0.57       517\n",
      "           4       0.75      0.45      0.56       465\n",
      "           5       0.75      0.73      0.74      1457\n",
      "\n",
      "   micro avg       0.75      0.66      0.70      4226\n",
      "   macro avg       0.50      0.41      0.44      4226\n",
      "weighted avg       0.71      0.66      0.68      4226\n",
      " samples avg       0.51      0.48      0.47      4226\n",
      "\n"
     ]
    },
    {
     "name": "stderr",
     "output_type": "stream",
     "text": [
      "c:\\Users\\Giamm\\AppData\\Local\\Programs\\Python\\Python311\\Lib\\site-packages\\sklearn\\metrics\\_classification.py:1471: UndefinedMetricWarning: Precision and F-score are ill-defined and being set to 0.0 in labels with no predicted samples. Use `zero_division` parameter to control this behavior.\n",
      "  _warn_prf(average, modifier, msg_start, len(result))\n",
      "c:\\Users\\Giamm\\AppData\\Local\\Programs\\Python\\Python311\\Lib\\site-packages\\sklearn\\metrics\\_classification.py:1471: UndefinedMetricWarning: Precision and F-score are ill-defined and being set to 0.0 in samples with no predicted labels. Use `zero_division` parameter to control this behavior.\n",
      "  _warn_prf(average, modifier, msg_start, len(result))\n",
      "c:\\Users\\Giamm\\AppData\\Local\\Programs\\Python\\Python311\\Lib\\site-packages\\sklearn\\metrics\\_classification.py:1471: UndefinedMetricWarning: Recall and F-score are ill-defined and being set to 0.0 in samples with no true labels. Use `zero_division` parameter to control this behavior.\n",
      "  _warn_prf(average, modifier, msg_start, len(result))\n"
     ]
    }
   ],
   "source": [
    "# fitting the model\n",
    "logreg=MultiOutputClassifier(LogisticRegression(), n_jobs=-1)\n",
    "logreg.fit(X_train_scaled, y_train)\n",
    "# predictions\n",
    "y_pred = logreg.predict(X_test_scaled)\n",
    "y_pred_train = logreg.predict(X_train_scaled)\n",
    "\n",
    "print('accuracy:', accuracy_score(y_test, y_pred),'\\n')\n",
    "print(classification_report(y_test, y_pred))"
   ]
  },
  {
   "cell_type": "markdown",
   "metadata": {},
   "source": [
    "## SVM"
   ]
  },
  {
   "cell_type": "code",
   "execution_count": 97,
   "metadata": {},
   "outputs": [
    {
     "name": "stdout",
     "output_type": "stream",
     "text": [
      "accuracy: 0.41613659189822566 \n",
      "\n",
      "              precision    recall  f1-score   support\n",
      "\n",
      "           0       0.08      0.06      0.07        17\n",
      "           1       0.75      0.75      0.75      1592\n",
      "           2       0.27      0.25      0.26       178\n",
      "           3       0.58      0.52      0.55       517\n",
      "           4       0.58      0.54      0.56       465\n",
      "           5       0.73      0.74      0.74      1457\n",
      "\n",
      "   micro avg       0.69      0.67      0.68      4226\n",
      "   macro avg       0.50      0.48      0.49      4226\n",
      "weighted avg       0.68      0.67      0.68      4226\n",
      " samples avg       0.48      0.47      0.45      4226\n",
      "\n"
     ]
    },
    {
     "name": "stderr",
     "output_type": "stream",
     "text": [
      "c:\\Users\\Giamm\\AppData\\Local\\Programs\\Python\\Python311\\Lib\\site-packages\\sklearn\\metrics\\_classification.py:1471: UndefinedMetricWarning: Precision and F-score are ill-defined and being set to 0.0 in samples with no predicted labels. Use `zero_division` parameter to control this behavior.\n",
      "  _warn_prf(average, modifier, msg_start, len(result))\n",
      "c:\\Users\\Giamm\\AppData\\Local\\Programs\\Python\\Python311\\Lib\\site-packages\\sklearn\\metrics\\_classification.py:1471: UndefinedMetricWarning: Recall and F-score are ill-defined and being set to 0.0 in samples with no true labels. Use `zero_division` parameter to control this behavior.\n",
      "  _warn_prf(average, modifier, msg_start, len(result))\n"
     ]
    }
   ],
   "source": [
    "# fitting the model\n",
    "svc=MultiOutputClassifier(SVC(**SVM_best_config), n_jobs=-1)\n",
    "svc.fit(X_train_scaled, y_train)\n",
    "# predictions\n",
    "y_pred = svc.predict(X_test_scaled)\n",
    "y_pred_train = svc.predict(X_train_scaled)\n",
    "\n",
    "print('accuracy:', accuracy_score(y_test, y_pred),'\\n')\n",
    "print(classification_report(y_test, y_pred))"
   ]
  },
  {
   "cell_type": "markdown",
   "metadata": {},
   "source": [
    "## Random Forest"
   ]
  },
  {
   "cell_type": "code",
   "execution_count": 111,
   "metadata": {},
   "outputs": [
    {
     "name": "stdout",
     "output_type": "stream",
     "text": [
      "accuracy: 0.48476732507532644 \n",
      "\n",
      "              precision    recall  f1-score   support\n",
      "\n",
      "           0       0.00      0.00      0.00        17\n",
      "           1       0.77      0.78      0.77      1592\n",
      "           2       0.82      0.16      0.26       178\n",
      "           3       0.77      0.51      0.61       517\n",
      "           4       0.78      0.57      0.66       465\n",
      "           5       0.77      0.72      0.75      1457\n",
      "\n",
      "   micro avg       0.77      0.68      0.72      4226\n",
      "   macro avg       0.65      0.46      0.51      4226\n",
      "weighted avg       0.77      0.68      0.71      4226\n",
      " samples avg       0.50      0.47      0.46      4226\n",
      "\n"
     ]
    },
    {
     "name": "stderr",
     "output_type": "stream",
     "text": [
      "c:\\Users\\Giamm\\AppData\\Local\\Programs\\Python\\Python311\\Lib\\site-packages\\sklearn\\metrics\\_classification.py:1471: UndefinedMetricWarning: Precision and F-score are ill-defined and being set to 0.0 in labels with no predicted samples. Use `zero_division` parameter to control this behavior.\n",
      "  _warn_prf(average, modifier, msg_start, len(result))\n",
      "c:\\Users\\Giamm\\AppData\\Local\\Programs\\Python\\Python311\\Lib\\site-packages\\sklearn\\metrics\\_classification.py:1471: UndefinedMetricWarning: Precision and F-score are ill-defined and being set to 0.0 in samples with no predicted labels. Use `zero_division` parameter to control this behavior.\n",
      "  _warn_prf(average, modifier, msg_start, len(result))\n",
      "c:\\Users\\Giamm\\AppData\\Local\\Programs\\Python\\Python311\\Lib\\site-packages\\sklearn\\metrics\\_classification.py:1471: UndefinedMetricWarning: Recall and F-score are ill-defined and being set to 0.0 in samples with no true labels. Use `zero_division` parameter to control this behavior.\n",
      "  _warn_prf(average, modifier, msg_start, len(result))\n"
     ]
    }
   ],
   "source": [
    "# fitting the model\n",
    "rf=MultiOutputClassifier(RandomForestClassifier(**RF_best_config), n_jobs=-1)\n",
    "rf.fit(X_train_scaled, y_train)\n",
    "# predictions\n",
    "y_pred = rf.predict(X_test_scaled)\n",
    "y_pred_train = rf.predict(X_train_scaled)\n",
    "\n",
    "print('accuracy:', accuracy_score(y_test, y_pred),'\\n')\n",
    "print(classification_report(y_test, y_pred))"
   ]
  },
  {
   "cell_type": "markdown",
   "metadata": {},
   "source": [
    "## MLP"
   ]
  },
  {
   "cell_type": "code",
   "execution_count": null,
   "metadata": {},
   "outputs": [],
   "source": []
  },
  {
   "cell_type": "code",
   "execution_count": null,
   "metadata": {},
   "outputs": [],
   "source": []
  },
  {
   "cell_type": "code",
   "execution_count": null,
   "metadata": {},
   "outputs": [],
   "source": []
  },
  {
   "cell_type": "markdown",
   "metadata": {},
   "source": [
    "# Final considerations"
   ]
  },
  {
   "cell_type": "markdown",
   "metadata": {},
   "source": [
    "Unfortunately, Word2Vec suffers from major limitations, like the impossibility of generating a word embedding for an out-of-vocabulary word (without further training the model). <br>\n",
    "Moreover, the way we created the recipe embeddings (by taking for each the midpoint of its ingredient embeddings) caused loss of information (compared to one-hot-encoding) and possibly poor representation: with this method, two recipes could be embedded very close by chance, even though they do not share any ingredient, or, on the other hand, they could be mapped far away from each other due to some ingredients being distant.<br>\n",
    "Lastly, the classifiers scored decently in the single-label classification, but not as much for the multi-label task. <br> \n",
    "While this may mostly be caused by the very unbalanced dataset and the models being not designed for the task, it also suggests the need for more sofisticated methods to be deployed both for representation and classification."
   ]
  }
 ],
 "metadata": {
  "kernelspec": {
   "display_name": "Python 3",
   "language": "python",
   "name": "python3"
  },
  "language_info": {
   "codemirror_mode": {
    "name": "ipython",
    "version": 3
   },
   "file_extension": ".py",
   "mimetype": "text/x-python",
   "name": "python",
   "nbconvert_exporter": "python",
   "pygments_lexer": "ipython3",
   "version": "3.11.7"
  }
 },
 "nbformat": 4,
 "nbformat_minor": 2
}
