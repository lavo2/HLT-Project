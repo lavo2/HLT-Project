{
 "cells": [
  {
   "cell_type": "code",
   "execution_count": 1,
   "metadata": {},
   "outputs": [],
   "source": [
    "import numpy as np\n",
    "import pandas as pd\n",
    "import matplotlib.pyplot as plt"
   ]
  },
  {
   "cell_type": "code",
   "execution_count": 2,
   "metadata": {},
   "outputs": [],
   "source": [
    "# Load the data\n",
    "df = pd.read_csv('dataset/recipes_82k.csv')"
   ]
  },
  {
   "cell_type": "code",
   "execution_count": 3,
   "metadata": {},
   "outputs": [
    {
     "data": {
      "text/plain": [
       "Index(['category', 'cooking_method', 'cuisine', 'image', 'ingredients',\n",
       "       'prep_time', 'recipe_name', 'serves', 'tags'],\n",
       "      dtype='object')"
      ]
     },
     "execution_count": 3,
     "metadata": {},
     "output_type": "execute_result"
    }
   ],
   "source": [
    "df.columns"
   ]
  },
  {
   "cell_type": "code",
   "execution_count": 4,
   "metadata": {},
   "outputs": [
    {
     "data": {
      "text/html": [
       "<div>\n",
       "<style scoped>\n",
       "    .dataframe tbody tr th:only-of-type {\n",
       "        vertical-align: middle;\n",
       "    }\n",
       "\n",
       "    .dataframe tbody tr th {\n",
       "        vertical-align: top;\n",
       "    }\n",
       "\n",
       "    .dataframe thead th {\n",
       "        text-align: right;\n",
       "    }\n",
       "</style>\n",
       "<table border=\"1\" class=\"dataframe\">\n",
       "  <thead>\n",
       "    <tr style=\"text-align: right;\">\n",
       "      <th></th>\n",
       "      <th>category</th>\n",
       "      <th>cooking_method</th>\n",
       "      <th>cuisine</th>\n",
       "      <th>image</th>\n",
       "      <th>ingredients</th>\n",
       "      <th>prep_time</th>\n",
       "      <th>recipe_name</th>\n",
       "      <th>serves</th>\n",
       "      <th>tags</th>\n",
       "    </tr>\n",
       "  </thead>\n",
       "  <tbody>\n",
       "    <tr>\n",
       "      <th>0</th>\n",
       "      <td>NaN</td>\n",
       "      <td>['Set the racks in the middle and upper thirds...</td>\n",
       "      <td>['American']</td>\n",
       "      <td>https://www.skinnytaste.com/wp-content/uploads...</td>\n",
       "      <td>['1 tablespoons extra virgin olive oil', '1 cu...</td>\n",
       "      <td>20 minutes</td>\n",
       "      <td>Mediterranean Sea Bass</td>\n",
       "      <td>4 servings</td>\n",
       "      <td>Dairy Free, Gluten Free, Keto Recipes, Kid Fri...</td>\n",
       "    </tr>\n",
       "    <tr>\n",
       "      <th>1</th>\n",
       "      <td>NaN</td>\n",
       "      <td>['Place the eggs in the air fryer basket and c...</td>\n",
       "      <td>['American']</td>\n",
       "      <td>https://www.skinnytaste.com/wp-content/uploads...</td>\n",
       "      <td>['4 large eggs', 'Salt (black pepper, everythi...</td>\n",
       "      <td>15 minutes</td>\n",
       "      <td>Air Fryer Hard Boiled Eggs</td>\n",
       "      <td>4 eggs</td>\n",
       "      <td>Air Fryer Recipes, Dairy Free, Gluten Free, Ke...</td>\n",
       "    </tr>\n",
       "    <tr>\n",
       "      <th>2</th>\n",
       "      <td>NaN</td>\n",
       "      <td>['Air Fryer directions:', 'Preheat air fryer t...</td>\n",
       "      <td>['American']</td>\n",
       "      <td>https://www.skinnytaste.com/wp-content/uploads...</td>\n",
       "      <td>['olive oil spray', '4 about 5 ounce each salm...</td>\n",
       "      <td>5 minutes</td>\n",
       "      <td>Air Fryer Basil-Parmesan Salmon</td>\n",
       "      <td>4 servings</td>\n",
       "      <td>Air Fryer Recipes, Gluten Free, Keto Recipes, ...</td>\n",
       "    </tr>\n",
       "    <tr>\n",
       "      <th>3</th>\n",
       "      <td>NaN</td>\n",
       "      <td>['Preheat the oven to 400F.', 'Pour 2 tablespo...</td>\n",
       "      <td>['American']</td>\n",
       "      <td>https://www.skinnytaste.com/wp-content/uploads...</td>\n",
       "      <td>['1/2 cup freshly grated Parmesan (not pre-gra...</td>\n",
       "      <td>15 minutes</td>\n",
       "      <td>Everything Parmesan Crisps</td>\n",
       "      <td>4 servings</td>\n",
       "      <td>Gluten Free, Keto Recipes, Kid Friendly, Low C...</td>\n",
       "    </tr>\n",
       "    <tr>\n",
       "      <th>4</th>\n",
       "      <td>NaN</td>\n",
       "      <td>['Cook potatoes in a large pot of salted water...</td>\n",
       "      <td>['American']</td>\n",
       "      <td>https://www.skinnytaste.com/wp-content/uploads...</td>\n",
       "      <td>['3 1/2 pounds new potatoes (about 10 peeled a...</td>\n",
       "      <td>10 minutes</td>\n",
       "      <td>Potato and Green Bean Salad</td>\n",
       "      <td>12 servings</td>\n",
       "      <td>Dairy Free, Gluten Free, Kid Friendly, Vegetar...</td>\n",
       "    </tr>\n",
       "  </tbody>\n",
       "</table>\n",
       "</div>"
      ],
      "text/plain": [
       "  category                                     cooking_method       cuisine  \\\n",
       "0      NaN  ['Set the racks in the middle and upper thirds...  ['American']   \n",
       "1      NaN  ['Place the eggs in the air fryer basket and c...  ['American']   \n",
       "2      NaN  ['Air Fryer directions:', 'Preheat air fryer t...  ['American']   \n",
       "3      NaN  ['Preheat the oven to 400F.', 'Pour 2 tablespo...  ['American']   \n",
       "4      NaN  ['Cook potatoes in a large pot of salted water...  ['American']   \n",
       "\n",
       "                                               image  \\\n",
       "0  https://www.skinnytaste.com/wp-content/uploads...   \n",
       "1  https://www.skinnytaste.com/wp-content/uploads...   \n",
       "2  https://www.skinnytaste.com/wp-content/uploads...   \n",
       "3  https://www.skinnytaste.com/wp-content/uploads...   \n",
       "4  https://www.skinnytaste.com/wp-content/uploads...   \n",
       "\n",
       "                                         ingredients   prep_time  \\\n",
       "0  ['1 tablespoons extra virgin olive oil', '1 cu...  20 minutes   \n",
       "1  ['4 large eggs', 'Salt (black pepper, everythi...  15 minutes   \n",
       "2  ['olive oil spray', '4 about 5 ounce each salm...   5 minutes   \n",
       "3  ['1/2 cup freshly grated Parmesan (not pre-gra...  15 minutes   \n",
       "4  ['3 1/2 pounds new potatoes (about 10 peeled a...  10 minutes   \n",
       "\n",
       "                       recipe_name       serves  \\\n",
       "0           Mediterranean Sea Bass   4 servings   \n",
       "1       Air Fryer Hard Boiled Eggs       4 eggs   \n",
       "2  Air Fryer Basil-Parmesan Salmon   4 servings   \n",
       "3       Everything Parmesan Crisps   4 servings   \n",
       "4      Potato and Green Bean Salad  12 servings   \n",
       "\n",
       "                                                tags  \n",
       "0  Dairy Free, Gluten Free, Keto Recipes, Kid Fri...  \n",
       "1  Air Fryer Recipes, Dairy Free, Gluten Free, Ke...  \n",
       "2  Air Fryer Recipes, Gluten Free, Keto Recipes, ...  \n",
       "3  Gluten Free, Keto Recipes, Kid Friendly, Low C...  \n",
       "4  Dairy Free, Gluten Free, Kid Friendly, Vegetar...  "
      ]
     },
     "execution_count": 4,
     "metadata": {},
     "output_type": "execute_result"
    }
   ],
   "source": [
    "df.head()"
   ]
  },
  {
   "cell_type": "code",
   "execution_count": 5,
   "metadata": {},
   "outputs": [
    {
     "data": {
      "text/plain": [
       "category          64138\n",
       "cooking_method        0\n",
       "cuisine              15\n",
       "image                 0\n",
       "ingredients           0\n",
       "prep_time         23615\n",
       "recipe_name           0\n",
       "serves                1\n",
       "tags                234\n",
       "dtype: int64"
      ]
     },
     "execution_count": 5,
     "metadata": {},
     "output_type": "execute_result"
    }
   ],
   "source": [
    "# see distribution of nan values\n",
    "df.isna().sum()"
   ]
  },
  {
   "cell_type": "code",
   "execution_count": 6,
   "metadata": {},
   "outputs": [],
   "source": [
    "# drop rows with tags nan values\n",
    "df = df.dropna(subset=['tags'])"
   ]
  },
  {
   "cell_type": "code",
   "execution_count": 7,
   "metadata": {},
   "outputs": [
    {
     "data": {
      "text/plain": [
       "category          64138\n",
       "cooking_method        0\n",
       "cuisine              15\n",
       "image                 0\n",
       "ingredients           0\n",
       "prep_time         23547\n",
       "recipe_name           0\n",
       "serves                1\n",
       "tags                  0\n",
       "dtype: int64"
      ]
     },
     "execution_count": 7,
     "metadata": {},
     "output_type": "execute_result"
    }
   ],
   "source": [
    "df.isna().sum()"
   ]
  },
  {
   "cell_type": "code",
   "execution_count": 7,
   "metadata": {},
   "outputs": [
    {
     "data": {
      "text/plain": [
       "82245"
      ]
     },
     "execution_count": 7,
     "metadata": {},
     "output_type": "execute_result"
    }
   ],
   "source": [
    "len(df)"
   ]
  },
  {
   "cell_type": "code",
   "execution_count": 8,
   "metadata": {},
   "outputs": [
    {
     "data": {
      "text/plain": [
       "\"['Set the racks in the middle and upper thirds of the oven and preheat the oven to 425 F', 'In a large skillet over medium heat, heat the olive oil until shimmering. Add the onion, garlic and red pepper flakes and cook until golden, stirring occasionally, about 5 minutes.', 'Add the fennel and cook until the vegetables are soft and translucent, an additional 3 to 5 minutes.', 'Reduce the heat to medium and add the tomatoes with their juices. Using the back of a wooden spoon, smash the tomatoes and cook for 5 minutes.', 'Add the basil, wine, olives, 1 teaspoon salt, and 1/8 teaspoon black pepper.', 'Reduce to low and simmer for 15 minutes, or until the sauce is slightly thickened, while you prepare the fish.', 'Pat the fillets dry, lightly spray them with cooking spray, and season with salt and pepper.', 'In a heavy ovenproof skillet over high heat, heat the olive oil until shimmering. Add the fillets, rounded-side down, and cook for 2 minutes.', 'Carefully flip the fillets with a metal spatula and place the skillet in the oven. Bake until the fish is no longer translucent, 8 to 10 minutes.', 'Switch the oven to broil and place the skillet on the upper rack. Broil until the tops of the fillets are golden brown, 2 to 4 minutes.', 'Arrange the fillets on individual plates, spoon on the sauce, and serve.']\""
      ]
     },
     "execution_count": 8,
     "metadata": {},
     "output_type": "execute_result"
    }
   ],
   "source": [
    "# see cooking_method for the first instance\n",
    "df['cooking_method'][0]"
   ]
  },
  {
   "cell_type": "code",
   "execution_count": 9,
   "metadata": {},
   "outputs": [
    {
     "data": {
      "text/plain": [
       "\"['1 tablespoons extra virgin olive oil', '1 cup chopped yellow onion', '3 cloves garlic (minced)', '1/4 teaspoon crushed red pepper flakes (or to taste)', '1/2 cup chopped fennel', 'One 28 ounce can whole peeled tomatoes (with their juices)', '3/4 cup fresh basil leaves (very thinly sliced)', '1/2 cup dry white wine', '1/4 cup pitted Kalamata olives (halved)', 'Kosher salt', 'Freshly ground pepper', 'Four 4-6 ounce skinless Chilean sea bass fillets (or other sustainable firm white-fleshed fish fillets such as halibut, cod or striped bass)', 'Organic olive oil cooking spray', 'Kosher salt', 'Freshly ground black pepper', '1 tablespoon extra-virgin olive oil']\""
      ]
     },
     "execution_count": 9,
     "metadata": {},
     "output_type": "execute_result"
    }
   ],
   "source": [
    "df['ingredients'][0]"
   ]
  },
  {
   "cell_type": "code",
   "execution_count": 13,
   "metadata": {},
   "outputs": [
    {
     "data": {
      "text/plain": [
       "'Dairy Free, Gluten Free, Keto Recipes, Kid Friendly, Low Carb, Under 30 Minutes'"
      ]
     },
     "execution_count": 13,
     "metadata": {},
     "output_type": "execute_result"
    }
   ],
   "source": [
    "df['tags'][0]"
   ]
  },
  {
   "cell_type": "code",
   "execution_count": null,
   "metadata": {},
   "outputs": [],
   "source": []
  },
  {
   "cell_type": "code",
   "execution_count": null,
   "metadata": {},
   "outputs": [],
   "source": []
  },
  {
   "cell_type": "code",
   "execution_count": null,
   "metadata": {},
   "outputs": [],
   "source": []
  },
  {
   "cell_type": "code",
   "execution_count": null,
   "metadata": {},
   "outputs": [],
   "source": []
  },
  {
   "cell_type": "code",
   "execution_count": null,
   "metadata": {},
   "outputs": [],
   "source": []
  }
 ],
 "metadata": {
  "kernelspec": {
   "display_name": ".venv",
   "language": "python",
   "name": "python3"
  },
  "language_info": {
   "codemirror_mode": {
    "name": "ipython",
    "version": 3
   },
   "file_extension": ".py",
   "mimetype": "text/x-python",
   "name": "python",
   "nbconvert_exporter": "python",
   "pygments_lexer": "ipython3",
   "version": "3.11.7"
  }
 },
 "nbformat": 4,
 "nbformat_minor": 2
}
