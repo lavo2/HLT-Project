{
 "cells": [
  {
   "cell_type": "code",
   "execution_count": 1,
   "metadata": {},
   "outputs": [],
   "source": [
    "import pandas as pd\n",
    "import numpy as np\n",
    "import re\n",
    "import matplotlib.pyplot as plt"
   ]
  },
  {
   "cell_type": "markdown",
   "metadata": {},
   "source": [
    "# Dataset Loading\n",
    "Let's start by studying the quality of our dataset, and investigating some statistics. \n",
    "\n",
    "The data was taken from [Kaggle](https://www.kaggle.com/datasets/snehallokesh31096/recipe/data)."
   ]
  },
  {
   "cell_type": "code",
   "execution_count": 2,
   "metadata": {},
   "outputs": [],
   "source": [
    "df = pd.read_csv('./dataset/recipes_82k.csv')"
   ]
  },
  {
   "cell_type": "code",
   "execution_count": 3,
   "metadata": {},
   "outputs": [
    {
     "name": "stdout",
     "output_type": "stream",
     "text": [
      "<class 'pandas.core.frame.DataFrame'>\n",
      "RangeIndex: 82245 entries, 0 to 82244\n",
      "Data columns (total 9 columns):\n",
      " #   Column          Non-Null Count  Dtype \n",
      "---  ------          --------------  ----- \n",
      " 0   category        18107 non-null  object\n",
      " 1   cooking_method  82245 non-null  object\n",
      " 2   cuisine         82230 non-null  object\n",
      " 3   image           82245 non-null  object\n",
      " 4   ingredients     82245 non-null  object\n",
      " 5   prep_time       58630 non-null  object\n",
      " 6   recipe_name     82245 non-null  object\n",
      " 7   serves          82244 non-null  object\n",
      " 8   tags            82011 non-null  object\n",
      "dtypes: object(9)\n",
      "memory usage: 5.6+ MB\n"
     ]
    }
   ],
   "source": [
    "df.info()"
   ]
  },
  {
   "cell_type": "code",
   "execution_count": 4,
   "metadata": {},
   "outputs": [],
   "source": [
    "# Drop the columns that are not useful for the analysis\n",
    "df.drop(columns=['category', 'cuisine', 'image', 'prep_time', 'recipe_name', 'serves'], inplace=True)"
   ]
  },
  {
   "cell_type": "markdown",
   "metadata": {},
   "source": [
    "Since we will focus on the recipe, column `cooking_method`, we drop the null values for this feature."
   ]
  },
  {
   "cell_type": "code",
   "execution_count": 5,
   "metadata": {},
   "outputs": [],
   "source": [
    "# Drop the rows with missing values in cooking_method\n",
    "df.dropna(subset=['cooking_method'], inplace=True)\n",
    "df = df[df['cooking_method'] != '[]']\n",
    "df.dropna(subset=['tags'], inplace=True)\n",
    "\n",
    "df.reset_index(drop=True, inplace=True)"
   ]
  },
  {
   "cell_type": "code",
   "execution_count": 6,
   "metadata": {},
   "outputs": [
    {
     "data": {
      "text/html": [
       "<div>\n",
       "<style scoped>\n",
       "    .dataframe tbody tr th:only-of-type {\n",
       "        vertical-align: middle;\n",
       "    }\n",
       "\n",
       "    .dataframe tbody tr th {\n",
       "        vertical-align: top;\n",
       "    }\n",
       "\n",
       "    .dataframe thead th {\n",
       "        text-align: right;\n",
       "    }\n",
       "</style>\n",
       "<table border=\"1\" class=\"dataframe\">\n",
       "  <thead>\n",
       "    <tr style=\"text-align: right;\">\n",
       "      <th></th>\n",
       "      <th>cooking_method</th>\n",
       "      <th>ingredients</th>\n",
       "      <th>tags</th>\n",
       "    </tr>\n",
       "  </thead>\n",
       "  <tbody>\n",
       "    <tr>\n",
       "      <th>0</th>\n",
       "      <td>['Set the racks in the middle and upper thirds...</td>\n",
       "      <td>['1 tablespoons extra virgin olive oil', '1 cu...</td>\n",
       "      <td>Dairy Free, Gluten Free, Keto Recipes, Kid Fri...</td>\n",
       "    </tr>\n",
       "    <tr>\n",
       "      <th>1</th>\n",
       "      <td>['Place the eggs in the air fryer basket and c...</td>\n",
       "      <td>['4 large eggs', 'Salt (black pepper, everythi...</td>\n",
       "      <td>Air Fryer Recipes, Dairy Free, Gluten Free, Ke...</td>\n",
       "    </tr>\n",
       "    <tr>\n",
       "      <th>2</th>\n",
       "      <td>['Air Fryer directions:', 'Preheat air fryer t...</td>\n",
       "      <td>['olive oil spray', '4 about 5 ounce each salm...</td>\n",
       "      <td>Air Fryer Recipes, Gluten Free, Keto Recipes, ...</td>\n",
       "    </tr>\n",
       "    <tr>\n",
       "      <th>3</th>\n",
       "      <td>['Preheat the oven to 400F.', 'Pour 2 tablespo...</td>\n",
       "      <td>['1/2 cup freshly grated Parmesan (not pre-gra...</td>\n",
       "      <td>Gluten Free, Keto Recipes, Kid Friendly, Low C...</td>\n",
       "    </tr>\n",
       "    <tr>\n",
       "      <th>4</th>\n",
       "      <td>['Cook potatoes in a large pot of salted water...</td>\n",
       "      <td>['3 1/2 pounds new potatoes (about 10 peeled a...</td>\n",
       "      <td>Dairy Free, Gluten Free, Kid Friendly, Vegetar...</td>\n",
       "    </tr>\n",
       "  </tbody>\n",
       "</table>\n",
       "</div>"
      ],
      "text/plain": [
       "                                      cooking_method  \\\n",
       "0  ['Set the racks in the middle and upper thirds...   \n",
       "1  ['Place the eggs in the air fryer basket and c...   \n",
       "2  ['Air Fryer directions:', 'Preheat air fryer t...   \n",
       "3  ['Preheat the oven to 400F.', 'Pour 2 tablespo...   \n",
       "4  ['Cook potatoes in a large pot of salted water...   \n",
       "\n",
       "                                         ingredients  \\\n",
       "0  ['1 tablespoons extra virgin olive oil', '1 cu...   \n",
       "1  ['4 large eggs', 'Salt (black pepper, everythi...   \n",
       "2  ['olive oil spray', '4 about 5 ounce each salm...   \n",
       "3  ['1/2 cup freshly grated Parmesan (not pre-gra...   \n",
       "4  ['3 1/2 pounds new potatoes (about 10 peeled a...   \n",
       "\n",
       "                                                tags  \n",
       "0  Dairy Free, Gluten Free, Keto Recipes, Kid Fri...  \n",
       "1  Air Fryer Recipes, Dairy Free, Gluten Free, Ke...  \n",
       "2  Air Fryer Recipes, Gluten Free, Keto Recipes, ...  \n",
       "3  Gluten Free, Keto Recipes, Kid Friendly, Low C...  \n",
       "4  Dairy Free, Gluten Free, Kid Friendly, Vegetar...  "
      ]
     },
     "execution_count": 6,
     "metadata": {},
     "output_type": "execute_result"
    }
   ],
   "source": [
    "df.head()"
   ]
  },
  {
   "cell_type": "markdown",
   "metadata": {},
   "source": [
    "### Defrivation of the vocabulary for the whole corpus\n",
    "Our corpus consists of the totality of the recipes, i.e., the whole `cooking_method` column. In the following cell we process this data to generate a vocabulary out of this corpus."
   ]
  },
  {
   "cell_type": "code",
   "execution_count": 7,
   "metadata": {},
   "outputs": [
    {
     "data": {
      "text/plain": [
       "pandas.core.series.Series"
      ]
     },
     "execution_count": 7,
     "metadata": {},
     "output_type": "execute_result"
    }
   ],
   "source": [
    "cooking_method = df['cooking_method']\n",
    "type(cooking_method)"
   ]
  },
  {
   "cell_type": "code",
   "execution_count": 8,
   "metadata": {},
   "outputs": [],
   "source": [
    "def make_vocabulary(df):\n",
    "    cooking_method = df['cooking_method']\n",
    "    cooking_method = cooking_method.str.lower()\n",
    "    cooking_method = cooking_method.str.replace('-', '') # fluffy-light -> fluffylight\n",
    "    # remove all numbers and punctuations \n",
    "    cooking_method = cooking_method.str.replace(r'[^a-z\\s]', ' ', regex=True)\n",
    "    # remove multiple spaces\n",
    "    cooking_method = cooking_method.str.replace(r'\\s+', ' ')\n",
    "    cooking_method = cooking_method.str.split()\n",
    "    # remove duplicates (making it a set) and make it a list\n",
    "    cooking_method = cooking_method.apply(lambda x: list(set(x)))\n",
    "    cooking_method = cooking_method.explode() \n",
    "    \n",
    "    cooking_method = cooking_method.value_counts()\n",
    "    return cooking_method"
   ]
  },
  {
   "cell_type": "code",
   "execution_count": 9,
   "metadata": {},
   "outputs": [
    {
     "data": {
      "text/plain": [
       "24811"
      ]
     },
     "execution_count": 9,
     "metadata": {},
     "output_type": "execute_result"
    }
   ],
   "source": [
    "cooking_method = make_vocabulary(df)\n",
    "len(cooking_method)"
   ]
  },
  {
   "cell_type": "markdown",
   "metadata": {},
   "source": [
    "## Average length of recipes and ingredient list"
   ]
  },
  {
   "cell_type": "code",
   "execution_count": 10,
   "metadata": {},
   "outputs": [
    {
     "data": {
      "image/png": "[encoded data removed]",
      "text/plain": [
       "<Figure size 640x480 with 1 Axes>"
      ]
     },
     "metadata": {},
     "output_type": "display_data"
    }
   ],
   "source": [
    "# histogram of length of ingredients\n",
    "df['ingredients'].apply(lambda x: len(x.split(','))).hist(bins=50)\n",
    "plt.xlabel('Number of ingredients')\n",
    "plt.ylabel('Number of recipes')\n",
    "plt.title('Length of `ingredients`')\n",
    "plt.show()"
   ]
  },
  {
   "cell_type": "code",
   "execution_count": 11,
   "metadata": {},
   "outputs": [
    {
     "data": {
      "image/png": "[encoded data removed]",
      "text/plain": [
       "<Figure size 640x480 with 1 Axes>"
      ]
     },
     "metadata": {},
     "output_type": "display_data"
    }
   ],
   "source": [
    "# same for cooking_method\n",
    "df['cooking_method'].apply(lambda x: len(x.split(' '))).hist(bins=100)\n",
    "plt.xlabel('Number of words')\n",
    "plt.ylabel('Number of recipes')\n",
    "plt.title('Length of `cooking_method`')\n",
    "plt.show()"
   ]
  },
  {
   "cell_type": "markdown",
   "metadata": {},
   "source": [
    "## Distribution of tags"
   ]
  },
  {
   "cell_type": "code",
   "execution_count": 12,
   "metadata": {},
   "outputs": [
    {
     "data": {
      "text/html": [
       "<div>\n",
       "<style scoped>\n",
       "    .dataframe tbody tr th:only-of-type {\n",
       "        vertical-align: middle;\n",
       "    }\n",
       "\n",
       "    .dataframe tbody tr th {\n",
       "        vertical-align: top;\n",
       "    }\n",
       "\n",
       "    .dataframe thead th {\n",
       "        text-align: right;\n",
       "    }\n",
       "</style>\n",
       "<table border=\"1\" class=\"dataframe\">\n",
       "  <thead>\n",
       "    <tr style=\"text-align: right;\">\n",
       "      <th></th>\n",
       "      <th>cooking_method</th>\n",
       "      <th>ingredients</th>\n",
       "      <th>tags</th>\n",
       "    </tr>\n",
       "  </thead>\n",
       "  <tbody>\n",
       "    <tr>\n",
       "      <th>0</th>\n",
       "      <td>['Set the racks in the middle and upper thirds...</td>\n",
       "      <td>['1 tablespoons extra virgin olive oil', '1 cu...</td>\n",
       "      <td>Dairy Free, Gluten Free, Keto Recipes, Kid Fri...</td>\n",
       "    </tr>\n",
       "    <tr>\n",
       "      <th>1</th>\n",
       "      <td>['Place the eggs in the air fryer basket and c...</td>\n",
       "      <td>['4 large eggs', 'Salt (black pepper, everythi...</td>\n",
       "      <td>Air Fryer Recipes, Dairy Free, Gluten Free, Ke...</td>\n",
       "    </tr>\n",
       "    <tr>\n",
       "      <th>2</th>\n",
       "      <td>['Air Fryer directions:', 'Preheat air fryer t...</td>\n",
       "      <td>['olive oil spray', '4 about 5 ounce each salm...</td>\n",
       "      <td>Air Fryer Recipes, Gluten Free, Keto Recipes, ...</td>\n",
       "    </tr>\n",
       "    <tr>\n",
       "      <th>3</th>\n",
       "      <td>['Preheat the oven to 400F.', 'Pour 2 tablespo...</td>\n",
       "      <td>['1/2 cup freshly grated Parmesan (not pre-gra...</td>\n",
       "      <td>Gluten Free, Keto Recipes, Kid Friendly, Low C...</td>\n",
       "    </tr>\n",
       "    <tr>\n",
       "      <th>4</th>\n",
       "      <td>['Cook potatoes in a large pot of salted water...</td>\n",
       "      <td>['3 1/2 pounds new potatoes (about 10 peeled a...</td>\n",
       "      <td>Dairy Free, Gluten Free, Kid Friendly, Vegetar...</td>\n",
       "    </tr>\n",
       "  </tbody>\n",
       "</table>\n",
       "</div>"
      ],
      "text/plain": [
       "                                      cooking_method  \\\n",
       "0  ['Set the racks in the middle and upper thirds...   \n",
       "1  ['Place the eggs in the air fryer basket and c...   \n",
       "2  ['Air Fryer directions:', 'Preheat air fryer t...   \n",
       "3  ['Preheat the oven to 400F.', 'Pour 2 tablespo...   \n",
       "4  ['Cook potatoes in a large pot of salted water...   \n",
       "\n",
       "                                         ingredients  \\\n",
       "0  ['1 tablespoons extra virgin olive oil', '1 cu...   \n",
       "1  ['4 large eggs', 'Salt (black pepper, everythi...   \n",
       "2  ['olive oil spray', '4 about 5 ounce each salm...   \n",
       "3  ['1/2 cup freshly grated Parmesan (not pre-gra...   \n",
       "4  ['3 1/2 pounds new potatoes (about 10 peeled a...   \n",
       "\n",
       "                                                tags  \n",
       "0  Dairy Free, Gluten Free, Keto Recipes, Kid Fri...  \n",
       "1  Air Fryer Recipes, Dairy Free, Gluten Free, Ke...  \n",
       "2  Air Fryer Recipes, Gluten Free, Keto Recipes, ...  \n",
       "3  Gluten Free, Keto Recipes, Kid Friendly, Low C...  \n",
       "4  Dairy Free, Gluten Free, Kid Friendly, Vegetar...  "
      ]
     },
     "execution_count": 12,
     "metadata": {},
     "output_type": "execute_result"
    }
   ],
   "source": [
    "df.head()"
   ]
  },
  {
   "cell_type": "code",
   "execution_count": 13,
   "metadata": {},
   "outputs": [
    {
     "data": {
      "text/plain": [
       "765"
      ]
     },
     "execution_count": 13,
     "metadata": {},
     "output_type": "execute_result"
    }
   ],
   "source": [
    "tags = []\n",
    "for i in range(len(df)):\n",
    "    ing = (df['tags'][i].split(','))\n",
    "    # strip the string\n",
    "    ing = [x.strip() for x in ing]\n",
    "    tags.append(ing)\n",
    "tags = pd.Series([item for sublist in tags for item in sublist])\n",
    "tags = tags.value_counts()\n",
    "len(tags)"
   ]
  },
  {
   "cell_type": "markdown",
   "metadata": {},
   "source": [
    "765 tags are too many, we want to restrict our classification into few, meaningful classes. Our primary idea was to classify the tags `Vegetarian`, `Dairy Free`, `Gluten Free`, `Low Carb`, `Low Fat`, `Low Sodium`. \n",
    "\n",
    "To do so we will group all the tags that, if present, will be the ground truth for out label assignment. We will also create some 'macro ingredients' categories that will be usefull later."
   ]
  },
  {
   "cell_type": "code",
   "execution_count": 14,
   "metadata": {},
   "outputs": [],
   "source": [
    "vegetarian = [\n",
    "    'Vegan',\n",
    "    'Vegetarian',\n",
    "    'Vegetarian Meals'\n",
    "]\n",
    "\n",
    "# regex to match any of the words in vegetarian\n",
    "regex = '|'.join(vegetarian)\n",
    "\n",
    "# function to check if a recipe is Vegetarian\n",
    "def is_vegetarian(tags):\n",
    "    return int(bool(re.search(regex, tags)))\n",
    "\n",
    "# define a new column that has value 1 if the tags contains any of the vegetarian tags\n",
    "df['Vegetarian'] = df['tags'].apply(is_vegetarian)\n",
    "\n",
    "# define a new column that has value 1 if the tags contains 'Dairy Free'\n",
    "df['Dairy Free'] = df['tags'].str.contains('Dairy Free').astype(int)\n",
    "\n",
    "# define a new column that has value 1 if the tags contains 'Gluten Free'\n",
    "df['Gluten Free'] = df['tags'].str.contains('Gluten Free').astype(int)\n",
    "\n",
    "# define a new column that has value 1 if the tags contains 'Low Carb' or 'Low-Carb'\n",
    "df['Low Carb'] = df['tags'].str.contains('Low Carb|Low-Carb').astype(int)\n",
    "\n",
    "# define a new column that has value 1 if the tags contains 'Low Fat'\n",
    "df['Low Fat'] = df['tags'].str.contains('Low-Fat').astype(int)\n",
    "\n",
    "# define a new column that has value 1 if the tags contains 'Low Sodium'\n",
    "df['Low Sodium'] = df['tags'].str.contains('Low Sodium').astype(int)"
   ]
  },
  {
   "cell_type": "code",
   "execution_count": 15,
   "metadata": {},
   "outputs": [],
   "source": [
    "from utils.macro_tags import get_meat_tags, get_fish_tags, get_dairy_tags, get_dessert_tags\n",
    "dessert = get_dessert_tags()\n",
    "regex_d = '|'.join(dessert)\n",
    "\n",
    "# function to check if a recipe is Vegetarian\n",
    "def is_dessert(tags):\n",
    "    return int(bool(re.search(regex_d, tags)))\n",
    "\n",
    "# define a new column that has value 1 if the tags contains any of the dessert tags\n",
    "df['Dessert'] = df['tags'].apply(is_dessert)"
   ]
  },
  {
   "cell_type": "code",
   "execution_count": 16,
   "metadata": {},
   "outputs": [
    {
     "data": {
      "text/html": [
       "<div>\n",
       "<style scoped>\n",
       "    .dataframe tbody tr th:only-of-type {\n",
       "        vertical-align: middle;\n",
       "    }\n",
       "\n",
       "    .dataframe tbody tr th {\n",
       "        vertical-align: top;\n",
       "    }\n",
       "\n",
       "    .dataframe thead th {\n",
       "        text-align: right;\n",
       "    }\n",
       "</style>\n",
       "<table border=\"1\" class=\"dataframe\">\n",
       "  <thead>\n",
       "    <tr style=\"text-align: right;\">\n",
       "      <th></th>\n",
       "      <th>cooking_method</th>\n",
       "      <th>ingredients</th>\n",
       "      <th>tags</th>\n",
       "      <th>Vegetarian</th>\n",
       "      <th>Dairy Free</th>\n",
       "      <th>Gluten Free</th>\n",
       "      <th>Low Carb</th>\n",
       "      <th>Low Fat</th>\n",
       "      <th>Low Sodium</th>\n",
       "      <th>Dessert</th>\n",
       "      <th>Meat</th>\n",
       "      <th>Fish</th>\n",
       "      <th>Dairy</th>\n",
       "    </tr>\n",
       "  </thead>\n",
       "  <tbody>\n",
       "    <tr>\n",
       "      <th>0</th>\n",
       "      <td>['Set the racks in the middle and upper thirds...</td>\n",
       "      <td>['1 tablespoons extra virgin olive oil', '1 cu...</td>\n",
       "      <td>Dairy Free, Gluten Free, Keto Recipes, Kid Fri...</td>\n",
       "      <td>0</td>\n",
       "      <td>1</td>\n",
       "      <td>1</td>\n",
       "      <td>1</td>\n",
       "      <td>0</td>\n",
       "      <td>0</td>\n",
       "      <td>0</td>\n",
       "      <td>0</td>\n",
       "      <td>0</td>\n",
       "      <td>0</td>\n",
       "    </tr>\n",
       "    <tr>\n",
       "      <th>1</th>\n",
       "      <td>['Place the eggs in the air fryer basket and c...</td>\n",
       "      <td>['4 large eggs', 'Salt (black pepper, everythi...</td>\n",
       "      <td>Air Fryer Recipes, Dairy Free, Gluten Free, Ke...</td>\n",
       "      <td>1</td>\n",
       "      <td>1</td>\n",
       "      <td>1</td>\n",
       "      <td>1</td>\n",
       "      <td>0</td>\n",
       "      <td>0</td>\n",
       "      <td>0</td>\n",
       "      <td>0</td>\n",
       "      <td>0</td>\n",
       "      <td>0</td>\n",
       "    </tr>\n",
       "    <tr>\n",
       "      <th>2</th>\n",
       "      <td>['Air Fryer directions:', 'Preheat air fryer t...</td>\n",
       "      <td>['olive oil spray', '4 about 5 ounce each salm...</td>\n",
       "      <td>Air Fryer Recipes, Gluten Free, Keto Recipes, ...</td>\n",
       "      <td>0</td>\n",
       "      <td>0</td>\n",
       "      <td>1</td>\n",
       "      <td>1</td>\n",
       "      <td>0</td>\n",
       "      <td>0</td>\n",
       "      <td>0</td>\n",
       "      <td>0</td>\n",
       "      <td>0</td>\n",
       "      <td>0</td>\n",
       "    </tr>\n",
       "    <tr>\n",
       "      <th>3</th>\n",
       "      <td>['Preheat the oven to 400F.', 'Pour 2 tablespo...</td>\n",
       "      <td>['1/2 cup freshly grated Parmesan (not pre-gra...</td>\n",
       "      <td>Gluten Free, Keto Recipes, Kid Friendly, Low C...</td>\n",
       "      <td>1</td>\n",
       "      <td>0</td>\n",
       "      <td>1</td>\n",
       "      <td>1</td>\n",
       "      <td>0</td>\n",
       "      <td>0</td>\n",
       "      <td>0</td>\n",
       "      <td>0</td>\n",
       "      <td>0</td>\n",
       "      <td>0</td>\n",
       "    </tr>\n",
       "    <tr>\n",
       "      <th>4</th>\n",
       "      <td>['Cook potatoes in a large pot of salted water...</td>\n",
       "      <td>['3 1/2 pounds new potatoes (about 10 peeled a...</td>\n",
       "      <td>Dairy Free, Gluten Free, Kid Friendly, Vegetar...</td>\n",
       "      <td>1</td>\n",
       "      <td>1</td>\n",
       "      <td>1</td>\n",
       "      <td>0</td>\n",
       "      <td>0</td>\n",
       "      <td>0</td>\n",
       "      <td>0</td>\n",
       "      <td>0</td>\n",
       "      <td>0</td>\n",
       "      <td>0</td>\n",
       "    </tr>\n",
       "  </tbody>\n",
       "</table>\n",
       "</div>"
      ],
      "text/plain": [
       "                                      cooking_method  \\\n",
       "0  ['Set the racks in the middle and upper thirds...   \n",
       "1  ['Place the eggs in the air fryer basket and c...   \n",
       "2  ['Air Fryer directions:', 'Preheat air fryer t...   \n",
       "3  ['Preheat the oven to 400F.', 'Pour 2 tablespo...   \n",
       "4  ['Cook potatoes in a large pot of salted water...   \n",
       "\n",
       "                                         ingredients  \\\n",
       "0  ['1 tablespoons extra virgin olive oil', '1 cu...   \n",
       "1  ['4 large eggs', 'Salt (black pepper, everythi...   \n",
       "2  ['olive oil spray', '4 about 5 ounce each salm...   \n",
       "3  ['1/2 cup freshly grated Parmesan (not pre-gra...   \n",
       "4  ['3 1/2 pounds new potatoes (about 10 peeled a...   \n",
       "\n",
       "                                                tags  Vegetarian  Dairy Free  \\\n",
       "0  Dairy Free, Gluten Free, Keto Recipes, Kid Fri...           0           1   \n",
       "1  Air Fryer Recipes, Dairy Free, Gluten Free, Ke...           1           1   \n",
       "2  Air Fryer Recipes, Gluten Free, Keto Recipes, ...           0           0   \n",
       "3  Gluten Free, Keto Recipes, Kid Friendly, Low C...           1           0   \n",
       "4  Dairy Free, Gluten Free, Kid Friendly, Vegetar...           1           1   \n",
       "\n",
       "   Gluten Free  Low Carb  Low Fat  Low Sodium  Dessert  Meat  Fish  Dairy  \n",
       "0            1         1        0           0        0     0     0      0  \n",
       "1            1         1        0           0        0     0     0      0  \n",
       "2            1         1        0           0        0     0     0      0  \n",
       "3            1         1        0           0        0     0     0      0  \n",
       "4            1         0        0           0        0     0     0      0  "
      ]
     },
     "execution_count": 16,
     "metadata": {},
     "output_type": "execute_result"
    }
   ],
   "source": [
    "#the same for meat, fish and dairy\n",
    "\n",
    "#meat\n",
    "meat = get_meat_tags()\n",
    "regex_m = '|'.join(meat)\n",
    "\n",
    "def is_meat(tags):\n",
    "    return int(bool(re.search(regex_m, tags)))\n",
    "\n",
    "df['Meat'] = df['tags'].apply(is_meat)\n",
    "\n",
    "\n",
    "#fish\n",
    "fish = get_fish_tags()\n",
    "regex_f = '|'.join(fish)\n",
    "\n",
    "def is_fish(tags):\n",
    "    return int(bool(re.search(regex_f, tags)))\n",
    "\n",
    "df['Fish'] = df['tags'].apply(is_fish)\n",
    "\n",
    "\n",
    "#dairy\n",
    "dairy = get_dairy_tags()\n",
    "regex_da = '|'.join(dairy)\n",
    "\n",
    "def is_dairy(tags):\n",
    "    return int(bool(re.search(regex_da, tags)))\n",
    "\n",
    "df['Dairy'] = df['tags'].apply(is_dairy)\n",
    "\n",
    "df.head()\n",
    "\n"
   ]
  },
  {
   "cell_type": "code",
   "execution_count": null,
   "metadata": {},
   "outputs": [],
   "source": []
  },
  {
   "cell_type": "code",
   "execution_count": null,
   "metadata": {},
   "outputs": [],
   "source": []
  },
  {
   "cell_type": "markdown",
   "metadata": {},
   "source": [
    "## Define New Features "
   ]
  },
  {
   "cell_type": "markdown",
   "metadata": {},
   "source": [
    "### Vegetarian&Dessert"
   ]
  },
  {
   "cell_type": "code",
   "execution_count": 17,
   "metadata": {},
   "outputs": [],
   "source": [
    "# Define a new feature: Vegetarian&Dessert == 1 iff Vegetarian == 1 or Dessert == 1\n",
    "df['Vegetarian&Dessert'] = df['Vegetarian'] | df['Dessert'] "
   ]
  },
  {
   "cell_type": "markdown",
   "metadata": {},
   "source": [
    "#### Meat&Fish\n",
    "Since in some notebooks we will restrict to 10k recipes, balanced between Veg and non-Veg, and we have plenty of data, we define this new feature: Meat&Fish. Recipes with Meat&Fish == 1 will be for sure Non-Veg."
   ]
  },
  {
   "cell_type": "code",
   "execution_count": 18,
   "metadata": {},
   "outputs": [],
   "source": [
    "df['Meat&Fish'] = df['Meat'] | df['Fish']"
   ]
  },
  {
   "cell_type": "code",
   "execution_count": null,
   "metadata": {},
   "outputs": [],
   "source": []
  },
  {
   "cell_type": "code",
   "execution_count": 19,
   "metadata": {},
   "outputs": [
    {
     "data": {
      "text/plain": [
       "2340"
      ]
     },
     "execution_count": 19,
     "metadata": {},
     "output_type": "execute_result"
    }
   ],
   "source": [
    "# Check if a recipe is WRONG: Vegetarian&Dessert == 1 and Meat&Fish == 1\n",
    "df['wrong'] = df['Vegetarian&Dessert'] & df['Meat&Fish']\n",
    "df['wrong'].sum()"
   ]
  },
  {
   "cell_type": "code",
   "execution_count": 20,
   "metadata": {},
   "outputs": [
    {
     "data": {
      "text/html": [
       "<div>\n",
       "<style scoped>\n",
       "    .dataframe tbody tr th:only-of-type {\n",
       "        vertical-align: middle;\n",
       "    }\n",
       "\n",
       "    .dataframe tbody tr th {\n",
       "        vertical-align: top;\n",
       "    }\n",
       "\n",
       "    .dataframe thead th {\n",
       "        text-align: right;\n",
       "    }\n",
       "</style>\n",
       "<table border=\"1\" class=\"dataframe\">\n",
       "  <thead>\n",
       "    <tr style=\"text-align: right;\">\n",
       "      <th></th>\n",
       "      <th>cooking_method</th>\n",
       "      <th>ingredients</th>\n",
       "      <th>tags</th>\n",
       "      <th>Vegetarian</th>\n",
       "      <th>Dairy Free</th>\n",
       "      <th>Gluten Free</th>\n",
       "      <th>Low Carb</th>\n",
       "      <th>Low Fat</th>\n",
       "      <th>Low Sodium</th>\n",
       "      <th>Dessert</th>\n",
       "      <th>Meat</th>\n",
       "      <th>Fish</th>\n",
       "      <th>Dairy</th>\n",
       "      <th>Vegetarian&amp;Dessert</th>\n",
       "      <th>Meat&amp;Fish</th>\n",
       "      <th>wrong</th>\n",
       "    </tr>\n",
       "  </thead>\n",
       "  <tbody>\n",
       "    <tr>\n",
       "      <th>1583</th>\n",
       "      <td>['Line a 9-inch pie plate with half of the pas...</td>\n",
       "      <td>['1 pound shortcrust pastry', '1 egg white, be...</td>\n",
       "      <td>Baking,Dessert,Steamer,Pie Recipes,Beef,Meat,P...</td>\n",
       "      <td>0</td>\n",
       "      <td>0</td>\n",
       "      <td>0</td>\n",
       "      <td>0</td>\n",
       "      <td>0</td>\n",
       "      <td>0</td>\n",
       "      <td>1</td>\n",
       "      <td>1</td>\n",
       "      <td>0</td>\n",
       "      <td>1</td>\n",
       "      <td>1</td>\n",
       "      <td>1</td>\n",
       "      <td>1</td>\n",
       "    </tr>\n",
       "    <tr>\n",
       "      <th>1593</th>\n",
       "      <td>['Line a 9-inch pie plate with half of the pas...</td>\n",
       "      <td>['1 pound short crust pastry', '1 egg white, b...</td>\n",
       "      <td>Steamer,Pie Recipes,Corn Recipes,Vegetable,Dai...</td>\n",
       "      <td>0</td>\n",
       "      <td>0</td>\n",
       "      <td>0</td>\n",
       "      <td>0</td>\n",
       "      <td>0</td>\n",
       "      <td>0</td>\n",
       "      <td>1</td>\n",
       "      <td>1</td>\n",
       "      <td>0</td>\n",
       "      <td>1</td>\n",
       "      <td>1</td>\n",
       "      <td>1</td>\n",
       "      <td>1</td>\n",
       "    </tr>\n",
       "    <tr>\n",
       "      <th>1608</th>\n",
       "      <td>['Directions', 'For 2 dozen eggs, cut the eggs...</td>\n",
       "      <td>['2 dozen eggs', 'Fresh herbs: Such as minced ...</td>\n",
       "      <td>Easy Shrimp Recipes,Easy,Shellfish Recipes,Shr...</td>\n",
       "      <td>1</td>\n",
       "      <td>0</td>\n",
       "      <td>1</td>\n",
       "      <td>1</td>\n",
       "      <td>0</td>\n",
       "      <td>1</td>\n",
       "      <td>0</td>\n",
       "      <td>0</td>\n",
       "      <td>1</td>\n",
       "      <td>0</td>\n",
       "      <td>1</td>\n",
       "      <td>1</td>\n",
       "      <td>1</td>\n",
       "    </tr>\n",
       "    <tr>\n",
       "      <th>1610</th>\n",
       "      <td>['Preheat oven to 425 degrees F.', 'Trim a thi...</td>\n",
       "      <td>['6 medium McIntosh apples', '2 wedges lemon',...</td>\n",
       "      <td>Easy Appetizer,Appetizer,Easy,Easy Dessert Rec...</td>\n",
       "      <td>0</td>\n",
       "      <td>0</td>\n",
       "      <td>0</td>\n",
       "      <td>0</td>\n",
       "      <td>0</td>\n",
       "      <td>0</td>\n",
       "      <td>1</td>\n",
       "      <td>0</td>\n",
       "      <td>1</td>\n",
       "      <td>1</td>\n",
       "      <td>1</td>\n",
       "      <td>1</td>\n",
       "      <td>1</td>\n",
       "    </tr>\n",
       "    <tr>\n",
       "      <th>1613</th>\n",
       "      <td>['Brush 4 gratin dishes with olive oil, arrang...</td>\n",
       "      <td>['2 baking potatoes, like russets, thinly slic...</td>\n",
       "      <td>Easy Main Dish,Easy,Main Dish,Easy Baking,Pie ...</td>\n",
       "      <td>1</td>\n",
       "      <td>0</td>\n",
       "      <td>0</td>\n",
       "      <td>0</td>\n",
       "      <td>0</td>\n",
       "      <td>0</td>\n",
       "      <td>1</td>\n",
       "      <td>1</td>\n",
       "      <td>0</td>\n",
       "      <td>0</td>\n",
       "      <td>1</td>\n",
       "      <td>1</td>\n",
       "      <td>1</td>\n",
       "    </tr>\n",
       "  </tbody>\n",
       "</table>\n",
       "</div>"
      ],
      "text/plain": [
       "                                         cooking_method  \\\n",
       "1583  ['Line a 9-inch pie plate with half of the pas...   \n",
       "1593  ['Line a 9-inch pie plate with half of the pas...   \n",
       "1608  ['Directions', 'For 2 dozen eggs, cut the eggs...   \n",
       "1610  ['Preheat oven to 425 degrees F.', 'Trim a thi...   \n",
       "1613  ['Brush 4 gratin dishes with olive oil, arrang...   \n",
       "\n",
       "                                            ingredients  \\\n",
       "1583  ['1 pound shortcrust pastry', '1 egg white, be...   \n",
       "1593  ['1 pound short crust pastry', '1 egg white, b...   \n",
       "1608  ['2 dozen eggs', 'Fresh herbs: Such as minced ...   \n",
       "1610  ['6 medium McIntosh apples', '2 wedges lemon',...   \n",
       "1613  ['2 baking potatoes, like russets, thinly slic...   \n",
       "\n",
       "                                                   tags  Vegetarian  \\\n",
       "1583  Baking,Dessert,Steamer,Pie Recipes,Beef,Meat,P...           0   \n",
       "1593  Steamer,Pie Recipes,Corn Recipes,Vegetable,Dai...           0   \n",
       "1608  Easy Shrimp Recipes,Easy,Shellfish Recipes,Shr...           1   \n",
       "1610  Easy Appetizer,Appetizer,Easy,Easy Dessert Rec...           0   \n",
       "1613  Easy Main Dish,Easy,Main Dish,Easy Baking,Pie ...           1   \n",
       "\n",
       "      Dairy Free  Gluten Free  Low Carb  Low Fat  Low Sodium  Dessert  Meat  \\\n",
       "1583           0            0         0        0           0        1     1   \n",
       "1593           0            0         0        0           0        1     1   \n",
       "1608           0            1         1        0           1        0     0   \n",
       "1610           0            0         0        0           0        1     0   \n",
       "1613           0            0         0        0           0        1     1   \n",
       "\n",
       "      Fish  Dairy  Vegetarian&Dessert  Meat&Fish  wrong  \n",
       "1583     0      1                   1          1      1  \n",
       "1593     0      1                   1          1      1  \n",
       "1608     1      0                   1          1      1  \n",
       "1610     1      1                   1          1      1  \n",
       "1613     0      0                   1          1      1  "
      ]
     },
     "execution_count": 20,
     "metadata": {},
     "output_type": "execute_result"
    }
   ],
   "source": [
    "df_sub = df[df['wrong'] == 1]\n",
    "df_sub.head()"
   ]
  },
  {
   "cell_type": "markdown",
   "metadata": {},
   "source": [
    "We can definitely say that the quality of the dataset isn't that good. We can see that some recipes have both tags `Vegetarian` and `Meat` making it difficult to rely on these tags. For example, loking at the last recipe above, which is tagget both Meat and Vegetarian, we can notice that the recipe doesn't contain any meat ingredient!"
   ]
  },
  {
   "cell_type": "code",
   "execution_count": 21,
   "metadata": {},
   "outputs": [
    {
     "name": "stdout",
     "output_type": "stream",
     "text": [
      "['2 baking potatoes, like russets, thinly sliced', '2 tablespoons olive oil', 'Salt and pepper', '1 onion', '2 carrots', '1 fennel bulb', '1 tablespoon ginger', '1 tablespoon garlic', '3 tablespoons olive oil', '1 tablespoon ras el hanout (available at middle eastern groceries)', 'Salt and pepper', '1/2 cup white wine', '1/2 cup raisins', '2 bunches fresh spinach', '1 cup bulghur', '1 cup hot water', '1 orange', '1 lemon', '1 bunch thyme', '1/2 cup walnuts', '2 teaspoons garlic', 'Salt and pepper', '1 tablespoon olive oil']\n"
     ]
    }
   ],
   "source": [
    "# print the cooking_method of the recipe 4\n",
    "print(df_sub['ingredients'][1613])"
   ]
  },
  {
   "cell_type": "markdown",
   "metadata": {},
   "source": [
    "Since we cannot check by hand more than 2.000 cases, we decided to drop these equivocal recipes."
   ]
  },
  {
   "cell_type": "code",
   "execution_count": 22,
   "metadata": {},
   "outputs": [],
   "source": [
    "# drop the rows with wrong recipes\n",
    "df.drop(df[df['wrong'] == 1].index, inplace=True)\n",
    "\n",
    "# drop column wrong\n",
    "df.drop(columns=['wrong'], inplace=True)"
   ]
  },
  {
   "cell_type": "markdown",
   "metadata": {},
   "source": [
    "## Visualization"
   ]
  },
  {
   "cell_type": "code",
   "execution_count": 23,
   "metadata": {},
   "outputs": [
    {
     "data": {
      "text/plain": [
       "Index(['cooking_method', 'ingredients', 'tags', 'Vegetarian', 'Dairy Free',\n",
       "       'Gluten Free', 'Low Carb', 'Low Fat', 'Low Sodium', 'Dessert', 'Meat',\n",
       "       'Fish', 'Dairy', 'Vegetarian&Dessert', 'Meat&Fish'],\n",
       "      dtype='object')"
      ]
     },
     "execution_count": 23,
     "metadata": {},
     "output_type": "execute_result"
    }
   ],
   "source": [
    "df.columns"
   ]
  },
  {
   "cell_type": "code",
   "execution_count": 24,
   "metadata": {},
   "outputs": [
    {
     "data": {
      "image/png": "[encoded data removed]",
      "text/plain": [
       "<Figure size 640x480 with 1 Axes>"
      ]
     },
     "metadata": {},
     "output_type": "display_data"
    }
   ],
   "source": [
    "tags = df.columns[3:]\n",
    "tags_dist = df[tags].sum()\n",
    "tags_dist.plot(kind='bar')\n",
    "plt.ylabel('Number of recipes')\n",
    "plt.title('Distribution of tags')\n",
    "plt.show()"
   ]
  },
  {
   "cell_type": "markdown",
   "metadata": {},
   "source": [
    "Now let's see the distribution of some tags."
   ]
  },
  {
   "cell_type": "code",
   "execution_count": 25,
   "metadata": {},
   "outputs": [
    {
     "data": {
      "image/png": "[encoded data removed]",
      "text/plain": [
       "<Figure size 1000x500 with 2 Axes>"
      ]
     },
     "metadata": {},
     "output_type": "display_data"
    }
   ],
   "source": [
    "fig, ax = plt.subplots(1, 2, figsize=(10, 5))\n",
    "df['Vegetarian'].value_counts().plot.pie(autopct='%1.1f%%', ax=ax[0])\n",
    "ax[0].set_title('Vegetarian')\n",
    "df['Vegetarian&Dessert'].value_counts().plot.pie(autopct='%1.1f%%', ax=ax[1])\n",
    "ax[1].set_title('Vegetarian&Dessert')\n",
    "\n",
    "plt.show()"
   ]
  },
  {
   "cell_type": "code",
   "execution_count": null,
   "metadata": {},
   "outputs": [],
   "source": []
  },
  {
   "cell_type": "markdown",
   "metadata": {},
   "source": [
    "... Dataset Cleaning e test e prove uniti con successo !!!!!!!!!!!!!!!!!!!"
   ]
  },
  {
   "cell_type": "code",
   "execution_count": 26,
   "metadata": {},
   "outputs": [],
   "source": [
    "# TODO: plot bar plot delle tags originali? far vedere qualche esempio sul perché 'vegetable' non implica 'vegetarian' ecc? fare più pie charts?\n",
    "# dire bene che se non è presente 'Vegetarian' questo non implica che il piatto non sia vegetariano, ma che non è stato etichettato come tale\n",
    "# però ora abbiamo 'Meat, Fish' che sicuramente escludono vegetariano. Controllare se tags hanno sia Vegetarian che meat? bhooooo"
   ]
  },
  {
   "cell_type": "code",
   "execution_count": 27,
   "metadata": {},
   "outputs": [],
   "source": [
    "# TODO: studiare qualita delle ricette predette come veg: magari sono davvero veg anche se il ground truth è 0... il dataset non è perfetto"
   ]
  },
  {
   "cell_type": "markdown",
   "metadata": {},
   "source": [
    "# Save Cleaned Dataset"
   ]
  },
  {
   "cell_type": "code",
   "execution_count": 28,
   "metadata": {},
   "outputs": [
    {
     "data": {
      "text/plain": [
       "79617"
      ]
     },
     "execution_count": 28,
     "metadata": {},
     "output_type": "execute_result"
    }
   ],
   "source": [
    "len(df)"
   ]
  },
  {
   "cell_type": "code",
   "execution_count": 29,
   "metadata": {},
   "outputs": [],
   "source": [
    "# save as a csv file\n",
    "df.to_csv('./dataset/dataset.csv', index=False)"
   ]
  },
  {
   "cell_type": "markdown",
   "metadata": {},
   "source": []
  },
  {
   "cell_type": "markdown",
   "metadata": {},
   "source": [
    "---\n",
    "\n",
    "# Prepare balanced subset for finetuning (binary)"
   ]
  },
  {
   "cell_type": "code",
   "execution_count": 30,
   "metadata": {},
   "outputs": [
    {
     "data": {
      "text/plain": [
       "Vegetarian&Dessert\n",
       "0    52845\n",
       "1    25451\n",
       "Name: count, dtype: int64"
      ]
     },
     "execution_count": 30,
     "metadata": {},
     "output_type": "execute_result"
    }
   ],
   "source": [
    "# to get the subset perfectly balanced we undersample the majority class\n",
    "# furthermore we remove the recipes with more than 512 token since we are also going to use a BERT model that has a maximum input length of 512 tokens\n",
    "df = pd.read_csv('./dataset/dataset.csv')\n",
    "df = df[df['cooking_method'].apply(lambda x: len(x.split(' ')) <= 512)]\n",
    "df['Vegetarian&Dessert'].value_counts()\n"
   ]
  },
  {
   "cell_type": "code",
   "execution_count": 31,
   "metadata": {},
   "outputs": [
    {
     "data": {
      "text/plain": [
       "(25451, 15)"
      ]
     },
     "execution_count": 31,
     "metadata": {},
     "output_type": "execute_result"
    }
   ],
   "source": [
    "df_veg = df[df['Vegetarian&Dessert'] == 1]\n",
    "# for the not vegetarian recipes we take a random sample of the same size from the recipes with meat&fish == 1\n",
    "df_not_veg = df[df['Meat&Fish'] == 1].sample(n=df_veg.shape[0], random_state=42)\n",
    "df_not_veg.shape\n"
   ]
  },
  {
   "cell_type": "code",
   "execution_count": 32,
   "metadata": {},
   "outputs": [
    {
     "data": {
      "text/plain": [
       "Vegetarian&Dessert\n",
       "1    25451\n",
       "0    25451\n",
       "Name: count, dtype: int64"
      ]
     },
     "execution_count": 32,
     "metadata": {},
     "output_type": "execute_result"
    }
   ],
   "source": [
    "# merge the two dataframes and shuffle the rows ignoring the index\n",
    "df_balanced = pd.concat([df_veg, df_not_veg])\n",
    "df_balanced = df_balanced.sample(frac=1, random_state=42).reset_index(drop=True)\n",
    "df_balanced['Vegetarian&Dessert'].value_counts()"
   ]
  },
  {
   "cell_type": "code",
   "execution_count": 33,
   "metadata": {},
   "outputs": [],
   "source": [
    "# save as a csv file\n",
    "df_balanced.to_csv('./dataset/dataset_balanced.csv', index=False)"
   ]
  },
  {
   "cell_type": "markdown",
   "metadata": {},
   "source": [
    "# Smaller subset of 10.000 recipes"
   ]
  },
  {
   "cell_type": "code",
   "execution_count": 34,
   "metadata": {},
   "outputs": [
    {
     "name": "stdout",
     "output_type": "stream",
     "text": [
      "(5000, 15)\n",
      "(5000, 15)\n"
     ]
    }
   ],
   "source": [
    "# sample 5000 recipes with Vegetarian&Dessert == 1 and 5000 recipes with Vegetarian&Dessert == 0\n",
    "df_veg = df_balanced[df_balanced['Vegetarian'] == 1].sample(n=5000, random_state=42)\n",
    "df_not_veg = df_balanced[df_balanced['Meat&Fish'] == 1].sample(n=5000, random_state=42)\n",
    "print(df_veg.shape)\n",
    "print(df_not_veg.shape)"
   ]
  },
  {
   "cell_type": "code",
   "execution_count": 35,
   "metadata": {},
   "outputs": [],
   "source": [
    "df_balanced_10k = pd.concat([df_veg, df_not_veg])\n",
    "df_balanced_10k = df_balanced_10k.sample(frac=1, random_state=42).reset_index(drop=True)\n",
    "\n",
    "# save as a csv file\n",
    "df_balanced_10k.to_csv('./dataset/dataset_balanced_10k.csv', index=False)"
   ]
  }
 ],
 "metadata": {
  "kernelspec": {
   "display_name": ".venv",
   "language": "python",
   "name": "python3"
  },
  "language_info": {
   "codemirror_mode": {
    "name": "ipython",
    "version": 3
   },
   "file_extension": ".py",
   "mimetype": "text/x-python",
   "name": "python",
   "nbconvert_exporter": "python",
   "pygments_lexer": "ipython3",
   "version": "3.11.7"
  }
 },
 "nbformat": 4,
 "nbformat_minor": 2
}
