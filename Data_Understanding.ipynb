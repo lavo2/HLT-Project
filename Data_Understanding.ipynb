{
 "cells": [
  {
   "cell_type": "code",
   "execution_count": null,
   "metadata": {},
   "outputs": [],
   "source": [
    "# Scope: inglobe notebooks `test.ipynb`, `prove.ipynb`, `dataset_cleaning.ipynb`"
   ]
  },
  {
   "cell_type": "code",
   "execution_count": null,
   "metadata": {},
   "outputs": [],
   "source": []
  },
  {
   "cell_type": "code",
   "execution_count": 22,
   "metadata": {},
   "outputs": [],
   "source": [
    "import pandas as pd\n",
    "import numpy as np\n",
    "import matplotlib.pyplot as plt"
   ]
  },
  {
   "cell_type": "markdown",
   "metadata": {},
   "source": [
    "# Dataset Loading\n",
    "Let's start by studying the quality of our dataset, and investigating some statistics. \n",
    "\n",
    "The data was taken from: ..."
   ]
  },
  {
   "cell_type": "code",
   "execution_count": 2,
   "metadata": {},
   "outputs": [],
   "source": [
    "df = pd.read_csv('./dataset/recipes_82k.csv')"
   ]
  },
  {
   "cell_type": "code",
   "execution_count": 3,
   "metadata": {},
   "outputs": [
    {
     "name": "stdout",
     "output_type": "stream",
     "text": [
      "<class 'pandas.core.frame.DataFrame'>\n",
      "RangeIndex: 82245 entries, 0 to 82244\n",
      "Data columns (total 9 columns):\n",
      " #   Column          Non-Null Count  Dtype \n",
      "---  ------          --------------  ----- \n",
      " 0   category        18107 non-null  object\n",
      " 1   cooking_method  82245 non-null  object\n",
      " 2   cuisine         82230 non-null  object\n",
      " 3   image           82245 non-null  object\n",
      " 4   ingredients     82245 non-null  object\n",
      " 5   prep_time       58630 non-null  object\n",
      " 6   recipe_name     82245 non-null  object\n",
      " 7   serves          82244 non-null  object\n",
      " 8   tags            82011 non-null  object\n",
      "dtypes: object(9)\n",
      "memory usage: 5.6+ MB\n"
     ]
    }
   ],
   "source": [
    "df.info()"
   ]
  },
  {
   "cell_type": "code",
   "execution_count": 4,
   "metadata": {},
   "outputs": [],
   "source": [
    "# Drop the columns that are not useful for the analysis\n",
    "df.drop(columns=['category', 'cuisine', 'image', 'prep_time', 'recipe_name', 'serves'], inplace=True)"
   ]
  },
  {
   "cell_type": "markdown",
   "metadata": {},
   "source": [
    "Since we will focus on the recipe, column `cooking_method`, we drop the null values for this feature."
   ]
  },
  {
   "cell_type": "code",
   "execution_count": 5,
   "metadata": {},
   "outputs": [],
   "source": [
    "# Drop the rows with missing values in cooking_method\n",
    "df.dropna(subset=['cooking_method'], inplace=True)\n",
    "df = df[df['cooking_method'] != '[]']"
   ]
  },
  {
   "cell_type": "code",
   "execution_count": 6,
   "metadata": {},
   "outputs": [
    {
     "data": {
      "text/html": [
       "<div>\n",
       "<style scoped>\n",
       "    .dataframe tbody tr th:only-of-type {\n",
       "        vertical-align: middle;\n",
       "    }\n",
       "\n",
       "    .dataframe tbody tr th {\n",
       "        vertical-align: top;\n",
       "    }\n",
       "\n",
       "    .dataframe thead th {\n",
       "        text-align: right;\n",
       "    }\n",
       "</style>\n",
       "<table border=\"1\" class=\"dataframe\">\n",
       "  <thead>\n",
       "    <tr style=\"text-align: right;\">\n",
       "      <th></th>\n",
       "      <th>cooking_method</th>\n",
       "      <th>ingredients</th>\n",
       "      <th>tags</th>\n",
       "    </tr>\n",
       "  </thead>\n",
       "  <tbody>\n",
       "    <tr>\n",
       "      <th>0</th>\n",
       "      <td>['Set the racks in the middle and upper thirds...</td>\n",
       "      <td>['1 tablespoons extra virgin olive oil', '1 cu...</td>\n",
       "      <td>Dairy Free, Gluten Free, Keto Recipes, Kid Fri...</td>\n",
       "    </tr>\n",
       "    <tr>\n",
       "      <th>1</th>\n",
       "      <td>['Place the eggs in the air fryer basket and c...</td>\n",
       "      <td>['4 large eggs', 'Salt (black pepper, everythi...</td>\n",
       "      <td>Air Fryer Recipes, Dairy Free, Gluten Free, Ke...</td>\n",
       "    </tr>\n",
       "    <tr>\n",
       "      <th>2</th>\n",
       "      <td>['Air Fryer directions:', 'Preheat air fryer t...</td>\n",
       "      <td>['olive oil spray', '4 about 5 ounce each salm...</td>\n",
       "      <td>Air Fryer Recipes, Gluten Free, Keto Recipes, ...</td>\n",
       "    </tr>\n",
       "    <tr>\n",
       "      <th>3</th>\n",
       "      <td>['Preheat the oven to 400F.', 'Pour 2 tablespo...</td>\n",
       "      <td>['1/2 cup freshly grated Parmesan (not pre-gra...</td>\n",
       "      <td>Gluten Free, Keto Recipes, Kid Friendly, Low C...</td>\n",
       "    </tr>\n",
       "    <tr>\n",
       "      <th>4</th>\n",
       "      <td>['Cook potatoes in a large pot of salted water...</td>\n",
       "      <td>['3 1/2 pounds new potatoes (about 10 peeled a...</td>\n",
       "      <td>Dairy Free, Gluten Free, Kid Friendly, Vegetar...</td>\n",
       "    </tr>\n",
       "  </tbody>\n",
       "</table>\n",
       "</div>"
      ],
      "text/plain": [
       "                                      cooking_method  \\\n",
       "0  ['Set the racks in the middle and upper thirds...   \n",
       "1  ['Place the eggs in the air fryer basket and c...   \n",
       "2  ['Air Fryer directions:', 'Preheat air fryer t...   \n",
       "3  ['Preheat the oven to 400F.', 'Pour 2 tablespo...   \n",
       "4  ['Cook potatoes in a large pot of salted water...   \n",
       "\n",
       "                                         ingredients  \\\n",
       "0  ['1 tablespoons extra virgin olive oil', '1 cu...   \n",
       "1  ['4 large eggs', 'Salt (black pepper, everythi...   \n",
       "2  ['olive oil spray', '4 about 5 ounce each salm...   \n",
       "3  ['1/2 cup freshly grated Parmesan (not pre-gra...   \n",
       "4  ['3 1/2 pounds new potatoes (about 10 peeled a...   \n",
       "\n",
       "                                                tags  \n",
       "0  Dairy Free, Gluten Free, Keto Recipes, Kid Fri...  \n",
       "1  Air Fryer Recipes, Dairy Free, Gluten Free, Ke...  \n",
       "2  Air Fryer Recipes, Gluten Free, Keto Recipes, ...  \n",
       "3  Gluten Free, Keto Recipes, Kid Friendly, Low C...  \n",
       "4  Dairy Free, Gluten Free, Kid Friendly, Vegetar...  "
      ]
     },
     "execution_count": 6,
     "metadata": {},
     "output_type": "execute_result"
    }
   ],
   "source": [
    "df.head()"
   ]
  },
  {
   "cell_type": "markdown",
   "metadata": {},
   "source": [
    "### Defrivation of the vocabulary for the whole corpus\n",
    "Our corpus consists of the totality of the recipes, i.e., the whole `cooking_method` column. In the following cell we process this data t generate a vocabulary out of this corpus."
   ]
  },
  {
   "cell_type": "code",
   "execution_count": 15,
   "metadata": {},
   "outputs": [
    {
     "data": {
      "text/plain": [
       "pandas.core.series.Series"
      ]
     },
     "execution_count": 15,
     "metadata": {},
     "output_type": "execute_result"
    }
   ],
   "source": [
    "cooking_method = df['cooking_method']\n",
    "type(cooking_method)"
   ]
  },
  {
   "cell_type": "code",
   "execution_count": 20,
   "metadata": {},
   "outputs": [],
   "source": [
    "def make_vocabulary(df):\n",
    "    cooking_method = df['cooking_method']\n",
    "    cooking_method = cooking_method.str.lower()\n",
    "    cooking_method = cooking_method.str.replace('-', '') # fluffy-light -> fluffylight\n",
    "    # remove all numbers and punctuations \n",
    "    cooking_method = cooking_method.str.replace(r'[^a-z\\s]', ' ', regex=True)\n",
    "    # remove multiple spaces\n",
    "    cooking_method = cooking_method.str.replace(r'\\s+', ' ')\n",
    "    cooking_method = cooking_method.str.split()\n",
    "    # remove duplicates (making it a set) and make it a list\n",
    "    cooking_method = cooking_method.apply(lambda x: list(set(x)))\n",
    "    cooking_method = cooking_method.explode() \n",
    "    \n",
    "    cooking_method = cooking_method.value_counts()\n",
    "    return cooking_method"
   ]
  },
  {
   "cell_type": "code",
   "execution_count": 23,
   "metadata": {},
   "outputs": [
    {
     "data": {
      "text/plain": [
       "24917"
      ]
     },
     "execution_count": 23,
     "metadata": {},
     "output_type": "execute_result"
    }
   ],
   "source": [
    "cooking_method = make_vocabulary(df)\n",
    "len(cooking_method)"
   ]
  },
  {
   "cell_type": "markdown",
   "metadata": {},
   "source": [
    "## Average length of recipes and ingredient list"
   ]
  },
  {
   "cell_type": "code",
   "execution_count": 12,
   "metadata": {},
   "outputs": [
    {
     "data": {
      "image/png": "[encoded data removed]",
      "text/plain": [
       "<Figure size 640x480 with 1 Axes>"
      ]
     },
     "metadata": {},
     "output_type": "display_data"
    }
   ],
   "source": [
    "# histogram of length of ingredients\n",
    "df['ingredients'].apply(lambda x: len(x.split(','))).hist(bins=50)\n",
    "plt.xlabel('Number of ingredients')\n",
    "plt.ylabel('Number of recipes')\n",
    "plt.title('Length of `ingredients`')\n",
    "plt.show()"
   ]
  },
  {
   "cell_type": "code",
   "execution_count": 13,
   "metadata": {},
   "outputs": [
    {
     "data": {
      "image/png": "[encoded data removed]",
      "text/plain": [
       "<Figure size 640x480 with 1 Axes>"
      ]
     },
     "metadata": {},
     "output_type": "display_data"
    }
   ],
   "source": [
    "# same for cooking_method\n",
    "df['cooking_method'].apply(lambda x: len(x.split(' '))).hist(bins=100)\n",
    "plt.xlabel('Number of words')\n",
    "plt.ylabel('Number of recipes')\n",
    "plt.title('Length of `cooking_method`')\n",
    "plt.show()"
   ]
  },
  {
   "cell_type": "markdown",
   "metadata": {},
   "source": [
    "## Distribution of tags"
   ]
  },
  {
   "cell_type": "code",
   "execution_count": null,
   "metadata": {},
   "outputs": [],
   "source": []
  },
  {
   "cell_type": "code",
   "execution_count": null,
   "metadata": {},
   "outputs": [],
   "source": []
  },
  {
   "cell_type": "code",
   "execution_count": null,
   "metadata": {},
   "outputs": [],
   "source": []
  },
  {
   "cell_type": "code",
   "execution_count": null,
   "metadata": {},
   "outputs": [],
   "source": []
  },
  {
   "cell_type": "code",
   "execution_count": null,
   "metadata": {},
   "outputs": [],
   "source": []
  },
  {
   "cell_type": "code",
   "execution_count": null,
   "metadata": {},
   "outputs": [],
   "source": []
  },
  {
   "cell_type": "code",
   "execution_count": null,
   "metadata": {},
   "outputs": [],
   "source": []
  },
  {
   "cell_type": "code",
   "execution_count": null,
   "metadata": {},
   "outputs": [],
   "source": []
  },
  {
   "cell_type": "code",
   "execution_count": null,
   "metadata": {},
   "outputs": [],
   "source": []
  },
  {
   "cell_type": "code",
   "execution_count": null,
   "metadata": {},
   "outputs": [],
   "source": [
    "# TODO: studiare qualita delle ricette predette come veg: magari sono davvero veg anche se il ground truth è 0... il dataset non è perfetto"
   ]
  }
 ],
 "metadata": {
  "kernelspec": {
   "display_name": ".venv",
   "language": "python",
   "name": "python3"
  },
  "language_info": {
   "codemirror_mode": {
    "name": "ipython",
    "version": 3
   },
   "file_extension": ".py",
   "mimetype": "text/x-python",
   "name": "python",
   "nbconvert_exporter": "python",
   "pygments_lexer": "ipython3",
   "version": "3.11.7"
  }
 },
 "nbformat": 4,
 "nbformat_minor": 2
}
