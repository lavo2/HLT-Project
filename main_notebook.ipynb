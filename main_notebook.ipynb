{
  "cells": [
    {
      "cell_type": "markdown",
      "metadata": {
        "id": "CwBuO_OXXuD7"
      },
      "source": [
        "# Exploring Natural Language Processing using Cooking Recipes"
      ]
    },
    {
      "cell_type": "markdown",
      "metadata": {
        "id": "I6vTjchZX7ml"
      },
      "source": [
        "## Imports and Dataset Load"
      ]
    },
    {
      "cell_type": "code",
      "execution_count": 2,
      "metadata": {
        "id": "9E5EggSQXnjf"
      },
      "outputs": [],
      "source": [
        "import numpy as np\n",
        "import pandas as pd\n",
        "import matplotlib.pyplot as plt\n",
        "import re\n",
        "import torch\n",
        "\n",
        "from transformers import AutoTokenizer, AutoModelForTokenClassification\n",
        "from transformers import pipeline\n",
        "from tqdm.auto import tqdm\n",
        "\n",
        "from utils import *"
      ]
    },
    {
      "cell_type": "markdown",
      "metadata": {},
      "source": [
        "# per colab runna questa cella"
      ]
    },
    {
      "cell_type": "code",
      "execution_count": 3,
      "metadata": {
        "colab": {
          "base_uri": "https://localhost:8080/"
        },
        "id": "kQe0RfKYX_SI",
        "outputId": "d0abb3d6-0bb9-48df-a5d4-06a6d2b149d6"
      },
      "outputs": [
        {
          "name": "stdout",
          "output_type": "stream",
          "text": [
            "Mounted at /content/drive\n"
          ]
        }
      ],
      "source": [
        "from google.colab import drive\n",
        "drive.mount('/content/drive')"
      ]
    },
    {
      "cell_type": "markdown",
      "metadata": {
        "id": "5WEuMjrYxnTd"
      },
      "source": [
        "## Load cleaned dataset"
      ]
    },
    {
      "cell_type": "code",
      "execution_count": 35,
      "metadata": {
        "id": "MdT4MybNXnjh"
      },
      "outputs": [],
      "source": [
        "# Load the data locally\n",
        "df = pd.read_csv('dataset/dataset.csv')\n",
        "\n",
        "# Load the data from GDrive\n",
        "# df = pd.read_csv('/content/drive/MyDrive/datasets/dataset.csv')"
      ]
    },
    {
      "cell_type": "markdown",
      "metadata": {
        "id": "tGSgkoNIamwS"
      },
      "source": [
        "## Named Entity Recognition to Extract the Ingredients\n",
        "\n",
        "In the following we'll use some NER models to extract all the ingredients from the recipes in order to train a network with them afterwards."
      ]
    },
    {
      "cell_type": "code",
      "execution_count": 24,
      "metadata": {
        "id": "rlWpsamvhuFX"
      },
      "outputs": [],
      "source": [
        "def get_ingredients(recipe: str, ner_result: list):\n",
        "    ingredients = []\n",
        "    last_added = 0\n",
        "    b_word = 'B-FOOD'\n",
        "    i_word = 'I-FOOD'\n",
        "\n",
        "    for i in range(len(ner_result)):\n",
        "\n",
        "        if ner_result[i]['entity'] == b_word:\n",
        "            # check if previous word was a segmentation of the same one\n",
        "            if ner_result[i]['word'].startswith('#') and ner_result[i-1]['entity'] == b_word:\n",
        "                # if (for any reason (it happens)) the first word is a segment, we ignore it\n",
        "                if last_added == 0:\n",
        "                    continue\n",
        "                ingredients[last_added-1] += recipe[ner_result[i]['start'] : ner_result[i]['end']]\n",
        "            else:\n",
        "                # get the ingredient from the recipe given its position\n",
        "                ingredients.append(recipe[ner_result[i]['start'] : ner_result[i]['end']])\n",
        "                last_added += 1\n",
        "\n",
        "        elif ner_result[i]['entity'] == i_word:\n",
        "            # check if segmentation is occurring\n",
        "            if ner_result[i]['word'].startswith('#'):\n",
        "                # if (for any reason (it happens)) the first word is a segment, we ignore it\n",
        "                if last_added == 0:\n",
        "                    continue\n",
        "                ingredients[last_added-1] += recipe[ner_result[i]['start'] : ner_result[i]['end']]\n",
        "            elif last_added == 0:\n",
        "                ingredients.append(recipe[ner_result[i]['start'] : ner_result[i]['end']])\n",
        "                last_added += 1\n",
        "            else:\n",
        "                ingredients[last_added-1] = ingredients[last_added-1] + ' ' + recipe[ner_result[i]['start'] : ner_result[i]['end']]\n",
        "\n",
        "    return ingredients"
      ]
    },
    {
      "cell_type": "code",
      "execution_count": 25,
      "metadata": {},
      "outputs": [],
      "source": [
        "# reduce the dataset to the first 10 rows\n",
        "df = df.head(1)\n"
      ]
    },
    {
      "cell_type": "code",
      "execution_count": 39,
      "metadata": {},
      "outputs": [
        {
          "data": {
            "text/plain": [
              "\"['Remove the chicken legs, wings and thighs from the rotisserie chicken and set aside for another meal.', 'Remove the skin from the 2 breasts and remove the meat from the bones. Break the chicken into chunks with your hands or a knife and place into a large bowl. Add the fresh dill, lemon juice, lemon zest, olive oil and salt.', 'Refrigerate until ready to eat.']\""
            ]
          },
          "execution_count": 39,
          "metadata": {},
          "output_type": "execute_result"
        }
      ],
      "source": [
        "# get the first recipe\n",
        "recipe = df['cooking_method'][31]\n",
        "recipe"
      ]
    },
    {
      "cell_type": "code",
      "execution_count": null,
      "metadata": {},
      "outputs": [],
      "source": [
        "# Questo funziona male, lascia gli ingredienti separati da #\n",
        "\n",
        "tokenizer = AutoTokenizer.from_pretrained(\"Dizex/FoodBaseBERT\")\n",
        "model = AutoModelForTokenClassification.from_pretrained(\"Dizex/FoodBaseBERT\")\n",
        "\n",
        "pipe = pipeline(\"ner\", model=model, tokenizer=tokenizer, grouped_entities=True)\n",
        "ner_result = pipe(recipe)\n",
        "\n",
        "ner_result"
      ]
    },
    {
      "cell_type": "code",
      "execution_count": 40,
      "metadata": {},
      "outputs": [
        {
          "data": {
            "text/plain": [
              "[{'entity_group': 'FOOD',\n",
              "  'score': 0.9934605,\n",
              "  'word': 'chicken legs',\n",
              "  'start': 13,\n",
              "  'end': 25},\n",
              " {'entity_group': 'FOOD',\n",
              "  'score': 0.99471396,\n",
              "  'word': 'wings',\n",
              "  'start': 27,\n",
              "  'end': 32},\n",
              " {'entity_group': 'FOOD',\n",
              "  'score': 0.9796107,\n",
              "  'word': 'thighs',\n",
              "  'start': 37,\n",
              "  'end': 43},\n",
              " {'entity_group': 'FOOD',\n",
              "  'score': 0.9848013,\n",
              "  'word': 'rotisserie chicken',\n",
              "  'start': 53,\n",
              "  'end': 71},\n",
              " {'entity_group': 'FOOD',\n",
              "  'score': 0.9872923,\n",
              "  'word': 'skin',\n",
              "  'start': 118,\n",
              "  'end': 122},\n",
              " {'entity_group': 'FOOD',\n",
              "  'score': 0.84520423,\n",
              "  'word': 'breasts',\n",
              "  'start': 134,\n",
              "  'end': 141},\n",
              " {'entity_group': 'FOOD',\n",
              "  'score': 0.9972771,\n",
              "  'word': 'meat',\n",
              "  'start': 157,\n",
              "  'end': 161},\n",
              " {'entity_group': 'FOOD',\n",
              "  'score': 0.99037725,\n",
              "  'word': 'bones',\n",
              "  'start': 171,\n",
              "  'end': 176},\n",
              " {'entity_group': 'FOOD',\n",
              "  'score': 0.99775213,\n",
              "  'word': 'chicken',\n",
              "  'start': 188,\n",
              "  'end': 195},\n",
              " {'entity_group': 'FOOD',\n",
              "  'score': 0.9954136,\n",
              "  'word': 'fresh dill',\n",
              "  'start': 272,\n",
              "  'end': 282},\n",
              " {'entity_group': 'FOOD',\n",
              "  'score': 0.9982592,\n",
              "  'word': 'lemon juice',\n",
              "  'start': 284,\n",
              "  'end': 295},\n",
              " {'entity_group': 'FOOD',\n",
              "  'score': 0.9964952,\n",
              "  'word': 'lemon zest',\n",
              "  'start': 297,\n",
              "  'end': 307},\n",
              " {'entity_group': 'FOOD',\n",
              "  'score': 0.99846554,\n",
              "  'word': 'olive oil',\n",
              "  'start': 309,\n",
              "  'end': 318},\n",
              " {'entity_group': 'FOOD',\n",
              "  'score': 0.9974438,\n",
              "  'word': 'salt',\n",
              "  'start': 323,\n",
              "  'end': 327}]"
            ]
          },
          "execution_count": 40,
          "metadata": {},
          "output_type": "execute_result"
        }
      ],
      "source": [
        "# questo funziona bene come il nostro, ma restituisce il dizionario\n",
        "\n",
        "tokenizer = AutoTokenizer.from_pretrained(\"Dizex/FoodBaseBERT\")\n",
        "model = AutoModelForTokenClassification.from_pretrained(\"Dizex/FoodBaseBERT\")\n",
        "\n",
        "pipe = pipeline(\"ner\", model=model, tokenizer=tokenizer, aggregation_strategy=\"MAX\")\n",
        "ner_result = pipe(recipe)\n",
        "\n",
        "ner_result"
      ]
    },
    {
      "cell_type": "code",
      "execution_count": 41,
      "metadata": {},
      "outputs": [
        {
          "data": {
            "text/plain": [
              "['chicken legs',\n",
              " 'wings',\n",
              " 'thighs',\n",
              " 'rotisserie chicken',\n",
              " 'skin',\n",
              " 'breasts',\n",
              " 'meat',\n",
              " 'bones',\n",
              " 'chicken',\n",
              " 'fresh dill',\n",
              " 'lemon juice',\n",
              " 'lemon zest',\n",
              " 'olive oil',\n",
              " 'salt']"
            ]
          },
          "execution_count": 41,
          "metadata": {},
          "output_type": "execute_result"
        }
      ],
      "source": [
        "# il nostro funziona bene e restituisce la lista\n",
        "\n",
        "tokenizer = AutoTokenizer.from_pretrained(\"Dizex/FoodBaseBERT\")\n",
        "model = AutoModelForTokenClassification.from_pretrained(\"Dizex/FoodBaseBERT\")\n",
        "\n",
        "pipe = pipeline(\"ner\", model=model, tokenizer=tokenizer)\n",
        "ner_result = pipe(recipe)\n",
        "ingredients = get_ingredients(recipe, ner_result)\n",
        "\n",
        "ingredients"
      ]
    },
    {
      "cell_type": "code",
      "execution_count": 31,
      "metadata": {},
      "outputs": [
        {
          "data": {
            "text/plain": [
              "[{'entity_group': 'FOOD',\n",
              "  'score': 0.7495046,\n",
              "  'word': 'extra',\n",
              "  'start': 16,\n",
              "  'end': 21},\n",
              " {'entity_group': 'FOOD',\n",
              "  'score': 0.9697037,\n",
              "  'word': 'virgin olive oil',\n",
              "  'start': 22,\n",
              "  'end': 38},\n",
              " {'entity_group': 'FOOD',\n",
              "  'score': 0.978496,\n",
              "  'word': 'ch',\n",
              "  'start': 48,\n",
              "  'end': 50},\n",
              " {'entity_group': 'FOOD',\n",
              "  'score': 0.99201655,\n",
              "  'word': '##opped yellow onion',\n",
              "  'start': 50,\n",
              "  'end': 68},\n",
              " {'entity_group': 'FOOD',\n",
              "  'score': 0.98822474,\n",
              "  'word': 'c',\n",
              "  'start': 74,\n",
              "  'end': 75},\n",
              " {'entity_group': 'FOOD',\n",
              "  'score': 0.9753904,\n",
              "  'word': '##love',\n",
              "  'start': 75,\n",
              "  'end': 79},\n",
              " {'entity_group': 'FOOD',\n",
              "  'score': 0.9716952,\n",
              "  'word': '##s garlic',\n",
              "  'start': 79,\n",
              "  'end': 87},\n",
              " {'entity_group': 'FOOD',\n",
              "  'score': 0.6193733,\n",
              "  'word': 'min',\n",
              "  'start': 89,\n",
              "  'end': 92},\n",
              " {'entity_group': 'FOOD',\n",
              "  'score': 0.5813063,\n",
              "  'word': '##ced',\n",
              "  'start': 92,\n",
              "  'end': 95},\n",
              " {'entity_group': 'FOOD',\n",
              "  'score': 0.9946885,\n",
              "  'word': 'crushed red pepper flakes',\n",
              "  'start': 113,\n",
              "  'end': 138},\n",
              " {'entity_group': 'FOOD',\n",
              "  'score': 0.987146,\n",
              "  'word': 'ch',\n",
              "  'start': 164,\n",
              "  'end': 166},\n",
              " {'entity_group': 'FOOD',\n",
              "  'score': 0.99363464,\n",
              "  'word': '##opped fennel',\n",
              "  'start': 166,\n",
              "  'end': 178},\n",
              " {'entity_group': 'FOOD',\n",
              "  'score': 0.98528117,\n",
              "  'word': 'peeled tomatoes',\n",
              "  'start': 205,\n",
              "  'end': 220},\n",
              " {'entity_group': 'FOOD',\n",
              "  'score': 0.93289834,\n",
              "  'word': 'juice',\n",
              "  'start': 233,\n",
              "  'end': 238},\n",
              " {'entity_group': 'FOOD',\n",
              "  'score': 0.93236643,\n",
              "  'word': '##s',\n",
              "  'start': 238,\n",
              "  'end': 239},\n",
              " {'entity_group': 'FOOD',\n",
              "  'score': 0.99297744,\n",
              "  'word': 'fresh basil leaves',\n",
              "  'start': 252,\n",
              "  'end': 270},\n",
              " {'entity_group': 'FOOD',\n",
              "  'score': 0.98642987,\n",
              "  'word': 'dry white wine',\n",
              "  'start': 303,\n",
              "  'end': 317},\n",
              " {'entity_group': 'FOOD',\n",
              "  'score': 0.9765154,\n",
              "  'word': 'pit',\n",
              "  'start': 329,\n",
              "  'end': 332},\n",
              " {'entity_group': 'FOOD',\n",
              "  'score': 0.7759214,\n",
              "  'word': '##ted',\n",
              "  'start': 332,\n",
              "  'end': 335},\n",
              " {'entity_group': 'FOOD',\n",
              "  'score': 0.8249265,\n",
              "  'word': 'Ka',\n",
              "  'start': 336,\n",
              "  'end': 338},\n",
              " {'entity_group': 'FOOD',\n",
              "  'score': 0.76290727,\n",
              "  'word': '##lam',\n",
              "  'start': 338,\n",
              "  'end': 341},\n",
              " {'entity_group': 'FOOD',\n",
              "  'score': 0.94405276,\n",
              "  'word': '##ata olives',\n",
              "  'start': 341,\n",
              "  'end': 351},\n",
              " {'entity_group': 'FOOD',\n",
              "  'score': 0.84496886,\n",
              "  'word': 'salt',\n",
              "  'start': 371,\n",
              "  'end': 375},\n",
              " {'entity_group': 'FOOD',\n",
              "  'score': 0.9727525,\n",
              "  'word': 'ground pepper',\n",
              "  'start': 387,\n",
              "  'end': 400},\n",
              " {'entity_group': 'FOOD',\n",
              "  'score': 0.8142015,\n",
              "  'word': 'skin',\n",
              "  'start': 419,\n",
              "  'end': 423},\n",
              " {'entity_group': 'FOOD',\n",
              "  'score': 0.9267372,\n",
              "  'word': 'Chilean sea bass fillets',\n",
              "  'start': 428,\n",
              "  'end': 452},\n",
              " {'entity_group': 'FOOD',\n",
              "  'score': 0.8909296,\n",
              "  'word': '##ed fish fillets',\n",
              "  'start': 491,\n",
              "  'end': 506},\n",
              " {'entity_group': 'FOOD',\n",
              "  'score': 0.98939615,\n",
              "  'word': 'ha',\n",
              "  'start': 515,\n",
              "  'end': 517},\n",
              " {'entity_group': 'FOOD',\n",
              "  'score': 0.99006337,\n",
              "  'word': '##li',\n",
              "  'start': 517,\n",
              "  'end': 519},\n",
              " {'entity_group': 'FOOD',\n",
              "  'score': 0.99385107,\n",
              "  'word': '##but',\n",
              "  'start': 519,\n",
              "  'end': 522},\n",
              " {'entity_group': 'FOOD',\n",
              "  'score': 0.991198,\n",
              "  'word': 'co',\n",
              "  'start': 524,\n",
              "  'end': 526},\n",
              " {'entity_group': 'FOOD',\n",
              "  'score': 0.9920873,\n",
              "  'word': '##d',\n",
              "  'start': 526,\n",
              "  'end': 527},\n",
              " {'entity_group': 'FOOD',\n",
              "  'score': 0.9868376,\n",
              "  'word': 'striped bass',\n",
              "  'start': 531,\n",
              "  'end': 543},\n",
              " {'entity_group': 'FOOD',\n",
              "  'score': 0.9413336,\n",
              "  'word': 'Organic olive oil cooking spray',\n",
              "  'start': 548,\n",
              "  'end': 579},\n",
              " {'entity_group': 'FOOD',\n",
              "  'score': 0.8281769,\n",
              "  'word': 'salt',\n",
              "  'start': 590,\n",
              "  'end': 594},\n",
              " {'entity_group': 'FOOD',\n",
              "  'score': 0.94918877,\n",
              "  'word': 'ground black pepper',\n",
              "  'start': 606,\n",
              "  'end': 625},\n",
              " {'entity_group': 'FOOD',\n",
              "  'score': 0.7611313,\n",
              "  'word': 'extra',\n",
              "  'start': 642,\n",
              "  'end': 647},\n",
              " {'entity_group': 'FOOD',\n",
              "  'score': 0.5203173,\n",
              "  'word': '-',\n",
              "  'start': 647,\n",
              "  'end': 648},\n",
              " {'entity_group': 'FOOD',\n",
              "  'score': 0.95721203,\n",
              "  'word': 'virgin olive oil',\n",
              "  'start': 648,\n",
              "  'end': 664}]"
            ]
          },
          "execution_count": 31,
          "metadata": {},
          "output_type": "execute_result"
        }
      ],
      "source": [
        "ner_result"
      ]
    },
    {
      "cell_type": "code",
      "execution_count": 29,
      "metadata": {
        "colab": {
          "base_uri": "https://localhost:8080/",
          "height": 66,
          "referenced_widgets": [
            "9fcb48f58ef84beaa5986254a5382e60",
            "9030c8d9f9df477485087c7f303d3440",
            "680922e095054ba0955df5843d60ea5e",
            "a0d63cde0dd34868878d611d5e43691a",
            "8ea3328b099e40b495a2eabbaf0fcb63",
            "2894def650754b60888bbc7f0310caa9",
            "0b4f52d882c547c2b0e03d9b270fd923",
            "eb3ec11282b04f70b9cc33aa191fb9b1",
            "b62bac09b23245a5b00a180a2d1e026f",
            "274317b98ba64230a96eb86a8537079f",
            "c8b1d9f726954c45a79ad54bf9be3637"
          ]
        },
        "id": "oluqXpw0qerQ",
        "outputId": "718f3038-b049-412b-9532-37d3ff3a8636"
      },
      "outputs": [
        {
          "name": "stderr",
          "output_type": "stream",
          "text": [
            "c:\\Users\\chucki\\Desktop\\projects\\HLT-Project\\.venv\\lib\\site-packages\\huggingface_hub\\file_download.py:1132: FutureWarning: `resume_download` is deprecated and will be removed in version 1.0.0. Downloads always resume when possible. If you want to force a new download, use `force_download=True`.\n",
            "  warnings.warn(\n"
          ]
        },
        {
          "name": "stdout",
          "output_type": "stream",
          "text": [
            "Model moved to GPU.\n"
          ]
        },
        {
          "name": "stderr",
          "output_type": "stream",
          "text": [
            "100%|██████████| 1/1 [00:00<00:00,  2.35it/s]\n"
          ]
        }
      ],
      "source": [
        "ingredients_v = set()\n",
        "\n",
        "tokenizer = AutoTokenizer.from_pretrained(\"Dizex/FoodBaseBERT\")\n",
        "model = AutoModelForTokenClassification.from_pretrained(\"Dizex/FoodBaseBERT\")\n",
        "\n",
        "if torch.cuda.is_available():\n",
        "    model = model.to('cuda')\n",
        "    print(\"Model moved to GPU.\")\n",
        "else:\n",
        "    print(\"CUDA is not available. Model will run on CPU.\")\n",
        "\n",
        "pipe = pipeline(\"ner\", model=model, tokenizer=tokenizer)\n",
        "\n",
        "for i, recipe in tqdm(enumerate(df.ingredients), total=len(df.ingredients)):\n",
        "    ner_result = pipe(recipe)\n",
        "    ingredients = get_ingredients(recipe, ner_result)\n",
        "    for ingredient in ingredients:\n",
        "        ingredients_v.add(ingredient)"
      ]
    },
    {
      "cell_type": "code",
      "execution_count": 9,
      "metadata": {},
      "outputs": [
        {
          "data": {
            "text/plain": [
              "['poppy seeds',\n",
              " 'skin',\n",
              " 'cream',\n",
              " 'fresh dill',\n",
              " 'scallions',\n",
              " 'brown sugar',\n",
              " 'onion powder',\n",
              " 'enne bulb',\n",
              " 'minced',\n",
              " 'garnish',\n",
              " 'chopped steamed broccoli',\n",
              " 'liquid',\n",
              " 'cloves garlic',\n",
              " 'bagel seasoning',\n",
              " 'ham',\n",
              " 'beefsteak tomato',\n",
              " 'gluten',\n",
              " 'dry white wine',\n",
              " 'diced ham steak',\n",
              " '-',\n",
              " 'cod',\n",
              " 'green beans beans',\n",
              " 'chopped kale leaves',\n",
              " 'grated Parmesan',\n",
              " 'balsamic vinegar',\n",
              " 'milk',\n",
              " 'fresh cilantro',\n",
              " 'Kosher salt',\n",
              " 'minced dried onion flakes',\n",
              " '%',\n",
              " 'low fat sour cream',\n",
              " 'ground pepper',\n",
              " 'buttermilk',\n",
              " 'garlic powder',\n",
              " 'chopped fennel',\n",
              " 'juice',\n",
              " 'sodium vegetable broth',\n",
              " 'white whole wheat flour',\n",
              " 'halibut',\n",
              " 'crushed red pepper flakes',\n",
              " 'fresh black pepper',\n",
              " 'dried parsley',\n",
              " 'sliced black olives',\n",
              " 'fat cream cheese',\n",
              " 'rated zest',\n",
              " 'cooking spray',\n",
              " 'ground black pepper',\n",
              " 'dried basil',\n",
              " 'fat',\n",
              " 'Organic olive oil cooking spray salt',\n",
              " 'nova lox',\n",
              " 'fresh grated Swiss cheese',\n",
              " 'pitted',\n",
              " 'heat oil',\n",
              " 'sea salt',\n",
              " 'garlic head',\n",
              " 'sesame seeds',\n",
              " 'nutmeg',\n",
              " 'Salt',\n",
              " 'new potatoes',\n",
              " 'rotisserie chicken',\n",
              " 'mayonnaise',\n",
              " 'strawberries',\n",
              " 'Kensington',\n",
              " 'low',\n",
              " 'smoked salmon',\n",
              " 'capers',\n",
              " 'striped bass',\n",
              " 'kosher salt',\n",
              " 'virgin olive oil',\n",
              " 'Romano cheese',\n",
              " 'juices',\n",
              " 'grain',\n",
              " 'large eggs',\n",
              " 'purpose',\n",
              " 'yellow onion',\n",
              " 'leftover',\n",
              " 'fresh flat - leaf parsley',\n",
              " 'Kalamata olives salt',\n",
              " 'Chilean sea bass filletsed fish fillets',\n",
              " 'salmon fillets',\n",
              " 'black pepper',\n",
              " 'fresh finely chopped chives',\n",
              " 'fresh basil leaves',\n",
              " 'flour',\n",
              " 'baking powder',\n",
              " 'olive oil spray',\n",
              " 'hulled hemp seeds',\n",
              " 'red onion',\n",
              " 'lemon',\n",
              " 'Greek yogurt',\n",
              " 'chopped yellow onion',\n",
              " 'peeled tomatoes',\n",
              " 'extra',\n",
              " 'freshly',\n",
              " 'shredded boneless chicken breast',\n",
              " 'olive oil spray Ba Seasoning',\n",
              " 'minced dried garlic flakes']"
            ]
          },
          "execution_count": 9,
          "metadata": {},
          "output_type": "execute_result"
        }
      ],
      "source": [
        "# Use the tokenizer to merge tokens\n",
        "\n",
        "\n",
        "cleaned_results = clean_entities(results, tokenizer)\n",
        "print(cleaned_results)"
      ]
    },
    {
      "cell_type": "code",
      "execution_count": null,
      "metadata": {},
      "outputs": [],
      "source": []
    },
    {
      "cell_type": "code",
      "execution_count": 7,
      "metadata": {},
      "outputs": [
        {
          "data": {
            "text/plain": [
              "True"
            ]
          },
          "execution_count": 7,
          "metadata": {},
          "output_type": "execute_result"
        }
      ],
      "source": [
        "tokenizer.is_fast"
      ]
    },
    {
      "cell_type": "code",
      "execution_count": null,
      "metadata": {
        "id": "ixaVKDGy0qwN"
      },
      "outputs": [],
      "source": [
        "import csv\n",
        "\n",
        "PATH = '/content/drive/MyDrive/datasets/ingredients_v.csv'\n",
        "\n",
        "with open(PATH, mode='w', newline='', encoding='utf-8') as file:\n",
        "    writer = csv.writer(file)\n",
        "\n",
        "    for ingredient in ingredients_v:\n",
        "        writer.writerow([ingredient])\n",
        "\n",
        "print(f\"Set saved to '{PATH}'.\")"
      ]
    },
    {
      "cell_type": "markdown",
      "metadata": {},
      "source": [
        "-----------\n",
        "## This takes too much time so we want to work on a smaller, balanced dataset"
      ]
    },
    {
      "cell_type": "code",
      "execution_count": 4,
      "metadata": {},
      "outputs": [],
      "source": [
        "df_main=pd.read_csv(\"dataset/recipes_df.csv\")\n",
        "df_veg=df[df_main.Vegetarian==True]\n",
        "df_notveg=df[df_main.Vegetarian==False]\n",
        "\n",
        "df_veg=df_veg.sample(n=2500)\n",
        "df_notveg=df_notveg.sample(n=2500)\n",
        "df=pd.concat([df_veg,df_notveg])\n",
        "# shuffle the dataframe\n",
        "df = df.sample(frac=1).reset_index(drop=True)\n",
        "\n",
        "# save the new dataframe\n",
        "df.to_csv('dataset/recipes_df_r.csv', index=False)\n"
      ]
    },
    {
      "cell_type": "markdown",
      "metadata": {},
      "source": [
        "----\n",
        "# once we have the balanced dataset we can start from here"
      ]
    },
    {
      "cell_type": "markdown",
      "metadata": {},
      "source": [
        "## we want to preprocess a bit the dataset, first of all we process the ingridient with a regex"
      ]
    },
    {
      "cell_type": "code",
      "execution_count": 2,
      "metadata": {},
      "outputs": [],
      "source": [
        "PATH = './dataset/recipes_df_r.csv'\n",
        "\n",
        "\n",
        "df = pd.read_csv(PATH)"
      ]
    },
    {
      "cell_type": "code",
      "execution_count": 27,
      "metadata": {},
      "outputs": [
        {
          "data": {
            "text/plain": [
              "'cup of flour'"
            ]
          },
          "execution_count": 27,
          "metadata": {},
          "output_type": "execute_result"
        }
      ],
      "source": [
        "# create a regex function that given a string removes all except letters and spaces\n",
        "def get_nouns_verbs(ingredient):\n",
        "    tagged = pos_tagging(ingredient)\n",
        "    return ' '.join([word for word, pos in tagged if pos in ['NOUN', 'VERB']])\n",
        "\n",
        "def clean_text(s):\n",
        "    s = s.lower()\n",
        "    s1 = re.sub(r'[^a-z\\s]', '', s)\n",
        "    # remove multiple spaces and starting and ending spaces\n",
        "    s2 = re.sub(r'\\s+', ' ', s1).strip()\n",
        "    return s2\n",
        "\n",
        "\n",
        "clean_text('1 cup of flour')\n",
        "\n",
        "\n",
        "def get_nouns_verbs(ingredient):\n",
        "    tagged = pos_tagging(ingredient)\n",
        "    return ' '.join([word for word, pos in tagged if pos in ['NOUN', 'VERB']])\n",
        "\n",
        "\n"
      ]
    },
    {
      "cell_type": "code",
      "execution_count": 38,
      "metadata": {},
      "outputs": [
        {
          "name": "stdout",
          "output_type": "stream",
          "text": [
            "[('italian', 'ADJ'), ('pinot', 'PROPN'), ('grigio', 'NOUN')]\n"
          ]
        },
        {
          "data": {
            "text/plain": [
              "'grigio'"
            ]
          },
          "execution_count": 38,
          "metadata": {},
          "output_type": "execute_result"
        }
      ],
      "source": [
        "# use spacy to apply pos tagging to the ingredients\n",
        "import spacy\n",
        "\n",
        "nlp = spacy.load('en_core_web_sm')\n",
        "\n",
        "def pos_tagging(ingredient):\n",
        "    doc = nlp(ingredient)\n",
        "    return [(token.text, token.pos_) for token in doc]\n",
        "\n",
        "# use specy finetuned to ingredients\n",
        "\"\"\"nlp = spacy.load('en_core_web_sm')\n",
        "nlp.add_pipe('ner', source=tokenizer)\n",
        "\n",
        "def pos_tagging(ingredient):\n",
        "    doc = nlp(ingredient)\n",
        "    return [(token.text, token.pos_) for token in doc]\n",
        "\n",
        "\"\"\"\n",
        "\n",
        "pos_tagging('gour blend mushrooms sliced')\n",
        "\n",
        "# return the string with only the nouns and verbs\n",
        "def get_nouns_verbs(ingredient):\n",
        "    tagged = pos_tagging(ingredient)\n",
        "    return ' '.join([word for word, pos in tagged if pos in ['NOUN', 'VERB', 'PROPN']])\n",
        "print(pos_tagging('italian pinot grigio'))\n",
        "get_nouns_verbs('italian pinot grigio')\n",
        "\n",
        "\n"
      ]
    },
    {
      "cell_type": "code",
      "execution_count": null,
      "metadata": {},
      "outputs": [],
      "source": [
        "\n",
        "ingredients_list = []\n",
        "\n",
        "print(\"Loading model and tokenizer...\")\n",
        "\n",
        "tokenizer = AutoTokenizer.from_pretrained(\"Dizex/FoodBaseBERT\")\n",
        "model = AutoModelForTokenClassification.from_pretrained(\"Dizex/FoodBaseBERT\")\n",
        "\n",
        "print(\"Model and tokenizer loaded.\")\n",
        "\n",
        "if torch.cuda.is_available():\n",
        "    model = model.to('cuda')\n",
        "    print(\"Model moved to GPU.\")\n",
        "else:\n",
        "    print(\"CUDA is not available. Model will run on CPU.\")\n",
        "\n",
        "pipe = pipeline(\"ner\", model=model, tokenizer=tokenizer)\n",
        "\n",
        "\n",
        "#return re.sub(r'[^\\w\\s]', '', text)\n",
        "\n",
        "print(\"Pipeline created.\")\n",
        "\n",
        "\n",
        "\n",
        "\n",
        "for i, recipe in tqdm(enumerate(df.ingredients), total=len(df.ingredients)):\n",
        "    print(recipe)\n",
        "    recipe_p = re.sub(r'[^\\w\\s]', '', recipe)\n",
        "\n",
        "    ingredients_list.append([])\n",
        "    ner_result = pipe(recipe_p)\n",
        "    ingredients = get_ingredients(recipe_p, ner_result)\n",
        "    for ingredient in ingredients:\n",
        "        ingredients_list[i].append(ingredient)\n",
        "\n"
      ]
    },
    {
      "cell_type": "code",
      "execution_count": 29,
      "metadata": {},
      "outputs": [
        {
          "name": "stdout",
          "output_type": "stream",
          "text": [
            "Loading model and tokenizer...\n",
            "Model and tokenizer loaded.\n",
            "CUDA is not available. Model will run on CPU.\n",
            "Pipeline created.\n"
          ]
        }
      ],
      "source": [
        "\n",
        "print(\"Loading model and tokenizer...\")\n",
        "\n",
        "tokenizer = AutoTokenizer.from_pretrained(\"Dizex/FoodBaseBERT\")\n",
        "model = AutoModelForTokenClassification.from_pretrained(\"Dizex/FoodBaseBERT\")\n",
        "\n",
        "print(\"Model and tokenizer loaded.\")\n",
        "\n",
        "if torch.cuda.is_available():\n",
        "    model = model.to('cuda')\n",
        "    print(\"Model moved to GPU.\")\n",
        "else:\n",
        "    print(\"CUDA is not available. Model will run on CPU.\")\n",
        "\n",
        "pipe = pipeline(\"ner\", model=model, tokenizer=tokenizer)\n",
        "\n",
        "\n",
        "#return re.sub(r'[^\\w\\s]', '', text)\n",
        "\n",
        "print(\"Pipeline created.\")"
      ]
    }
  ],
  "metadata": {
    "accelerator": "GPU",
    "colab": {
      "gpuType": "T4",
      "provenance": []
    },
    "kernelspec": {
      "display_name": "Python 3",
      "name": "python3"
    },
    "language_info": {
      "codemirror_mode": {
        "name": "ipython",
        "version": 3
      },
      "file_extension": ".py",
      "mimetype": "text/x-python",
      "name": "python",
      "nbconvert_exporter": "python",
      "pygments_lexer": "ipython3",
      "version": "3.11.7"
    },
    "widgets": {
      "application/vnd.jupyter.widget-state+json": {
        "0b4f52d882c547c2b0e03d9b270fd923": {
          "model_module": "@jupyter-widgets/controls",
          "model_module_version": "1.5.0",
          "model_name": "DescriptionStyleModel",
          "state": {
            "_model_module": "@jupyter-widgets/controls",
            "_model_module_version": "1.5.0",
            "_model_name": "DescriptionStyleModel",
            "_view_count": null,
            "_view_module": "@jupyter-widgets/base",
            "_view_module_version": "1.2.0",
            "_view_name": "StyleView",
            "description_width": ""
          }
        },
        "274317b98ba64230a96eb86a8537079f": {
          "model_module": "@jupyter-widgets/base",
          "model_module_version": "1.2.0",
          "model_name": "LayoutModel",
          "state": {
            "_model_module": "@jupyter-widgets/base",
            "_model_module_version": "1.2.0",
            "_model_name": "LayoutModel",
            "_view_count": null,
            "_view_module": "@jupyter-widgets/base",
            "_view_module_version": "1.2.0",
            "_view_name": "LayoutView",
            "align_content": null,
            "align_items": null,
            "align_self": null,
            "border": null,
            "bottom": null,
            "display": null,
            "flex": null,
            "flex_flow": null,
            "grid_area": null,
            "grid_auto_columns": null,
            "grid_auto_flow": null,
            "grid_auto_rows": null,
            "grid_column": null,
            "grid_gap": null,
            "grid_row": null,
            "grid_template_areas": null,
            "grid_template_columns": null,
            "grid_template_rows": null,
            "height": null,
            "justify_content": null,
            "justify_items": null,
            "left": null,
            "margin": null,
            "max_height": null,
            "max_width": null,
            "min_height": null,
            "min_width": null,
            "object_fit": null,
            "object_position": null,
            "order": null,
            "overflow": null,
            "overflow_x": null,
            "overflow_y": null,
            "padding": null,
            "right": null,
            "top": null,
            "visibility": null,
            "width": null
          }
        },
        "2894def650754b60888bbc7f0310caa9": {
          "model_module": "@jupyter-widgets/base",
          "model_module_version": "1.2.0",
          "model_name": "LayoutModel",
          "state": {
            "_model_module": "@jupyter-widgets/base",
            "_model_module_version": "1.2.0",
            "_model_name": "LayoutModel",
            "_view_count": null,
            "_view_module": "@jupyter-widgets/base",
            "_view_module_version": "1.2.0",
            "_view_name": "LayoutView",
            "align_content": null,
            "align_items": null,
            "align_self": null,
            "border": null,
            "bottom": null,
            "display": null,
            "flex": null,
            "flex_flow": null,
            "grid_area": null,
            "grid_auto_columns": null,
            "grid_auto_flow": null,
            "grid_auto_rows": null,
            "grid_column": null,
            "grid_gap": null,
            "grid_row": null,
            "grid_template_areas": null,
            "grid_template_columns": null,
            "grid_template_rows": null,
            "height": null,
            "justify_content": null,
            "justify_items": null,
            "left": null,
            "margin": null,
            "max_height": null,
            "max_width": null,
            "min_height": null,
            "min_width": null,
            "object_fit": null,
            "object_position": null,
            "order": null,
            "overflow": null,
            "overflow_x": null,
            "overflow_y": null,
            "padding": null,
            "right": null,
            "top": null,
            "visibility": null,
            "width": null
          }
        },
        "680922e095054ba0955df5843d60ea5e": {
          "model_module": "@jupyter-widgets/controls",
          "model_module_version": "1.5.0",
          "model_name": "FloatProgressModel",
          "state": {
            "_dom_classes": [],
            "_model_module": "@jupyter-widgets/controls",
            "_model_module_version": "1.5.0",
            "_model_name": "FloatProgressModel",
            "_view_count": null,
            "_view_module": "@jupyter-widgets/controls",
            "_view_module_version": "1.5.0",
            "_view_name": "ProgressView",
            "bar_style": "",
            "description": "",
            "description_tooltip": null,
            "layout": "IPY_MODEL_eb3ec11282b04f70b9cc33aa191fb9b1",
            "max": 82011,
            "min": 0,
            "orientation": "horizontal",
            "style": "IPY_MODEL_b62bac09b23245a5b00a180a2d1e026f",
            "value": 1870
          }
        },
        "8ea3328b099e40b495a2eabbaf0fcb63": {
          "model_module": "@jupyter-widgets/base",
          "model_module_version": "1.2.0",
          "model_name": "LayoutModel",
          "state": {
            "_model_module": "@jupyter-widgets/base",
            "_model_module_version": "1.2.0",
            "_model_name": "LayoutModel",
            "_view_count": null,
            "_view_module": "@jupyter-widgets/base",
            "_view_module_version": "1.2.0",
            "_view_name": "LayoutView",
            "align_content": null,
            "align_items": null,
            "align_self": null,
            "border": null,
            "bottom": null,
            "display": null,
            "flex": null,
            "flex_flow": null,
            "grid_area": null,
            "grid_auto_columns": null,
            "grid_auto_flow": null,
            "grid_auto_rows": null,
            "grid_column": null,
            "grid_gap": null,
            "grid_row": null,
            "grid_template_areas": null,
            "grid_template_columns": null,
            "grid_template_rows": null,
            "height": null,
            "justify_content": null,
            "justify_items": null,
            "left": null,
            "margin": null,
            "max_height": null,
            "max_width": null,
            "min_height": null,
            "min_width": null,
            "object_fit": null,
            "object_position": null,
            "order": null,
            "overflow": null,
            "overflow_x": null,
            "overflow_y": null,
            "padding": null,
            "right": null,
            "top": null,
            "visibility": null,
            "width": null
          }
        },
        "9030c8d9f9df477485087c7f303d3440": {
          "model_module": "@jupyter-widgets/controls",
          "model_module_version": "1.5.0",
          "model_name": "HTMLModel",
          "state": {
            "_dom_classes": [],
            "_model_module": "@jupyter-widgets/controls",
            "_model_module_version": "1.5.0",
            "_model_name": "HTMLModel",
            "_view_count": null,
            "_view_module": "@jupyter-widgets/controls",
            "_view_module_version": "1.5.0",
            "_view_name": "HTMLView",
            "description": "",
            "description_tooltip": null,
            "layout": "IPY_MODEL_2894def650754b60888bbc7f0310caa9",
            "placeholder": "​",
            "style": "IPY_MODEL_0b4f52d882c547c2b0e03d9b270fd923",
            "value": "  2%"
          }
        },
        "9fcb48f58ef84beaa5986254a5382e60": {
          "model_module": "@jupyter-widgets/controls",
          "model_module_version": "1.5.0",
          "model_name": "HBoxModel",
          "state": {
            "_dom_classes": [],
            "_model_module": "@jupyter-widgets/controls",
            "_model_module_version": "1.5.0",
            "_model_name": "HBoxModel",
            "_view_count": null,
            "_view_module": "@jupyter-widgets/controls",
            "_view_module_version": "1.5.0",
            "_view_name": "HBoxView",
            "box_style": "",
            "children": [
              "IPY_MODEL_9030c8d9f9df477485087c7f303d3440",
              "IPY_MODEL_680922e095054ba0955df5843d60ea5e",
              "IPY_MODEL_a0d63cde0dd34868878d611d5e43691a"
            ],
            "layout": "IPY_MODEL_8ea3328b099e40b495a2eabbaf0fcb63"
          }
        },
        "a0d63cde0dd34868878d611d5e43691a": {
          "model_module": "@jupyter-widgets/controls",
          "model_module_version": "1.5.0",
          "model_name": "HTMLModel",
          "state": {
            "_dom_classes": [],
            "_model_module": "@jupyter-widgets/controls",
            "_model_module_version": "1.5.0",
            "_model_name": "HTMLModel",
            "_view_count": null,
            "_view_module": "@jupyter-widgets/controls",
            "_view_module_version": "1.5.0",
            "_view_name": "HTMLView",
            "description": "",
            "description_tooltip": null,
            "layout": "IPY_MODEL_274317b98ba64230a96eb86a8537079f",
            "placeholder": "​",
            "style": "IPY_MODEL_c8b1d9f726954c45a79ad54bf9be3637",
            "value": " 1869/82011 [14:58&lt;16:44:23,  1.33it/s]"
          }
        },
        "b62bac09b23245a5b00a180a2d1e026f": {
          "model_module": "@jupyter-widgets/controls",
          "model_module_version": "1.5.0",
          "model_name": "ProgressStyleModel",
          "state": {
            "_model_module": "@jupyter-widgets/controls",
            "_model_module_version": "1.5.0",
            "_model_name": "ProgressStyleModel",
            "_view_count": null,
            "_view_module": "@jupyter-widgets/base",
            "_view_module_version": "1.2.0",
            "_view_name": "StyleView",
            "bar_color": null,
            "description_width": ""
          }
        },
        "c8b1d9f726954c45a79ad54bf9be3637": {
          "model_module": "@jupyter-widgets/controls",
          "model_module_version": "1.5.0",
          "model_name": "DescriptionStyleModel",
          "state": {
            "_model_module": "@jupyter-widgets/controls",
            "_model_module_version": "1.5.0",
            "_model_name": "DescriptionStyleModel",
            "_view_count": null,
            "_view_module": "@jupyter-widgets/base",
            "_view_module_version": "1.2.0",
            "_view_name": "StyleView",
            "description_width": ""
          }
        },
        "eb3ec11282b04f70b9cc33aa191fb9b1": {
          "model_module": "@jupyter-widgets/base",
          "model_module_version": "1.2.0",
          "model_name": "LayoutModel",
          "state": {
            "_model_module": "@jupyter-widgets/base",
            "_model_module_version": "1.2.0",
            "_model_name": "LayoutModel",
            "_view_count": null,
            "_view_module": "@jupyter-widgets/base",
            "_view_module_version": "1.2.0",
            "_view_name": "LayoutView",
            "align_content": null,
            "align_items": null,
            "align_self": null,
            "border": null,
            "bottom": null,
            "display": null,
            "flex": null,
            "flex_flow": null,
            "grid_area": null,
            "grid_auto_columns": null,
            "grid_auto_flow": null,
            "grid_auto_rows": null,
            "grid_column": null,
            "grid_gap": null,
            "grid_row": null,
            "grid_template_areas": null,
            "grid_template_columns": null,
            "grid_template_rows": null,
            "height": null,
            "justify_content": null,
            "justify_items": null,
            "left": null,
            "margin": null,
            "max_height": null,
            "max_width": null,
            "min_height": null,
            "min_width": null,
            "object_fit": null,
            "object_position": null,
            "order": null,
            "overflow": null,
            "overflow_x": null,
            "overflow_y": null,
            "padding": null,
            "right": null,
            "top": null,
            "visibility": null,
            "width": null
          }
        }
      }
    }
  },
  "nbformat": 4,
  "nbformat_minor": 0
}
