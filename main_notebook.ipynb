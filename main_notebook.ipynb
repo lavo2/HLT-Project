{
  "cells": [
    {
      "cell_type": "markdown",
      "metadata": {
        "id": "CwBuO_OXXuD7"
      },
      "source": [
        "# Exploring Natural Language Processing using Cooking Recipes"
      ]
    },
    {
      "cell_type": "markdown",
      "metadata": {
        "id": "I6vTjchZX7ml"
      },
      "source": [
        "## Imports and Dataset Load"
      ]
    },
    {
      "cell_type": "code",
      "execution_count": 1,
      "metadata": {
        "id": "9E5EggSQXnjf"
      },
      "outputs": [],
      "source": [
        "import numpy as np\n",
        "import pandas as pd\n",
        "import matplotlib.pyplot as plt\n",
        "import re\n",
        "import torch\n",
        "\n",
        "from transformers import AutoTokenizer, AutoModelForTokenClassification\n",
        "from transformers import pipeline\n",
        "from tqdm.auto import tqdm\n",
        "\n",
        "from utils import *"
      ]
    },
    {
      "cell_type": "markdown",
      "metadata": {},
      "source": [
        "# per colab runna questa cella"
      ]
    },
    {
      "cell_type": "code",
      "execution_count": 3,
      "metadata": {
        "colab": {
          "base_uri": "https://localhost:8080/"
        },
        "id": "kQe0RfKYX_SI",
        "outputId": "d0abb3d6-0bb9-48df-a5d4-06a6d2b149d6"
      },
      "outputs": [
        {
          "name": "stdout",
          "output_type": "stream",
          "text": [
            "Mounted at /content/drive\n"
          ]
        }
      ],
      "source": [
        "from google.colab import drive\n",
        "drive.mount('/content/drive')"
      ]
    },
    {
      "cell_type": "markdown",
      "metadata": {
        "id": "5WEuMjrYxnTd"
      },
      "source": [
        "## Load cleaned dataset"
      ]
    },
    {
      "cell_type": "code",
      "execution_count": 2,
      "metadata": {
        "id": "MdT4MybNXnjh"
      },
      "outputs": [],
      "source": [
        "# Load the data locally\n",
        "df = pd.read_csv('dataset/dataset.csv')\n",
        "\n",
        "# Load the data from GDrive\n",
        "# df = pd.read_csv('/content/drive/MyDrive/datasets/dataset.csv')"
      ]
    },
    {
      "cell_type": "markdown",
      "metadata": {
        "id": "tGSgkoNIamwS"
      },
      "source": [
        "## Named Entity Recognition to Extract the Ingredients\n",
        "\n",
        "In the following we'll use some NER models to extract all the ingredients from the recipes in order to train a network with them afterwards."
      ]
    },
    {
      "cell_type": "code",
      "execution_count": 18,
      "metadata": {
        "id": "rlWpsamvhuFX"
      },
      "outputs": [],
      "source": [
        "def get_ingredients(recipe: str, ner_result: list):\n",
        "    ingredients = []\n",
        "    last_added = 0\n",
        "    b_word = 'B-FOOD'\n",
        "    i_word = 'I-FOOD'\n",
        "\n",
        "    for i in range(len(ner_result)):\n",
        "\n",
        "        if ner_result[i]['entity'] == b_word:\n",
        "            # check if previous word was a segmentation of the same one\n",
        "            if ner_result[i]['word'].startswith('#') and ner_result[i-1]['entity'] == b_word:\n",
        "                # if (for any reason (it happens)) the first word is a segment, we ignore it\n",
        "                if last_added == 0:\n",
        "                    continue\n",
        "                ingredients[last_added-1] += recipe[ner_result[i]['start'] : ner_result[i]['end']]\n",
        "            else:\n",
        "                # get the ingredient from the recipe given its position\n",
        "                ingredients.append(recipe[ner_result[i]['start'] : ner_result[i]['end']])\n",
        "                last_added += 1\n",
        "\n",
        "        elif ner_result[i]['entity'] == i_word:\n",
        "            # check if segmentation is occurring\n",
        "            if ner_result[i]['word'].startswith('#'):\n",
        "                # if (for any reason (it happens)) the first word is a segment, we ignore it\n",
        "                if last_added == 0:\n",
        "                    continue\n",
        "                ingredients[last_added-1] += recipe[ner_result[i]['start'] : ner_result[i]['end']]\n",
        "            elif last_added == 0:\n",
        "                ingredients.append(recipe[ner_result[i]['start'] : ner_result[i]['end']])\n",
        "                last_added += 1\n",
        "            else:\n",
        "                ingredients[last_added-1] = ingredients[last_added-1] + ' ' + recipe[ner_result[i]['start'] : ner_result[i]['end']]\n",
        "\n",
        "    return ingredients"
      ]
    },
    {
      "cell_type": "code",
      "execution_count": 4,
      "metadata": {
        "colab": {
          "base_uri": "https://localhost:8080/",
          "height": 66,
          "referenced_widgets": [
            "9fcb48f58ef84beaa5986254a5382e60",
            "9030c8d9f9df477485087c7f303d3440",
            "680922e095054ba0955df5843d60ea5e",
            "a0d63cde0dd34868878d611d5e43691a",
            "8ea3328b099e40b495a2eabbaf0fcb63",
            "2894def650754b60888bbc7f0310caa9",
            "0b4f52d882c547c2b0e03d9b270fd923",
            "eb3ec11282b04f70b9cc33aa191fb9b1",
            "b62bac09b23245a5b00a180a2d1e026f",
            "274317b98ba64230a96eb86a8537079f",
            "c8b1d9f726954c45a79ad54bf9be3637"
          ]
        },
        "id": "oluqXpw0qerQ",
        "outputId": "718f3038-b049-412b-9532-37d3ff3a8636"
      },
      "outputs": [
        {
          "name": "stdout",
          "output_type": "stream",
          "text": [
            "CUDA is not available. Model will run on CPU.\n"
          ]
        },
        {
          "data": {
            "application/vnd.jupyter.widget-view+json": {
              "model_id": "d6ce36ea2db7428587796e4ccbcb536f",
              "version_major": 2,
              "version_minor": 0
            },
            "text/plain": [
              "  0%|          | 0/81957 [00:00<?, ?it/s]"
            ]
          },
          "metadata": {},
          "output_type": "display_data"
        },
        {
          "ename": "NameError",
          "evalue": "name 'get_ingredients' is not defined",
          "output_type": "error",
          "traceback": [
            "\u001b[0;31m---------------------------------------------------------------------------\u001b[0m",
            "\u001b[0;31mNameError\u001b[0m                                 Traceback (most recent call last)",
            "Cell \u001b[0;32mIn[4], line 16\u001b[0m\n\u001b[1;32m     14\u001b[0m \u001b[38;5;28;01mfor\u001b[39;00m i, recipe \u001b[38;5;129;01min\u001b[39;00m tqdm(\u001b[38;5;28menumerate\u001b[39m(df\u001b[38;5;241m.\u001b[39mingredients), total\u001b[38;5;241m=\u001b[39m\u001b[38;5;28mlen\u001b[39m(df\u001b[38;5;241m.\u001b[39mingredients)):\n\u001b[1;32m     15\u001b[0m     ner_result \u001b[38;5;241m=\u001b[39m pipe(recipe)\n\u001b[0;32m---> 16\u001b[0m     ingredients \u001b[38;5;241m=\u001b[39m \u001b[43mget_ingredients\u001b[49m(recipe, ner_result)\n\u001b[1;32m     17\u001b[0m     \u001b[38;5;28;01mfor\u001b[39;00m ingredient \u001b[38;5;129;01min\u001b[39;00m ingredients:\n\u001b[1;32m     18\u001b[0m         ingredients_v\u001b[38;5;241m.\u001b[39madd(ingredient)\n",
            "\u001b[0;31mNameError\u001b[0m: name 'get_ingredients' is not defined"
          ]
        }
      ],
      "source": [
        "ingredients_v = set()\n",
        "\n",
        "tokenizer = AutoTokenizer.from_pretrained(\"Dizex/FoodBaseBERT\")\n",
        "model = AutoModelForTokenClassification.from_pretrained(\"Dizex/FoodBaseBERT\")\n",
        "\n",
        "if torch.cuda.is_available():\n",
        "    model = model.to('cuda')\n",
        "    print(\"Model moved to GPU.\")\n",
        "else:\n",
        "    print(\"CUDA is not available. Model will run on CPU.\")\n",
        "\n",
        "pipe = pipeline(\"ner\", model=model, tokenizer=tokenizer)\n",
        "\n",
        "for i, recipe in tqdm(enumerate(df.ingredients), total=len(df.ingredients)):\n",
        "    ner_result = pipe(recipe)\n",
        "    ingredients = get_ingredients(recipe, ner_result)\n",
        "    for ingredient in ingredients:\n",
        "        ingredients_v.add(ingredient)"
      ]
    },
    {
      "cell_type": "code",
      "execution_count": 5,
      "metadata": {},
      "outputs": [
        {
          "data": {
            "text/plain": [
              "True"
            ]
          },
          "execution_count": 5,
          "metadata": {},
          "output_type": "execute_result"
        }
      ],
      "source": [
        "tokenizer.is_fast"
      ]
    },
    {
      "cell_type": "code",
      "execution_count": null,
      "metadata": {
        "id": "ixaVKDGy0qwN"
      },
      "outputs": [],
      "source": [
        "import csv\n",
        "\n",
        "PATH = '/content/drive/MyDrive/datasets/ingredients_v.csv'\n",
        "\n",
        "with open(PATH, mode='w', newline='', encoding='utf-8') as file:\n",
        "    writer = csv.writer(file)\n",
        "\n",
        "    for ingredient in ingredients_v:\n",
        "        writer.writerow([ingredient])\n",
        "\n",
        "print(f\"Set saved to '{PATH}'.\")"
      ]
    },
    {
      "cell_type": "markdown",
      "metadata": {},
      "source": [
        "-----------\n",
        "## This takes too much time so we want to work on a smaller, balanced dataset"
      ]
    },
    {
      "cell_type": "code",
      "execution_count": 4,
      "metadata": {},
      "outputs": [],
      "source": [
        "df_main=pd.read_csv(\"dataset/recipes_df.csv\")\n",
        "df_veg=df[df_main.Vegetarian==True]\n",
        "df_notveg=df[df_main.Vegetarian==False]\n",
        "\n",
        "df_veg=df_veg.sample(n=2500)\n",
        "df_notveg=df_notveg.sample(n=2500)\n",
        "df=pd.concat([df_veg,df_notveg])\n",
        "# shuffle the dataframe\n",
        "df = df.sample(frac=1).reset_index(drop=True)\n",
        "\n",
        "# save the new dataframe\n",
        "df.to_csv('dataset/recipes_df_r.csv', index=False)\n"
      ]
    },
    {
      "cell_type": "markdown",
      "metadata": {},
      "source": [
        "----\n",
        "# once we have the balanced dataset we can start from here"
      ]
    },
    {
      "cell_type": "markdown",
      "metadata": {},
      "source": [
        "## we want to preprocess a bit the dataset, first of all we process the ingridient with a regex"
      ]
    },
    {
      "cell_type": "code",
      "execution_count": 2,
      "metadata": {},
      "outputs": [],
      "source": [
        "PATH = './dataset/recipes_df_r.csv'\n",
        "\n",
        "\n",
        "df = pd.read_csv(PATH)"
      ]
    },
    {
      "cell_type": "code",
      "execution_count": 27,
      "metadata": {},
      "outputs": [
        {
          "data": {
            "text/plain": [
              "'cup of flour'"
            ]
          },
          "execution_count": 27,
          "metadata": {},
          "output_type": "execute_result"
        }
      ],
      "source": [
        "# create a regex function that given a string removes all except letters and spaces\n",
        "def get_nouns_verbs(ingredient):\n",
        "    tagged = pos_tagging(ingredient)\n",
        "    return ' '.join([word for word, pos in tagged if pos in ['NOUN', 'VERB']])\n",
        "\n",
        "def clean_text(s):\n",
        "    s = s.lower()\n",
        "    s1 = re.sub(r'[^a-z\\s]', '', s)\n",
        "    # remove multiple spaces and starting and ending spaces\n",
        "    s2 = re.sub(r'\\s+', ' ', s1).strip()\n",
        "    return s2\n",
        "\n",
        "\n",
        "clean_text('1 cup of flour')\n",
        "\n",
        "\n",
        "def get_nouns_verbs(ingredient):\n",
        "    tagged = pos_tagging(ingredient)\n",
        "    return ' '.join([word for word, pos in tagged if pos in ['NOUN', 'VERB']])\n",
        "\n",
        "\n"
      ]
    },
    {
      "cell_type": "code",
      "execution_count": 38,
      "metadata": {},
      "outputs": [
        {
          "name": "stdout",
          "output_type": "stream",
          "text": [
            "[('italian', 'ADJ'), ('pinot', 'PROPN'), ('grigio', 'NOUN')]\n"
          ]
        },
        {
          "data": {
            "text/plain": [
              "'grigio'"
            ]
          },
          "execution_count": 38,
          "metadata": {},
          "output_type": "execute_result"
        }
      ],
      "source": [
        "# use spacy to apply pos tagging to the ingredients\n",
        "import spacy\n",
        "\n",
        "nlp = spacy.load('en_core_web_sm')\n",
        "\n",
        "def pos_tagging(ingredient):\n",
        "    doc = nlp(ingredient)\n",
        "    return [(token.text, token.pos_) for token in doc]\n",
        "\n",
        "# use specy finetuned to ingredients\n",
        "\"\"\"nlp = spacy.load('en_core_web_sm')\n",
        "nlp.add_pipe('ner', source=tokenizer)\n",
        "\n",
        "def pos_tagging(ingredient):\n",
        "    doc = nlp(ingredient)\n",
        "    return [(token.text, token.pos_) for token in doc]\n",
        "\n",
        "\"\"\"\n",
        "\n",
        "pos_tagging('gour blend mushrooms sliced')\n",
        "\n",
        "# return the string with only the nouns and verbs\n",
        "def get_nouns_verbs(ingredient):\n",
        "    tagged = pos_tagging(ingredient)\n",
        "    return ' '.join([word for word, pos in tagged if pos in ['NOUN', 'VERB', 'PROPN']])\n",
        "print(pos_tagging('italian pinot grigio'))\n",
        "get_nouns_verbs('italian pinot grigio')\n",
        "\n",
        "\n"
      ]
    },
    {
      "cell_type": "code",
      "execution_count": null,
      "metadata": {},
      "outputs": [],
      "source": [
        "\n",
        "ingredients_list = []\n",
        "\n",
        "print(\"Loading model and tokenizer...\")\n",
        "\n",
        "tokenizer = AutoTokenizer.from_pretrained(\"Dizex/FoodBaseBERT\")\n",
        "model = AutoModelForTokenClassification.from_pretrained(\"Dizex/FoodBaseBERT\")\n",
        "\n",
        "print(\"Model and tokenizer loaded.\")\n",
        "\n",
        "if torch.cuda.is_available():\n",
        "    model = model.to('cuda')\n",
        "    print(\"Model moved to GPU.\")\n",
        "else:\n",
        "    print(\"CUDA is not available. Model will run on CPU.\")\n",
        "\n",
        "pipe = pipeline(\"ner\", model=model, tokenizer=tokenizer)\n",
        "\n",
        "\n",
        "#return re.sub(r'[^\\w\\s]', '', text)\n",
        "\n",
        "print(\"Pipeline created.\")\n",
        "\n",
        "\n",
        "\n",
        "\n",
        "for i, recipe in tqdm(enumerate(df.ingredients), total=len(df.ingredients)):\n",
        "    print(recipe)\n",
        "    recipe_p = re.sub(r'[^\\w\\s]', '', recipe)\n",
        "\n",
        "    ingredients_list.append([])\n",
        "    ner_result = pipe(recipe_p)\n",
        "    ingredients = get_ingredients(recipe_p, ner_result)\n",
        "    for ingredient in ingredients:\n",
        "        ingredients_list[i].append(ingredient)\n",
        "\n"
      ]
    },
    {
      "cell_type": "code",
      "execution_count": 29,
      "metadata": {},
      "outputs": [
        {
          "name": "stdout",
          "output_type": "stream",
          "text": [
            "Loading model and tokenizer...\n",
            "Model and tokenizer loaded.\n",
            "CUDA is not available. Model will run on CPU.\n",
            "Pipeline created.\n"
          ]
        }
      ],
      "source": [
        "\n",
        "print(\"Loading model and tokenizer...\")\n",
        "\n",
        "tokenizer = AutoTokenizer.from_pretrained(\"Dizex/FoodBaseBERT\")\n",
        "model = AutoModelForTokenClassification.from_pretrained(\"Dizex/FoodBaseBERT\")\n",
        "\n",
        "print(\"Model and tokenizer loaded.\")\n",
        "\n",
        "if torch.cuda.is_available():\n",
        "    model = model.to('cuda')\n",
        "    print(\"Model moved to GPU.\")\n",
        "else:\n",
        "    print(\"CUDA is not available. Model will run on CPU.\")\n",
        "\n",
        "pipe = pipeline(\"ner\", model=model, tokenizer=tokenizer)\n",
        "\n",
        "\n",
        "#return re.sub(r'[^\\w\\s]', '', text)\n",
        "\n",
        "print(\"Pipeline created.\")"
      ]
    }
  ],
  "metadata": {
    "accelerator": "GPU",
    "colab": {
      "gpuType": "T4",
      "provenance": []
    },
    "kernelspec": {
      "display_name": "Python 3",
      "name": "python3"
    },
    "language_info": {
      "codemirror_mode": {
        "name": "ipython",
        "version": 3
      },
      "file_extension": ".py",
      "mimetype": "text/x-python",
      "name": "python",
      "nbconvert_exporter": "python",
      "pygments_lexer": "ipython3",
      "version": "3.11.7"
    },
    "widgets": {
      "application/vnd.jupyter.widget-state+json": {
        "0b4f52d882c547c2b0e03d9b270fd923": {
          "model_module": "@jupyter-widgets/controls",
          "model_module_version": "1.5.0",
          "model_name": "DescriptionStyleModel",
          "state": {
            "_model_module": "@jupyter-widgets/controls",
            "_model_module_version": "1.5.0",
            "_model_name": "DescriptionStyleModel",
            "_view_count": null,
            "_view_module": "@jupyter-widgets/base",
            "_view_module_version": "1.2.0",
            "_view_name": "StyleView",
            "description_width": ""
          }
        },
        "274317b98ba64230a96eb86a8537079f": {
          "model_module": "@jupyter-widgets/base",
          "model_module_version": "1.2.0",
          "model_name": "LayoutModel",
          "state": {
            "_model_module": "@jupyter-widgets/base",
            "_model_module_version": "1.2.0",
            "_model_name": "LayoutModel",
            "_view_count": null,
            "_view_module": "@jupyter-widgets/base",
            "_view_module_version": "1.2.0",
            "_view_name": "LayoutView",
            "align_content": null,
            "align_items": null,
            "align_self": null,
            "border": null,
            "bottom": null,
            "display": null,
            "flex": null,
            "flex_flow": null,
            "grid_area": null,
            "grid_auto_columns": null,
            "grid_auto_flow": null,
            "grid_auto_rows": null,
            "grid_column": null,
            "grid_gap": null,
            "grid_row": null,
            "grid_template_areas": null,
            "grid_template_columns": null,
            "grid_template_rows": null,
            "height": null,
            "justify_content": null,
            "justify_items": null,
            "left": null,
            "margin": null,
            "max_height": null,
            "max_width": null,
            "min_height": null,
            "min_width": null,
            "object_fit": null,
            "object_position": null,
            "order": null,
            "overflow": null,
            "overflow_x": null,
            "overflow_y": null,
            "padding": null,
            "right": null,
            "top": null,
            "visibility": null,
            "width": null
          }
        },
        "2894def650754b60888bbc7f0310caa9": {
          "model_module": "@jupyter-widgets/base",
          "model_module_version": "1.2.0",
          "model_name": "LayoutModel",
          "state": {
            "_model_module": "@jupyter-widgets/base",
            "_model_module_version": "1.2.0",
            "_model_name": "LayoutModel",
            "_view_count": null,
            "_view_module": "@jupyter-widgets/base",
            "_view_module_version": "1.2.0",
            "_view_name": "LayoutView",
            "align_content": null,
            "align_items": null,
            "align_self": null,
            "border": null,
            "bottom": null,
            "display": null,
            "flex": null,
            "flex_flow": null,
            "grid_area": null,
            "grid_auto_columns": null,
            "grid_auto_flow": null,
            "grid_auto_rows": null,
            "grid_column": null,
            "grid_gap": null,
            "grid_row": null,
            "grid_template_areas": null,
            "grid_template_columns": null,
            "grid_template_rows": null,
            "height": null,
            "justify_content": null,
            "justify_items": null,
            "left": null,
            "margin": null,
            "max_height": null,
            "max_width": null,
            "min_height": null,
            "min_width": null,
            "object_fit": null,
            "object_position": null,
            "order": null,
            "overflow": null,
            "overflow_x": null,
            "overflow_y": null,
            "padding": null,
            "right": null,
            "top": null,
            "visibility": null,
            "width": null
          }
        },
        "680922e095054ba0955df5843d60ea5e": {
          "model_module": "@jupyter-widgets/controls",
          "model_module_version": "1.5.0",
          "model_name": "FloatProgressModel",
          "state": {
            "_dom_classes": [],
            "_model_module": "@jupyter-widgets/controls",
            "_model_module_version": "1.5.0",
            "_model_name": "FloatProgressModel",
            "_view_count": null,
            "_view_module": "@jupyter-widgets/controls",
            "_view_module_version": "1.5.0",
            "_view_name": "ProgressView",
            "bar_style": "",
            "description": "",
            "description_tooltip": null,
            "layout": "IPY_MODEL_eb3ec11282b04f70b9cc33aa191fb9b1",
            "max": 82011,
            "min": 0,
            "orientation": "horizontal",
            "style": "IPY_MODEL_b62bac09b23245a5b00a180a2d1e026f",
            "value": 1870
          }
        },
        "8ea3328b099e40b495a2eabbaf0fcb63": {
          "model_module": "@jupyter-widgets/base",
          "model_module_version": "1.2.0",
          "model_name": "LayoutModel",
          "state": {
            "_model_module": "@jupyter-widgets/base",
            "_model_module_version": "1.2.0",
            "_model_name": "LayoutModel",
            "_view_count": null,
            "_view_module": "@jupyter-widgets/base",
            "_view_module_version": "1.2.0",
            "_view_name": "LayoutView",
            "align_content": null,
            "align_items": null,
            "align_self": null,
            "border": null,
            "bottom": null,
            "display": null,
            "flex": null,
            "flex_flow": null,
            "grid_area": null,
            "grid_auto_columns": null,
            "grid_auto_flow": null,
            "grid_auto_rows": null,
            "grid_column": null,
            "grid_gap": null,
            "grid_row": null,
            "grid_template_areas": null,
            "grid_template_columns": null,
            "grid_template_rows": null,
            "height": null,
            "justify_content": null,
            "justify_items": null,
            "left": null,
            "margin": null,
            "max_height": null,
            "max_width": null,
            "min_height": null,
            "min_width": null,
            "object_fit": null,
            "object_position": null,
            "order": null,
            "overflow": null,
            "overflow_x": null,
            "overflow_y": null,
            "padding": null,
            "right": null,
            "top": null,
            "visibility": null,
            "width": null
          }
        },
        "9030c8d9f9df477485087c7f303d3440": {
          "model_module": "@jupyter-widgets/controls",
          "model_module_version": "1.5.0",
          "model_name": "HTMLModel",
          "state": {
            "_dom_classes": [],
            "_model_module": "@jupyter-widgets/controls",
            "_model_module_version": "1.5.0",
            "_model_name": "HTMLModel",
            "_view_count": null,
            "_view_module": "@jupyter-widgets/controls",
            "_view_module_version": "1.5.0",
            "_view_name": "HTMLView",
            "description": "",
            "description_tooltip": null,
            "layout": "IPY_MODEL_2894def650754b60888bbc7f0310caa9",
            "placeholder": "​",
            "style": "IPY_MODEL_0b4f52d882c547c2b0e03d9b270fd923",
            "value": "  2%"
          }
        },
        "9fcb48f58ef84beaa5986254a5382e60": {
          "model_module": "@jupyter-widgets/controls",
          "model_module_version": "1.5.0",
          "model_name": "HBoxModel",
          "state": {
            "_dom_classes": [],
            "_model_module": "@jupyter-widgets/controls",
            "_model_module_version": "1.5.0",
            "_model_name": "HBoxModel",
            "_view_count": null,
            "_view_module": "@jupyter-widgets/controls",
            "_view_module_version": "1.5.0",
            "_view_name": "HBoxView",
            "box_style": "",
            "children": [
              "IPY_MODEL_9030c8d9f9df477485087c7f303d3440",
              "IPY_MODEL_680922e095054ba0955df5843d60ea5e",
              "IPY_MODEL_a0d63cde0dd34868878d611d5e43691a"
            ],
            "layout": "IPY_MODEL_8ea3328b099e40b495a2eabbaf0fcb63"
          }
        },
        "a0d63cde0dd34868878d611d5e43691a": {
          "model_module": "@jupyter-widgets/controls",
          "model_module_version": "1.5.0",
          "model_name": "HTMLModel",
          "state": {
            "_dom_classes": [],
            "_model_module": "@jupyter-widgets/controls",
            "_model_module_version": "1.5.0",
            "_model_name": "HTMLModel",
            "_view_count": null,
            "_view_module": "@jupyter-widgets/controls",
            "_view_module_version": "1.5.0",
            "_view_name": "HTMLView",
            "description": "",
            "description_tooltip": null,
            "layout": "IPY_MODEL_274317b98ba64230a96eb86a8537079f",
            "placeholder": "​",
            "style": "IPY_MODEL_c8b1d9f726954c45a79ad54bf9be3637",
            "value": " 1869/82011 [14:58&lt;16:44:23,  1.33it/s]"
          }
        },
        "b62bac09b23245a5b00a180a2d1e026f": {
          "model_module": "@jupyter-widgets/controls",
          "model_module_version": "1.5.0",
          "model_name": "ProgressStyleModel",
          "state": {
            "_model_module": "@jupyter-widgets/controls",
            "_model_module_version": "1.5.0",
            "_model_name": "ProgressStyleModel",
            "_view_count": null,
            "_view_module": "@jupyter-widgets/base",
            "_view_module_version": "1.2.0",
            "_view_name": "StyleView",
            "bar_color": null,
            "description_width": ""
          }
        },
        "c8b1d9f726954c45a79ad54bf9be3637": {
          "model_module": "@jupyter-widgets/controls",
          "model_module_version": "1.5.0",
          "model_name": "DescriptionStyleModel",
          "state": {
            "_model_module": "@jupyter-widgets/controls",
            "_model_module_version": "1.5.0",
            "_model_name": "DescriptionStyleModel",
            "_view_count": null,
            "_view_module": "@jupyter-widgets/base",
            "_view_module_version": "1.2.0",
            "_view_name": "StyleView",
            "description_width": ""
          }
        },
        "eb3ec11282b04f70b9cc33aa191fb9b1": {
          "model_module": "@jupyter-widgets/base",
          "model_module_version": "1.2.0",
          "model_name": "LayoutModel",
          "state": {
            "_model_module": "@jupyter-widgets/base",
            "_model_module_version": "1.2.0",
            "_model_name": "LayoutModel",
            "_view_count": null,
            "_view_module": "@jupyter-widgets/base",
            "_view_module_version": "1.2.0",
            "_view_name": "LayoutView",
            "align_content": null,
            "align_items": null,
            "align_self": null,
            "border": null,
            "bottom": null,
            "display": null,
            "flex": null,
            "flex_flow": null,
            "grid_area": null,
            "grid_auto_columns": null,
            "grid_auto_flow": null,
            "grid_auto_rows": null,
            "grid_column": null,
            "grid_gap": null,
            "grid_row": null,
            "grid_template_areas": null,
            "grid_template_columns": null,
            "grid_template_rows": null,
            "height": null,
            "justify_content": null,
            "justify_items": null,
            "left": null,
            "margin": null,
            "max_height": null,
            "max_width": null,
            "min_height": null,
            "min_width": null,
            "object_fit": null,
            "object_position": null,
            "order": null,
            "overflow": null,
            "overflow_x": null,
            "overflow_y": null,
            "padding": null,
            "right": null,
            "top": null,
            "visibility": null,
            "width": null
          }
        }
      }
    }
  },
  "nbformat": 4,
  "nbformat_minor": 0
}
