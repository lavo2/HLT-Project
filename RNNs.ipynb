{
  "cells": [
    {
      "cell_type": "markdown",
      "metadata": {
        "id": "FCPfiLyUo0VT"
      },
      "source": [
        "# RNN implementation for dietary classification\n",
        "In the following we'll try some RNN's implementations, starting from the BiLSTM architecture and following using Attention-based BiLSTM."
      ]
    },
    {
      "cell_type": "markdown",
      "metadata": {
        "id": "mb0ZCPZvo0VX"
      },
      "source": [
        "## Colab setup"
      ]
    },
    {
      "cell_type": "code",
      "execution_count": 8,
      "metadata": {
        "colab": {
          "base_uri": "https://localhost:8080/"
        },
        "id": "pEgrWRg_gmDA",
        "outputId": "3bddb248-efaa-4115-9733-65feac4f2bfc",
        "trusted": true
      },
      "outputs": [
        {
          "name": "stdout",
          "output_type": "stream",
          "text": [
            "Mounted at /content/drive\n"
          ]
        }
      ],
      "source": [
        "from google.colab import drive\n",
        "drive.mount('/content/drive')"
      ]
    },
    {
      "cell_type": "code",
      "execution_count": 9,
      "metadata": {
        "colab": {
          "base_uri": "https://localhost:8080/"
        },
        "id": "k42K6731hJVi",
        "outputId": "d11d18c8-d167-41a5-d95e-0e6a7ee85981"
      },
      "outputs": [
        {
          "name": "stdout",
          "output_type": "stream",
          "text": [
            "/content/drive/MyDrive/datasets/distilbert_results\n"
          ]
        }
      ],
      "source": [
        "%cd /content/drive/MyDrive/datasets/distilbert_results"
      ]
    },
    {
      "cell_type": "code",
      "execution_count": 2,
      "metadata": {
        "colab": {
          "base_uri": "https://localhost:8080/"
        },
        "execution": {
          "iopub.execute_input": "2024-05-27T10:05:16.391955Z",
          "iopub.status.busy": "2024-05-27T10:05:16.391570Z",
          "iopub.status.idle": "2024-05-27T10:05:30.083113Z",
          "shell.execute_reply": "2024-05-27T10:05:30.082214Z",
          "shell.execute_reply.started": "2024-05-27T10:05:16.391924Z"
        },
        "id": "hTxFwibUzW9N",
        "outputId": "10ca742f-8d84-43b2-ae0a-3c52795ce941",
        "trusted": true
      },
      "outputs": [
        {
          "name": "stdout",
          "output_type": "stream",
          "text": [
            "Collecting keras-tuner\n",
            "  Downloading keras_tuner-1.4.7-py3-none-any.whl (129 kB)\n",
            "\u001b[2K     \u001b[90m━━━━━━━━━━━━━━━━━━━━━━━━━━━━━━━━━━━━━━━━\u001b[0m \u001b[32m129.1/129.1 kB\u001b[0m \u001b[31m2.1 MB/s\u001b[0m eta \u001b[36m0:00:00\u001b[0m\n",
            "\u001b[?25hRequirement already satisfied: keras in /usr/local/lib/python3.10/dist-packages (from keras-tuner) (2.15.0)\n",
            "Requirement already satisfied: packaging in /usr/local/lib/python3.10/dist-packages (from keras-tuner) (24.0)\n",
            "Requirement already satisfied: requests in /usr/local/lib/python3.10/dist-packages (from keras-tuner) (2.31.0)\n",
            "Collecting kt-legacy (from keras-tuner)\n",
            "  Downloading kt_legacy-1.0.5-py3-none-any.whl (9.6 kB)\n",
            "Requirement already satisfied: charset-normalizer<4,>=2 in /usr/local/lib/python3.10/dist-packages (from requests->keras-tuner) (3.3.2)\n",
            "Requirement already satisfied: idna<4,>=2.5 in /usr/local/lib/python3.10/dist-packages (from requests->keras-tuner) (3.7)\n",
            "Requirement already satisfied: urllib3<3,>=1.21.1 in /usr/local/lib/python3.10/dist-packages (from requests->keras-tuner) (2.0.7)\n",
            "Requirement already satisfied: certifi>=2017.4.17 in /usr/local/lib/python3.10/dist-packages (from requests->keras-tuner) (2024.2.2)\n",
            "Installing collected packages: kt-legacy, keras-tuner\n",
            "Successfully installed keras-tuner-1.4.7 kt-legacy-1.0.5\n"
          ]
        }
      ],
      "source": [
        "!pip install keras-tuner --upgrade"
      ]
    },
    {
      "cell_type": "markdown",
      "metadata": {
        "id": "tofUKATBo0VZ"
      },
      "source": [
        "## Imports"
      ]
    },
    {
      "cell_type": "code",
      "execution_count": 19,
      "metadata": {
        "colab": {
          "base_uri": "https://localhost:8080/"
        },
        "execution": {
          "iopub.execute_input": "2024-05-27T10:05:59.940475Z",
          "iopub.status.busy": "2024-05-27T10:05:59.940102Z",
          "iopub.status.idle": "2024-05-27T10:06:05.458739Z",
          "shell.execute_reply": "2024-05-27T10:06:05.457727Z",
          "shell.execute_reply.started": "2024-05-27T10:05:59.940433Z"
        },
        "id": "Ta3L9TekiG2r",
        "outputId": "8abd1bde-fe90-4811-f3f2-f765c47f9595",
        "trusted": true
      },
      "outputs": [],
      "source": [
        "import pandas as pd\n",
        "import numpy as np\n",
        "import tensorflow as tf\n",
        "import keras_tuner as kt\n",
        "\n",
        "from matplotlib import pyplot as plt\n",
        "\n",
        "from sklearn.model_selection import train_test_split\n",
        "\n",
        "from tensorflow.keras.callbacks import EarlyStopping\n",
        "from tensorflow.keras.preprocessing.sequence import pad_sequences\n",
        "from tensorflow.keras.layers import Layer\n",
        "from tensorflow.keras.preprocessing.text import Tokenizer\n",
        "from tensorflow.keras.models import Sequential\n",
        "from tensorflow.keras.layers import LSTM, Dense, Embedding, Bidirectional, BatchNormalization, Dropout\n",
        "from tensorflow.keras.optimizers import Adam\n",
        "\n",
        "from sklearn.metrics import accuracy_score, precision_score, recall_score, f1_score, confusion_matrix"
      ]
    },
    {
      "cell_type": "markdown",
      "metadata": {
        "id": "OsOMdjTFnvj2"
      },
      "source": [
        "## Dataset Loading"
      ]
    },
    {
      "cell_type": "code",
      "execution_count": 5,
      "metadata": {
        "execution": {
          "iopub.execute_input": "2024-05-27T10:06:15.052397Z",
          "iopub.status.busy": "2024-05-27T10:06:15.051725Z",
          "iopub.status.idle": "2024-05-27T10:06:16.323794Z",
          "shell.execute_reply": "2024-05-27T10:06:16.322795Z",
          "shell.execute_reply.started": "2024-05-27T10:06:15.052358Z"
        },
        "id": "hZGhDAj5ZUgH",
        "trusted": true
      },
      "outputs": [],
      "source": [
        "#data = pd.read_csv('./dataset_balanced_10k.csv')\n",
        "data = pd.read_csv('./dataset/dataset_balanced.csv')"
      ]
    },
    {
      "cell_type": "code",
      "execution_count": 8,
      "metadata": {
        "colab": {
          "base_uri": "https://localhost:8080/",
          "height": 221
        },
        "execution": {
          "iopub.execute_input": "2024-05-27T10:06:17.593883Z",
          "iopub.status.busy": "2024-05-27T10:06:17.592960Z",
          "iopub.status.idle": "2024-05-27T10:06:17.616354Z",
          "shell.execute_reply": "2024-05-27T10:06:17.615525Z",
          "shell.execute_reply.started": "2024-05-27T10:06:17.593850Z"
        },
        "id": "bgBognvVZgRL",
        "outputId": "ed99f49d-dd25-427e-f674-c21336b54373",
        "trusted": true
      },
      "outputs": [
        {
          "data": {
            "text/html": [
              "<div>\n",
              "<style scoped>\n",
              "    .dataframe tbody tr th:only-of-type {\n",
              "        vertical-align: middle;\n",
              "    }\n",
              "\n",
              "    .dataframe tbody tr th {\n",
              "        vertical-align: top;\n",
              "    }\n",
              "\n",
              "    .dataframe thead th {\n",
              "        text-align: right;\n",
              "    }\n",
              "</style>\n",
              "<table border=\"1\" class=\"dataframe\">\n",
              "  <thead>\n",
              "    <tr style=\"text-align: right;\">\n",
              "      <th></th>\n",
              "      <th>cooking_method</th>\n",
              "      <th>ingredients</th>\n",
              "      <th>tags</th>\n",
              "      <th>Vegetarian</th>\n",
              "      <th>Dairy Free</th>\n",
              "      <th>Gluten Free</th>\n",
              "      <th>Low Carb</th>\n",
              "      <th>Low Fat</th>\n",
              "      <th>Low Sodium</th>\n",
              "      <th>Dessert</th>\n",
              "      <th>Meat</th>\n",
              "      <th>Fish</th>\n",
              "      <th>Dairy</th>\n",
              "      <th>Vegetarian&amp;Dessert</th>\n",
              "      <th>Meat&amp;Fish</th>\n",
              "    </tr>\n",
              "  </thead>\n",
              "  <tbody>\n",
              "    <tr>\n",
              "      <th>0</th>\n",
              "      <td>['Toast the Tuscan bread on a hot BBQ grill.',...</td>\n",
              "      <td>['4 large slices of Tuscan-style or dense coun...</td>\n",
              "      <td>Italian,Bread,Low Sodium,Vegan</td>\n",
              "      <td>1</td>\n",
              "      <td>0</td>\n",
              "      <td>0</td>\n",
              "      <td>0</td>\n",
              "      <td>0</td>\n",
              "      <td>1</td>\n",
              "      <td>0</td>\n",
              "      <td>0</td>\n",
              "      <td>0</td>\n",
              "      <td>0</td>\n",
              "      <td>1</td>\n",
              "      <td>0</td>\n",
              "    </tr>\n",
              "    <tr>\n",
              "      <th>1</th>\n",
              "      <td>['Preheat the oven to 350 degrees F. Line the ...</td>\n",
              "      <td>['1/2 cup regular olive oil, not extra-virgin,...</td>\n",
              "      <td>Easy Dessert Recipes,Dessert,Easy,Carrot Cake,...</td>\n",
              "      <td>0</td>\n",
              "      <td>0</td>\n",
              "      <td>1</td>\n",
              "      <td>0</td>\n",
              "      <td>0</td>\n",
              "      <td>1</td>\n",
              "      <td>1</td>\n",
              "      <td>0</td>\n",
              "      <td>0</td>\n",
              "      <td>0</td>\n",
              "      <td>1</td>\n",
              "      <td>0</td>\n",
              "    </tr>\n",
              "    <tr>\n",
              "      <th>2</th>\n",
              "      <td>['Simmer pear halves and brandy in a saucepan ...</td>\n",
              "      <td>['2 cans pear halves, drained', '3 tablespoons...</td>\n",
              "      <td>American,Fruit,Pear Recipes,Pureeing Recipes,G...</td>\n",
              "      <td>1</td>\n",
              "      <td>0</td>\n",
              "      <td>1</td>\n",
              "      <td>0</td>\n",
              "      <td>1</td>\n",
              "      <td>1</td>\n",
              "      <td>0</td>\n",
              "      <td>0</td>\n",
              "      <td>0</td>\n",
              "      <td>0</td>\n",
              "      <td>1</td>\n",
              "      <td>0</td>\n",
              "    </tr>\n",
              "    <tr>\n",
              "      <th>3</th>\n",
              "      <td>['In a large bowl, mix together the flour, sal...</td>\n",
              "      <td>['4 cups all purpose flour', '1 tablespoon sal...</td>\n",
              "      <td>Easy Main Dish,Easy,Main Dish,Easy Baking,Roas...</td>\n",
              "      <td>1</td>\n",
              "      <td>0</td>\n",
              "      <td>0</td>\n",
              "      <td>0</td>\n",
              "      <td>0</td>\n",
              "      <td>0</td>\n",
              "      <td>0</td>\n",
              "      <td>0</td>\n",
              "      <td>0</td>\n",
              "      <td>0</td>\n",
              "      <td>1</td>\n",
              "      <td>0</td>\n",
              "    </tr>\n",
              "    <tr>\n",
              "      <th>4</th>\n",
              "      <td>['To soak beans: In a large bowl, cover beans ...</td>\n",
              "      <td>['1 pound dried small white beans, rinsed and ...</td>\n",
              "      <td>Easy Main Dish,Easy,Main Dish,Bean Soup,Beans ...</td>\n",
              "      <td>0</td>\n",
              "      <td>0</td>\n",
              "      <td>1</td>\n",
              "      <td>0</td>\n",
              "      <td>0</td>\n",
              "      <td>0</td>\n",
              "      <td>0</td>\n",
              "      <td>1</td>\n",
              "      <td>0</td>\n",
              "      <td>0</td>\n",
              "      <td>0</td>\n",
              "      <td>1</td>\n",
              "    </tr>\n",
              "  </tbody>\n",
              "</table>\n",
              "</div>"
            ],
            "text/plain": [
              "                                      cooking_method  \\\n",
              "0  ['Toast the Tuscan bread on a hot BBQ grill.',...   \n",
              "1  ['Preheat the oven to 350 degrees F. Line the ...   \n",
              "2  ['Simmer pear halves and brandy in a saucepan ...   \n",
              "3  ['In a large bowl, mix together the flour, sal...   \n",
              "4  ['To soak beans: In a large bowl, cover beans ...   \n",
              "\n",
              "                                         ingredients  \\\n",
              "0  ['4 large slices of Tuscan-style or dense coun...   \n",
              "1  ['1/2 cup regular olive oil, not extra-virgin,...   \n",
              "2  ['2 cans pear halves, drained', '3 tablespoons...   \n",
              "3  ['4 cups all purpose flour', '1 tablespoon sal...   \n",
              "4  ['1 pound dried small white beans, rinsed and ...   \n",
              "\n",
              "                                                tags  Vegetarian  Dairy Free  \\\n",
              "0                     Italian,Bread,Low Sodium,Vegan           1           0   \n",
              "1  Easy Dessert Recipes,Dessert,Easy,Carrot Cake,...           0           0   \n",
              "2  American,Fruit,Pear Recipes,Pureeing Recipes,G...           1           0   \n",
              "3  Easy Main Dish,Easy,Main Dish,Easy Baking,Roas...           1           0   \n",
              "4  Easy Main Dish,Easy,Main Dish,Bean Soup,Beans ...           0           0   \n",
              "\n",
              "   Gluten Free  Low Carb  Low Fat  Low Sodium  Dessert  Meat  Fish  Dairy  \\\n",
              "0            0         0        0           1        0     0     0      0   \n",
              "1            1         0        0           1        1     0     0      0   \n",
              "2            1         0        1           1        0     0     0      0   \n",
              "3            0         0        0           0        0     0     0      0   \n",
              "4            1         0        0           0        0     1     0      0   \n",
              "\n",
              "   Vegetarian&Dessert  Meat&Fish  \n",
              "0                   1          0  \n",
              "1                   1          0  \n",
              "2                   1          0  \n",
              "3                   1          0  \n",
              "4                   0          1  "
            ]
          },
          "execution_count": 8,
          "metadata": {},
          "output_type": "execute_result"
        }
      ],
      "source": [
        "data.head()"
      ]
    },
    {
      "cell_type": "code",
      "execution_count": 9,
      "metadata": {
        "execution": {
          "iopub.execute_input": "2024-05-27T10:06:34.340559Z",
          "iopub.status.busy": "2024-05-27T10:06:34.339615Z",
          "iopub.status.idle": "2024-05-27T10:06:34.349436Z",
          "shell.execute_reply": "2024-05-27T10:06:34.348495Z",
          "shell.execute_reply.started": "2024-05-27T10:06:34.340522Z"
        },
        "id": "Vw_-CAGfZmDw",
        "trusted": true
      },
      "outputs": [],
      "source": [
        "recipes = data['cooking_method']\n",
        "labels_binary = data['Vegetarian&Dessert']\n",
        "labels_multi = data[['Vegetarian&Dessert', 'Low Fat', 'Low Sodium', 'Low Carb', 'Gluten Free', 'Dairy Free']]"
      ]
    },
    {
      "cell_type": "code",
      "execution_count": 10,
      "metadata": {
        "colab": {
          "base_uri": "https://localhost:8080/"
        },
        "execution": {
          "iopub.execute_input": "2024-05-27T08:03:51.208187Z",
          "iopub.status.busy": "2024-05-27T08:03:51.207820Z",
          "iopub.status.idle": "2024-05-27T08:03:51.389663Z",
          "shell.execute_reply": "2024-05-27T08:03:51.388595Z",
          "shell.execute_reply.started": "2024-05-27T08:03:51.208154Z"
        },
        "id": "HDtXzLQVyeTO",
        "outputId": "441c9cb9-dbbf-4a39-f9cf-d477017ff059",
        "trusted": true
      },
      "outputs": [
        {
          "name": "stdout",
          "output_type": "stream",
          "text": [
            "TensorFlow version: 2.16.1\n",
            "Num GPUs Available:  0\n"
          ]
        }
      ],
      "source": [
        "# Check TensorFlow version and GPU availability\n",
        "print(\"TensorFlow version:\", tf.__version__)\n",
        "print(\"Num GPUs Available: \", len(tf.config.list_physical_devices('GPU')))\n",
        "\n",
        "# Get GPU details if available\n",
        "if tf.config.list_physical_devices('GPU'):\n",
        "    gpu_info = tf.config.list_physical_devices('GPU')[0]\n",
        "    print(\"GPU Name:\", gpu_info.name)"
      ]
    },
    {
      "cell_type": "markdown",
      "metadata": {
        "id": "ts0TIN7xooKo"
      },
      "source": [
        "## Pre processing\n",
        "We first need to tokenize all the recipes in order to feed the RNNs.\n",
        "\n",
        "We'll do all of ours experiments using the entire recipe procedures, rather than just its ingredients"
      ]
    },
    {
      "cell_type": "code",
      "execution_count": 13,
      "metadata": {
        "execution": {
          "iopub.execute_input": "2024-05-27T10:06:50.547768Z",
          "iopub.status.busy": "2024-05-27T10:06:50.547389Z",
          "iopub.status.idle": "2024-05-27T10:07:02.322482Z",
          "shell.execute_reply": "2024-05-27T10:07:02.321699Z",
          "shell.execute_reply.started": "2024-05-27T10:06:50.547738Z"
        },
        "id": "y-EDn0bisJTV",
        "trusted": true
      },
      "outputs": [],
      "source": [
        "tokenizer = Tokenizer()\n",
        "tokenizer.fit_on_texts(recipes)  # Fit the tokenizer on the texts\n",
        "\n",
        "sequences = tokenizer.texts_to_sequences(recipes)"
      ]
    },
    {
      "cell_type": "code",
      "execution_count": 14,
      "metadata": {
        "execution": {
          "iopub.execute_input": "2024-05-27T10:07:02.324363Z",
          "iopub.status.busy": "2024-05-27T10:07:02.324046Z",
          "iopub.status.idle": "2024-05-27T10:07:02.328518Z",
          "shell.execute_reply": "2024-05-27T10:07:02.327575Z",
          "shell.execute_reply.started": "2024-05-27T10:07:02.324332Z"
        },
        "id": "KPvd7azQte1V",
        "trusted": true
      },
      "outputs": [],
      "source": [
        "vocab_size = len(tokenizer.word_index) + 1"
      ]
    },
    {
      "cell_type": "code",
      "execution_count": 15,
      "metadata": {
        "execution": {
          "iopub.execute_input": "2024-05-27T10:07:02.329967Z",
          "iopub.status.busy": "2024-05-27T10:07:02.329690Z",
          "iopub.status.idle": "2024-05-27T10:07:03.355506Z",
          "shell.execute_reply": "2024-05-27T10:07:03.354513Z",
          "shell.execute_reply.started": "2024-05-27T10:07:02.329946Z"
        },
        "id": "3sGtib71rMF6",
        "trusted": true
      },
      "outputs": [],
      "source": [
        "max_length = max(len(x) for x in sequences)\n",
        "recipes_sequences = pad_sequences(sequences, maxlen=max_length, padding='post', dtype='float32', value=0.0)  # Post-padding with zeros"
      ]
    },
    {
      "cell_type": "code",
      "execution_count": 16,
      "metadata": {
        "colab": {
          "base_uri": "https://localhost:8080/"
        },
        "execution": {
          "iopub.execute_input": "2024-05-27T10:07:03.357858Z",
          "iopub.status.busy": "2024-05-27T10:07:03.357536Z",
          "iopub.status.idle": "2024-05-27T10:07:03.363420Z",
          "shell.execute_reply": "2024-05-27T10:07:03.362508Z",
          "shell.execute_reply.started": "2024-05-27T10:07:03.357824Z"
        },
        "id": "BUEW73fFsjCL",
        "outputId": "b0e239fe-11dc-4e39-8862-a6c5665a2e28",
        "trusted": true
      },
      "outputs": [
        {
          "data": {
            "text/plain": [
              "(50902, 535)"
            ]
          },
          "execution_count": 16,
          "metadata": {},
          "output_type": "execute_result"
        }
      ],
      "source": [
        "recipes_sequences.shape"
      ]
    },
    {
      "cell_type": "code",
      "execution_count": 21,
      "metadata": {
        "execution": {
          "iopub.execute_input": "2024-05-27T10:07:03.364995Z",
          "iopub.status.busy": "2024-05-27T10:07:03.364701Z",
          "iopub.status.idle": "2024-05-27T10:07:03.434626Z",
          "shell.execute_reply": "2024-05-27T10:07:03.433836Z",
          "shell.execute_reply.started": "2024-05-27T10:07:03.364972Z"
        },
        "id": "M2HN9okNpy3w",
        "trusted": true
      },
      "outputs": [],
      "source": [
        "X_train, X_test, y_train, y_test = train_test_split(recipes_sequences, labels_binary, test_size=0.3, random_state=42, stratify=labels_binary)"
      ]
    },
    {
      "cell_type": "markdown",
      "metadata": {
        "id": "PL_tL0aIn_y5"
      },
      "source": [
        "## Training the rnn"
      ]
    },
    {
      "cell_type": "code",
      "execution_count": 23,
      "metadata": {
        "execution": {
          "iopub.execute_input": "2024-05-27T10:07:03.436445Z",
          "iopub.status.busy": "2024-05-27T10:07:03.435807Z",
          "iopub.status.idle": "2024-05-27T10:07:03.440813Z",
          "shell.execute_reply": "2024-05-27T10:07:03.439876Z",
          "shell.execute_reply.started": "2024-05-27T10:07:03.436405Z"
        },
        "id": "wKfQtqBXo0Vk",
        "trusted": true
      },
      "outputs": [],
      "source": [
        "input_length = recipes_sequences.shape[1]"
      ]
    },
    {
      "cell_type": "code",
      "execution_count": null,
      "metadata": {
        "colab": {
          "base_uri": "https://localhost:8080/"
        },
        "execution": {
          "iopub.execute_input": "2024-05-27T10:07:51.234078Z",
          "iopub.status.busy": "2024-05-27T10:07:51.233752Z",
          "iopub.status.idle": "2024-05-27T10:12:25.726378Z",
          "shell.execute_reply": "2024-05-27T10:12:25.725386Z",
          "shell.execute_reply.started": "2024-05-27T10:07:51.234053Z"
        },
        "id": "iY00vdHs9ydY",
        "outputId": "9cd85bec-cfe7-4605-bae4-fd20fdb69cee",
        "trusted": true
      },
      "outputs": [
        {
          "name": "stdout",
          "output_type": "stream",
          "text": [
            "Epoch 1/10\n",
            "\u001b[1m891/891\u001b[0m \u001b[32m━━━━━━━━━━━━━━━━━━━━\u001b[0m\u001b[37m\u001b[0m \u001b[1m36s\u001b[0m 37ms/step - accuracy: 0.7521 - loss: 0.5091 - val_accuracy: 0.9388 - val_loss: 0.2211\n",
            "Epoch 2/10\n",
            "\u001b[1m891/891\u001b[0m \u001b[32m━━━━━━━━━━━━━━━━━━━━\u001b[0m\u001b[37m\u001b[0m \u001b[1m33s\u001b[0m 37ms/step - accuracy: 0.9626 - loss: 0.1651 - val_accuracy: 0.9571 - val_loss: 0.1540\n",
            "Epoch 3/10\n",
            "\u001b[1m891/891\u001b[0m \u001b[32m━━━━━━━━━━━━━━━━━━━━\u001b[0m\u001b[37m\u001b[0m \u001b[1m33s\u001b[0m 37ms/step - accuracy: 0.9816 - loss: 0.0966 - val_accuracy: 0.9580 - val_loss: 0.1376\n",
            "Epoch 4/10\n",
            "\u001b[1m891/891\u001b[0m \u001b[32m━━━━━━━━━━━━━━━━━━━━\u001b[0m\u001b[37m\u001b[0m \u001b[1m33s\u001b[0m 37ms/step - accuracy: 0.9852 - loss: 0.0699 - val_accuracy: 0.9554 - val_loss: 0.1413\n",
            "Epoch 5/10\n",
            "\u001b[1m891/891\u001b[0m \u001b[32m━━━━━━━━━━━━━━━━━━━━\u001b[0m\u001b[37m\u001b[0m \u001b[1m33s\u001b[0m 37ms/step - accuracy: 0.9878 - loss: 0.0560 - val_accuracy: 0.9620 - val_loss: 0.1303\n",
            "Epoch 6/10\n",
            "\u001b[1m891/891\u001b[0m \u001b[32m━━━━━━━━━━━━━━━━━━━━\u001b[0m\u001b[37m\u001b[0m \u001b[1m33s\u001b[0m 37ms/step - accuracy: 0.9899 - loss: 0.0444 - val_accuracy: 0.9575 - val_loss: 0.1423\n",
            "Epoch 7/10\n",
            "\u001b[1m891/891\u001b[0m \u001b[32m━━━━━━━━━━━━━━━━━━━━\u001b[0m\u001b[37m\u001b[0m \u001b[1m41s\u001b[0m 37ms/step - accuracy: 0.9910 - loss: 0.0385 - val_accuracy: 0.9559 - val_loss: 0.1494\n",
            "Epoch 8/10\n",
            "\u001b[1m891/891\u001b[0m \u001b[32m━━━━━━━━━━━━━━━━━━━━\u001b[0m\u001b[37m\u001b[0m \u001b[1m33s\u001b[0m 37ms/step - accuracy: 0.9918 - loss: 0.0353 - val_accuracy: 0.9586 - val_loss: 0.1469\n",
            "Epoch 8: early stopping\n",
            "Restoring model weights from the end of the best epoch: 5.\n"
          ]
        }
      ],
      "source": [
        "early_stopping = EarlyStopping(monitor='val_loss',  min_delta=0.001, patience=3, verbose=1, mode='min', restore_best_weights=True)\n",
        "model = Sequential([\n",
        "    Embedding(input_dim=vocab_size, output_dim=512, input_length=input_length),\n",
        "    Bidirectional(LSTM(1)),\n",
        "    Dense(1, activation='sigmoid')\n",
        "])\n",
        "\n",
        "model.compile(optimizer='adam', loss='binary_crossentropy', metrics=['accuracy'])\n",
        "history = model.fit(X_train, y_train, batch_size=32, epochs=10, validation_split=0.2, callbacks=[early_stopping])"
      ]
    },
    {
      "cell_type": "code",
      "execution_count": null,
      "metadata": {
        "execution": {
          "iopub.execute_input": "2024-05-27T10:12:25.729906Z",
          "iopub.status.busy": "2024-05-27T10:12:25.729168Z",
          "iopub.status.idle": "2024-05-27T10:12:26.332380Z",
          "shell.execute_reply": "2024-05-27T10:12:26.331490Z",
          "shell.execute_reply.started": "2024-05-27T10:12:25.729879Z"
        },
        "id": "WTBiDZGEo0Vk",
        "outputId": "c14b994d-a04f-4a4d-c7b5-726044910282",
        "trusted": true
      },
      "outputs": [
        {
          "data": {
            "image/png": "[encoded data removed]",
            "text/plain": [
              "<Figure size 640x480 with 1 Axes>"
            ]
          },
          "metadata": {},
          "output_type": "display_data"
        },
        {
          "data": {
            "image/png": "[encoded data removed]",
            "text/plain": [
              "<Figure size 640x480 with 1 Axes>"
            ]
          },
          "metadata": {},
          "output_type": "display_data"
        }
      ],
      "source": [
        "plt.plot(history.history['loss'], label='Training Loss')\n",
        "plt.plot(history.history['val_loss'], label='Validation Loss')\n",
        "plt.title('Model Loss')\n",
        "plt.ylabel('Loss')\n",
        "plt.xlabel('Epoch')\n",
        "plt.legend(loc='upper left')\n",
        "plt.show()\n",
        "plt.plot(history.history['accuracy'], label='Training Accuracy')\n",
        "plt.plot(history.history['val_accuracy'], label='Validation Accuracy')\n",
        "plt.title('Model Accuracy')\n",
        "plt.ylabel('Accuracy')\n",
        "plt.xlabel('Epoch')\n",
        "plt.legend(loc='upper left')\n",
        "plt.show()"
      ]
    },
    {
      "cell_type": "code",
      "execution_count": null,
      "metadata": {
        "colab": {
          "base_uri": "https://localhost:8080/"
        },
        "execution": {
          "iopub.execute_input": "2024-05-27T10:12:26.333527Z",
          "iopub.status.busy": "2024-05-27T10:12:26.333244Z",
          "iopub.status.idle": "2024-05-27T10:12:32.508624Z",
          "shell.execute_reply": "2024-05-27T10:12:32.507602Z",
          "shell.execute_reply.started": "2024-05-27T10:12:26.333502Z"
        },
        "id": "sqAKVy9XqE_n",
        "outputId": "69db1ccd-277d-4aca-e23e-989e22cab367",
        "trusted": true
      },
      "outputs": [
        {
          "name": "stdout",
          "output_type": "stream",
          "text": [
            "\u001b[1m478/478\u001b[0m \u001b[32m━━━━━━━━━━━━━━━━━━━━\u001b[0m\u001b[37m\u001b[0m \u001b[1m6s\u001b[0m 12ms/step\n",
            "Accuracy: 0.9623469320935105\n",
            "Precision: 0.9539609053497943\n",
            "Recall: 0.9715782580222658\n",
            "F1 Score: 0.9626889883849199\n",
            "Confusion Matrix:\n",
            " [[7278  358]\n",
            " [ 217 7418]]\n"
          ]
        }
      ],
      "source": [
        "predictions = model.predict(X_test)\n",
        "binary_predictions = (predictions > 0.5).astype(int)\n",
        "accuracy = accuracy_score(y_test, binary_predictions)\n",
        "precision = precision_score(y_test, binary_predictions)\n",
        "recall = recall_score(y_test, binary_predictions)\n",
        "f1 = f1_score(y_test, binary_predictions)\n",
        "conf_matrix = confusion_matrix(y_test, binary_predictions)\n",
        "\n",
        "print(\"Accuracy:\", accuracy)\n",
        "print(\"Precision:\", precision)\n",
        "print(\"Recall:\", recall)\n",
        "print(\"F1 Score:\", f1)\n",
        "print(\"Confusion Matrix:\\n\", conf_matrix)"
      ]
    },
    {
      "cell_type": "markdown",
      "metadata": {
        "id": "JFlgIMn1oOBD"
      },
      "source": [
        "## Hyperparameter tuning\n",
        "We'll try some configurations of hyperparameters in order to find the best parametrized one. Since we're dealing with binary classification we'll use the accuracy score as the objective of the search (notice that the dataset is balanced, thus giving accuracy representative power)."
      ]
    },
    {
      "cell_type": "code",
      "execution_count": null,
      "metadata": {
        "id": "jHKYMnFFyyyJ",
        "trusted": true
      },
      "outputs": [],
      "source": [
        "def build_model(hp):\n",
        "    model = Sequential()\n",
        "    model.add(Embedding(input_dim=vocab_size, output_dim=hp.Int('embedding_dim', min_value=32, max_value=512, step=32), input_length=input_length))\n",
        "    model.add(Bidirectional(LSTM(units=hp.Int('units', min_value=32, max_value=512, step=32), dropout=hp.Float('dropout', 0, 0.5, step=0.1))))\n",
        "    model.add(Dense(1, activation='sigmoid'))\n",
        "    model.compile(optimizer=Adam(hp.Float('learning_rate', 1e-4, 1e-2, sampling='LOG')),\n",
        "                  loss='binary_crossentropy',\n",
        "                  metrics=['accuracy'])\n",
        "    return model\n",
        "\n",
        "early_stopping = EarlyStopping(monitor='val_loss',  min_delta=0.001, patience=3, verbose=1, mode='min', restore_best_weights=True)\n",
        "tuner = kt.RandomSearch(\n",
        "    build_model,\n",
        "    objective='val_accuracy',\n",
        "    max_trials=10,\n",
        "    executions_per_trial=3,\n",
        "    directory='results',\n",
        "    project_name='RNN_hlt')\n",
        "\n",
        "tuner.search(X_train, y_train, epochs=5, validation_split=0.2, callbacks=[early_stopping])"
      ]
    },
    {
      "cell_type": "code",
      "execution_count": null,
      "metadata": {
        "id": "VXrmYFTtxbJ_",
        "trusted": true
      },
      "outputs": [],
      "source": [
        "best_model = tuner.get_best_models(num_models=1)[0]"
      ]
    },
    {
      "cell_type": "code",
      "execution_count": null,
      "metadata": {
        "id": "4SVodVQa3VPG",
        "trusted": true
      },
      "outputs": [],
      "source": [
        "trials = tuner.oracle.get_best_trials()\n",
        "for trial in trials:\n",
        "    print('Trial ID:', trial.trial_id)\n",
        "    print('Score:', trial.score)\n",
        "    print('Hyperparameters:', trial.hyperparameters.values)\n"
      ]
    },
    {
      "cell_type": "code",
      "execution_count": null,
      "metadata": {
        "id": "iHQ3s12o3Y4g",
        "trusted": true
      },
      "outputs": [],
      "source": [
        "predictions = best_model.predict(X_test)\n",
        "binary_predictions = (predictions > 0.5).astype(int)\n",
        "\n",
        "accuracy = accuracy_score(y_test, binary_predictions)\n",
        "precision = precision_score(y_test, binary_predictions)\n",
        "recall = recall_score(y_test, binary_predictions)\n",
        "f1 = f1_score(y_test, binary_predictions)\n",
        "conf_matrix = confusion_matrix(y_test, binary_predictions)\n",
        "\n",
        "print(\"Accuracy:\", accuracy)\n",
        "print(\"Precision:\", precision)\n",
        "print(\"Recall:\", recall)\n",
        "print(\"F1 Score:\", f1)\n",
        "print(\"Confusion Matrix:\\n\", conf_matrix)"
      ]
    },
    {
      "cell_type": "markdown",
      "metadata": {
        "id": "G7YYoBxQoFcn"
      },
      "source": [
        "## Adding an attention layer\n",
        "The results obtained seem promising, and it might be advantageous to consider an attention based architecture in order to exploit the contextual relevance of each word considered."
      ]
    },
    {
      "cell_type": "code",
      "execution_count": 25,
      "metadata": {
        "execution": {
          "iopub.execute_input": "2024-05-27T10:12:32.511367Z",
          "iopub.status.busy": "2024-05-27T10:12:32.511076Z",
          "iopub.status.idle": "2024-05-27T10:12:32.519283Z",
          "shell.execute_reply": "2024-05-27T10:12:32.518253Z",
          "shell.execute_reply.started": "2024-05-27T10:12:32.511330Z"
        },
        "id": "7zdvpOiw5DCs",
        "trusted": true
      },
      "outputs": [],
      "source": [
        "class AttentionLayer(Layer):\n",
        "    def __init__(self, **kwargs):\n",
        "        super(AttentionLayer, self).__init__(**kwargs)\n",
        "\n",
        "    def build(self, input_shape):\n",
        "        self.W = self.add_weight(name=\"att_weight\", shape=(input_shape[-1], 1),\n",
        "                                 initializer=\"orthogonal\")\n",
        "        self.b = self.add_weight(name=\"att_bias\", shape=(input_shape[1], 1),\n",
        "                                 initializer=\"zeros\")\n",
        "        super(AttentionLayer, self).build(input_shape)\n",
        "\n",
        "    def call(self, inputs):\n",
        "        # Applying a simple attention mechanism\n",
        "        e = tf.nn.tanh(tf.tensordot(inputs, self.W, axes=1) + self.b)\n",
        "        a = tf.nn.softmax(e, axis=1)\n",
        "        output = inputs * a\n",
        "        return tf.reduce_sum(output, axis=1)\n",
        "\n",
        "    def get_config(self):\n",
        "        return super(AttentionLayer, self).get_config()\n"
      ]
    },
    {
      "cell_type": "code",
      "execution_count": 26,
      "metadata": {
        "colab": {
          "base_uri": "https://localhost:8080/"
        },
        "execution": {
          "iopub.execute_input": "2024-05-27T10:12:32.520713Z",
          "iopub.status.busy": "2024-05-27T10:12:32.520410Z",
          "iopub.status.idle": "2024-05-27T10:12:32.565613Z",
          "shell.execute_reply": "2024-05-27T10:12:32.564758Z",
          "shell.execute_reply.started": "2024-05-27T10:12:32.520689Z"
        },
        "id": "JHgwhrue5ZZn",
        "outputId": "e795b57d-d393-42aa-e4d1-54a9d00c6426",
        "trusted": true
      },
      "outputs": [
        {
          "name": "stdout",
          "output_type": "stream",
          "text": [
            "Model: \"sequential\"\n",
            "_________________________________________________________________\n",
            " Layer (type)                Output Shape              Param #   \n",
            "=================================================================\n",
            " embedding_1 (Embedding)     (None, 528, 512)          5523456   \n",
            "                                                                 \n",
            " bidirectional_1 (Bidirecti  (None, 528, 2)            4112      \n",
            " onal)                                                           \n",
            "                                                                 \n",
            " batch_normalization_1 (Bat  (None, 528, 2)            8         \n",
            " chNormalization)                                                \n",
            "                                                                 \n",
            " attention_layer (Attention  (None, 2)                 530       \n",
            " Layer)                                                          \n",
            "                                                                 \n",
            " dense (Dense)               (None, 1)                 3         \n",
            "                                                                 \n",
            "=================================================================\n",
            "Total params: 5528109 (21.09 MB)\n",
            "Trainable params: 5528105 (21.09 MB)\n",
            "Non-trainable params: 4 (16.00 Byte)\n",
            "_________________________________________________________________\n"
          ]
        }
      ],
      "source": [
        "embedding_dim = 512\n",
        "lstm_units = 1\n",
        "\n",
        "model = Sequential([\n",
        "    Embedding(input_dim=vocab_size, output_dim=embedding_dim, input_shape=(input_length,)),\n",
        "    Bidirectional(LSTM(lstm_units, dropout=0.3, return_sequences=True)),\n",
        "    BatchNormalization(),\n",
        "    AttentionLayer(),\n",
        "    Dense(1, activation='sigmoid')\n",
        "])\n",
        "\n",
        "model.compile(optimizer='adam', loss='binary_crossentropy', metrics=['accuracy'])\n",
        "model.summary()"
      ]
    },
    {
      "cell_type": "code",
      "execution_count": null,
      "metadata": {
        "colab": {
          "base_uri": "https://localhost:8080/"
        },
        "execution": {
          "iopub.execute_input": "2024-05-27T10:12:32.566916Z",
          "iopub.status.busy": "2024-05-27T10:12:32.566656Z",
          "iopub.status.idle": "2024-05-27T10:35:43.142363Z",
          "shell.execute_reply": "2024-05-27T10:35:43.141411Z",
          "shell.execute_reply.started": "2024-05-27T10:12:32.566893Z"
        },
        "id": "_XTZRNZG5ax7",
        "outputId": "1c3b2e80-9139-4937-ac9a-4321515c1183",
        "trusted": true
      },
      "outputs": [
        {
          "name": "stdout",
          "output_type": "stream",
          "text": [
            "Epoch 1/10\n",
            "\u001b[1m112/112\u001b[0m \u001b[32m━━━━━━━━━━━━━━━━━━━━\u001b[0m\u001b[37m\u001b[0m \u001b[1m146s\u001b[0m 1s/step - accuracy: 0.7139 - loss: 0.5724 - val_accuracy: 0.8281 - val_loss: 0.6148\n",
            "Epoch 2/10\n",
            "\u001b[1m112/112\u001b[0m \u001b[32m━━━━━━━━━━━━━━━━━━━━\u001b[0m\u001b[37m\u001b[0m \u001b[1m138s\u001b[0m 1s/step - accuracy: 0.8999 - loss: 0.3323 - val_accuracy: 0.9103 - val_loss: 0.4049\n",
            "Epoch 3/10\n",
            "\u001b[1m112/112\u001b[0m \u001b[32m━━━━━━━━━━━━━━━━━━━━\u001b[0m\u001b[37m\u001b[0m \u001b[1m138s\u001b[0m 1s/step - accuracy: 0.9566 - loss: 0.2132 - val_accuracy: 0.9586 - val_loss: 0.2289\n",
            "Epoch 4/10\n",
            "\u001b[1m112/112\u001b[0m \u001b[32m━━━━━━━━━━━━━━━━━━━━\u001b[0m\u001b[37m\u001b[0m \u001b[1m139s\u001b[0m 1s/step - accuracy: 0.9764 - loss: 0.1455 - val_accuracy: 0.9593 - val_loss: 0.1637\n",
            "Epoch 5/10\n",
            "\u001b[1m112/112\u001b[0m \u001b[32m━━━━━━━━━━━━━━━━━━━━\u001b[0m\u001b[37m\u001b[0m \u001b[1m138s\u001b[0m 1s/step - accuracy: 0.9832 - loss: 0.1074 - val_accuracy: 0.9585 - val_loss: 0.1422\n",
            "Epoch 6/10\n",
            "\u001b[1m112/112\u001b[0m \u001b[32m━━━━━━━━━━━━━━━━━━━━\u001b[0m\u001b[37m\u001b[0m \u001b[1m138s\u001b[0m 1s/step - accuracy: 0.9871 - loss: 0.0845 - val_accuracy: 0.9580 - val_loss: 0.1335\n",
            "Epoch 7/10\n",
            "\u001b[1m112/112\u001b[0m \u001b[32m━━━━━━━━━━━━━━━━━━━━\u001b[0m\u001b[37m\u001b[0m \u001b[1m139s\u001b[0m 1s/step - accuracy: 0.9897 - loss: 0.0664 - val_accuracy: 0.9617 - val_loss: 0.1273\n",
            "Epoch 8/10\n",
            "\u001b[1m112/112\u001b[0m \u001b[32m━━━━━━━━━━━━━━━━━━━━\u001b[0m\u001b[37m\u001b[0m \u001b[1m138s\u001b[0m 1s/step - accuracy: 0.9898 - loss: 0.0560 - val_accuracy: 0.9595 - val_loss: 0.1269\n",
            "Epoch 9/10\n",
            "\u001b[1m112/112\u001b[0m \u001b[32m━━━━━━━━━━━━━━━━━━━━\u001b[0m\u001b[37m\u001b[0m \u001b[1m138s\u001b[0m 1s/step - accuracy: 0.9922 - loss: 0.0471 - val_accuracy: 0.9593 - val_loss: 0.1250\n",
            "Epoch 10/10\n",
            "\u001b[1m112/112\u001b[0m \u001b[32m━━━━━━━━━━━━━━━━━━━━\u001b[0m\u001b[37m\u001b[0m \u001b[1m138s\u001b[0m 1s/step - accuracy: 0.9930 - loss: 0.0409 - val_accuracy: 0.9583 - val_loss: 0.1272\n",
            "Restoring model weights from the end of the best epoch: 9.\n"
          ]
        }
      ],
      "source": [
        "early_stopping = EarlyStopping(monitor='val_loss',  min_delta=0.001, patience=5, verbose=1, mode='min', restore_best_weights=True)\n",
        "history = model.fit(X_train, y_train, validation_split=0.2, epochs=10, batch_size=256, callbacks=[early_stopping])"
      ]
    },
    {
      "cell_type": "markdown",
      "metadata": {
        "id": "fpCjOJHyo0Vo"
      },
      "source": [
        "Let's see the learning curve"
      ]
    },
    {
      "cell_type": "code",
      "execution_count": null,
      "metadata": {
        "colab": {
          "background_save": true
        },
        "execution": {
          "iopub.execute_input": "2024-05-27T10:35:43.144085Z",
          "iopub.status.busy": "2024-05-27T10:35:43.143820Z",
          "iopub.status.idle": "2024-05-27T10:35:43.625341Z",
          "shell.execute_reply": "2024-05-27T10:35:43.624511Z",
          "shell.execute_reply.started": "2024-05-27T10:35:43.144061Z"
        },
        "id": "f5Kzi73YhfSI",
        "outputId": "caa42c96-0f6f-4b94-9167-533a7aad66ba",
        "trusted": true
      },
      "outputs": [
        {
          "data": {
            "image/png": "[encoded data removed]",
            "text/plain": [
              "<Figure size 640x480 with 1 Axes>"
            ]
          },
          "metadata": {},
          "output_type": "display_data"
        },
        {
          "data": {
            "image/png": "[encoded data removed]",
            "text/plain": [
              "<Figure size 640x480 with 1 Axes>"
            ]
          },
          "metadata": {},
          "output_type": "display_data"
        }
      ],
      "source": [
        "plt.plot(history.history['loss'], label='Training Loss')\n",
        "plt.plot(history.history['val_loss'], label='Validation Loss')\n",
        "plt.title('Model Loss')\n",
        "plt.ylabel('Loss')\n",
        "plt.xlabel('Epoch')\n",
        "plt.legend(loc='upper left')\n",
        "plt.show()\n",
        "plt.plot(history.history['accuracy'], label='Training Accuracy')\n",
        "plt.plot(history.history['val_accuracy'], label='Validation Accuracy')\n",
        "plt.title('Model Accuracy')\n",
        "plt.ylabel('Accuracy')\n",
        "plt.xlabel('Epoch')\n",
        "plt.legend(loc='upper left')\n",
        "plt.show()"
      ]
    },
    {
      "cell_type": "code",
      "execution_count": null,
      "metadata": {
        "colab": {
          "base_uri": "https://localhost:8080/"
        },
        "execution": {
          "iopub.execute_input": "2024-05-27T10:35:43.626991Z",
          "iopub.status.busy": "2024-05-27T10:35:43.626648Z",
          "iopub.status.idle": "2024-05-27T10:37:39.074293Z",
          "shell.execute_reply": "2024-05-27T10:37:39.073392Z",
          "shell.execute_reply.started": "2024-05-27T10:35:43.626959Z"
        },
        "id": "Es99wxqy5wBX",
        "outputId": "2d7da8d1-2c55-4a8f-d8df-31727b9ad971",
        "trusted": true
      },
      "outputs": [
        {
          "name": "stdout",
          "output_type": "stream",
          "text": [
            "\u001b[1m478/478\u001b[0m \u001b[32m━━━━━━━━━━━━━━━━━━━━\u001b[0m\u001b[37m\u001b[0m \u001b[1m115s\u001b[0m 240ms/step\n",
            "Accuracy: 0.9604479077990963\n",
            "Precision: 0.946980292434838\n",
            "Recall: 0.9755075311067453\n",
            "F1 Score: 0.9610322580645161\n",
            "Confusion Matrix:\n",
            " [[7219  417]\n",
            " [ 187 7448]]\n"
          ]
        }
      ],
      "source": [
        "predictions = model.predict(X_test)\n",
        "binary_predictions = (predictions > 0.5).astype(int)\n",
        "accuracy = accuracy_score(y_test, binary_predictions)\n",
        "precision = precision_score(y_test, binary_predictions)\n",
        "recall = recall_score(y_test, binary_predictions)\n",
        "f1 = f1_score(y_test, binary_predictions)\n",
        "conf_matrix = confusion_matrix(y_test, binary_predictions)\n",
        "\n",
        "print(\"Accuracy:\", accuracy)\n",
        "print(\"Precision:\", precision)\n",
        "print(\"Recall:\", recall)\n",
        "print(\"F1 Score:\", f1)\n",
        "print(\"Confusion Matrix:\\n\", conf_matrix)"
      ]
    },
    {
      "cell_type": "markdown",
      "metadata": {
        "id": "uI2vGcNLo0Vp"
      },
      "source": [
        "### Some advanced grid search"
      ]
    },
    {
      "cell_type": "code",
      "execution_count": null,
      "metadata": {
        "id": "BWDGf_CrhXqf"
      },
      "outputs": [],
      "source": [
        "def build_model(hp):\n",
        "    model = Sequential([\n",
        "        Embedding(input_dim=vocab_size, output_dim=512, input_length=2123),\n",
        "        Bidirectional(LSTM(units=hp.Int('units', min_value=32, max_value=512, step=32),\n",
        "                           dropout=hp.Float('dropout', min_value=0.1, max_value=0.5, step=0.1),\n",
        "                           return_sequences=True)),\n",
        "        BatchNormalization(),\n",
        "        AttentionLayer(),\n",
        "        Dense(1, activation='sigmoid')\n",
        "    ])\n",
        "\n",
        "    optimizer = Adam(\n",
        "        learning_rate=hp.Float('learning_rate', min_value=1e-4, max_value=1e-2, sampling='LOG'),\n",
        "        beta_1=hp.Float('beta_1', min_value=0.85, max_value=0.95, step=0.01),\n",
        "        beta_2=hp.Float('beta_2', min_value=0.990, max_value=0.999, step=0.001),\n",
        "        epsilon=hp.Float('epsilon', min_value=1e-8, max_value=1e-6, sampling='LOG')\n",
        "    )\n",
        "    model.compile(optimizer=optimizer,\n",
        "                  loss='binary_crossentropy',\n",
        "                  metrics=['accuracy'])\n",
        "    return model\n",
        "\n",
        "tuner = kt.Hyperband(\n",
        "    build_model,\n",
        "    objective='val_accuracy',\n",
        "    max_epochs=50,\n",
        "    directory='my_dir',\n",
        "    project_name='intro_to_kt_optimizer_tuning'\n",
        ")\n",
        "\n",
        "stop_early = tf.keras.callbacks.EarlyStopping(monitor='val_loss', patience=5)\n",
        "tuner.search(X_train, y_train, epochs=50, validation_split=0.2, callbacks=[stop_early])\n",
        "best_hps = tuner.get_best_hyperparameters(num_trials=1)[0]\n",
        "\n",
        "print(f\"\"\"\n",
        "Optimal number of units: {best_hps.get('units')}\n",
        "Optimal dropout rate: {best_hps.get('dropout')}\n",
        "Optimal learning rate: {best_hps.get('learning_rate')}\n",
        "Optimal beta_1: {best_hps.get('beta_1')}\n",
        "Optimal beta_2: {best_hps.get('beta_2')}\n",
        "Optimal epsilon: {best_hps.get('epsilon')}\n",
        "\"\"\")\n"
      ]
    },
    {
      "cell_type": "code",
      "execution_count": null,
      "metadata": {
        "id": "9BM4xwAnoauy"
      },
      "outputs": [],
      "source": [
        "model = tuner.hypermodel.build(best_hps)\n",
        "model.fit(X_train, y_train, epochs=50, validation_split=0.2)\n",
        "\n",
        "predictions = model.predict(X_test)\n",
        "binary_predictions = (predictions > 0.5).astype(int)\n",
        "\n",
        "# Calculate metrics\n",
        "accuracy = accuracy_score(y_test, binary_predictions)\n",
        "precision = precision_score(y_test, binary_predictions)\n",
        "recall = recall_score(y_test, binary_predictions)\n",
        "f1 = f1_score(y_test, binary_predictions)\n",
        "\n",
        "# Print the results\n",
        "print(\"Accuracy:\", accuracy)\n",
        "print(\"Precision:\", precision)\n",
        "print(\"Recall:\", recall)\n",
        "print(\"F1 Score:\", f1)\n",
        "\n",
        "# Confusion Matrix\n",
        "conf_matrix = confusion_matrix(y_test, binary_predictions)\n",
        "print(\"Confusion Matrix:\\n\", conf_matrix)"
      ]
    },
    {
      "cell_type": "markdown",
      "metadata": {
        "id": "fmW05pW3snmq"
      },
      "source": [
        "## Multi-class classification\n",
        "Here we will address the problem of multi-class classification, i.e. we will classify each recipe as belonging to one or more dietary restrictions."
      ]
    },
    {
      "cell_type": "markdown",
      "metadata": {
        "id": "XfHEy6eeo0Vq"
      },
      "source": [
        "### Training"
      ]
    },
    {
      "cell_type": "code",
      "execution_count": null,
      "metadata": {
        "id": "K47_mVfovBHk"
      },
      "outputs": [],
      "source": [
        "X_train, X_test, y_train, y_test = train_test_split(recipes_sequences, labels_multi, test_size=0.3, random_state=42)"
      ]
    },
    {
      "cell_type": "code",
      "execution_count": null,
      "metadata": {
        "execution": {
          "iopub.execute_input": "2024-05-27T10:39:24.531018Z",
          "iopub.status.busy": "2024-05-27T10:39:24.530370Z",
          "iopub.status.idle": "2024-05-27T10:39:24.558046Z",
          "shell.execute_reply": "2024-05-27T10:39:24.557337Z",
          "shell.execute_reply.started": "2024-05-27T10:39:24.530986Z"
        },
        "id": "HiKHqqMYxMCo",
        "trusted": true
      },
      "outputs": [],
      "source": [
        "embedding_dim = 512\n",
        "lstm_units = 1\n",
        "num_labels = 6\n",
        "\n",
        "model = Sequential([\n",
        "    Embedding(input_dim=vocab_size, output_dim=embedding_dim, input_length=input_length),\n",
        "    Bidirectional(LSTM(lstm_units, dropout=0.3, return_sequences=True)),  # Ensure return_sequences is True for attention\n",
        "    BatchNormalization(),\n",
        "    AttentionLayer(),\n",
        "    Dense(num_labels, activation='sigmoid')  # num_labels is the number of output classes\n",
        "])\n",
        "\n",
        "model.compile(optimizer=Adam(), loss='binary_crossentropy', metrics=['accuracy'])"
      ]
    },
    {
      "cell_type": "code",
      "execution_count": null,
      "metadata": {
        "colab": {
          "base_uri": "https://localhost:8080/"
        },
        "execution": {
          "iopub.execute_input": "2024-05-27T10:40:09.928058Z",
          "iopub.status.busy": "2024-05-27T10:40:09.927704Z",
          "iopub.status.idle": "2024-05-27T13:37:04.360876Z",
          "shell.execute_reply": "2024-05-27T13:37:04.359886Z",
          "shell.execute_reply.started": "2024-05-27T10:40:09.928030Z"
        },
        "id": "WAyAgrK0yAOF",
        "outputId": "584c28f9-c1bf-417c-9d01-9424b3344286",
        "trusted": true
      },
      "outputs": [
        {
          "name": "stdout",
          "output_type": "stream",
          "text": [
            "Epoch 1/10\n",
            "\u001b[1m891/891\u001b[0m \u001b[32m━━━━━━━━━━━━━━━━━━━━\u001b[0m\u001b[37m\u001b[0m \u001b[1m1060s\u001b[0m 1s/step - accuracy: 0.1622 - loss: 0.5603 - val_accuracy: 0.6102 - val_loss: 0.3422\n",
            "Epoch 2/10\n",
            "\u001b[1m891/891\u001b[0m \u001b[32m━━━━━━━━━━━━━━━━━━━━\u001b[0m\u001b[37m\u001b[0m \u001b[1m1056s\u001b[0m 1s/step - accuracy: 0.6140 - loss: 0.3241 - val_accuracy: 0.6018 - val_loss: 0.2750\n",
            "Epoch 3/10\n",
            "\u001b[1m891/891\u001b[0m \u001b[32m━━━━━━━━━━━━━━━━━━━━\u001b[0m\u001b[37m\u001b[0m \u001b[1m1053s\u001b[0m 1s/step - accuracy: 0.6422 - loss: 0.2463 - val_accuracy: 0.6127 - val_loss: 0.2343\n",
            "Epoch 4/10\n",
            "\u001b[1m891/891\u001b[0m \u001b[32m━━━━━━━━━━━━━━━━━━━━\u001b[0m\u001b[37m\u001b[0m \u001b[1m1054s\u001b[0m 1s/step - accuracy: 0.6582 - loss: 0.2136 - val_accuracy: 0.6293 - val_loss: 0.2203\n",
            "Epoch 5/10\n",
            "\u001b[1m891/891\u001b[0m \u001b[32m━━━━━━━━━━━━━━━━━━━━\u001b[0m\u001b[37m\u001b[0m \u001b[1m1056s\u001b[0m 1s/step - accuracy: 0.6732 - loss: 0.1920 - val_accuracy: 0.6700 - val_loss: 0.2132\n",
            "Epoch 6/10\n",
            "\u001b[1m891/891\u001b[0m \u001b[32m━━━━━━━━━━━━━━━━━━━━\u001b[0m\u001b[37m\u001b[0m \u001b[1m1054s\u001b[0m 1s/step - accuracy: 0.6797 - loss: 0.1777 - val_accuracy: 0.6388 - val_loss: 0.2090\n",
            "Epoch 7/10\n",
            "\u001b[1m891/891\u001b[0m \u001b[32m━━━━━━━━━━━━━━━━━━━━\u001b[0m\u001b[37m\u001b[0m \u001b[1m1108s\u001b[0m 1s/step - accuracy: 0.6845 - loss: 0.1714 - val_accuracy: 0.5939 - val_loss: 0.2116\n",
            "Epoch 8/10\n",
            "\u001b[1m891/891\u001b[0m \u001b[32m━━━━━━━━━━━━━━━━━━━━\u001b[0m\u001b[37m\u001b[0m \u001b[1m1055s\u001b[0m 1s/step - accuracy: 0.6829 - loss: 0.1640 - val_accuracy: 0.6334 - val_loss: 0.2102\n",
            "Epoch 9/10\n",
            "\u001b[1m891/891\u001b[0m \u001b[32m━━━━━━━━━━━━━━━━━━━━\u001b[0m\u001b[37m\u001b[0m \u001b[1m1059s\u001b[0m 1s/step - accuracy: 0.6758 - loss: 0.1563 - val_accuracy: 0.6978 - val_loss: 0.2238\n",
            "Epoch 10/10\n",
            "\u001b[1m891/891\u001b[0m \u001b[32m━━━━━━━━━━━━━━━━━━━━\u001b[0m\u001b[37m\u001b[0m \u001b[1m1059s\u001b[0m 1s/step - accuracy: 0.6679 - loss: 0.1555 - val_accuracy: 0.6430 - val_loss: 0.2190\n",
            "Restoring model weights from the end of the best epoch: 6.\n"
          ]
        }
      ],
      "source": [
        "early_stopping = EarlyStopping(monitor='val_loss', min_delta=0.001, patience=5, verbose=1, mode='min', restore_best_weights=True)\n",
        "history = model.fit(X_train, y_train, validation_split=0.2, epochs=10, callbacks=[early_stopping])"
      ]
    },
    {
      "cell_type": "code",
      "execution_count": null,
      "metadata": {
        "colab": {
          "base_uri": "https://localhost:8080/",
          "height": 927
        },
        "execution": {
          "iopub.execute_input": "2024-05-27T14:03:14.294111Z",
          "iopub.status.busy": "2024-05-27T14:03:14.293366Z",
          "iopub.status.idle": "2024-05-27T14:03:14.847184Z",
          "shell.execute_reply": "2024-05-27T14:03:14.846295Z",
          "shell.execute_reply.started": "2024-05-27T14:03:14.294076Z"
        },
        "id": "AFOLxp2p6awa",
        "outputId": "2dd6129e-8da6-420b-c152-8d686aaa7d40",
        "trusted": true
      },
      "outputs": [
        {
          "data": {
            "image/png": "[encoded data removed]",
            "text/plain": [
              "<Figure size 640x480 with 1 Axes>"
            ]
          },
          "metadata": {},
          "output_type": "display_data"
        },
        {
          "data": {
            "image/png": "[encoded data removed]",
            "text/plain": [
              "<Figure size 640x480 with 1 Axes>"
            ]
          },
          "metadata": {},
          "output_type": "display_data"
        }
      ],
      "source": [
        "plt.plot(history.history['loss'], label='Training Loss')\n",
        "plt.plot(history.history['val_loss'], label='Validation Loss')\n",
        "plt.title('Model Loss')\n",
        "plt.ylabel('Loss')\n",
        "plt.xlabel('Epoch')\n",
        "plt.legend(loc='upper left')\n",
        "plt.show()\n",
        "plt.plot(history.history['accuracy'], label='Training Accuracy')\n",
        "plt.plot(history.history['val_accuracy'], label='Validation Accuracy')\n",
        "plt.title('Model Accuracy')\n",
        "plt.ylabel('Accuracy')\n",
        "plt.xlabel('Epoch')\n",
        "plt.legend(loc='upper left')\n",
        "plt.show()"
      ]
    },
    {
      "cell_type": "markdown",
      "metadata": {
        "id": "LikNiGP6o0Vs"
      },
      "source": [
        "#### Macro Average"
      ]
    },
    {
      "cell_type": "code",
      "execution_count": null,
      "metadata": {
        "colab": {
          "base_uri": "https://localhost:8080/"
        },
        "execution": {
          "iopub.execute_input": "2024-05-27T14:03:18.235146Z",
          "iopub.status.busy": "2024-05-27T14:03:18.234795Z",
          "iopub.status.idle": "2024-05-27T14:05:13.423319Z",
          "shell.execute_reply": "2024-05-27T14:05:13.422223Z",
          "shell.execute_reply.started": "2024-05-27T14:03:18.235117Z"
        },
        "id": "ysyk7CiX6awb",
        "outputId": "15f71a3c-e0f5-47bd-c3ea-5c2ec6d42836",
        "trusted": true
      },
      "outputs": [
        {
          "name": "stdout",
          "output_type": "stream",
          "text": [
            "\u001b[1m478/478\u001b[0m \u001b[32m━━━━━━━━━━━━━━━━━━━━\u001b[0m\u001b[37m\u001b[0m \u001b[1m115s\u001b[0m 240ms/step\n",
            "Accuracy: 0.6207190098880231\n",
            "Precision (macro): 0.5061810393712823\n",
            "Recall (macro): 0.3940240067837122\n",
            "F1 Score (macro): 0.4090346161846749\n",
            "Confusion Matrix for label Vegetarian&Dessert:\n",
            "[[7282  362]\n",
            " [ 354 7273]]\n",
            "\n",
            "Confusion Matrix for label Low Fat:\n",
            "[[13582    59]\n",
            " [ 1540    90]]\n",
            "\n",
            "Confusion Matrix for label Low Sodium:\n",
            "[[11262   818]\n",
            " [ 1775  1416]]\n",
            "\n",
            "Confusion Matrix for label Low Carb:\n",
            "[[14580     0]\n",
            " [  691     0]]\n",
            "\n",
            "Confusion Matrix for label Gluten Free:\n",
            "[[7785 1061]\n",
            " [ 568 5857]]\n",
            "\n",
            "Confusion Matrix for label Dairy Free:\n",
            "[[15218     0]\n",
            " [   53     0]]\n",
            "\n",
            "Average Confusion Matrix:\n",
            " [[11618.16666667   383.33333333]\n",
            " [  830.16666667  2439.33333333]]\n"
          ]
        },
        {
          "name": "stderr",
          "output_type": "stream",
          "text": [
            "/opt/conda/lib/python3.10/site-packages/sklearn/metrics/_classification.py:1344: UndefinedMetricWarning: Precision is ill-defined and being set to 0.0 in labels with no predicted samples. Use `zero_division` parameter to control this behavior.\n",
            "  _warn_prf(average, modifier, msg_start, len(result))\n"
          ]
        }
      ],
      "source": [
        "predictions = model.predict(X_test)\n",
        "binary_predictions = (predictions > 0.5).astype(int)\n",
        "accuracy = accuracy_score(y_test, binary_predictions)\n",
        "precision = precision_score(y_test, binary_predictions, average='macro')\n",
        "recall = recall_score(y_test, binary_predictions, average='macro')\n",
        "f1 = f1_score(y_test, binary_predictions, average='macro')\n",
        "\n",
        "print(\"Accuracy:\", accuracy)\n",
        "print(\"Precision (macro):\", precision)\n",
        "print(\"Recall (macro):\", recall)\n",
        "print(\"F1 Score (macro):\", f1)\n",
        "\n",
        "conf_matrices = []\n",
        "for i in range(y_test.shape[1]):\n",
        "    conf_matrix = confusion_matrix(y_test.iloc[:, i], binary_predictions[:, i])\n",
        "    conf_matrices.append(conf_matrix)\n",
        "    print(f\"Confusion Matrix for label {y_test.columns[i]}:\\n{conf_matrix}\\n\")\n",
        "avg_conf_matrix = np.mean(conf_matrices, axis=0)\n",
        "print(\"Average Confusion Matrix:\\n\", avg_conf_matrix)"
      ]
    },
    {
      "cell_type": "markdown",
      "metadata": {
        "id": "FTo1a9sVo0Vs"
      },
      "source": [
        "#### Micro Average"
      ]
    },
    {
      "cell_type": "code",
      "execution_count": null,
      "metadata": {
        "colab": {
          "base_uri": "https://localhost:8080/"
        },
        "execution": {
          "iopub.execute_input": "2024-05-27T14:07:11.190326Z",
          "iopub.status.busy": "2024-05-27T14:07:11.189536Z",
          "iopub.status.idle": "2024-05-27T14:09:06.308272Z",
          "shell.execute_reply": "2024-05-27T14:09:06.307362Z",
          "shell.execute_reply.started": "2024-05-27T14:07:11.190294Z"
        },
        "id": "T31i-gTPyIb7",
        "outputId": "2e622049-f757-4eeb-f2dd-734e31d5f042",
        "trusted": true
      },
      "outputs": [
        {
          "name": "stdout",
          "output_type": "stream",
          "text": [
            "\u001b[1m478/478\u001b[0m \u001b[32m━━━━━━━━━━━━━━━━━━━━\u001b[0m\u001b[37m\u001b[0m \u001b[1m115s\u001b[0m 240ms/step\n",
            "Accuracy: 0.6207190098880231\n",
            "Precision (micro): 0.8641946150212565\n",
            "Recall (micro): 0.7460875771014936\n",
            "F1 Score (micro): 0.8008097830547425\n",
            "Confusion Matrix for label Vegetarian&Dessert:\n",
            "[[7282  362]\n",
            " [ 354 7273]]\n",
            "\n",
            "Confusion Matrix for label Low Fat:\n",
            "[[13582    59]\n",
            " [ 1540    90]]\n",
            "\n",
            "Confusion Matrix for label Low Sodium:\n",
            "[[11262   818]\n",
            " [ 1775  1416]]\n",
            "\n",
            "Confusion Matrix for label Low Carb:\n",
            "[[14580     0]\n",
            " [  691     0]]\n",
            "\n",
            "Confusion Matrix for label Gluten Free:\n",
            "[[7785 1061]\n",
            " [ 568 5857]]\n",
            "\n",
            "Confusion Matrix for label Dairy Free:\n",
            "[[15218     0]\n",
            " [   53     0]]\n",
            "\n",
            "Average Confusion Matrix:\n",
            " [[11618.16666667   383.33333333]\n",
            " [  830.16666667  2439.33333333]]\n"
          ]
        }
      ],
      "source": [
        "predictions = model.predict(X_test)\n",
        "binary_predictions = (predictions > 0.5).astype(int)\n",
        "accuracy = accuracy_score(y_test, binary_predictions)\n",
        "precision = precision_score(y_test, binary_predictions, average='micro')\n",
        "recall = recall_score(y_test, binary_predictions, average='micro')\n",
        "f1 = f1_score(y_test, binary_predictions, average='micro')\n",
        "\n",
        "print(\"Accuracy:\", accuracy)\n",
        "print(\"Precision (micro):\", precision)\n",
        "print(\"Recall (micro):\", recall)\n",
        "print(\"F1 Score (micro):\", f1)\n",
        "\n",
        "conf_matrices = []\n",
        "for i in range(y_test.shape[1]):\n",
        "    conf_matrix = confusion_matrix(y_test.iloc[:, i], binary_predictions[:, i])\n",
        "    conf_matrices.append(conf_matrix)\n",
        "    print(f\"Confusion Matrix for label {y_test.columns[i]}:\\n{conf_matrix}\\n\")\n",
        "avg_conf_matrix = np.mean(conf_matrices, axis=0)\n",
        "print(\"Average Confusion Matrix:\\n\", avg_conf_matrix)"
      ]
    }
  ],
  "metadata": {
    "accelerator": "GPU",
    "colab": {
      "gpuType": "T4",
      "provenance": []
    },
    "kaggle": {
      "accelerator": "nvidiaTeslaT4",
      "dataSources": [
        {
          "datasetId": 5090736,
          "sourceId": 8525121,
          "sourceType": "datasetVersion"
        }
      ],
      "dockerImageVersionId": 30699,
      "isGpuEnabled": true,
      "isInternetEnabled": true,
      "language": "python",
      "sourceType": "notebook"
    },
    "kernelspec": {
      "display_name": "Python 3",
      "language": "python",
      "name": "python3"
    },
    "language_info": {
      "codemirror_mode": {
        "name": "ipython",
        "version": 3
      },
      "file_extension": ".py",
      "mimetype": "text/x-python",
      "name": "python",
      "nbconvert_exporter": "python",
      "pygments_lexer": "ipython3",
      "version": "3.10.8"
    }
  },
  "nbformat": 4,
  "nbformat_minor": 0
}
