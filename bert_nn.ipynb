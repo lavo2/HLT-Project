{
 "cells": [
  {
   "cell_type": "markdown",
   "metadata": {},
   "source": [
    "# Embeddings on recipes with BERT, Neural Network for classification"
   ]
  },
  {
   "cell_type": "code",
   "execution_count": 1,
   "metadata": {},
   "outputs": [
    {
     "name": "stdout",
     "output_type": "stream",
     "text": [
      "WARNING:tensorflow:From c:\\Users\\chucki\\Desktop\\projects\\HLT-Project\\.venv\\lib\\site-packages\\tf_keras\\src\\losses.py:2976: The name tf.losses.sparse_softmax_cross_entropy is deprecated. Please use tf.compat.v1.losses.sparse_softmax_cross_entropy instead.\n",
      "\n"
     ]
    }
   ],
   "source": [
    "import numpy as np\n",
    "import pandas as pd\n",
    "import matplotlib.pyplot as plt\n",
    "\n",
    "from sklearn.metrics import classification_report, confusion_matrix\n",
    "from sklearn.model_selection import train_test_split\n",
    "\n",
    "import torch\n",
    "from transformers import BertTokenizer, BertModel, TFBertModel\n",
    "import torch.nn as nn\n",
    "import torch.optim as optim\n",
    "import torch.nn.functional as F\n",
    "\n",
    "from tqdm import tqdm\n",
    "\n",
    "import tensorflow as tf\n",
    "\n",
    "from keras.layers import Input, Dense, Dropout, Flatten\n",
    "from keras.models import Model, Sequential\n",
    "from keras.optimizers import Adam"
   ]
  },
  {
   "cell_type": "markdown",
   "metadata": {},
   "source": [
    "# Load the balanced dataset"
   ]
  },
  {
   "cell_type": "code",
   "execution_count": 3,
   "metadata": {},
   "outputs": [],
   "source": [
    "df = pd.read_csv('./dataset/dataset_balanced_10k.csv')"
   ]
  },
  {
   "cell_type": "code",
   "execution_count": 4,
   "metadata": {},
   "outputs": [
    {
     "data": {
      "text/plain": [
       "(10000, 15)"
      ]
     },
     "execution_count": 4,
     "metadata": {},
     "output_type": "execute_result"
    }
   ],
   "source": [
    "df.shape"
   ]
  },
  {
   "cell_type": "code",
   "execution_count": 5,
   "metadata": {},
   "outputs": [
    {
     "data": {
      "text/html": [
       "<div>\n",
       "<style scoped>\n",
       "    .dataframe tbody tr th:only-of-type {\n",
       "        vertical-align: middle;\n",
       "    }\n",
       "\n",
       "    .dataframe tbody tr th {\n",
       "        vertical-align: top;\n",
       "    }\n",
       "\n",
       "    .dataframe thead th {\n",
       "        text-align: right;\n",
       "    }\n",
       "</style>\n",
       "<table border=\"1\" class=\"dataframe\">\n",
       "  <thead>\n",
       "    <tr style=\"text-align: right;\">\n",
       "      <th></th>\n",
       "      <th>cooking_method</th>\n",
       "      <th>ingredients</th>\n",
       "      <th>tags</th>\n",
       "      <th>Vegetarian</th>\n",
       "      <th>Dairy Free</th>\n",
       "      <th>Gluten Free</th>\n",
       "      <th>Low Carb</th>\n",
       "      <th>Low Fat</th>\n",
       "      <th>Low Sodium</th>\n",
       "      <th>Dessert</th>\n",
       "      <th>Meat</th>\n",
       "      <th>Fish</th>\n",
       "      <th>Dairy</th>\n",
       "      <th>Vegetarian&amp;Dessert</th>\n",
       "      <th>Meat&amp;Fish</th>\n",
       "    </tr>\n",
       "  </thead>\n",
       "  <tbody>\n",
       "    <tr>\n",
       "      <th>0</th>\n",
       "      <td>['To bone turkey, place on a work surface, bre...</td>\n",
       "      <td>['1 (12 to 14 pound) turkey', '3 tablespoons e...</td>\n",
       "      <td>Poultry,Turkey Recipes,Main Dish</td>\n",
       "      <td>0</td>\n",
       "      <td>0</td>\n",
       "      <td>0</td>\n",
       "      <td>0</td>\n",
       "      <td>0</td>\n",
       "      <td>0</td>\n",
       "      <td>0</td>\n",
       "      <td>1</td>\n",
       "      <td>0</td>\n",
       "      <td>0</td>\n",
       "      <td>0</td>\n",
       "      <td>1</td>\n",
       "    </tr>\n",
       "    <tr>\n",
       "      <th>1</th>\n",
       "      <td>['Combine all the ingredients in a blender and...</td>\n",
       "      <td>['2 1/4 cups freshly squeezed orange juice', '...</td>\n",
       "      <td>Liquor Recipes,Tequila Recipes,Fruit,Pureeing ...</td>\n",
       "      <td>1</td>\n",
       "      <td>0</td>\n",
       "      <td>1</td>\n",
       "      <td>0</td>\n",
       "      <td>1</td>\n",
       "      <td>0</td>\n",
       "      <td>0</td>\n",
       "      <td>0</td>\n",
       "      <td>0</td>\n",
       "      <td>0</td>\n",
       "      <td>1</td>\n",
       "      <td>0</td>\n",
       "    </tr>\n",
       "    <tr>\n",
       "      <th>2</th>\n",
       "      <td>['Pulse the black peppercorns in a spice grind...</td>\n",
       "      <td>['1 tablespoon black peppercorns', '3/4 cup ci...</td>\n",
       "      <td>Sauce Recipes,Barbecue Restaurants,Gluten Free...</td>\n",
       "      <td>1</td>\n",
       "      <td>0</td>\n",
       "      <td>1</td>\n",
       "      <td>0</td>\n",
       "      <td>1</td>\n",
       "      <td>0</td>\n",
       "      <td>0</td>\n",
       "      <td>0</td>\n",
       "      <td>0</td>\n",
       "      <td>0</td>\n",
       "      <td>1</td>\n",
       "      <td>0</td>\n",
       "    </tr>\n",
       "    <tr>\n",
       "      <th>3</th>\n",
       "      <td>['Pour water, lemon juice, and simple syrup in...</td>\n",
       "      <td>['8 cups cold water', '2 cups freshly squeezed...</td>\n",
       "      <td>Make Ahead,American,Lemonade Recipes,Tea Recip...</td>\n",
       "      <td>1</td>\n",
       "      <td>0</td>\n",
       "      <td>1</td>\n",
       "      <td>0</td>\n",
       "      <td>1</td>\n",
       "      <td>1</td>\n",
       "      <td>0</td>\n",
       "      <td>0</td>\n",
       "      <td>0</td>\n",
       "      <td>1</td>\n",
       "      <td>1</td>\n",
       "      <td>0</td>\n",
       "    </tr>\n",
       "    <tr>\n",
       "      <th>4</th>\n",
       "      <td>['Toss all ingredients together and season wit...</td>\n",
       "      <td>['2 roasted red and yellow bell peppers, peele...</td>\n",
       "      <td>Easy Main Dish,Easy,Main Dish,American,Southwe...</td>\n",
       "      <td>1</td>\n",
       "      <td>0</td>\n",
       "      <td>1</td>\n",
       "      <td>0</td>\n",
       "      <td>0</td>\n",
       "      <td>0</td>\n",
       "      <td>0</td>\n",
       "      <td>0</td>\n",
       "      <td>0</td>\n",
       "      <td>0</td>\n",
       "      <td>1</td>\n",
       "      <td>0</td>\n",
       "    </tr>\n",
       "  </tbody>\n",
       "</table>\n",
       "</div>"
      ],
      "text/plain": [
       "                                      cooking_method  \\\n",
       "0  ['To bone turkey, place on a work surface, bre...   \n",
       "1  ['Combine all the ingredients in a blender and...   \n",
       "2  ['Pulse the black peppercorns in a spice grind...   \n",
       "3  ['Pour water, lemon juice, and simple syrup in...   \n",
       "4  ['Toss all ingredients together and season wit...   \n",
       "\n",
       "                                         ingredients  \\\n",
       "0  ['1 (12 to 14 pound) turkey', '3 tablespoons e...   \n",
       "1  ['2 1/4 cups freshly squeezed orange juice', '...   \n",
       "2  ['1 tablespoon black peppercorns', '3/4 cup ci...   \n",
       "3  ['8 cups cold water', '2 cups freshly squeezed...   \n",
       "4  ['2 roasted red and yellow bell peppers, peele...   \n",
       "\n",
       "                                                tags  Vegetarian  Dairy Free  \\\n",
       "0                   Poultry,Turkey Recipes,Main Dish           0           0   \n",
       "1  Liquor Recipes,Tequila Recipes,Fruit,Pureeing ...           1           0   \n",
       "2  Sauce Recipes,Barbecue Restaurants,Gluten Free...           1           0   \n",
       "3  Make Ahead,American,Lemonade Recipes,Tea Recip...           1           0   \n",
       "4  Easy Main Dish,Easy,Main Dish,American,Southwe...           1           0   \n",
       "\n",
       "   Gluten Free  Low Carb  Low Fat  Low Sodium  Dessert  Meat  Fish  Dairy  \\\n",
       "0            0         0        0           0        0     1     0      0   \n",
       "1            1         0        1           0        0     0     0      0   \n",
       "2            1         0        1           0        0     0     0      0   \n",
       "3            1         0        1           1        0     0     0      1   \n",
       "4            1         0        0           0        0     0     0      0   \n",
       "\n",
       "   Vegetarian&Dessert  Meat&Fish  \n",
       "0                   0          1  \n",
       "1                   1          0  \n",
       "2                   1          0  \n",
       "3                   1          0  \n",
       "4                   1          0  "
      ]
     },
     "execution_count": 5,
     "metadata": {},
     "output_type": "execute_result"
    }
   ],
   "source": [
    "df.head()"
   ]
  },
  {
   "cell_type": "code",
   "execution_count": 6,
   "metadata": {},
   "outputs": [
    {
     "data": {
      "text/html": [
       "<div>\n",
       "<style scoped>\n",
       "    .dataframe tbody tr th:only-of-type {\n",
       "        vertical-align: middle;\n",
       "    }\n",
       "\n",
       "    .dataframe tbody tr th {\n",
       "        vertical-align: top;\n",
       "    }\n",
       "\n",
       "    .dataframe thead th {\n",
       "        text-align: right;\n",
       "    }\n",
       "</style>\n",
       "<table border=\"1\" class=\"dataframe\">\n",
       "  <thead>\n",
       "    <tr style=\"text-align: right;\">\n",
       "      <th></th>\n",
       "      <th>cooking_method</th>\n",
       "      <th>ingredients</th>\n",
       "      <th>Vegetarian</th>\n",
       "    </tr>\n",
       "  </thead>\n",
       "  <tbody>\n",
       "    <tr>\n",
       "      <th>0</th>\n",
       "      <td>['To bone turkey, place on a work surface, bre...</td>\n",
       "      <td>['1 (12 to 14 pound) turkey', '3 tablespoons e...</td>\n",
       "      <td>0</td>\n",
       "    </tr>\n",
       "    <tr>\n",
       "      <th>1</th>\n",
       "      <td>['Combine all the ingredients in a blender and...</td>\n",
       "      <td>['2 1/4 cups freshly squeezed orange juice', '...</td>\n",
       "      <td>1</td>\n",
       "    </tr>\n",
       "    <tr>\n",
       "      <th>2</th>\n",
       "      <td>['Pulse the black peppercorns in a spice grind...</td>\n",
       "      <td>['1 tablespoon black peppercorns', '3/4 cup ci...</td>\n",
       "      <td>1</td>\n",
       "    </tr>\n",
       "    <tr>\n",
       "      <th>3</th>\n",
       "      <td>['Pour water, lemon juice, and simple syrup in...</td>\n",
       "      <td>['8 cups cold water', '2 cups freshly squeezed...</td>\n",
       "      <td>1</td>\n",
       "    </tr>\n",
       "    <tr>\n",
       "      <th>4</th>\n",
       "      <td>['Toss all ingredients together and season wit...</td>\n",
       "      <td>['2 roasted red and yellow bell peppers, peele...</td>\n",
       "      <td>1</td>\n",
       "    </tr>\n",
       "  </tbody>\n",
       "</table>\n",
       "</div>"
      ],
      "text/plain": [
       "                                      cooking_method  \\\n",
       "0  ['To bone turkey, place on a work surface, bre...   \n",
       "1  ['Combine all the ingredients in a blender and...   \n",
       "2  ['Pulse the black peppercorns in a spice grind...   \n",
       "3  ['Pour water, lemon juice, and simple syrup in...   \n",
       "4  ['Toss all ingredients together and season wit...   \n",
       "\n",
       "                                         ingredients  Vegetarian  \n",
       "0  ['1 (12 to 14 pound) turkey', '3 tablespoons e...           0  \n",
       "1  ['2 1/4 cups freshly squeezed orange juice', '...           1  \n",
       "2  ['1 tablespoon black peppercorns', '3/4 cup ci...           1  \n",
       "3  ['8 cups cold water', '2 cups freshly squeezed...           1  \n",
       "4  ['2 roasted red and yellow bell peppers, peele...           1  "
      ]
     },
     "execution_count": 6,
     "metadata": {},
     "output_type": "execute_result"
    }
   ],
   "source": [
    "# keep only necessary columns\n",
    "columns = ['cooking_method', 'ingredients', 'Vegetarian']\n",
    "df = df[columns]\n",
    "df.head()"
   ]
  },
  {
   "cell_type": "markdown",
   "metadata": {},
   "source": [
    "### BERT for the embeddings"
   ]
  },
  {
   "cell_type": "code",
   "execution_count": 7,
   "metadata": {},
   "outputs": [
    {
     "name": "stderr",
     "output_type": "stream",
     "text": [
      "c:\\Users\\chucki\\Desktop\\projects\\HLT-Project\\.venv\\lib\\site-packages\\huggingface_hub\\file_download.py:1132: FutureWarning: `resume_download` is deprecated and will be removed in version 1.0.0. Downloads always resume when possible. If you want to force a new download, use `force_download=True`.\n",
      "  warnings.warn(\n"
     ]
    },
    {
     "data": {
      "application/vnd.jupyter.widget-view+json": {
       "model_id": "7e3f91447ee149f0b1f6dda43a961e88",
       "version_major": 2,
       "version_minor": 0
      },
      "text/plain": [
       "tokenizer_config.json:   0%|          | 0.00/48.0 [00:00<?, ?B/s]"
      ]
     },
     "metadata": {},
     "output_type": "display_data"
    },
    {
     "name": "stderr",
     "output_type": "stream",
     "text": [
      "c:\\Users\\chucki\\Desktop\\projects\\HLT-Project\\.venv\\lib\\site-packages\\huggingface_hub\\file_download.py:157: UserWarning: `huggingface_hub` cache-system uses symlinks by default to efficiently store duplicated files but your machine does not support them in C:\\Users\\chucki\\.cache\\huggingface\\hub\\models--bert-base-uncased. Caching files will still work but in a degraded version that might require more space on your disk. This warning can be disabled by setting the `HF_HUB_DISABLE_SYMLINKS_WARNING` environment variable. For more details, see https://huggingface.co/docs/huggingface_hub/how-to-cache#limitations.\n",
      "To support symlinks on Windows, you either need to activate Developer Mode or to run Python as an administrator. In order to see activate developer mode, see this article: https://docs.microsoft.com/en-us/windows/apps/get-started/enable-your-device-for-development\n",
      "  warnings.warn(message)\n"
     ]
    },
    {
     "data": {
      "application/vnd.jupyter.widget-view+json": {
       "model_id": "e91924fbce044664a740bcfeb57b458f",
       "version_major": 2,
       "version_minor": 0
      },
      "text/plain": [
       "vocab.txt:   0%|          | 0.00/232k [00:00<?, ?B/s]"
      ]
     },
     "metadata": {},
     "output_type": "display_data"
    },
    {
     "data": {
      "application/vnd.jupyter.widget-view+json": {
       "model_id": "95d122a965084e7391eb62e3f617a39b",
       "version_major": 2,
       "version_minor": 0
      },
      "text/plain": [
       "tokenizer.json:   0%|          | 0.00/466k [00:00<?, ?B/s]"
      ]
     },
     "metadata": {},
     "output_type": "display_data"
    },
    {
     "data": {
      "application/vnd.jupyter.widget-view+json": {
       "model_id": "cef6a837361d415287fda86324751e67",
       "version_major": 2,
       "version_minor": 0
      },
      "text/plain": [
       "config.json:   0%|          | 0.00/570 [00:00<?, ?B/s]"
      ]
     },
     "metadata": {},
     "output_type": "display_data"
    },
    {
     "data": {
      "application/vnd.jupyter.widget-view+json": {
       "model_id": "d91b4028931a4571aa707cb21f57ca72",
       "version_major": 2,
       "version_minor": 0
      },
      "text/plain": [
       "model.safetensors:   0%|          | 0.00/440M [00:00<?, ?B/s]"
      ]
     },
     "metadata": {},
     "output_type": "display_data"
    }
   ],
   "source": [
    "tokenizer = BertTokenizer.from_pretrained('bert-base-uncased')\n",
    "bert_model = BertModel.from_pretrained('bert-base-uncased')"
   ]
  },
  {
   "cell_type": "markdown",
   "metadata": {},
   "source": [
    "The next cell justifies why we chose `max_length` = 200 in the tokenizer"
   ]
  },
  {
   "cell_type": "code",
   "execution_count": 11,
   "metadata": {},
   "outputs": [
    {
     "data": {
      "image/png": "[encoded data removed]",
      "text/plain": [
       "<Figure size 640x480 with 1 Axes>"
      ]
     },
     "metadata": {},
     "output_type": "display_data"
    }
   ],
   "source": [
    "# histogram of the number of words in the recipes\n",
    "df['num_words'] = df['ingredients'].apply(lambda x: len(x.split()))\n",
    "df['num_words'].hist(bins=30)\n",
    "plt.xlabel('Number of Words')\n",
    "plt.ylabel('Frequency')\n",
    "plt.title('Histogram of Number of Words in Recipes')\n",
    "plt.show()"
   ]
  },
  {
   "cell_type": "code",
   "execution_count": 12,
   "metadata": {},
   "outputs": [
    {
     "name": "stdout",
     "output_type": "stream",
     "text": [
      "<class 'pandas.core.frame.DataFrame'>\n",
      "RangeIndex: 10000 entries, 0 to 9999\n",
      "Data columns (total 4 columns):\n",
      " #   Column          Non-Null Count  Dtype \n",
      "---  ------          --------------  ----- \n",
      " 0   cooking_method  10000 non-null  object\n",
      " 1   ingredients     10000 non-null  object\n",
      " 2   Vegetarian      10000 non-null  int64 \n",
      " 3   num_words       10000 non-null  int64 \n",
      "dtypes: int64(2), object(2)\n",
      "memory usage: 312.6+ KB\n"
     ]
    }
   ],
   "source": [
    "df.info()"
   ]
  },
  {
   "cell_type": "code",
   "execution_count": 13,
   "metadata": {},
   "outputs": [
    {
     "data": {
      "text/plain": [
       "list"
      ]
     },
     "execution_count": 13,
     "metadata": {},
     "output_type": "execute_result"
    }
   ],
   "source": [
    "# get the cooking_method as a list of strings\n",
    "cooking_methods = df['cooking_method'].values.tolist()\n",
    "type(cooking_methods)"
   ]
  },
  {
   "cell_type": "code",
   "execution_count": 14,
   "metadata": {},
   "outputs": [
    {
     "data": {
      "text/plain": [
       "\"['To bone turkey, place on a work surface, breast-side down. Slice skin along backbone from neck to tail. Cut and pull flesh and skin away from carcass. Cut flesh from saber-shaped bone near wing, and remove bone. Sever ball-and-socket joints so that they are separated from carcass but still attached to skin. Continue cutting breast meat away from bone until reaching the ridge of breastbone. Turn turkey around and repeat on other side. Pull gently to separate breastbone and carcass flesh. Cut off wing tip and middle section, leaving largest wing bone. Holding outside of wing bone, cut through tendons and scrape meat from bone. Pull out bone, using knife to free it. Holding inside end of leg bone, cut through tendons attaching the flesh to the bone. Use knife to scrape meat from bone, pushing it away from end of bone. Cut bone free of skin. Cut out any sinews still remaining on leg. Repeat on other side, then push leg and wing skin-side out. Butterfly breast so that meat completely covers skin. Cover with plastic wrap. Lightly pound meat until even. Heat oven to 375 degrees F. Place a large skillet over medium heat, when it is hot, add 1 tablespoon olive oil. Add onion, garlic, 1 tablespoon chopped rosemary, sage, and mustard. Cook, stirring occasionally, until soft and translucent, but not brown, about 10 minutes. Transfer to a large bowl and set aside to cool. Add the ground turkey and pork, bread crumbs, eggs, cream, 1 1/2 teaspoons salt, and 1/4 teaspoon pepper. Stir to combine. Lay turkey breast on a work surface and season with 1 teaspoon salt, 1/2 teaspoon pepper, and remaining 2 tablespoons chopped rosemary. Place stuffing in the middle of the turkey. Roll it up to form a long tube. Use toothpicks to hold in place. Tie every 2 inches with kitchen twine. Drizzle with remaining 2 tablespoons olive oil. Season with remaining teaspoon salt and 1/2 teaspoon pepper. Tuck rosemary branches along the top of the roll under the twine. Place on rack over a large baking sheet. Roast until an instant-read thermometer registers 150 degrees F, 2 to 2 1/2 hours. Remove from oven. Brush with maple syrup. Return to oven and roast until an instant-read thermometer registers 160 to 165 degrees F, about 20 minutes more. Remove from oven and let rest for 10 minutes. Transfer to a cutting board, remove twine and cut crosswise into1/2-inch to 1-inch thick slices. Place slices on a platter and garnish with watercress. Serve with Cranberry Compote.', 'Place a large skillet over medium heat, when hot, add oil. Add onion and ginger and cook for 1 minute. Stir in cranberries, orange juice, raisins, brandy, sugar, balsamic vinegar, maple syrup, and red wine vinegar. Cook until syrupy and reduced by half, about 10 minutes. Add cranberry juice, cinnamon, nutmeg, cayenne, and salt. Simmer until thickened, 12 to 15 minutes. Remove cinnamon stick and set aside to cool.']\""
      ]
     },
     "execution_count": 14,
     "metadata": {},
     "output_type": "execute_result"
    }
   ],
   "source": [
    "cooking_methods[0]"
   ]
  },
  {
   "cell_type": "code",
   "execution_count": null,
   "metadata": {},
   "outputs": [],
   "source": [
    "# Load and preprocess your dataset\n",
    "X = cooking_methods\n",
    "y = df['Vegetarian'].values\n",
    "\n",
    "X_train, X_val, y_train, y_val = train_test_split(X, y, test_size=0.2, random_state=42)\n",
    "\n",
    "# Tokenize the text data using BERT tokenizer\n",
    "max_length = 200  # Adjust as needed\n",
    "X_train_encodings = tokenizer(X_train, truncation=True, padding=True, max_length=max_length, return_tensors='pt')\n",
    "X_val_encodings = tokenizer(X_val, truncation=True, padding=True, max_length=max_length, return_tensors='pt')\n",
    "\n",
    "# Define the model architecture\n",
    "class CustomClassifier(nn.Module):\n",
    "    def __init__(self, bert_model, num_classes):\n",
    "        super(CustomClassifier, self).__init__()\n",
    "        self.bert = bert_model\n",
    "        self.fc1 = nn.Linear(self.bert.config.hidden_size, 16)\n",
    "        self.fc2 = nn.Linear(16, 5)\n",
    "        self.output = nn.Linear(5, num_classes)\n",
    "\n",
    "    def forward(self, input_ids, attention_mask, token_type_ids=None):\n",
    "        outputs = self.bert(input_ids=input_ids, attention_mask=attention_mask, token_type_ids=token_type_ids)\n",
    "        pooled_output = outputs.pooler_output\n",
    "        x = torch.relu(self.fc1(pooled_output))\n",
    "        x = torch.relu(self.fc2(x))\n",
    "        logits = self.output(x)\n",
    "        return logits\n",
    "\n",
    "# Initialize the model, optimizer, and loss function\n",
    "model = CustomClassifier(bert_model=bert_model, num_classes=2)\n",
    "optimizer = optim.AdamW(model.parameters(), lr=1e-5)\n",
    "criterion = nn.CrossEntropyLoss()\n",
    "\n",
    "# Training loop\n",
    "num_epochs = 15  # Adjust as needed\n",
    "model.train()\n",
    "for epoch in tqdm(range(num_epochs)):\n",
    "    optimizer.zero_grad()\n",
    "    outputs = model(**X_train_encodings)\n",
    "    loss = criterion(outputs.logits, y_train)\n",
    "    loss.backward()\n",
    "    optimizer.step()\n",
    "    print(f'Epoch {epoch + 1}/{num_epochs}, Loss: {loss.item()}')\n",
    "\n",
    "# Evaluation\n",
    "model.eval()\n",
    "with torch.no_grad():\n",
    "    outputs = model(**X_val_encodings)\n",
    "    predicted_labels = torch.argmax(outputs.logits, dim=1)\n",
    "    accuracy = (predicted_labels == y_val).float().mean().item()\n",
    "    print(f'Validation Accuracy: {accuracy}')"
   ]
  },
  {
   "cell_type": "code",
   "execution_count": null,
   "metadata": {},
   "outputs": [],
   "source": []
  },
  {
   "cell_type": "code",
   "execution_count": 12,
   "metadata": {},
   "outputs": [],
   "source": [
    "# Tokenize and encode the recipe texts\n",
    "max_length = 200  # Maximum sequence length for BERT\n",
    "encoded_inputs = tokenizer(cooking_methods, padding=True, truncation=True, max_length=max_length, return_tensors='pt')"
   ]
  },
  {
   "cell_type": "code",
   "execution_count": 13,
   "metadata": {},
   "outputs": [],
   "source": [
    "# Define a simple classifier on top of BERT\n",
    "class RecipeClassifier(nn.Module):\n",
    "    def __init__(self, bert_model, num_classes, hidden_size=128, dropout_prob=0.1):\n",
    "        super(RecipeClassifier, self).__init__()\n",
    "        self.bert = bert_model\n",
    "        self.dropout = nn.Dropout(dropout_prob)\n",
    "        self.fc1 = nn.Linear(self.bert.config.hidden_size, hidden_size)\n",
    "        self.fc2 = nn.Linear(hidden_size, 64)\n",
    "        self.fc3 = nn.Linear(64, num_classes)\n",
    "\n",
    "    def forward(self, input_ids, attention_mask):\n",
    "        outputs = self.bert(input_ids=input_ids, attention_mask=attention_mask)\n",
    "        pooled_output = outputs.pooler_output\n",
    "        x = self.dropout(pooled_output)\n",
    "        x = F.relu(self.fc1(x))\n",
    "        x = F.relu(self.fc2(x))\n",
    "        logits = self.fc3(x)\n",
    "        return logits"
   ]
  },
  {
   "cell_type": "code",
   "execution_count": 14,
   "metadata": {},
   "outputs": [],
   "source": [
    "# Instantiate the recipe classifier model\n",
    "num_classes = 2  # Vegetarian or non-vegetarian\n",
    "recipe_classifier = RecipeClassifier(bert_model, num_classes)\n",
    "\n",
    "# Perform classification\n",
    "with torch.no_grad():\n",
    "    logits = recipe_classifier(encoded_inputs['input_ids'], encoded_inputs['attention_mask'])\n",
    "    probabilities = F.softmax(logits, dim=1)\n",
    "    predicted_labels = torch.argmax(probabilities, dim=1)"
   ]
  },
  {
   "cell_type": "code",
   "execution_count": 15,
   "metadata": {},
   "outputs": [
    {
     "data": {
      "text/plain": [
       "torch.Tensor"
      ]
     },
     "execution_count": 15,
     "metadata": {},
     "output_type": "execute_result"
    }
   ],
   "source": [
    "# see data type of predicted_labels\n",
    "type(predicted_labels)"
   ]
  },
  {
   "cell_type": "code",
   "execution_count": 16,
   "metadata": {},
   "outputs": [
    {
     "data": {
      "text/plain": [
       "numpy.ndarray"
      ]
     },
     "execution_count": 16,
     "metadata": {},
     "output_type": "execute_result"
    }
   ],
   "source": [
    "# convert to numpy array\n",
    "predicted_labels = predicted_labels.numpy()\n",
    "\n",
    "# consider the column 'Vegetarian&Desserts' as the true labels\n",
    "true_labels = df['Vegetarian&Desserts'].values\n",
    "type(true_labels)"
   ]
  },
  {
   "cell_type": "code",
   "execution_count": 17,
   "metadata": {},
   "outputs": [
    {
     "name": "stdout",
     "output_type": "stream",
     "text": [
      "              precision    recall  f1-score   support\n",
      "\n",
      "           0       0.67      1.00      0.80       667\n",
      "           1       0.00      0.00      0.00       333\n",
      "\n",
      "    accuracy                           0.67      1000\n",
      "   macro avg       0.33      0.50      0.40      1000\n",
      "weighted avg       0.44      0.67      0.53      1000\n",
      "\n",
      "[[667   0]\n",
      " [333   0]]\n"
     ]
    },
    {
     "name": "stderr",
     "output_type": "stream",
     "text": [
      "/Users/irene/VSCodeProjects/HLT-Project/.venv/lib/python3.11/site-packages/sklearn/metrics/_classification.py:1509: UndefinedMetricWarning: Precision is ill-defined and being set to 0.0 in labels with no predicted samples. Use `zero_division` parameter to control this behavior.\n",
      "  _warn_prf(average, modifier, f\"{metric.capitalize()} is\", len(result))\n",
      "/Users/irene/VSCodeProjects/HLT-Project/.venv/lib/python3.11/site-packages/sklearn/metrics/_classification.py:1509: UndefinedMetricWarning: Precision is ill-defined and being set to 0.0 in labels with no predicted samples. Use `zero_division` parameter to control this behavior.\n",
      "  _warn_prf(average, modifier, f\"{metric.capitalize()} is\", len(result))\n",
      "/Users/irene/VSCodeProjects/HLT-Project/.venv/lib/python3.11/site-packages/sklearn/metrics/_classification.py:1509: UndefinedMetricWarning: Precision is ill-defined and being set to 0.0 in labels with no predicted samples. Use `zero_division` parameter to control this behavior.\n",
      "  _warn_prf(average, modifier, f\"{metric.capitalize()} is\", len(result))\n"
     ]
    }
   ],
   "source": [
    "# classification report\n",
    "print(classification_report(true_labels, predicted_labels))\n",
    "\n",
    "# confusion matrix\n",
    "cm = confusion_matrix(true_labels, predicted_labels)\n",
    "print(cm)"
   ]
  },
  {
   "cell_type": "markdown",
   "metadata": {},
   "source": [
    "---"
   ]
  },
  {
   "cell_type": "markdown",
   "metadata": {},
   "source": [
    "## Separate Embeddings and NN"
   ]
  },
  {
   "cell_type": "markdown",
   "metadata": {},
   "source": [
    "### Prepare the dataset"
   ]
  },
  {
   "cell_type": "code",
   "execution_count": 4,
   "metadata": {},
   "outputs": [],
   "source": [
    "df = pd.read_csv('./dataset/recipes_df_r.csv')\n",
    "columns = ['cooking_method', 'ingredients', 'Vegetarian&Desserts']\n",
    "df = df[columns]"
   ]
  },
  {
   "cell_type": "code",
   "execution_count": 5,
   "metadata": {},
   "outputs": [
    {
     "data": {
      "text/plain": [
       "10000"
      ]
     },
     "execution_count": 5,
     "metadata": {},
     "output_type": "execute_result"
    }
   ],
   "source": [
    "#get the first 1000 elements\n",
    "df1 = df[:1000]\n",
    "\n"
   ]
  },
  {
   "cell_type": "code",
   "execution_count": 5,
   "metadata": {},
   "outputs": [
    {
     "data": {
      "text/plain": [
       "list"
      ]
     },
     "execution_count": 5,
     "metadata": {},
     "output_type": "execute_result"
    }
   ],
   "source": [
    "# get the cooking_method as a list of strings\n",
    "cooking_methods = df['cooking_method'].values.tolist()\n",
    "type(cooking_methods)"
   ]
  },
  {
   "cell_type": "code",
   "execution_count": 6,
   "metadata": {},
   "outputs": [
    {
     "name": "stderr",
     "output_type": "stream",
     "text": [
      "Some weights of the PyTorch model were not used when initializing the TF 2.0 model TFBertModel: ['cls.predictions.transform.LayerNorm.bias', 'cls.seq_relationship.bias', 'cls.predictions.transform.dense.weight', 'cls.predictions.transform.dense.bias', 'cls.predictions.bias', 'cls.seq_relationship.weight', 'cls.predictions.transform.LayerNorm.weight']\n",
      "- This IS expected if you are initializing TFBertModel from a PyTorch model trained on another task or with another architecture (e.g. initializing a TFBertForSequenceClassification model from a BertForPreTraining model).\n",
      "- This IS NOT expected if you are initializing TFBertModel from a PyTorch model that you expect to be exactly identical (e.g. initializing a TFBertForSequenceClassification model from a BertForSequenceClassification model).\n",
      "All the weights of TFBertModel were initialized from the PyTorch model.\n",
      "If your task is similar to the task the model of the checkpoint was trained on, you can already use TFBertModel for predictions without further training.\n"
     ]
    },
    {
     "data": {
      "text/plain": [
       "\"tokenizer = BertTokenizer.from_pretrained('bert-base-uncased')\\nbert_model = BertModel.from_pretrained('bert-base-uncased')\""
      ]
     },
     "execution_count": 6,
     "metadata": {},
     "output_type": "execute_result"
    }
   ],
   "source": [
    "# Load pre-trained BERT tokenizer and model\n",
    "tokenizer = BertTokenizer.from_pretrained('bert-base-uncased')\n",
    "bert_model = TFBertModel.from_pretrained('bert-base-uncased')\n",
    "\n",
    "'''tokenizer = BertTokenizer.from_pretrained('bert-base-uncased')\n",
    "bert_model = BertModel.from_pretrained('bert-base-uncased')'''"
   ]
  },
  {
   "cell_type": "code",
   "execution_count": 7,
   "metadata": {},
   "outputs": [],
   "source": [
    "X = cooking_methods\n",
    "y = df['Vegetarian&Desserts'].values\n",
    "\n",
    "# Assuming 'X' contains your input data (cooking methods) and 'y' contains the target labels\n",
    "X_train, X_val, y_train, y_val = train_test_split(X, y, test_size=0.2, random_state=42)\n",
    "\n",
    "# Tokenize input data using BERT tokenizer\n",
    "max_length = 200  \n",
    "X_train_encodings = tokenizer(X_train, truncation=True, padding=True, max_length=max_length, return_tensors='tf')\n",
    "X_val_encodings = tokenizer(X_val, truncation=True, padding=True, max_length=max_length, return_tensors='tf')\n",
    "\n",
    "# Obtain BERT embeddings\n",
    "train_outputs = bert_model(X_train_encodings)\n",
    "val_outputs = bert_model(X_val_encodings)"
   ]
  },
  {
   "cell_type": "code",
   "execution_count": 8,
   "metadata": {},
   "outputs": [],
   "source": [
    "# Extract BERT embeddings\n",
    "train_embeddings = train_outputs.last_hidden_state\n",
    "val_embeddings = val_outputs.last_hidden_state"
   ]
  },
  {
   "cell_type": "code",
   "execution_count": 9,
   "metadata": {},
   "outputs": [
    {
     "data": {
      "text/plain": [
       "(TensorShape([1600, 200, 768]), TensorShape([400, 200, 768]))"
      ]
     },
     "execution_count": 9,
     "metadata": {},
     "output_type": "execute_result"
    }
   ],
   "source": [
    "train_embeddings.shape, val_embeddings.shape"
   ]
  },
  {
   "cell_type": "code",
   "execution_count": 10,
   "metadata": {},
   "outputs": [
    {
     "data": {
      "text/plain": [
       "tensorflow.python.framework.ops.EagerTensor"
      ]
     },
     "execution_count": 10,
     "metadata": {},
     "output_type": "execute_result"
    }
   ],
   "source": [
    "type(train_embeddings)"
   ]
  },
  {
   "cell_type": "code",
   "execution_count": 11,
   "metadata": {},
   "outputs": [
    {
     "data": {
      "text/plain": [
       "(1600, 200, 768)"
      ]
     },
     "execution_count": 11,
     "metadata": {},
     "output_type": "execute_result"
    }
   ],
   "source": [
    "(train_embeddings.numpy()).shape"
   ]
  },
  {
   "cell_type": "code",
   "execution_count": 12,
   "metadata": {},
   "outputs": [
    {
     "data": {
      "text/plain": [
       "((1600,), (400,))"
      ]
     },
     "execution_count": 12,
     "metadata": {},
     "output_type": "execute_result"
    }
   ],
   "source": [
    "y_train.shape, y_val.shape"
   ]
  },
  {
   "cell_type": "code",
   "execution_count": 13,
   "metadata": {},
   "outputs": [
    {
     "data": {
      "text/plain": [
       "((1600, 1), (400, 1))"
      ]
     },
     "execution_count": 13,
     "metadata": {},
     "output_type": "execute_result"
    }
   ],
   "source": [
    "# reshape y_train and y_val\n",
    "y_train = y_train.reshape(-1, 1)\n",
    "y_val = y_val.reshape(-1, 1)\n",
    "\n",
    "y_train.shape, y_val.shape"
   ]
  },
  {
   "cell_type": "code",
   "execution_count": 18,
   "metadata": {},
   "outputs": [
    {
     "name": "stdout",
     "output_type": "stream",
     "text": [
      "Epoch 1/10\n",
      "\u001b[1m160/160\u001b[0m \u001b[32m━━━━━━━━━━━━━━━━━━━━\u001b[0m\u001b[37m\u001b[0m \u001b[1m5s\u001b[0m 29ms/step - accuracy: 0.7047 - loss: 0.6005\n",
      "Epoch 2/10\n",
      "\u001b[1m160/160\u001b[0m \u001b[32m━━━━━━━━━━━━━━━━━━━━\u001b[0m\u001b[37m\u001b[0m \u001b[1m5s\u001b[0m 29ms/step - accuracy: 0.8287 - loss: 0.3739\n",
      "Epoch 3/10\n",
      "\u001b[1m160/160\u001b[0m \u001b[32m━━━━━━━━━━━━━━━━━━━━\u001b[0m\u001b[37m\u001b[0m \u001b[1m5s\u001b[0m 28ms/step - accuracy: 0.9198 - loss: 0.2339\n",
      "Epoch 4/10\n",
      "\u001b[1m160/160\u001b[0m \u001b[32m━━━━━━━━━━━━━━━━━━━━\u001b[0m\u001b[37m\u001b[0m \u001b[1m5s\u001b[0m 28ms/step - accuracy: 0.9791 - loss: 0.1296\n",
      "Epoch 5/10\n",
      "\u001b[1m160/160\u001b[0m \u001b[32m━━━━━━━━━━━━━━━━━━━━\u001b[0m\u001b[37m\u001b[0m \u001b[1m5s\u001b[0m 28ms/step - accuracy: 0.9858 - loss: 0.0934\n",
      "Epoch 6/10\n",
      "\u001b[1m160/160\u001b[0m \u001b[32m━━━━━━━━━━━━━━━━━━━━\u001b[0m\u001b[37m\u001b[0m \u001b[1m5s\u001b[0m 28ms/step - accuracy: 0.9942 - loss: 0.0590\n",
      "Epoch 7/10\n",
      "\u001b[1m160/160\u001b[0m \u001b[32m━━━━━━━━━━━━━━━━━━━━\u001b[0m\u001b[37m\u001b[0m \u001b[1m5s\u001b[0m 29ms/step - accuracy: 0.9966 - loss: 0.0450\n",
      "Epoch 8/10\n",
      "\u001b[1m160/160\u001b[0m \u001b[32m━━━━━━━━━━━━━━━━━━━━\u001b[0m\u001b[37m\u001b[0m \u001b[1m5s\u001b[0m 28ms/step - accuracy: 0.9975 - loss: 0.0356\n",
      "Epoch 9/10\n",
      "\u001b[1m160/160\u001b[0m \u001b[32m━━━━━━━━━━━━━━━━━━━━\u001b[0m\u001b[37m\u001b[0m \u001b[1m5s\u001b[0m 29ms/step - accuracy: 1.0000 - loss: 0.0210\n",
      "Epoch 10/10\n",
      "\u001b[1m160/160\u001b[0m \u001b[32m━━━━━━━━━━━━━━━━━━━━\u001b[0m\u001b[37m\u001b[0m \u001b[1m5s\u001b[0m 30ms/step - accuracy: 0.9997 - loss: 0.0179\n"
     ]
    }
   ],
   "source": [
    "# Define feedforward neural network for classification using Keras\n",
    "input_layer = Input(shape=(max_length, 768))  # BERT embedding size is 768\n",
    "flatten_layer = Flatten()(input_layer)  # Flatten the BERT embeddings\n",
    "dense_layer1 = Dense(128, activation='relu')(flatten_layer)\n",
    "dropout_layer = Dropout(0.2)(dense_layer1)\n",
    "dense_layer2 = Dense(64, activation='relu')(dropout_layer)\n",
    "output_layer = Dense(1, activation='sigmoid')(dense_layer2)  # Assuming binary classification\n",
    "\n",
    "# Compile the model\n",
    "model = Model(inputs=input_layer, outputs=output_layer)\n",
    "model.compile(optimizer=Adam(learning_rate=1e-5), loss='binary_crossentropy', metrics=['accuracy'])\n",
    "\n",
    "# Train the model\n",
    "history = model.fit(train_embeddings.numpy(), y_train, epochs=10, batch_size=10, verbose=True)"
   ]
  },
  {
   "cell_type": "code",
   "execution_count": 19,
   "metadata": {},
   "outputs": [
    {
     "name": "stdout",
     "output_type": "stream",
     "text": [
      "\u001b[1m13/13\u001b[0m \u001b[32m━━━━━━━━━━━━━━━━━━━━\u001b[0m\u001b[37m\u001b[0m \u001b[1m0s\u001b[0m 5ms/step\n",
      "              precision    recall  f1-score   support\n",
      "\n",
      "           0       0.78      0.92      0.84       251\n",
      "           1       0.81      0.55      0.66       149\n",
      "\n",
      "    accuracy                           0.79       400\n",
      "   macro avg       0.79      0.74      0.75       400\n",
      "weighted avg       0.79      0.79      0.77       400\n",
      "\n",
      "[[232  19]\n",
      " [ 67  82]]\n"
     ]
    }
   ],
   "source": [
    "# predict the output and compare with y_val\n",
    "predicted_labels = model.predict(val_embeddings.numpy())\n",
    "predicted_labels = (predicted_labels > 0.5).astype(int)\n",
    "\n",
    "# classification report\n",
    "print(classification_report(y_val, predicted_labels))\n",
    "\n",
    "# confusion matrix\n",
    "cm = confusion_matrix(y_val, predicted_labels)\n",
    "print(cm)"
   ]
  },
  {
   "cell_type": "markdown",
   "metadata": {},
   "source": [
    "## Provare con 50% veg e 50% non veg"
   ]
  },
  {
   "cell_type": "code",
   "execution_count": 23,
   "metadata": {},
   "outputs": [
    {
     "data": {
      "text/html": [
       "<div>\n",
       "<style scoped>\n",
       "    .dataframe tbody tr th:only-of-type {\n",
       "        vertical-align: middle;\n",
       "    }\n",
       "\n",
       "    .dataframe tbody tr th {\n",
       "        vertical-align: top;\n",
       "    }\n",
       "\n",
       "    .dataframe thead th {\n",
       "        text-align: right;\n",
       "    }\n",
       "</style>\n",
       "<table border=\"1\" class=\"dataframe\">\n",
       "  <thead>\n",
       "    <tr style=\"text-align: right;\">\n",
       "      <th></th>\n",
       "      <th>cooking_method</th>\n",
       "      <th>ingredients</th>\n",
       "      <th>Vegetarian&amp;Desserts</th>\n",
       "    </tr>\n",
       "  </thead>\n",
       "  <tbody>\n",
       "    <tr>\n",
       "      <th>533</th>\n",
       "      <td>['For the bread pudding: Preheat the oven to 3...</td>\n",
       "      <td>['Butter or cooking spray, for ramekins', '3 c...</td>\n",
       "      <td>1</td>\n",
       "    </tr>\n",
       "    <tr>\n",
       "      <th>7300</th>\n",
       "      <td>['Preheat a grill pan to medium-high heat. Dri...</td>\n",
       "      <td>['1 pound flank steak', '1/4 cup olive oil, pl...</td>\n",
       "      <td>0</td>\n",
       "    </tr>\n",
       "    <tr>\n",
       "      <th>5380</th>\n",
       "      <td>['Preheat the oven to 325 degrees F. Lightly b...</td>\n",
       "      <td>['1/2 pound (2 sticks) unsalted butter, plus e...</td>\n",
       "      <td>1</td>\n",
       "    </tr>\n",
       "    <tr>\n",
       "      <th>4691</th>\n",
       "      <td>['Preheat oven to 350 degrees F.', 'For the ca...</td>\n",
       "      <td>['3 tablespoons butter', '1 tablespoon minced ...</td>\n",
       "      <td>0</td>\n",
       "    </tr>\n",
       "    <tr>\n",
       "      <th>4197</th>\n",
       "      <td>['For the rice: Place the rice, 3 cups water, ...</td>\n",
       "      <td>['1 1/2 cups long-grain white rice, rinsed', '...</td>\n",
       "      <td>1</td>\n",
       "    </tr>\n",
       "  </tbody>\n",
       "</table>\n",
       "</div>"
      ],
      "text/plain": [
       "                                         cooking_method  \\\n",
       "533   ['For the bread pudding: Preheat the oven to 3...   \n",
       "7300  ['Preheat a grill pan to medium-high heat. Dri...   \n",
       "5380  ['Preheat the oven to 325 degrees F. Lightly b...   \n",
       "4691  ['Preheat oven to 350 degrees F.', 'For the ca...   \n",
       "4197  ['For the rice: Place the rice, 3 cups water, ...   \n",
       "\n",
       "                                            ingredients  Vegetarian&Desserts  \n",
       "533   ['Butter or cooking spray, for ramekins', '3 c...                    1  \n",
       "7300  ['1 pound flank steak', '1/4 cup olive oil, pl...                    0  \n",
       "5380  ['1/2 pound (2 sticks) unsalted butter, plus e...                    1  \n",
       "4691  ['3 tablespoons butter', '1 tablespoon minced ...                    0  \n",
       "4197  ['1 1/2 cups long-grain white rice, rinsed', '...                    1  "
      ]
     },
     "execution_count": 23,
     "metadata": {},
     "output_type": "execute_result"
    }
   ],
   "source": [
    "df = pd.read_csv('./dataset/recipes_df_r.csv')\n",
    "columns = ['cooking_method', 'ingredients', 'Vegetarian&Desserts']\n",
    "df = df[columns]\n",
    "\n",
    "# take 1000 samples keeping same distribution of feature 'Vegetarian&Desserts'\n",
    "df_v = df[df['Vegetarian&Desserts'] == 1].sample(n=1500)\n",
    "df_nv = df[df['Vegetarian&Desserts'] == 0].sample(n=1500)\n",
    "df = pd.concat([df_v, df_nv])\n",
    "df = df.sample(frac=1)\n",
    "df.head()"
   ]
  },
  {
   "cell_type": "code",
   "execution_count": 24,
   "metadata": {},
   "outputs": [
    {
     "name": "stderr",
     "output_type": "stream",
     "text": [
      "Some weights of the PyTorch model were not used when initializing the TF 2.0 model TFBertModel: ['cls.predictions.transform.LayerNorm.bias', 'cls.seq_relationship.bias', 'cls.predictions.transform.dense.weight', 'cls.predictions.transform.dense.bias', 'cls.predictions.bias', 'cls.seq_relationship.weight', 'cls.predictions.transform.LayerNorm.weight']\n",
      "- This IS expected if you are initializing TFBertModel from a PyTorch model trained on another task or with another architecture (e.g. initializing a TFBertForSequenceClassification model from a BertForPreTraining model).\n",
      "- This IS NOT expected if you are initializing TFBertModel from a PyTorch model that you expect to be exactly identical (e.g. initializing a TFBertForSequenceClassification model from a BertForSequenceClassification model).\n",
      "All the weights of TFBertModel were initialized from the PyTorch model.\n",
      "If your task is similar to the task the model of the checkpoint was trained on, you can already use TFBertModel for predictions without further training.\n"
     ]
    }
   ],
   "source": [
    "# get the cooking_method as a list of strings\n",
    "cooking_methods = df['cooking_method'].values.tolist()\n",
    "type(cooking_methods)\n",
    "\n",
    "# Load pre-trained BERT tokenizer and model\n",
    "tokenizer = BertTokenizer.from_pretrained('bert-base-uncased')\n",
    "bert_model = TFBertModel.from_pretrained('bert-base-uncased')\n",
    "\n",
    "'''tokenizer = BertTokenizer.from_pretrained('bert-base-uncased')\n",
    "bert_model = BertModel.from_pretrained('bert-base-uncased')'''\n",
    "X = cooking_methods\n",
    "y = df['Vegetarian&Desserts'].values\n",
    "\n",
    "# Assuming 'X' contains your input data (cooking methods) and 'y' contains the target labels\n",
    "X_train, X_val, y_train, y_val = train_test_split(X, y, test_size=0.2, random_state=42, stratify=y)"
   ]
  },
  {
   "cell_type": "code",
   "execution_count": 25,
   "metadata": {},
   "outputs": [
    {
     "data": {
      "text/plain": [
       "(TensorShape([2400, 200, 768]), TensorShape([600, 200, 768]))"
      ]
     },
     "execution_count": 25,
     "metadata": {},
     "output_type": "execute_result"
    }
   ],
   "source": [
    "# Tokenize input data using BERT tokenizer\n",
    "max_length = 200  \n",
    "X_train_encodings = tokenizer(X_train, truncation=True, padding=True, max_length=max_length, return_tensors='tf')\n",
    "X_val_encodings = tokenizer(X_val, truncation=True, padding=True, max_length=max_length, return_tensors='tf')\n",
    "\n",
    "# Obtain BERT embeddings\n",
    "train_outputs = bert_model(X_train_encodings)\n",
    "val_outputs = bert_model(X_val_encodings)\n",
    "\n",
    "# Extract BERT embeddings\n",
    "train_embeddings = train_outputs.last_hidden_state\n",
    "val_embeddings = val_outputs.last_hidden_state\n",
    "train_embeddings.shape, val_embeddings.shape"
   ]
  },
  {
   "cell_type": "code",
   "execution_count": null,
   "metadata": {},
   "outputs": [],
   "source": []
  },
  {
   "cell_type": "code",
   "execution_count": 51,
   "metadata": {},
   "outputs": [
    {
     "name": "stdout",
     "output_type": "stream",
     "text": [
      "Epoch 1/30\n",
      "\u001b[1m75/75\u001b[0m \u001b[32m━━━━━━━━━━━━━━━━━━━━\u001b[0m\u001b[37m\u001b[0m \u001b[1m2s\u001b[0m 18ms/step - accuracy: 0.5146 - loss: 0.6968\n",
      "Epoch 2/30\n",
      "\u001b[1m75/75\u001b[0m \u001b[32m━━━━━━━━━━━━━━━━━━━━\u001b[0m\u001b[37m\u001b[0m \u001b[1m1s\u001b[0m 17ms/step - accuracy: 0.5791 - loss: 0.6759\n",
      "Epoch 3/30\n",
      "\u001b[1m75/75\u001b[0m \u001b[32m━━━━━━━━━━━━━━━━━━━━\u001b[0m\u001b[37m\u001b[0m \u001b[1m1s\u001b[0m 16ms/step - accuracy: 0.6571 - loss: 0.6279\n",
      "Epoch 4/30\n",
      "\u001b[1m75/75\u001b[0m \u001b[32m━━━━━━━━━━━━━━━━━━━━\u001b[0m\u001b[37m\u001b[0m \u001b[1m1s\u001b[0m 17ms/step - accuracy: 0.7152 - loss: 0.5592\n",
      "Epoch 5/30\n",
      "\u001b[1m75/75\u001b[0m \u001b[32m━━━━━━━━━━━━━━━━━━━━\u001b[0m\u001b[37m\u001b[0m \u001b[1m1s\u001b[0m 17ms/step - accuracy: 0.7675 - loss: 0.5025\n",
      "Epoch 6/30\n",
      "\u001b[1m75/75\u001b[0m \u001b[32m━━━━━━━━━━━━━━━━━━━━\u001b[0m\u001b[37m\u001b[0m \u001b[1m1s\u001b[0m 19ms/step - accuracy: 0.8053 - loss: 0.4781\n",
      "Epoch 7/30\n",
      "\u001b[1m75/75\u001b[0m \u001b[32m━━━━━━━━━━━━━━━━━━━━\u001b[0m\u001b[37m\u001b[0m \u001b[1m1s\u001b[0m 19ms/step - accuracy: 0.8154 - loss: 0.4486\n",
      "Epoch 8/30\n",
      "\u001b[1m75/75\u001b[0m \u001b[32m━━━━━━━━━━━━━━━━━━━━\u001b[0m\u001b[37m\u001b[0m \u001b[1m1s\u001b[0m 17ms/step - accuracy: 0.8359 - loss: 0.4120\n",
      "Epoch 9/30\n",
      "\u001b[1m75/75\u001b[0m \u001b[32m━━━━━━━━━━━━━━━━━━━━\u001b[0m\u001b[37m\u001b[0m \u001b[1m1s\u001b[0m 17ms/step - accuracy: 0.8404 - loss: 0.3937\n",
      "Epoch 10/30\n",
      "\u001b[1m75/75\u001b[0m \u001b[32m━━━━━━━━━━━━━━━━━━━━\u001b[0m\u001b[37m\u001b[0m \u001b[1m1s\u001b[0m 17ms/step - accuracy: 0.8795 - loss: 0.3477\n",
      "Epoch 11/30\n",
      "\u001b[1m75/75\u001b[0m \u001b[32m━━━━━━━━━━━━━━━━━━━━\u001b[0m\u001b[37m\u001b[0m \u001b[1m1s\u001b[0m 17ms/step - accuracy: 0.8834 - loss: 0.3212\n",
      "Epoch 12/30\n",
      "\u001b[1m75/75\u001b[0m \u001b[32m━━━━━━━━━━━━━━━━━━━━\u001b[0m\u001b[37m\u001b[0m \u001b[1m1s\u001b[0m 17ms/step - accuracy: 0.8824 - loss: 0.3208\n",
      "Epoch 13/30\n",
      "\u001b[1m75/75\u001b[0m \u001b[32m━━━━━━━━━━━━━━━━━━━━\u001b[0m\u001b[37m\u001b[0m \u001b[1m1s\u001b[0m 17ms/step - accuracy: 0.9217 - loss: 0.2795\n",
      "Epoch 14/30\n",
      "\u001b[1m75/75\u001b[0m \u001b[32m━━━━━━━━━━━━━━━━━━━━\u001b[0m\u001b[37m\u001b[0m \u001b[1m1s\u001b[0m 17ms/step - accuracy: 0.9058 - loss: 0.2786\n",
      "Epoch 15/30\n",
      "\u001b[1m75/75\u001b[0m \u001b[32m━━━━━━━━━━━━━━━━━━━━\u001b[0m\u001b[37m\u001b[0m \u001b[1m1s\u001b[0m 17ms/step - accuracy: 0.9249 - loss: 0.2587\n",
      "Epoch 16/30\n",
      "\u001b[1m75/75\u001b[0m \u001b[32m━━━━━━━━━━━━━━━━━━━━\u001b[0m\u001b[37m\u001b[0m \u001b[1m1s\u001b[0m 17ms/step - accuracy: 0.9311 - loss: 0.2340\n",
      "Epoch 17/30\n",
      "\u001b[1m75/75\u001b[0m \u001b[32m━━━━━━━━━━━━━━━━━━━━\u001b[0m\u001b[37m\u001b[0m \u001b[1m1s\u001b[0m 17ms/step - accuracy: 0.9420 - loss: 0.2123\n",
      "Epoch 18/30\n",
      "\u001b[1m75/75\u001b[0m \u001b[32m━━━━━━━━━━━━━━━━━━━━\u001b[0m\u001b[37m\u001b[0m \u001b[1m1s\u001b[0m 17ms/step - accuracy: 0.9298 - loss: 0.2117\n",
      "Epoch 19/30\n",
      "\u001b[1m75/75\u001b[0m \u001b[32m━━━━━━━━━━━━━━━━━━━━\u001b[0m\u001b[37m\u001b[0m \u001b[1m1s\u001b[0m 17ms/step - accuracy: 0.9446 - loss: 0.1835\n",
      "Epoch 20/30\n",
      "\u001b[1m75/75\u001b[0m \u001b[32m━━━━━━━━━━━━━━━━━━━━\u001b[0m\u001b[37m\u001b[0m \u001b[1m1s\u001b[0m 17ms/step - accuracy: 0.9524 - loss: 0.1759\n",
      "Epoch 21/30\n",
      "\u001b[1m75/75\u001b[0m \u001b[32m━━━━━━━━━━━━━━━━━━━━\u001b[0m\u001b[37m\u001b[0m \u001b[1m1s\u001b[0m 17ms/step - accuracy: 0.9639 - loss: 0.1669\n",
      "Epoch 22/30\n",
      "\u001b[1m75/75\u001b[0m \u001b[32m━━━━━━━━━━━━━━━━━━━━\u001b[0m\u001b[37m\u001b[0m \u001b[1m1s\u001b[0m 17ms/step - accuracy: 0.9618 - loss: 0.1572\n",
      "Epoch 23/30\n",
      "\u001b[1m75/75\u001b[0m \u001b[32m━━━━━━━━━━━━━━━━━━━━\u001b[0m\u001b[37m\u001b[0m \u001b[1m1s\u001b[0m 17ms/step - accuracy: 0.9670 - loss: 0.1391\n",
      "Epoch 24/30\n",
      "\u001b[1m75/75\u001b[0m \u001b[32m━━━━━━━━━━━━━━━━━━━━\u001b[0m\u001b[37m\u001b[0m \u001b[1m1s\u001b[0m 17ms/step - accuracy: 0.9629 - loss: 0.1471\n",
      "Epoch 25/30\n",
      "\u001b[1m75/75\u001b[0m \u001b[32m━━━━━━━━━━━━━━━━━━━━\u001b[0m\u001b[37m\u001b[0m \u001b[1m1s\u001b[0m 17ms/step - accuracy: 0.9683 - loss: 0.1290\n",
      "Epoch 26/30\n",
      "\u001b[1m75/75\u001b[0m \u001b[32m━━━━━━━━━━━━━━━━━━━━\u001b[0m\u001b[37m\u001b[0m \u001b[1m1s\u001b[0m 17ms/step - accuracy: 0.9647 - loss: 0.1244\n",
      "Epoch 27/30\n",
      "\u001b[1m75/75\u001b[0m \u001b[32m━━━━━━━━━━━━━━━━━━━━\u001b[0m\u001b[37m\u001b[0m \u001b[1m1s\u001b[0m 18ms/step - accuracy: 0.9750 - loss: 0.1083\n",
      "Epoch 28/30\n",
      "\u001b[1m75/75\u001b[0m \u001b[32m━━━━━━━━━━━━━━━━━━━━\u001b[0m\u001b[37m\u001b[0m \u001b[1m1s\u001b[0m 17ms/step - accuracy: 0.9771 - loss: 0.1053\n",
      "Epoch 29/30\n",
      "\u001b[1m75/75\u001b[0m \u001b[32m━━━━━━━━━━━━━━━━━━━━\u001b[0m\u001b[37m\u001b[0m \u001b[1m1s\u001b[0m 17ms/step - accuracy: 0.9731 - loss: 0.1102\n",
      "Epoch 30/30\n",
      "\u001b[1m75/75\u001b[0m \u001b[32m━━━━━━━━━━━━━━━━━━━━\u001b[0m\u001b[37m\u001b[0m \u001b[1m1s\u001b[0m 17ms/step - accuracy: 0.9703 - loss: 0.1028\n",
      "\u001b[1m19/19\u001b[0m \u001b[32m━━━━━━━━━━━━━━━━━━━━\u001b[0m\u001b[37m\u001b[0m \u001b[1m0s\u001b[0m 4ms/step\n",
      "              precision    recall  f1-score   support\n",
      "\n",
      "           0       0.76      0.78      0.77       300\n",
      "           1       0.77      0.75      0.76       300\n",
      "\n",
      "    accuracy                           0.77       600\n",
      "   macro avg       0.77      0.77      0.77       600\n",
      "weighted avg       0.77      0.77      0.77       600\n",
      "\n",
      "[[234  66]\n",
      " [ 74 226]]\n"
     ]
    }
   ],
   "source": [
    "# reshape y_train and y_val\n",
    "y_train = y_train.reshape(-1, 1)\n",
    "y_val = y_val.reshape(-1, 1)\n",
    "\n",
    "# Define feedforward neural network for classification using Keras\n",
    "input_layer = Input(shape=(max_length, 768))  # BERT embedding size is 768\n",
    "flatten_layer = Flatten()(input_layer)  # Flatten the BERT embeddings\n",
    "dense_layer1 = Dense(64, activation='relu')(flatten_layer)\n",
    "dropout_layer = Dropout(0.4)(dense_layer1)\n",
    "dense_layer2 = Dense(32, activation='relu')(dropout_layer)\n",
    "dropout_layer2 = Dropout(0.2)(dense_layer2)\n",
    "dense_layer3 = Dense(16, activation='relu')(dropout_layer2)\n",
    "dense_layer4 = Dense(8, activation='relu')(dense_layer3)\n",
    "output_layer = Dense(1, activation='sigmoid')(dense_layer4)  # Assuming binary classification\n",
    "\n",
    "# Compile the model\n",
    "model = Model(inputs=input_layer, outputs=output_layer)\n",
    "model.compile(optimizer=Adam(learning_rate=1e-5), loss='binary_crossentropy', metrics=['accuracy'])\n",
    "\n",
    "# Train the model\n",
    "history = model.fit(train_embeddings.numpy(), y_train, epochs=30, batch_size=32, verbose=True)\n",
    "# predict the output and compare with y_val\n",
    "predicted_labels = model.predict(val_embeddings.numpy())\n",
    "predicted_labels = (predicted_labels > 0.5).astype(int)\n",
    "\n",
    "# classification report\n",
    "print(classification_report(y_val, predicted_labels))\n",
    "\n",
    "# confusion matrix\n",
    "cm = confusion_matrix(y_val, predicted_labels)\n",
    "print(cm)"
   ]
  },
  {
   "cell_type": "code",
   "execution_count": null,
   "metadata": {},
   "outputs": [],
   "source": []
  }
 ],
 "metadata": {
  "kernelspec": {
   "display_name": ".venv",
   "language": "python",
   "name": "python3"
  },
  "language_info": {
   "codemirror_mode": {
    "name": "ipython",
    "version": 3
   },
   "file_extension": ".py",
   "mimetype": "text/x-python",
   "name": "python",
   "nbconvert_exporter": "python",
   "pygments_lexer": "ipython3",
   "version": "3.10.8"
  }
 },
 "nbformat": 4,
 "nbformat_minor": 2
}
